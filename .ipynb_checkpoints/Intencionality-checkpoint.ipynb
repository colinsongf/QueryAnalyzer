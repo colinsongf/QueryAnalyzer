{
 "metadata": {
  "name": "",
  "signature": "sha256:12fc24aa791e64d408588eee0829bb9781d3720ea3e70922df8a0f655ea00b62"
 },
 "nbformat": 3,
 "nbformat_minor": 0,
 "worksheets": [
  {
   "cells": [
    {
     "cell_type": "code",
     "collapsed": false,
     "input": [
      "path = \"/media/University/UniversityDisc/2-Master/MasterThesis/EjecucionTesis/Desarrollo/PythonProjects/QueryAnalyzer/UserQuery\"\n",
      "\n",
      "import sys\n",
      "sys.path.insert(0, path)"
     ],
     "language": "python",
     "metadata": {},
     "outputs": [],
     "prompt_number": 5
    },
    {
     "cell_type": "code",
     "collapsed": false,
     "input": [
      "import goal_analyzer as ga\n",
      "\n",
      "model_path = \"/media/University/UniversityDisc/2-Master/MasterThesis/EjecucionTesis/Desarrollo/PythonProjects/QueryAnalyzer/Models/\"\n",
      "classifier_name = \"my_classifier_v3.pickle\"\n",
      "cl = ga.loadTrainedClassifier(model_path + classifier_name)\n",
      "#ga.accuracy()\n",
      "query = \"buy a car\"\n",
      "prob_dist_max, tag = ga.testQuery(cl, query)"
     ],
     "language": "python",
     "metadata": {},
     "outputs": []
    }
   ],
   "metadata": {}
  }
 ]
}