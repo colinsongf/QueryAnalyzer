{
 "metadata": {
  "name": "QueryAnalyzer"
 },
 "nbformat": 3,
 "nbformat_minor": 0,
 "worksheets": [
  {
   "cells": [
    {
     "cell_type": "heading",
     "level": 1,
     "metadata": {},
     "source": [
      "Explicit intentional query identifier (Prototype 1)"
     ]
    },
    {
     "cell_type": "markdown",
     "metadata": {},
     "source": [
      "An <i>explicit intentional query</i> is a query that can be related to a specific goal in a recognizable, unambiguous way. A search query is regarded to contain an <i>explicit user goal</i> (or short: explicit goal) whenever the query:\n",
      "<ol>\n",
      "    <li>Contains at least one verb and </li>\n",
      "    <li>Describes a plausible state of affairs that the user may want to achieve or avoid in 3) a recognizable way.</li>\n",
      "</ol>\n",
      "\n",
      "<b>Objective: </b> Identify whether a query has an explicit goal or not."
     ]
    },
    {
     "cell_type": "code",
     "collapsed": false,
     "input": [
      "import goalAnalyzer as ga\n",
      "path = \"/media/University/UniversityDisc/2-Master/MasterThesis/EjecucionTesis/Desarrollo/PythonProjects/QueryAnalyzer/Models/\"\n",
      "classifier_name = \"my_classifier_v3.pickle\"\n",
      "cl = ga.loadTrainedClassifier(path + classifier_name)\n",
      "query = \"car\"\n",
      "prob_dist_max, tag = ga.testQuery(cl, query)\n",
      "ga.viewProbabilityDistribution(prob_dist_max, tag)"
     ],
     "language": "python",
     "metadata": {},
     "outputs": [
      {
       "output_type": "stream",
       "stream": "stdout",
       "text": [
        "POS Tags:  S NN E\n",
        "TriGram:   S-NN-E\n",
        "\n"
       ]
      },
      {
       "output_type": "stream",
       "stream": "stdout",
       "text": [
        "Max Probability Distribution: neg\n",
        "Pos: 0.0106319951055\n",
        "Neg: 0.989368004895\n",
        "\n",
        "\n"
       ]
      },
      {
       "output_type": "display_data",
       "png": "[encoded data removed]"
      }
     ],
     "prompt_number": 1
    },
    {
     "cell_type": "heading",
     "level": 1,
     "metadata": {},
     "source": [
      "<br />\n",
      "Goal Modelling (GoMo)"
     ]
    },
    {
     "cell_type": "markdown",
     "metadata": {},
     "source": [
      "A <i>goal model</i> is a type of statistical model for discovering the abstract \"goals\" that occur in a collection of queries. The algorithms in GoMo, such as <b>Latent Semantic Analysis (LSA)</b>, <b>Latent Dirichlet Allocation (LDA)</b> and <b>Hierarchical Dirichlet Process (HDP)</b>, discover semantic structure of queries, by examining word statistical co-occurrence patterns within a corpus of training documents. These algorithms are unsupervised, which means no human input is necessary \u2013 you only need a corpus of plain text documents."
     ]
    },
    {
     "cell_type": "markdown",
     "metadata": {},
     "source": [
      "<b>I. Create both the Corpus and the Dictionary</b>"
     ]
    },
    {
     "cell_type": "code",
     "collapsed": false,
     "input": [
      "import logging\n",
      "#logging.basicConfig(format='%(asctime)s : %(levelname)s : %(message)s, level=logging.INFO')\n",
      "logger = logging.getLogger()\n",
      "logger.disabled = False\n",
      "\n",
      "from gensim import corpora\n",
      "import generatecorpora as genco\n",
      "\n",
      "corpus = genco.MyCorpus()\n",
      "model_path = \"/media/University/UniversityDisc/2-Master/MasterThesis/EjecucionTesis/Desarrollo/PythonProjects/QueryAnalyzer/Models/\"\n",
      "corpus_name = \"corpus.mm\"\n",
      "corpora.MmCorpus.serialize(model_path + corpus_name, corpus)"
     ],
     "language": "python",
     "metadata": {},
     "outputs": [
      {
       "output_type": "stream",
       "stream": "stdout",
       "text": [
        "Generating dictionary, this takes some time, please wait...\n",
        "\tDictionary created on"
       ]
      },
      {
       "output_type": "stream",
       "stream": "stdout",
       "text": [
        " 24.4 seconds.\n",
        "\tDictionary(16275 unique tokens)\n"
       ]
      }
     ],
     "prompt_number": 36
    },
    {
     "cell_type": "code",
     "collapsed": false,
     "input": [
      "from gensim import corpora, models, similarities\n",
      "\n",
      "model_path = \"/media/University/UniversityDisc/2-Master/MasterThesis/EjecucionTesis/Desarrollo/PythonProjects/QueryAnalyzer/Models/\"\n",
      "dictionary_file = \"goal_dictionary.dict\"\n",
      "corpus_file = \"corpus.mm\"\n",
      "dictionary = corpora.Dictionary.load(model_path + dictionary_file)\n",
      "corpus = corpora.MmCorpus(model_path + corpus_file)\n",
      "\n",
      "print dictionary\n",
      "print corpus"
     ],
     "language": "python",
     "metadata": {},
     "outputs": [
      {
       "output_type": "stream",
       "stream": "stdout",
       "text": [
        "Dictionary(16275 unique tokens)\n",
        "MmCorpus(98294 documents, 16275 features, 316895 non-zero entries)\n"
       ]
      }
     ],
     "prompt_number": 1
    },
    {
     "cell_type": "markdown",
     "metadata": {},
     "source": [
      "<b>II. TfIdf transformation.</b> From now on, tfidf is treated as a read-only object that can be used to convert any vector from the old representation (bag-of-words integer counts) to the new representation (TfIdf real-valued weights):"
     ]
    },
    {
     "cell_type": "code",
     "collapsed": false,
     "input": [
      "tfidf = models.TfidfModel(corpus) # step 1 -- initialize a model\n",
      "corpus_tfidf = tfidf[corpus]"
     ],
     "language": "python",
     "metadata": {},
     "outputs": [],
     "prompt_number": 2
    },
    {
     "cell_type": "markdown",
     "metadata": {},
     "source": [
      "<b>Note:</b> Calling model[corpus] only creates a wrapper around the old corpus document stream \u2013 actual conversions are done on-the-fly, during document iteration. "
     ]
    },
    {
     "cell_type": "heading",
     "level": 2,
     "metadata": {},
     "source": [
      "<br />\n",
      "Latent Semantic Indexing (LSI)"
     ]
    },
    {
     "cell_type": "markdown",
     "metadata": {},
     "source": [
      "Transforms documents from either <i>bag-of-words</i> or (preferrably) <i>TfIdf-weighted</i> space into a latent space of a lower dimensionality. For the corpus bellow we used only 10 latent dimensions, but on real corpora, target dimensionality of 200\u2013500 is recommended as a \u201cgolden standard\u201d.\n",
      "<br />\n",
      "<br />"
     ]
    },
    {
     "cell_type": "code",
     "collapsed": false,
     "input": [
      "lsi = models.LsiModel(corpus_tfidf, id2word=dictionary, num_topics=25) # initialize an LSI transformation\n",
      "lsi.save(model_path + 'model.lsi') # same for tfidf, lda, ...\n",
      "#lsi = models.LsiModel.load(model_path + 'model.lsi')\n",
      "#corpus_lsi = lsi[corpus_tfidf] # create a double wrapper over the original corpus: bow->tfidf->fold-in-lsi\n",
      "import lsamodel as lsa\n",
      "num_topics = 20;\n",
      "num_words = 4;\n",
      "lsa.viewTopics(lsi, num_topics, num_words)"
     ],
     "language": "python",
     "metadata": {},
     "outputs": [
      {
       "output_type": "stream",
       "stream": "stdout",
       "text": [
        "TOPIC # 0 :  [(0.95651863012127336, 'buy'), (0.17974384991748127, 'make'), (0.11995871787093934, 'best'), (0.081143909818646623, 'find')]\n",
        "TOPIC # 1 :  [(0.90262780750411875, 'make'), (0.32751346812379484, 'own'), (-0.20938918850435354, 'buy'), (0.072566745461846535, 'do')]\n",
        "TOPIC # 2 :  [(0.9611409342690107, 'find'), (0.10164614001534758, 'number'), (-0.097238561393740833, 'make'), (0.093665993394845812, 'email')]\n",
        "TOPIC # 3 :  [(0.80811298545691856, 'get'), (0.50952360270541286, 'do'), (0.17025476344102458, 'listen'), (-0.12037595997066242, 'find')]\n",
        "TOPIC # 4 :  [(0.97831480575865293, 'listen'), (-0.15678039993243706, 'get'), (-0.077739575498957464, 'do'), (0.060254075910640449, 'song')]\n",
        "TOPIC # 5 :  [(0.76352480249740262, 'do'), (-0.54437154279272837, 'get'), (0.25225821666201831, 'change'), (0.10274451207926498, 'go')]\n",
        "TOPIC # 6 :  [(-0.82314358474677063, 'own'), (0.34025428677819514, 'make'), (-0.29767105146361322, 'create'), (-0.18862307984992732, 'build')]\n",
        "TOPIC # 7 :  [(0.99005936778438852, 'go'), (-0.098644317030189624, 'do'), (-0.075193940492884498, 'change'), (0.040528255977823474, 'play')]\n",
        "TOPIC # 8 :  [(-0.90848438031376466, 'change'), (0.26715224447914637, 'do'), (-0.25787625287275112, 'screen'), (-0.094631213515597348, 'profile')]\n",
        "TOPIC # 9 :  [(0.85327487090862653, 'play'), (0.39605106989953354, 'learn'), (0.22752238370915889, 'guitar'), (0.096326996809321386, 'poker')]\n",
        "TOPIC # 10 :  [(0.6137867854292941, 'fix'), (0.50989126980574451, 'email'), (0.28237500088967393, 'computer'), (0.22164033979954204, 'sell')]\n",
        "TOPIC # 11 :  [(-0.73393595658048383, 'email'), (0.41113722764166205, 'fix'), (0.32636112448660004, 'sell'), (0.18622639019200141, 'looking')]\n",
        "TOPIC # 12 :  [(0.6986205251903943, 'looking'), (-0.49313840183920538, 'fix'), (0.37375022309850475, 'sell'), (0.15800128283396114, 'love')]\n",
        "TOPIC # 13 :  [(-0.78794997843590986, 'sell'), (0.51169294522030162, 'looking'), (0.20295601605274938, 'fix'), (0.1268534958156522, 'love')]\n",
        "TOPIC # 14 :  [(0.54263478864817294, 'finding'), (0.36306843121623894, 'from'), (0.35151985811703851, 'learn'), (-0.27663559933413145, 'looking')]\n",
        "TOPIC # 15 :  [(-0.60484364493180853, 'learn'), (0.48560348438606687, 'finding'), (-0.3290421380716041, 'draw'), (0.30452796673461091, 'play')]\n",
        "TOPIC # 16 :  [(-0.58001580894515037, 'create'), (-0.46704731165649144, 'new'), (-0.3861028545136807, 'screen'), (0.28564066588481846, 'build')]\n",
        "TOPIC # 17 :  [(0.50208063808301506, 'finding'), (-0.47181181024541957, 'from'), (-0.22507527315271675, 'computer'), (0.21785569291498971, 'fix')]\n",
        "TOPIC # 18 :  [(0.97344936074351396, 'cancel'), (0.10911317903742755, 'profile'), (0.099601134144643888, 'draw'), (-0.059592702110521617, 'screen')]\n",
        "TOPIC # 19 :  [(0.78242415834730716, 'draw'), (-0.32135567915113017, 'learn'), (-0.24809656012545847, 'ride'), (0.18356417265093625, 'profile')]\n"
       ]
      }
     ],
     "prompt_number": 4
    },
    {
     "cell_type": "code",
     "collapsed": false,
     "input": [
      "#query = \"how do I change my profile on aol\"\n",
      "query = \"car\"\n",
      "print \"QUERY: \", query\n",
      "goals_distribution = lsa.perQueryGoalProportions(query, dictionary, tfidf, lsi)\n",
      "lsa.viewPerQueryGoalProportions(goals_distribution)"
     ],
     "language": "python",
     "metadata": {},
     "outputs": [
      {
       "output_type": "stream",
       "stream": "stdout",
       "text": [
        "QUERY:  car\n",
        "vec_bow: \t[(5281, 1)]\n",
        "vec_tfidf:\t[(5281, 1.0)]\n",
        "\n",
        "Per-query goal proportions (on 0.0 seconds):\n",
        "\t[(0, 0.028667402019993238), (1, 0.0072623423366884486), (2, 0.012096550488094939), (3, 0.0086063061920494156), (4, -0.0013857223696737814), (5, -0.0057528371460742926), (6, -0.040035821305298029), (7, -0.00058338801623419455), (8, -0.00052370525729260342), (9, 0.0084107071978376177), (10, 0.035556755947493149), (11, 0.047721451273433239), (12, 0.039257375052569529), (13, -0.031460083801771177), (14, 0.0026835734981165197), (15, 0.0095693142241883022), (16, -0.022448471362701672), (17, -0.0067927672973259624), (18, -0.0068068453638649743), (19, -0.005545663564847543), (20, 0.014633818626713958), (21, 0.015008611290051483), (22, -0.016383828913282501), (23, -0.040371381516323884), (24, 0.1106716313304688)]\n",
        "\n",
        "\n"
       ]
      },
      {
       "output_type": "display_data",
       "png": "[encoded data removed]"
      },
      {
       "output_type": "stream",
       "stream": "stdout",
       "text": [
        "\n",
        "\n"
       ]
      }
     ],
     "prompt_number": 45
    },
    {
     "cell_type": "code",
     "collapsed": false,
     "input": [
      "lsi.show_topic(24)"
     ],
     "language": "python",
     "metadata": {},
     "outputs": [
      {
       "output_type": "pyout",
       "prompt_number": 46,
       "text": [
        "[(0.64315646724148912, 'have'),\n",
        " (0.3092889564586298, 'computer'),\n",
        " (-0.2592262746572912, 'use'),\n",
        " (0.22363247842007236, 'check'),\n",
        " (-0.22337817250742031, 'making'),\n",
        " (0.2010523410148857, 'are'),\n",
        " (-0.17698270701861488, 'best'),\n",
        " (0.15480736416451091, 'build'),\n",
        " (-0.14722555825034447, 'lose'),\n",
        " (-0.14450244251257705, 'weight')]"
       ]
      }
     ],
     "prompt_number": 46
    },
    {
     "cell_type": "markdown",
     "metadata": {},
     "source": [
      "<b>Note:</b> Here we transformed our Tf-Idf corpus via <i>Latent Semantic Indexing</i> into a latent n-D space (n-D because we set num_topics=n)."
     ]
    },
    {
     "cell_type": "heading",
     "level": 2,
     "metadata": {},
     "source": [
      "<br />\n",
      "<br />\n",
      "Latent DIrichlet Allocation (LDA)"
     ]
    },
    {
     "cell_type": "markdown",
     "metadata": {},
     "source": [
      "LDA is yet another transformation from bag-of-words counts into a topic space of lower dimensionality. LDA is a probabilistic extension of LSA (also called multinomial PCA), so LDA\u2019s topics can be interpreted as probability distributions over words. These distributions are, just like with LSA, inferred automatically from a training corpus. Documents are in turn interpreted as a (soft) mixture of these topics (again, just like with LSA).\n",
      "<br />"
     ]
    },
    {
     "cell_type": "code",
     "collapsed": false,
     "input": [
      "lda = models.ldamodel.LdaModel(corpus, num_topics=100, id2word=dictionary, update_every=1, chunksize=1000)\n",
      "lda.save(model_path + 'model.lda') # same for tfidf, lsi, ...\n",
      "lda_charged = lda"
     ],
     "language": "python",
     "metadata": {},
     "outputs": [],
     "prompt_number": 18
    },
    {
     "cell_type": "code",
     "collapsed": false,
     "input": [
      "from gensim import models\n",
      "\n",
      "model_path = \"/media/University/UniversityDisc/2-Master/MasterThesis/EjecucionTesis/Desarrollo/PythonProjects/QueryAnalyzer/Models/\"\n",
      "lda_charged = models.LdaModel.load(model_path + 'model.lda')\n",
      "#lda_goals = [lda_charged[c] for c in corpus]\n",
      "#print lda_goals[53]"
     ],
     "language": "python",
     "metadata": {},
     "outputs": [],
     "prompt_number": 3
    },
    {
     "cell_type": "code",
     "collapsed": false,
     "input": [
      "import matplotlib.pyplot as plt\n",
      "import numpy as np\n",
      "\n",
      "plt.hist([len(t) for t in lda_goals], np.arange(15))\n",
      "plt.ylabel('Nr of Queriees')\n",
      "plt.xlabel('Nr of Goals')\n",
      "plt.show()"
     ],
     "language": "python",
     "metadata": {},
     "outputs": [
      {
       "ename": "NameError",
       "evalue": "name 'lda_goals' is not defined",
       "output_type": "pyerr",
       "traceback": [
        "\u001b[0;31m---------------------------------------------------------------------------\u001b[0m\n\u001b[0;31mNameError\u001b[0m                                 Traceback (most recent call last)",
        "\u001b[0;32m<ipython-input-7-85c8db44b749>\u001b[0m in \u001b[0;36m<module>\u001b[0;34m()\u001b[0m\n\u001b[1;32m      2\u001b[0m \u001b[0;32mimport\u001b[0m \u001b[0mnumpy\u001b[0m \u001b[0;32mas\u001b[0m \u001b[0mnp\u001b[0m\u001b[0;34m\u001b[0m\u001b[0m\n\u001b[1;32m      3\u001b[0m \u001b[0;34m\u001b[0m\u001b[0m\n\u001b[0;32m----> 4\u001b[0;31m \u001b[0mplt\u001b[0m\u001b[0;34m.\u001b[0m\u001b[0mhist\u001b[0m\u001b[0;34m(\u001b[0m\u001b[0;34m[\u001b[0m\u001b[0mlen\u001b[0m\u001b[0;34m(\u001b[0m\u001b[0mt\u001b[0m\u001b[0;34m)\u001b[0m \u001b[0;32mfor\u001b[0m \u001b[0mt\u001b[0m \u001b[0;32min\u001b[0m \u001b[0mlda_goals\u001b[0m\u001b[0;34m]\u001b[0m\u001b[0;34m,\u001b[0m \u001b[0mnp\u001b[0m\u001b[0;34m.\u001b[0m\u001b[0marange\u001b[0m\u001b[0;34m(\u001b[0m\u001b[0;36m15\u001b[0m\u001b[0;34m)\u001b[0m\u001b[0;34m)\u001b[0m\u001b[0;34m\u001b[0m\u001b[0m\n\u001b[0m\u001b[1;32m      5\u001b[0m \u001b[0mplt\u001b[0m\u001b[0;34m.\u001b[0m\u001b[0mylabel\u001b[0m\u001b[0;34m(\u001b[0m\u001b[0;34m'Nr of Queriees'\u001b[0m\u001b[0;34m)\u001b[0m\u001b[0;34m\u001b[0m\u001b[0m\n\u001b[1;32m      6\u001b[0m \u001b[0mplt\u001b[0m\u001b[0;34m.\u001b[0m\u001b[0mxlabel\u001b[0m\u001b[0;34m(\u001b[0m\u001b[0;34m'Nr of Goals'\u001b[0m\u001b[0;34m)\u001b[0m\u001b[0;34m\u001b[0m\u001b[0m\n",
        "\u001b[0;31mNameError\u001b[0m: name 'lda_goals' is not defined"
       ]
      }
     ],
     "prompt_number": 7
    },
    {
     "cell_type": "code",
     "collapsed": false,
     "input": [
      "#lda_2 = models.ldamodel.LdaModel(corpus, num_topics=100, id2word=dictionary, alpha=1.)\n",
      "#lda_2.save(model_path + 'model_2\".lda') # same for tfidf, lsi, ...\n",
      "lda_2_charged = models.LdaModel.load(model_path + 'model_2.lda')"
     ],
     "language": "python",
     "metadata": {},
     "outputs": [],
     "prompt_number": 5
    },
    {
     "cell_type": "code",
     "collapsed": false,
     "input": [
      "lda_goals_2 = [lda_2[c] for c in corpus]\n",
      "plt.clf()\n",
      "plt.hist([[len(t) for t in lda_goals], [len(t) for t in lda_goals_2]], np.arange(60))\n",
      "plt.ylabel('Nr of documents')\n",
      "plt.xlabel('Nr of topics')\n",
      "plt.text(5, 30000, r'default alpha')\n",
      "plt.text(10, 7000, 'alpha=1.0')\n",
      "plt.show()"
     ],
     "language": "python",
     "metadata": {},
     "outputs": []
    },
    {
     "cell_type": "code",
     "collapsed": false,
     "input": [
      "import ldamodel as lda\n",
      "import numpy as np\n",
      "\n",
      "num_topics = 10;\n",
      "num_words = 4;\n",
      "lda.viewTopics(lda_charged, num_topics, num_words)"
     ],
     "language": "python",
     "metadata": {},
     "outputs": [
      {
       "output_type": "stream",
       "stream": "stdout",
       "text": [
        "TOPIC # 0 :  [(0.25948167331017175, 'getting'), (0.11870536032218094, 'pay'), (0.060529114299218208, 'psp'), (0.054087400151876297, 'silver')]\n",
        "TOPIC # 1 :  [(0.18140383465743684, 'check'), (0.071436498664694731, 'wood'), (0.058704604092672509, 'jobs'), (0.048429702477142747, 'floors')]\n",
        "TOPIC # 2 :  [(0.05062105060388359, 'run'), (0.046951116671690808, 'cum'), (0.042890347483353734, 'jello'), (0.033591549668426708, 'ink')]\n",
        "TOPIC # 3 :  [(0.19496824875358171, 'house'), (0.053720847737317591, 'bible'), (0.050019573833774852, 'hide'), (0.046815098097658436, 'tx')]\n",
        "TOPIC # 4 :  [(0.75753119925067247, 'find'), (0.023231369642554397, 'texas'), (0.011838327088822658, 'save'), (0.0098855027655906404, 'houston')]\n",
        "TOPIC # 5 :  [(0.078861387240866637, 'color'), (0.046882092360237694, 'bigger'), (0.042074596575763845, 'transfer'), (0.033226635274106478, 'oral')]\n",
        "TOPIC # 6 :  [(0.043086670746737013, 'county'), (0.024316619407723013, 'shower'), (0.022389191209659629, 'click'), (0.021623010694243754, 'buys')]\n",
        "TOPIC # 7 :  [(0.23913852891481316, 'are'), (0.097305360599721807, 'right'), (0.070578446834212077, 'houses'), (0.06345031237747617, 'size')]\n",
        "TOPIC # 8 :  [(0.16451890725175192, 'speak'), (0.071448141140854834, 'selling'), (0.05456609386450214, 'things'), (0.039909497901838419, 'feel')]\n",
        "TOPIC # 9 :  [(0.74797466034504789, 'do'), (0.0221108286135333, 'measure'), (0.015408788702812268, 'image'), (0.012669865008535367, 'magic')]\n"
       ]
      }
     ],
     "prompt_number": 19
    },
    {
     "cell_type": "code",
     "collapsed": false,
     "input": [
      "import ldamodel as lda\n",
      "import numpy as np\n",
      "\n",
      "num_topics = 10;\n",
      "num_words = 4;\n",
      "lda.viewTopics(lda_2_charged, num_topics, num_words)"
     ],
     "language": "python",
     "metadata": {},
     "outputs": [
      {
       "output_type": "stream",
       "stream": "stdout",
       "text": [
        "TOPIC # 0 :  [(0.050525714715980705, 'lower'), (0.040080168868339046, 'pregnancy'), (0.035527612099536067, 'step'), (0.031937598889255944, 'make')]\n",
        "TOPIC # 1 :  [(0.049567922906752167, 'little'), (0.041730778811769537, 'find'), (0.04127548713078158, 'train'), (0.040245486829090057, 'friends')]\n",
        "TOPIC # 2 :  [(0.067242706146658462, 'deal'), (0.044276821449411481, 'running'), (0.039284546477314781, 'program'), (0.030259112038493317, 'pa')]\n",
        "TOPIC # 3 :  [(0.035943496706448225, 'gift'), (0.01842468362403521, 'swallow'), (0.018271554417905511, 'drink'), (0.0171330450902757, 'cast')]\n",
        "TOPIC # 4 :  [(0.075912117389134684, 'around'), (0.051219620982514098, 'price'), (0.047730171832362875, 'print'), (0.033288927791141919, 'door')]\n",
        "TOPIC # 5 :  [(0.047139616761315214, 'dolls'), (0.042868939851872991, 'buy'), (0.030464026429435371, 'candy'), (0.029932302015752862, 'cure')]\n",
        "TOPIC # 6 :  [(0.037911306153965589, 'first'), (0.032066609964515796, 'buy'), (0.029822811077635087, 'selling'), (0.028573554985162137, 'boil')]\n",
        "TOPIC # 7 :  [(0.035780969106404645, 'much'), (0.031271578470933106, 'make'), (0.031221043738192542, 'buy'), (0.029460637980444189, 'find')]\n",
        "TOPIC # 8 :  [(0.042650700530230193, 'dirty'), (0.035423643335752819, 'power'), (0.032179251308660922, 'medical'), (0.023421210722399704, 'do')]\n",
        "TOPIC # 9 :  [(0.045805998848438174, 'extra'), (0.029443053568278532, 'do'), (0.027495093728384355, 'page'), (0.024855770962313336, 'oral')]\n"
       ]
      }
     ],
     "prompt_number": 9
    },
    {
     "cell_type": "code",
     "collapsed": false,
     "input": [
      "query = \"how do I change my profile on aol\"\n",
      "#query = \"car\"\n",
      "print \"QUERY: \", query\n",
      "goals_distribution = lda.perQueryGoalProportions(query, dictionary, lda_charged)\n",
      "lda.viewPerQueryGoalProportions(goals_distribution)"
     ],
     "language": "python",
     "metadata": {},
     "outputs": [
      {
       "output_type": "stream",
       "stream": "stdout",
       "text": [
        "QUERY:  how do I change my profile on aol\n",
        "vec_bow: \t[(4640, 1), (5202, 1), (11458, 1)]\n",
        "\n",
        "Per-query goal proportions (on 0.0 seconds):\n",
        "\t[(9, 0.25250000000000061), (53, 0.25250000000000061), (91, 0.25250000000000056)]\n",
        "\n",
        "\n"
       ]
      },
      {
       "output_type": "display_data",
       "png": "[encoded data removed]"
      },
      {
       "output_type": "stream",
       "stream": "stdout",
       "text": [
        "\n",
        "\n"
       ]
      }
     ],
     "prompt_number": 22
    },
    {
     "cell_type": "code",
     "collapsed": false,
     "input": [
      "lda_charged.show_topic(53)"
     ],
     "language": "python",
     "metadata": {},
     "outputs": [
      {
       "output_type": "pyout",
       "prompt_number": 24,
       "text": [
        "[(0.11304543549845, 'time'),\n",
        " (0.063200463363356912, 'drive'),\n",
        " (0.060543957615502297, 'tree'),\n",
        " (0.059335975393620614, 'profile'),\n",
        " (0.046012232394906954, 'prepare'),\n",
        " (0.043382044195224831, 'taxes'),\n",
        " (0.040556900181458473, 'personal'),\n",
        " (0.038912092143353762, 'boss'),\n",
        " (0.031700383540541874, 'playing'),\n",
        " (0.027214278054154068, 'flu')]"
       ]
      }
     ],
     "prompt_number": 24
    },
    {
     "cell_type": "code",
     "collapsed": false,
     "input": [],
     "language": "python",
     "metadata": {},
     "outputs": []
    }
   ],
   "metadata": {}
  }
 ]
}