{
 "metadata": {
  "name": "QueryAnalyzer"
 },
 "nbformat": 3,
 "nbformat_minor": 0,
 "worksheets": [
  {
   "cells": [
    {
     "cell_type": "heading",
     "level": 1,
     "metadata": {},
     "source": [
      "Explicit intentional query identifier"
     ]
    },
    {
     "cell_type": "markdown",
     "metadata": {},
     "source": [
      "An <i>explicit intentional query</i> is a query that can be related to a specific goal in a recognizable, unambiguous way. A search query is regarded to contain an <i>explicit user goal</i> (or short: explicit goal) whenever the query:\n",
      "<ol>\n",
      "    <li>Contains at least one verb and </li>\n",
      "    <li>Describes a plausible state of affairs that the user may want to achieve or avoid in 3) a recognizable way.</li>\n",
      "</ol>\n",
      "\n",
      "<b>Objective: </b> Identify whether a query has an explicit goal or not."
     ]
    },
    {
     "cell_type": "code",
     "collapsed": false,
     "input": [
      "import goalAnalyzer as ga\n",
      "path = \"/media/University/UniversityDisc/2-Master/MasterThesis/EjecucionTesis/Desarrollo/PythonProjects/QueryAnalyzer/Models/\"\n",
      "classifier_name = \"my_classifier_v3.pickle\"\n",
      "cl = ga.loadTrainedClassifier(path + classifier_name)\n",
      "query = \"reading vocabulary lesson plans\"\n",
      "ga.testQuery(cl, query)"
     ],
     "language": "python",
     "metadata": {},
     "outputs": [
      {
       "output_type": "stream",
       "stream": "stdout",
       "text": [
        "POS Tags:  S NN NN NN NNS E\n",
        "TriGram:   S-NN-NN NN-NN-NN NN-NN-NNS NN-NNS-E\n",
        "Max Probability Distribution:"
       ]
      },
      {
       "output_type": "stream",
       "stream": "stdout",
       "text": [
        " neg\n",
        "Pos: 0.0238841557538\n",
        "Neg: 0.976115844246\n"
       ]
      }
     ],
     "prompt_number": 10
    },
    {
     "cell_type": "heading",
     "level": 1,
     "metadata": {},
     "source": [
      "<br />\n",
      "Goal Modelling (GoMo)"
     ]
    },
    {
     "cell_type": "markdown",
     "metadata": {},
     "source": [
      "A <i>goal model</i> is a type of statistical model for discovering the abstract \"goals\" that occur in a collection of queries. The algorithms in GoMo, such as <b>Latent Semantic Analysis (LSA)</b>, <b>Latent Dirichlet Allocation (LDA)</b> and <b>Hierarchical Dirichlet Process (HDP)</b>, discover semantic structure of queries, by examining word statistical co-occurrence patterns within a corpus of training documents. These algorithms are unsupervised, which means no human input is necessary \u2013 you only need a corpus of plain text documents."
     ]
    },
    {
     "cell_type": "code",
     "collapsed": false,
     "input": [
      "import logging\n",
      "logging.basicConfig(format='%(asctime)s : %(levelname)s : %(message)s', level=logging.INFO)\n",
      "from gensim import corpora, models, similarities\n",
      "path = \"/media/University/UniversityDisc/2-Master/MasterThesis/EjecucionTesis/Desarrollo/PythonProjects/QueryAnalyzer/Models/\"\n",
      "dictionary = corpora.Dictionary.load(path + 'goal_dictionary.dict')\n",
      "print dictionary\n",
      "corpus = corpora.MmCorpus(path + 'corpus.mm')\n",
      "print corpus"
     ],
     "language": "python",
     "metadata": {},
     "outputs": [
      {
       "output_type": "stream",
       "stream": "stderr",
       "text": [
        "2014-01-30 09:12:40,131 : INFO : loading Dictionary object from /media/University/UniversityDisc/2-Master/MasterThesis/EjecucionTesis/Desarrollo/PythonProjects/QueryAnalyzer/Models/goal_dictionary.dict\n"
       ]
      },
      {
       "output_type": "stream",
       "stream": "stderr",
       "text": [
        "2014-01-30 09:12:40,274 : INFO : loaded corpus index from /media/University/UniversityDisc/2-Master/MasterThesis/EjecucionTesis/Desarrollo/PythonProjects/QueryAnalyzer/Models/corpus.mm.index\n"
       ]
      },
      {
       "output_type": "stream",
       "stream": "stderr",
       "text": [
        "2014-01-30 09:12:40,274 : INFO : initializing corpus reader from /media/University/UniversityDisc/2-Master/MasterThesis/EjecucionTesis/Desarrollo/PythonProjects/QueryAnalyzer/Models/corpus.mm\n"
       ]
      },
      {
       "output_type": "stream",
       "stream": "stderr",
       "text": [
        "2014-01-30 09:12:40,310 : INFO : accepted corpus with 98294 documents, 16051 features, 297941 non-zero entries\n"
       ]
      },
      {
       "output_type": "stream",
       "stream": "stdout",
       "text": [
        "Dictionary(16051 unique tokens)\n",
        "MmCorpus(98294 documents, 16051 features, 297941 non-zero entries)"
       ]
      },
      {
       "output_type": "stream",
       "stream": "stdout",
       "text": [
        "\n"
       ]
      }
     ],
     "prompt_number": 11
    },
    {
     "cell_type": "code",
     "collapsed": false,
     "input": [
      "tfidf = models.TfidfModel(corpus) # step 1 -- initialize a model\n",
      "corpus_tfidf = tfidf[corpus]"
     ],
     "language": "python",
     "metadata": {},
     "outputs": [
      {
       "output_type": "stream",
       "stream": "stderr",
       "text": [
        "2014-01-30 09:12:49,176 : INFO : collecting document frequencies\n"
       ]
      },
      {
       "output_type": "stream",
       "stream": "stderr",
       "text": [
        "2014-01-30 09:12:49,177 : INFO : PROGRESS: processing document #0\n"
       ]
      },
      {
       "output_type": "stream",
       "stream": "stderr",
       "text": [
        "2014-01-30 09:12:49,328 : INFO : PROGRESS: processing document #10000\n"
       ]
      },
      {
       "output_type": "stream",
       "stream": "stderr",
       "text": [
        "2014-01-30 09:12:49,453 : INFO : PROGRESS: processing document #20000\n"
       ]
      },
      {
       "output_type": "stream",
       "stream": "stderr",
       "text": [
        "2014-01-30 09:12:49,554 : INFO : PROGRESS: processing document #30000\n"
       ]
      },
      {
       "output_type": "stream",
       "stream": "stderr",
       "text": [
        "2014-01-30 09:12:49,658 : INFO : PROGRESS: processing document #40000\n"
       ]
      },
      {
       "output_type": "stream",
       "stream": "stderr",
       "text": [
        "2014-01-30 09:12:49,763 : INFO : PROGRESS: processing document #50000\n"
       ]
      },
      {
       "output_type": "stream",
       "stream": "stderr",
       "text": [
        "2014-01-30 09:12:49,867 : INFO : PROGRESS: processing document #60000\n"
       ]
      },
      {
       "output_type": "stream",
       "stream": "stderr",
       "text": [
        "2014-01-30 09:12:49,971 : INFO : PROGRESS: processing document #70000\n"
       ]
      },
      {
       "output_type": "stream",
       "stream": "stderr",
       "text": [
        "2014-01-30 09:12:50,073 : INFO : PROGRESS: processing document #80000\n"
       ]
      },
      {
       "output_type": "stream",
       "stream": "stderr",
       "text": [
        "2014-01-30 09:12:50,178 : INFO : PROGRESS: processing document #90000\n"
       ]
      },
      {
       "output_type": "stream",
       "stream": "stderr",
       "text": [
        "2014-01-30 09:12:50,276 : INFO : calculating IDF weights for 98294 documents and 16051 features (297941 matrix non-zeros)\n"
       ]
      }
     ],
     "prompt_number": 12
    },
    {
     "cell_type": "markdown",
     "metadata": {},
     "source": [
      "<b>Note:</b> Calling model[corpus] only creates a wrapper around the old corpus document stream \u2013 actual conversions are done on-the-fly, during document iteration. "
     ]
    },
    {
     "cell_type": "heading",
     "level": 2,
     "metadata": {},
     "source": [
      "Latent Semantic Indexing (LSI)"
     ]
    },
    {
     "cell_type": "code",
     "collapsed": false,
     "input": [
      "lsi = models.LsiModel(corpus_tfidf, id2word=dictionary, num_topics=10) # initialize an LSI transformation\n",
      "corpus_lsi = lsi[corpus_tfidf] # create a double wrapper over the original corpus: bow->tfidf->fold-in-lsi"
     ],
     "language": "python",
     "metadata": {},
     "outputs": [
      {
       "output_type": "stream",
       "stream": "stderr",
       "text": [
        "2014-01-30 09:12:54,854 : INFO : using serial LSI version on this node\n"
       ]
      },
      {
       "output_type": "stream",
       "stream": "stderr",
       "text": [
        "2014-01-30 09:12:54,854 : INFO : updating model with new documents\n"
       ]
      },
      {
       "output_type": "stream",
       "stream": "stderr",
       "text": [
        "2014-01-30 09:12:55,504 : INFO : preparing a new chunk of documents\n"
       ]
      },
      {
       "output_type": "stream",
       "stream": "stderr",
       "text": [
        "2014-01-30 09:12:55,841 : INFO : using 100 extra samples and 2 power iterations\n"
       ]
      },
      {
       "output_type": "stream",
       "stream": "stderr",
       "text": [
        "2014-01-30 09:12:55,848 : INFO : 1st phase: constructing (16051, 110) action matrix\n"
       ]
      },
      {
       "output_type": "stream",
       "stream": "stderr",
       "text": [
        "2014-01-30 09:12:56,043 : INFO : orthonormalizing (16051, 110) action matrix\n"
       ]
      },
      {
       "output_type": "stream",
       "stream": "stderr",
       "text": [
        "2014-01-30 09:12:57,783 : INFO : 2nd phase: running dense svd on (110, 20000) matrix\n"
       ]
      },
      {
       "output_type": "stream",
       "stream": "stderr",
       "text": [
        "2014-01-30 09:12:58,990 : INFO : computing the final decomposition\n"
       ]
      },
      {
       "output_type": "stream",
       "stream": "stderr",
       "text": [
        "2014-01-30 09:12:58,991 : INFO : keeping 10 factors (discarding 68.945% of energy spectrum)\n"
       ]
      },
      {
       "output_type": "stream",
       "stream": "stderr",
       "text": [
        "2014-01-30 09:12:59,008 : INFO : processed documents up to #20000\n"
       ]
      },
      {
       "output_type": "stream",
       "stream": "stderr",
       "text": [
        "2014-01-30 09:12:59,014 : INFO : topic #0(18.601): 1.000*\"http\" + 0.004*\"find\" + 0.003*\"pay\" + 0.002*\"rebate\" + 0.002*\"status\" + 0.002*\"click\" + 0.002*\"myspace\" + 0.002*\"check\" + 0.001*\"similar\" + 0.001*\"sign\"\n"
       ]
      },
      {
       "output_type": "stream",
       "stream": "stderr",
       "text": [
        "2014-01-30 09:12:59,017 : INFO : topic #1(12.084): -0.599*\"make\" + -0.507*\"buy\" + -0.390*\"i\" + -0.326*\"find\" + -0.125*\"money\" + -0.116*\"free\" + -0.110*\"online\" + -0.103*\"aol\" + -0.075*\"change\" + -0.068*\"home\"\n"
       ]
      },
      {
       "output_type": "stream",
       "stream": "stderr",
       "text": [
        "2014-01-30 09:12:59,020 : INFO : topic #2(11.713): 0.725*\"make\" + -0.604*\"buy\" + -0.191*\"i\" + -0.159*\"find\" + 0.118*\"money\" + -0.076*\"online\" + -0.055*\"sell\" + -0.046*\"pay\" + 0.038*\"free\" + 0.030*\"screen\"\n"
       ]
      },
      {
       "output_type": "stream",
       "stream": "stderr",
       "text": [
        "2014-01-30 09:12:59,022 : INFO : topic #3(11.369): 0.703*\"find\" + -0.531*\"buy\" + 0.323*\"i\" + -0.203*\"make\" + 0.105*\"aol\" + 0.084*\"address\" + 0.083*\"email\" + 0.074*\"change\" + -0.069*\"online\" + 0.067*\"people\"\n"
       ]
      },
      {
       "output_type": "stream",
       "stream": "stderr",
       "text": [
        "2014-01-30 09:12:59,024 : INFO : topic #4(10.402): 0.707*\"i\" + -0.550*\"find\" + 0.214*\"change\" + 0.208*\"aol\" + -0.173*\"buy\" + 0.106*\"cancel\" + 0.095*\"password\" + 0.092*\"account\" + -0.076*\"make\" + 0.057*\"screen\"\n"
       ]
      },
      {
       "output_type": "stream",
       "stream": "stderr",
       "text": [
        "2014-01-30 09:12:59,683 : INFO : preparing a new chunk of documents\n"
       ]
      },
      {
       "output_type": "stream",
       "stream": "stderr",
       "text": [
        "2014-01-30 09:12:59,993 : INFO : using 100 extra samples and 2 power iterations\n"
       ]
      },
      {
       "output_type": "stream",
       "stream": "stderr",
       "text": [
        "2014-01-30 09:12:59,994 : INFO : 1st phase: constructing (16051, 110) action matrix\n"
       ]
      },
      {
       "output_type": "stream",
       "stream": "stderr",
       "text": [
        "2014-01-30 09:13:00,193 : INFO : orthonormalizing (16051, 110) action matrix\n"
       ]
      },
      {
       "output_type": "stream",
       "stream": "stderr",
       "text": [
        "2014-01-30 09:13:01,861 : INFO : 2nd phase: running dense svd on (110, 20000) matrix\n"
       ]
      },
      {
       "output_type": "stream",
       "stream": "stderr",
       "text": [
        "2014-01-30 09:13:02,942 : INFO : computing the final decomposition\n"
       ]
      },
      {
       "output_type": "stream",
       "stream": "stderr",
       "text": [
        "2014-01-30 09:13:02,943 : INFO : keeping 10 factors (discarding 71.484% of energy spectrum)\n"
       ]
      },
      {
       "output_type": "stream",
       "stream": "stderr",
       "text": [
        "2014-01-30 09:13:02,960 : INFO : merging projections: (16051, 10) + (16051, 10)\n"
       ]
      },
      {
       "output_type": "stream",
       "stream": "stderr",
       "text": [
        "2014-01-30 09:13:02,973 : INFO : keeping 10 factors (discarding 12.170% of energy spectrum)\n"
       ]
      },
      {
       "output_type": "stream",
       "stream": "stderr",
       "text": [
        "2014-01-30 09:13:02,979 : INFO : processed documents up to #40000\n"
       ]
      },
      {
       "output_type": "stream",
       "stream": "stderr",
       "text": [
        "2014-01-30 09:13:02,982 : INFO : topic #0(18.601): 1.000*\"http\" + 0.012*\"find\" + 0.005*\"aol\" + 0.003*\"account\" + 0.003*\"pay\" + 0.003*\"make\" + 0.003*\"i\" + 0.003*\"free\" + 0.002*\"music\" + 0.002*\"cancel\"\n"
       ]
      },
      {
       "output_type": "stream",
       "stream": "stderr",
       "text": [
        "2014-01-30 09:13:02,984 : INFO : topic #1(17.103): 0.776*\"make\" + 0.354*\"find\" + 0.219*\"i\" + 0.203*\"money\" + 0.183*\"free\" + 0.179*\"buy\" + 0.165*\"listen\" + 0.137*\"music\" + 0.090*\"screen\" + 0.087*\"people\"\n"
       ]
      },
      {
       "output_type": "stream",
       "stream": "stderr",
       "text": [
        "2014-01-30 09:13:02,986 : INFO : topic #2(16.421): 0.591*\"find\" + -0.551*\"make\" + 0.301*\"listen\" + 0.246*\"buy\" + 0.238*\"i\" + 0.210*\"music\" + 0.171*\"free\" + 0.119*\"people\" + -0.114*\"money\" + 0.062*\"online\"\n"
       ]
      },
      {
       "output_type": "stream",
       "stream": "stderr",
       "text": [
        "2014-01-30 09:13:02,989 : INFO : topic #3(15.855): 0.719*\"listen\" + 0.514*\"music\" + -0.406*\"find\" + -0.123*\"buy\" + -0.112*\"i\" + -0.058*\"people\" + 0.044*\"songs\" + -0.044*\"aol\" + -0.039*\"address\" + 0.035*\"song\"\n"
       ]
      },
      {
       "output_type": "stream",
       "stream": "stderr",
       "text": [
        "2014-01-30 09:13:02,992 : INFO : topic #4(15.744): 0.882*\"buy\" + -0.380*\"find\" + 0.143*\"online\" + -0.099*\"free\" + 0.086*\"i\" + 0.075*\"pay\" + -0.075*\"people\" + 0.060*\"sell\" + -0.042*\"listen\" + 0.040*\"houses\"\n"
       ]
      },
      {
       "output_type": "stream",
       "stream": "stderr",
       "text": [
        "2014-01-30 09:13:03,659 : INFO : preparing a new chunk of documents\n"
       ]
      },
      {
       "output_type": "stream",
       "stream": "stderr",
       "text": [
        "2014-01-30 09:13:03,976 : INFO : using 100 extra samples and 2 power iterations\n"
       ]
      },
      {
       "output_type": "stream",
       "stream": "stderr",
       "text": [
        "2014-01-30 09:13:03,977 : INFO : 1st phase: constructing (16051, 110) action matrix\n"
       ]
      },
      {
       "output_type": "stream",
       "stream": "stderr",
       "text": [
        "2014-01-30 09:13:04,171 : INFO : orthonormalizing (16051, 110) action matrix\n"
       ]
      },
      {
       "output_type": "stream",
       "stream": "stderr",
       "text": [
        "2014-01-30 09:13:05,831 : INFO : 2nd phase: running dense svd on (110, 20000) matrix\n"
       ]
      },
      {
       "output_type": "stream",
       "stream": "stderr",
       "text": [
        "2014-01-30 09:13:06,900 : INFO : computing the final decomposition\n"
       ]
      },
      {
       "output_type": "stream",
       "stream": "stderr",
       "text": [
        "2014-01-30 09:13:06,901 : INFO : keeping 10 factors (discarding 69.112% of energy spectrum)\n"
       ]
      },
      {
       "output_type": "stream",
       "stream": "stderr",
       "text": [
        "2014-01-30 09:13:06,919 : INFO : merging projections: (16051, 10) + (16051, 10)\n"
       ]
      },
      {
       "output_type": "stream",
       "stream": "stderr",
       "text": [
        "2014-01-30 09:13:06,932 : INFO : keeping 10 factors (discarding 10.869% of energy spectrum)\n"
       ]
      },
      {
       "output_type": "stream",
       "stream": "stderr",
       "text": [
        "2014-01-30 09:13:06,938 : INFO : processed documents up to #60000\n"
       ]
      },
      {
       "output_type": "stream",
       "stream": "stderr",
       "text": [
        "2014-01-30 09:13:06,941 : INFO : topic #0(23.098): 0.926*\"buy\" + 0.303*\"baby\" + 0.109*\"online\" + 0.102*\"i\" + 0.060*\"find\" + 0.056*\"make\" + 0.053*\"sell\" + 0.046*\"pay\" + 0.035*\"free\" + 0.028*\"cars\"\n"
       ]
      },
      {
       "output_type": "stream",
       "stream": "stderr",
       "text": [
        "2014-01-30 09:13:06,943 : INFO : topic #1(20.871): 0.852*\"make\" + 0.308*\"find\" + 0.227*\"money\" + 0.165*\"free\" + 0.143*\"i\" + -0.111*\"buy\" + 0.103*\"listen\" + 0.096*\"music\" + 0.066*\"screen\" + 0.062*\"people\"\n"
       ]
      },
      {
       "output_type": "stream",
       "stream": "stderr",
       "text": [
        "2014-01-30 09:13:06,946 : INFO : topic #2(19.981): 0.775*\"find\" + -0.420*\"make\" + 0.236*\"i\" + 0.198*\"free\" + 0.178*\"listen\" + 0.135*\"music\" + 0.126*\"people\" + 0.094*\"number\" + 0.093*\"phone\" + -0.084*\"money\"\n"
       ]
      },
      {
       "output_type": "stream",
       "stream": "stderr",
       "text": [
        "2014-01-30 09:13:06,949 : INFO : topic #3(18.607): -0.907*\"http\" + 0.315*\"listen\" + 0.234*\"music\" + -0.108*\"find\" + 0.094*\"free\" + -0.029*\"make\" + 0.018*\"songs\" + 0.018*\"song\" + 0.014*\"online\" + 0.012*\"learn\"\n"
       ]
      },
      {
       "output_type": "stream",
       "stream": "stderr",
       "text": [
        "2014-01-30 09:13:06,952 : INFO : topic #4(18.564): 0.662*\"listen\" + 0.493*\"music\" + 0.420*\"http\" + -0.298*\"find\" + 0.182*\"free\" + -0.051*\"i\" + -0.049*\"make\" + 0.037*\"songs\" + 0.037*\"song\" + -0.035*\"number\"\n"
       ]
      },
      {
       "output_type": "stream",
       "stream": "stderr",
       "text": [
        "2014-01-30 09:13:07,561 : INFO : preparing a new chunk of documents\n"
       ]
      },
      {
       "output_type": "stream",
       "stream": "stderr",
       "text": [
        "2014-01-30 09:13:07,870 : INFO : using 100 extra samples and 2 power iterations\n"
       ]
      },
      {
       "output_type": "stream",
       "stream": "stderr",
       "text": [
        "2014-01-30 09:13:07,871 : INFO : 1st phase: constructing (16051, 110) action matrix\n"
       ]
      },
      {
       "output_type": "stream",
       "stream": "stderr",
       "text": [
        "2014-01-30 09:13:08,067 : INFO : orthonormalizing (16051, 110) action matrix\n"
       ]
      },
      {
       "output_type": "stream",
       "stream": "stderr",
       "text": [
        "2014-01-30 09:13:09,724 : INFO : 2nd phase: running dense svd on (110, 20000) matrix\n"
       ]
      },
      {
       "output_type": "stream",
       "stream": "stderr",
       "text": [
        "2014-01-30 09:13:10,800 : INFO : computing the final decomposition\n"
       ]
      },
      {
       "output_type": "stream",
       "stream": "stderr",
       "text": [
        "2014-01-30 09:13:10,801 : INFO : keeping 10 factors (discarding 69.988% of energy spectrum)\n"
       ]
      },
      {
       "output_type": "stream",
       "stream": "stderr",
       "text": [
        "2014-01-30 09:13:10,818 : INFO : merging projections: (16051, 10) + (16051, 10)\n"
       ]
      },
      {
       "output_type": "stream",
       "stream": "stderr",
       "text": [
        "2014-01-30 09:13:10,832 : INFO : keeping 10 factors (discarding 9.912% of energy spectrum)\n"
       ]
      },
      {
       "output_type": "stream",
       "stream": "stderr",
       "text": [
        "2014-01-30 09:13:10,839 : INFO : processed documents up to #80000\n"
       ]
      },
      {
       "output_type": "stream",
       "stream": "stderr",
       "text": [
        "2014-01-30 09:13:10,841 : INFO : topic #0(26.077): 0.938*\"buy\" + 0.228*\"baby\" + 0.113*\"online\" + 0.113*\"i\" + 0.089*\"find\" + 0.069*\"make\" + 0.059*\"sell\" + 0.046*\"free\" + 0.045*\"pay\" + 0.043*\"cars\"\n"
       ]
      },
      {
       "output_type": "stream",
       "stream": "stderr",
       "text": [
        "2014-01-30 09:13:10,843 : INFO : topic #1(23.933): 0.811*\"make\" + 0.405*\"find\" + 0.191*\"money\" + 0.165*\"i\" + 0.159*\"free\" + -0.149*\"buy\" + 0.076*\"address\" + 0.075*\"listen\" + 0.074*\"people\" + 0.072*\"music\"\n"
       ]
      },
      {
       "output_type": "stream",
       "stream": "stderr",
       "text": [
        "2014-01-30 09:13:10,846 : INFO : topic #2(23.175): 0.763*\"find\" + -0.506*\"make\" + 0.218*\"i\" + 0.140*\"address\" + 0.137*\"free\" + 0.120*\"people\" + -0.089*\"money\" + 0.083*\"number\" + 0.081*\"email\" + 0.080*\"phone\"\n"
       ]
      },
      {
       "output_type": "stream",
       "stream": "stderr",
       "text": [
        "2014-01-30 09:13:10,849 : INFO : topic #3(20.581): 0.774*\"listen\" + 0.533*\"music\" + 0.213*\"free\" + -0.201*\"find\" + 0.080*\"online\" + -0.071*\"make\" + 0.050*\"song\" + 0.049*\"songs\" + -0.044*\"address\" + -0.034*\"buy\"\n"
       ]
      },
      {
       "output_type": "stream",
       "stream": "stderr",
       "text": [
        "2014-01-30 09:13:10,852 : INFO : topic #4(18.964): 0.731*\"i\" + 0.351*\"aol\" + 0.312*\"change\" + -0.259*\"find\" + 0.215*\"account\" + 0.158*\"password\" + 0.145*\"screen\" + 0.108*\"cancel\" + 0.090*\"create\" + -0.087*\"free\"\n"
       ]
      },
      {
       "output_type": "stream",
       "stream": "stderr",
       "text": [
        "2014-01-30 09:13:11,447 : INFO : preparing a new chunk of documents\n"
       ]
      },
      {
       "output_type": "stream",
       "stream": "stderr",
       "text": [
        "2014-01-30 09:13:11,731 : INFO : using 100 extra samples and 2 power iterations\n"
       ]
      },
      {
       "output_type": "stream",
       "stream": "stderr",
       "text": [
        "2014-01-30 09:13:11,732 : INFO : 1st phase: constructing (16051, 110) action matrix\n"
       ]
      },
      {
       "output_type": "stream",
       "stream": "stderr",
       "text": [
        "2014-01-30 09:13:11,907 : INFO : orthonormalizing (16051, 110) action matrix\n"
       ]
      },
      {
       "output_type": "stream",
       "stream": "stderr",
       "text": [
        "2014-01-30 09:13:13,561 : INFO : 2nd phase: running dense svd on (110, 18294) matrix\n"
       ]
      },
      {
       "output_type": "stream",
       "stream": "stderr",
       "text": [
        "2014-01-30 09:13:14,537 : INFO : computing the final decomposition\n"
       ]
      },
      {
       "output_type": "stream",
       "stream": "stderr",
       "text": [
        "2014-01-30 09:13:14,538 : INFO : keeping 10 factors (discarding 72.930% of energy spectrum)\n"
       ]
      },
      {
       "output_type": "stream",
       "stream": "stderr",
       "text": [
        "2014-01-30 09:13:14,555 : INFO : merging projections: (16051, 10) + (16051, 10)\n"
       ]
      },
      {
       "output_type": "stream",
       "stream": "stderr",
       "text": [
        "2014-01-30 09:13:14,568 : INFO : keeping 10 factors (discarding 7.081% of energy spectrum)\n"
       ]
      },
      {
       "output_type": "stream",
       "stream": "stderr",
       "text": [
        "2014-01-30 09:13:14,575 : INFO : processed documents up to #98294\n"
       ]
      },
      {
       "output_type": "stream",
       "stream": "stderr",
       "text": [
        "2014-01-30 09:13:14,578 : INFO : topic #0(28.098): 0.908*\"buy\" + 0.196*\"make\" + 0.191*\"baby\" + 0.144*\"find\" + 0.140*\"i\" + 0.128*\"online\" + 0.071*\"free\" + 0.059*\"money\" + 0.057*\"sell\" + 0.044*\"car\"\n"
       ]
      },
      {
       "output_type": "stream",
       "stream": "stderr",
       "text": [
        "2014-01-30 09:13:14,580 : INFO : topic #1(26.973): 0.887*\"make\" + -0.271*\"buy\" + 0.204*\"find\" + 0.200*\"money\" + 0.112*\"free\" + 0.083*\"i\" + 0.057*\"home\" + -0.053*\"baby\" + 0.050*\"website\" + 0.048*\"music\"\n"
       ]
      },
      {
       "output_type": "stream",
       "stream": "stderr",
       "text": [
        "2014-01-30 09:13:14,583 : INFO : topic #2(25.764): 0.836*\"find\" + -0.308*\"make\" + 0.240*\"i\" + 0.179*\"free\" + 0.148*\"address\" + -0.140*\"buy\" + 0.120*\"people\" + 0.103*\"phone\" + 0.089*\"email\" + 0.085*\"number\"\n"
       ]
      },
      {
       "output_type": "stream",
       "stream": "stderr",
       "text": [
        "2014-01-30 09:13:14,585 : INFO : topic #3(22.217): 0.798*\"listen\" + 0.493*\"music\" + 0.222*\"free\" + -0.189*\"find\" + 0.085*\"online\" + -0.069*\"make\" + 0.057*\"song\" + 0.049*\"songs\" + 0.048*\"i\" + -0.041*\"buy\"\n"
       ]
      },
      {
       "output_type": "stream",
       "stream": "stderr",
       "text": [
        "2014-01-30 09:13:14,588 : INFO : topic #4(20.832): 0.762*\"i\" + 0.328*\"aol\" + 0.270*\"change\" + -0.252*\"find\" + 0.220*\"account\" + 0.137*\"password\" + 0.136*\"screen\" + -0.105*\"free\" + 0.100*\"cancel\" + -0.075*\"listen\"\n"
       ]
      }
     ],
     "prompt_number": 13
    },
    {
     "cell_type": "markdown",
     "metadata": {},
     "source": [
      "<b>Note:</b> Here we transformed our Tf-Idf corpus via <i>Latent Semantic Indexing</i> into a latent 2-D space (2-D because we set num_topics=2)."
     ]
    },
    {
     "cell_type": "code",
     "collapsed": false,
     "input": [
      "path = \"/media/University/UniversityDisc/2-Master/MasterThesis/EjecucionTesis/Desarrollo/PythonProjects/QueryAnalyzer/Models/\"\n",
      "lsi.save(path + 'model.lsi') # same for tfidf, lda, ...\n",
      "lsi = models.LsiModel.load(path + 'model.lsi')"
     ],
     "language": "python",
     "metadata": {},
     "outputs": [
      {
       "output_type": "stream",
       "stream": "stderr",
       "text": [
        "2014-01-30 09:13:45,169 : INFO : storing LsiModel object to /media/University/UniversityDisc/2-Master/MasterThesis/EjecucionTesis/Desarrollo/PythonProjects/QueryAnalyzer/Models/model.lsi and /media/University/UniversityDisc/2-Master/MasterThesis/EjecucionTesis/Desarrollo/PythonProjects/QueryAnalyzer/Models/model.lsi.npy\n"
       ]
      }
     ],
     "prompt_number": 14
    }
   ],
   "metadata": {}
  }
 ]
}