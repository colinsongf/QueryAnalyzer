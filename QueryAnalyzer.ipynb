{
 "metadata": {
  "name": "QueryAnalyzer"
 },
 "nbformat": 3,
 "nbformat_minor": 0,
 "worksheets": [
  {
   "cells": [
    {
     "cell_type": "heading",
     "level": 1,
     "metadata": {},
     "source": [
      "Explicit intentional query identifier (Prototype 1)"
     ]
    },
    {
     "cell_type": "markdown",
     "metadata": {},
     "source": [
      "An <i>explicit intentional query</i> is a query that can be related to a specific goal in a recognizable, unambiguous way. A search query is regarded to contain an <i>explicit user goal</i> (or short: explicit goal) whenever the query:\n",
      "<ol>\n",
      "    <li>Contains at least one verb and </li>\n",
      "    <li>Describes a plausible state of affairs that the user may want to achieve or avoid in 3) a recognizable way.</li>\n",
      "</ol>\n",
      "\n",
      "<b>Objective: </b> Identify whether a query has an explicit goal or not."
     ]
    },
    {
     "cell_type": "code",
     "collapsed": false,
     "input": [
      "import goalAnalyzer as ga\n",
      "path = \"/media/University/UniversityDisc/2-Master/MasterThesis/EjecucionTesis/Desarrollo/PythonProjects/QueryAnalyzer/Models/\"\n",
      "classifier_name = \"my_classifier_v3.pickle\"\n",
      "cl = ga.loadTrainedClassifier(path + classifier_name)\n",
      "query = \"reading vocabulary lesson plans\"\n",
      "ga.testQuery(cl, query)"
     ],
     "language": "python",
     "metadata": {},
     "outputs": [
      {
       "output_type": "stream",
       "stream": "stdout",
       "text": [
        "POS Tags:  S NN NN NN NNS E\n",
        "TriGram:   S-NN-NN NN-NN-NN NN-NN-NNS NN-NNS-E\n",
        "Max Probability Distribution:"
       ]
      },
      {
       "output_type": "stream",
       "stream": "stdout",
       "text": [
        " neg\n",
        "Pos: 0.0238841557538\n",
        "Neg: 0.976115844246\n"
       ]
      }
     ],
     "prompt_number": 1
    },
    {
     "cell_type": "heading",
     "level": 1,
     "metadata": {},
     "source": [
      "<br />\n",
      "Goal Modelling (GoMo)"
     ]
    },
    {
     "cell_type": "markdown",
     "metadata": {},
     "source": [
      "A <i>goal model</i> is a type of statistical model for discovering the abstract \"goals\" that occur in a collection of queries. The algorithms in GoMo, such as <b>Latent Semantic Analysis (LSA)</b>, <b>Latent Dirichlet Allocation (LDA)</b> and <b>Hierarchical Dirichlet Process (HDP)</b>, discover semantic structure of queries, by examining word statistical co-occurrence patterns within a corpus of training documents. These algorithms are unsupervised, which means no human input is necessary \u2013 you only need a corpus of plain text documents."
     ]
    },
    {
     "cell_type": "code",
     "collapsed": false,
     "input": [
      "import logging\n",
      "#logging.basicConfig(format='%(asctime)s : %(levelname)s : %(message)s, level=logging.INFO')\n",
      "logger = logging.getLogger()\n",
      "logger.disabled = False\n",
      "from gensim import corpora, models, similarities\n",
      "path = \"/media/University/UniversityDisc/2-Master/MasterThesis/EjecucionTesis/Desarrollo/PythonProjects/QueryAnalyzer/Models/\"\n",
      "dictionary = corpora.Dictionary.load(path + 'goal_dictionary.dict')\n",
      "print dictionary\n",
      "corpus = corpora.MmCorpus(path + 'corpus.mm')\n",
      "print corpus"
     ],
     "language": "python",
     "metadata": {},
     "outputs": [
      {
       "output_type": "stream",
       "stream": "stderr",
       "text": [
        "2014-03-08 11:53:20,746 : INFO : loading Dictionary object from /media/University/UniversityDisc/2-Master/MasterThesis/EjecucionTesis/Desarrollo/PythonProjects/QueryAnalyzer/Models/goal_dictionary.dict\n"
       ]
      },
      {
       "output_type": "stream",
       "stream": "stderr",
       "text": [
        "2014-03-08 11:53:20,778 : INFO : loaded corpus index from /media/University/UniversityDisc/2-Master/MasterThesis/EjecucionTesis/Desarrollo/PythonProjects/QueryAnalyzer/Models/corpus.mm.index\n"
       ]
      },
      {
       "output_type": "stream",
       "stream": "stderr",
       "text": [
        "2014-03-08 11:53:20,778 : INFO : initializing corpus reader from /media/University/UniversityDisc/2-Master/MasterThesis/EjecucionTesis/Desarrollo/PythonProjects/QueryAnalyzer/Models/corpus.mm\n"
       ]
      },
      {
       "output_type": "stream",
       "stream": "stderr",
       "text": [
        "2014-03-08 11:53:20,779 : INFO : accepted corpus with 98294 documents, 16051 features, 297941 non-zero entries\n"
       ]
      },
      {
       "output_type": "stream",
       "stream": "stdout",
       "text": [
        "Dictionary(16051 unique tokens)\n",
        "MmCorpus(98294 documents, 16051 features, 297941 non-zero entries)\n"
       ]
      }
     ],
     "prompt_number": 5
    },
    {
     "cell_type": "code",
     "collapsed": false,
     "input": [
      "tfidf = models.TfidfModel(corpus) # step 1 -- initialize a model\n",
      "corpus_tfidf = tfidf[corpus]"
     ],
     "language": "python",
     "metadata": {},
     "outputs": [
      {
       "output_type": "stream",
       "stream": "stderr",
       "text": [
        "2014-03-08 11:55:10,954 : INFO : collecting document frequencies\n"
       ]
      },
      {
       "output_type": "stream",
       "stream": "stderr",
       "text": [
        "2014-03-08 11:55:10,955 : INFO : PROGRESS: processing document #0\n"
       ]
      },
      {
       "output_type": "stream",
       "stream": "stderr",
       "text": [
        "2014-03-08 11:55:11,039 : INFO : PROGRESS: processing document #10000\n"
       ]
      },
      {
       "output_type": "stream",
       "stream": "stderr",
       "text": [
        "2014-03-08 11:55:11,123 : INFO : PROGRESS: processing document #20000\n"
       ]
      },
      {
       "output_type": "stream",
       "stream": "stderr",
       "text": [
        "2014-03-08 11:55:11,208 : INFO : PROGRESS: processing document #30000\n"
       ]
      },
      {
       "output_type": "stream",
       "stream": "stderr",
       "text": [
        "2014-03-08 11:55:11,291 : INFO : PROGRESS: processing document #40000\n"
       ]
      },
      {
       "output_type": "stream",
       "stream": "stderr",
       "text": [
        "2014-03-08 11:55:11,373 : INFO : PROGRESS: processing document #50000\n"
       ]
      },
      {
       "output_type": "stream",
       "stream": "stderr",
       "text": [
        "2014-03-08 11:55:11,456 : INFO : PROGRESS: processing document #60000\n"
       ]
      },
      {
       "output_type": "stream",
       "stream": "stderr",
       "text": [
        "2014-03-08 11:55:11,539 : INFO : PROGRESS: processing document #70000\n"
       ]
      },
      {
       "output_type": "stream",
       "stream": "stderr",
       "text": [
        "2014-03-08 11:55:11,620 : INFO : PROGRESS: processing document #80000\n"
       ]
      },
      {
       "output_type": "stream",
       "stream": "stderr",
       "text": [
        "2014-03-08 11:55:11,708 : INFO : PROGRESS: processing document #90000\n"
       ]
      },
      {
       "output_type": "stream",
       "stream": "stderr",
       "text": [
        "2014-03-08 11:55:11,776 : INFO : calculating IDF weights for 98294 documents and 16051 features (297941 matrix non-zeros)\n"
       ]
      }
     ],
     "prompt_number": 8
    },
    {
     "cell_type": "markdown",
     "metadata": {},
     "source": [
      "<b>Note:</b> Calling model[corpus] only creates a wrapper around the old corpus document stream \u2013 actual conversions are done on-the-fly, during document iteration. "
     ]
    },
    {
     "cell_type": "heading",
     "level": 2,
     "metadata": {},
     "source": [
      "Latent Semantic Indexing (LSI)"
     ]
    },
    {
     "cell_type": "code",
     "collapsed": false,
     "input": [
      "lsi = models.LsiModel(corpus_tfidf, id2word=dictionary, num_topics=10) # initialize an LSI transformation\n",
      "corpus_lsi = lsi[corpus_tfidf] # create a double wrapper over the original corpus: bow->tfidf->fold-in-lsi"
     ],
     "language": "python",
     "metadata": {},
     "outputs": [
      {
       "output_type": "stream",
       "stream": "stderr",
       "text": [
        "2014-03-08 11:55:16,587 : INFO : using serial LSI version on this node\n"
       ]
      },
      {
       "output_type": "stream",
       "stream": "stderr",
       "text": [
        "2014-03-08 11:55:16,587 : INFO : updating model with new documents\n"
       ]
      },
      {
       "output_type": "stream",
       "stream": "stderr",
       "text": [
        "2014-03-08 11:55:17,110 : INFO : preparing a new chunk of documents\n"
       ]
      },
      {
       "output_type": "stream",
       "stream": "stderr",
       "text": [
        "2014-03-08 11:55:17,390 : INFO : using 100 extra samples and 2 power iterations\n"
       ]
      },
      {
       "output_type": "stream",
       "stream": "stderr",
       "text": [
        "2014-03-08 11:55:17,396 : INFO : 1st phase: constructing (16051, 110) action matrix\n"
       ]
      },
      {
       "output_type": "stream",
       "stream": "stderr",
       "text": [
        "2014-03-08 11:55:17,557 : INFO : orthonormalizing (16051, 110) action matrix\n"
       ]
      },
      {
       "output_type": "stream",
       "stream": "stderr",
       "text": [
        "2014-03-08 11:55:19,247 : INFO : 2nd phase: running dense svd on (110, 20000) matrix\n"
       ]
      },
      {
       "output_type": "stream",
       "stream": "stderr",
       "text": [
        "2014-03-08 11:55:20,390 : INFO : computing the final decomposition\n"
       ]
      },
      {
       "output_type": "stream",
       "stream": "stderr",
       "text": [
        "2014-03-08 11:55:20,391 : INFO : keeping 10 factors (discarding 68.892% of energy spectrum)\n"
       ]
      },
      {
       "output_type": "stream",
       "stream": "stderr",
       "text": [
        "2014-03-08 11:55:20,409 : INFO : processed documents up to #20000\n"
       ]
      },
      {
       "output_type": "stream",
       "stream": "stderr",
       "text": [
        "2014-03-08 11:55:20,416 : INFO : topic #0(18.601): -1.000*\"http\" + -0.004*\"find\" + -0.003*\"pay\" + -0.002*\"rebate\" + -0.002*\"click\" + -0.002*\"status\" + -0.002*\"myspace\" + -0.001*\"check\" + -0.001*\"similar\" + -0.001*\"sign\"\n"
       ]
      },
      {
       "output_type": "stream",
       "stream": "stderr",
       "text": [
        "2014-03-08 11:55:20,419 : INFO : topic #1(12.084): -0.599*\"make\" + -0.507*\"buy\" + -0.390*\"i\" + -0.327*\"find\" + -0.125*\"money\" + -0.116*\"free\" + -0.110*\"online\" + -0.103*\"aol\" + -0.075*\"change\" + -0.068*\"home\"\n"
       ]
      },
      {
       "output_type": "stream",
       "stream": "stderr",
       "text": [
        "2014-03-08 11:55:20,421 : INFO : topic #2(11.713): -0.725*\"make\" + 0.604*\"buy\" + 0.191*\"i\" + 0.159*\"find\" + -0.117*\"money\" + 0.076*\"online\" + 0.055*\"sell\" + 0.044*\"pay\" + -0.039*\"free\" + -0.031*\"screen\"\n"
       ]
      },
      {
       "output_type": "stream",
       "stream": "stderr",
       "text": [
        "2014-03-08 11:55:20,423 : INFO : topic #3(11.369): -0.704*\"find\" + 0.531*\"buy\" + -0.323*\"i\" + 0.203*\"make\" + -0.106*\"aol\" + -0.084*\"address\" + -0.083*\"email\" + -0.075*\"change\" + 0.069*\"online\" + -0.066*\"people\"\n"
       ]
      },
      {
       "output_type": "stream",
       "stream": "stderr",
       "text": [
        "2014-03-08 11:55:20,426 : INFO : topic #4(10.403): -0.707*\"i\" + 0.550*\"find\" + -0.215*\"change\" + -0.208*\"aol\" + 0.173*\"buy\" + -0.109*\"cancel\" + -0.095*\"password\" + -0.091*\"account\" + 0.076*\"make\" + -0.056*\"screen\"\n"
       ]
      },
      {
       "output_type": "stream",
       "stream": "stderr",
       "text": [
        "2014-03-08 11:55:21,067 : INFO : preparing a new chunk of documents\n"
       ]
      },
      {
       "output_type": "stream",
       "stream": "stderr",
       "text": [
        "2014-03-08 11:55:21,383 : INFO : using 100 extra samples and 2 power iterations\n"
       ]
      },
      {
       "output_type": "stream",
       "stream": "stderr",
       "text": [
        "2014-03-08 11:55:21,385 : INFO : 1st phase: constructing (16051, 110) action matrix\n"
       ]
      },
      {
       "output_type": "stream",
       "stream": "stderr",
       "text": [
        "2014-03-08 11:55:21,580 : INFO : orthonormalizing (16051, 110) action matrix\n"
       ]
      },
      {
       "output_type": "stream",
       "stream": "stderr",
       "text": [
        "2014-03-08 11:55:23,254 : INFO : 2nd phase: running dense svd on (110, 20000) matrix\n"
       ]
      },
      {
       "output_type": "stream",
       "stream": "stderr",
       "text": [
        "2014-03-08 11:55:24,337 : INFO : computing the final decomposition\n"
       ]
      },
      {
       "output_type": "stream",
       "stream": "stderr",
       "text": [
        "2014-03-08 11:55:24,338 : INFO : keeping 10 factors (discarding 71.516% of energy spectrum)\n"
       ]
      },
      {
       "output_type": "stream",
       "stream": "stderr",
       "text": [
        "2014-03-08 11:55:24,355 : INFO : merging projections: (16051, 10) + (16051, 10)\n"
       ]
      },
      {
       "output_type": "stream",
       "stream": "stderr",
       "text": [
        "2014-03-08 11:55:24,368 : INFO : keeping 10 factors (discarding 12.210% of energy spectrum)\n"
       ]
      },
      {
       "output_type": "stream",
       "stream": "stderr",
       "text": [
        "2014-03-08 11:55:24,374 : INFO : processed documents up to #40000\n"
       ]
      },
      {
       "output_type": "stream",
       "stream": "stderr",
       "text": [
        "2014-03-08 11:55:24,377 : INFO : topic #0(18.601): 1.000*\"http\" + 0.012*\"find\" + 0.004*\"aol\" + 0.003*\"pay\" + 0.003*\"account\" + 0.003*\"i\" + 0.003*\"free\" + 0.003*\"make\" + 0.002*\"music\" + 0.002*\"rebate\"\n"
       ]
      },
      {
       "output_type": "stream",
       "stream": "stderr",
       "text": [
        "2014-03-08 11:55:24,379 : INFO : topic #1(17.103): 0.776*\"make\" + 0.354*\"find\" + 0.219*\"i\" + 0.203*\"money\" + 0.183*\"free\" + 0.178*\"buy\" + 0.165*\"listen\" + 0.136*\"music\" + 0.090*\"screen\" + 0.087*\"people\"\n"
       ]
      },
      {
       "output_type": "stream",
       "stream": "stderr",
       "text": [
        "2014-03-08 11:55:24,382 : INFO : topic #2(16.421): 0.591*\"find\" + -0.551*\"make\" + 0.303*\"listen\" + 0.245*\"buy\" + 0.238*\"i\" + 0.211*\"music\" + 0.171*\"free\" + 0.119*\"people\" + -0.114*\"money\" + 0.062*\"online\"\n"
       ]
      },
      {
       "output_type": "stream",
       "stream": "stderr",
       "text": [
        "2014-03-08 11:55:24,385 : INFO : topic #3(15.854): -0.718*\"listen\" + -0.514*\"music\" + 0.404*\"find\" + 0.129*\"buy\" + 0.116*\"i\" + 0.057*\"people\" + 0.045*\"aol\" + -0.045*\"songs\" + 0.039*\"address\" + -0.035*\"song\"\n"
       ]
      },
      {
       "output_type": "stream",
       "stream": "stderr",
       "text": [
        "2014-03-08 11:55:24,387 : INFO : topic #4(15.744): 0.882*\"buy\" + -0.382*\"find\" + 0.143*\"online\" + -0.099*\"free\" + 0.086*\"i\" + -0.075*\"people\" + 0.075*\"pay\" + 0.060*\"sell\" + 0.041*\"houses\" + 0.039*\"store\"\n"
       ]
      },
      {
       "output_type": "stream",
       "stream": "stderr",
       "text": [
        "2014-03-08 11:55:24,995 : INFO : preparing a new chunk of documents\n"
       ]
      },
      {
       "output_type": "stream",
       "stream": "stderr",
       "text": [
        "2014-03-08 11:55:25,339 : INFO : using 100 extra samples and 2 power iterations\n"
       ]
      },
      {
       "output_type": "stream",
       "stream": "stderr",
       "text": [
        "2014-03-08 11:55:25,340 : INFO : 1st phase: constructing (16051, 110) action matrix\n"
       ]
      },
      {
       "output_type": "stream",
       "stream": "stderr",
       "text": [
        "2014-03-08 11:55:25,534 : INFO : orthonormalizing (16051, 110) action matrix\n"
       ]
      },
      {
       "output_type": "stream",
       "stream": "stderr",
       "text": [
        "2014-03-08 11:55:27,228 : INFO : 2nd phase: running dense svd on (110, 20000) matrix\n"
       ]
      },
      {
       "output_type": "stream",
       "stream": "stderr",
       "text": [
        "2014-03-08 11:55:28,308 : INFO : computing the final decomposition\n"
       ]
      },
      {
       "output_type": "stream",
       "stream": "stderr",
       "text": [
        "2014-03-08 11:55:28,309 : INFO : keeping 10 factors (discarding 69.145% of energy spectrum)\n"
       ]
      },
      {
       "output_type": "stream",
       "stream": "stderr",
       "text": [
        "2014-03-08 11:55:28,326 : INFO : merging projections: (16051, 10) + (16051, 10)\n"
       ]
      },
      {
       "output_type": "stream",
       "stream": "stderr",
       "text": [
        "2014-03-08 11:55:28,339 : INFO : keeping 10 factors (discarding 10.864% of energy spectrum)\n"
       ]
      },
      {
       "output_type": "stream",
       "stream": "stderr",
       "text": [
        "2014-03-08 11:55:28,346 : INFO : processed documents up to #60000\n"
       ]
      },
      {
       "output_type": "stream",
       "stream": "stderr",
       "text": [
        "2014-03-08 11:55:28,348 : INFO : topic #0(23.101): 0.925*\"buy\" + 0.304*\"baby\" + 0.109*\"online\" + 0.103*\"i\" + 0.060*\"find\" + 0.055*\"make\" + 0.053*\"sell\" + 0.046*\"pay\" + 0.035*\"free\" + 0.029*\"cars\"\n"
       ]
      },
      {
       "output_type": "stream",
       "stream": "stderr",
       "text": [
        "2014-03-08 11:55:28,351 : INFO : topic #1(20.870): 0.852*\"make\" + 0.308*\"find\" + 0.227*\"money\" + 0.165*\"free\" + 0.143*\"i\" + -0.110*\"buy\" + 0.102*\"listen\" + 0.095*\"music\" + 0.067*\"screen\" + 0.062*\"people\"\n"
       ]
      },
      {
       "output_type": "stream",
       "stream": "stderr",
       "text": [
        "2014-03-08 11:55:28,354 : INFO : topic #2(19.980): 0.775*\"find\" + -0.419*\"make\" + 0.236*\"i\" + 0.198*\"free\" + 0.178*\"listen\" + 0.135*\"music\" + 0.125*\"people\" + 0.095*\"number\" + 0.093*\"phone\" + -0.084*\"money\"\n"
       ]
      },
      {
       "output_type": "stream",
       "stream": "stderr",
       "text": [
        "2014-03-08 11:55:28,357 : INFO : topic #3(18.607): 0.912*\"http\" + -0.306*\"listen\" + -0.227*\"music\" + 0.104*\"find\" + -0.091*\"free\" + 0.028*\"make\" + -0.018*\"songs\" + -0.017*\"song\" + -0.014*\"online\" + -0.012*\"learn\"\n"
       ]
      },
      {
       "output_type": "stream",
       "stream": "stderr",
       "text": [
        "2014-03-08 11:55:28,359 : INFO : topic #4(18.564): -0.666*\"listen\" + -0.496*\"music\" + -0.408*\"http\" + 0.298*\"find\" + -0.183*\"free\" + 0.052*\"i\" + 0.048*\"make\" + -0.038*\"songs\" + -0.037*\"song\" + 0.036*\"number\"\n"
       ]
      },
      {
       "output_type": "stream",
       "stream": "stderr",
       "text": [
        "2014-03-08 11:55:29,000 : INFO : preparing a new chunk of documents\n"
       ]
      },
      {
       "output_type": "stream",
       "stream": "stderr",
       "text": [
        "2014-03-08 11:55:29,335 : INFO : using 100 extra samples and 2 power iterations\n"
       ]
      },
      {
       "output_type": "stream",
       "stream": "stderr",
       "text": [
        "2014-03-08 11:55:29,336 : INFO : 1st phase: constructing (16051, 110) action matrix\n"
       ]
      },
      {
       "output_type": "stream",
       "stream": "stderr",
       "text": [
        "2014-03-08 11:55:29,532 : INFO : orthonormalizing (16051, 110) action matrix\n"
       ]
      },
      {
       "output_type": "stream",
       "stream": "stderr",
       "text": [
        "2014-03-08 11:55:31,199 : INFO : 2nd phase: running dense svd on (110, 20000) matrix\n"
       ]
      },
      {
       "output_type": "stream",
       "stream": "stderr",
       "text": [
        "2014-03-08 11:55:32,276 : INFO : computing the final decomposition\n"
       ]
      },
      {
       "output_type": "stream",
       "stream": "stderr",
       "text": [
        "2014-03-08 11:55:32,277 : INFO : keeping 10 factors (discarding 69.999% of energy spectrum)\n"
       ]
      },
      {
       "output_type": "stream",
       "stream": "stderr",
       "text": [
        "2014-03-08 11:55:32,294 : INFO : merging projections: (16051, 10) + (16051, 10)\n"
       ]
      },
      {
       "output_type": "stream",
       "stream": "stderr",
       "text": [
        "2014-03-08 11:55:32,307 : INFO : keeping 10 factors (discarding 9.914% of energy spectrum)\n"
       ]
      },
      {
       "output_type": "stream",
       "stream": "stderr",
       "text": [
        "2014-03-08 11:55:32,316 : INFO : processed documents up to #80000\n"
       ]
      },
      {
       "output_type": "stream",
       "stream": "stderr",
       "text": [
        "2014-03-08 11:55:32,320 : INFO : topic #0(26.080): 0.938*\"buy\" + 0.229*\"baby\" + 0.113*\"i\" + 0.113*\"online\" + 0.088*\"find\" + 0.069*\"make\" + 0.059*\"sell\" + 0.045*\"free\" + 0.044*\"pay\" + 0.044*\"cars\"\n"
       ]
      },
      {
       "output_type": "stream",
       "stream": "stderr",
       "text": [
        "2014-03-08 11:55:32,323 : INFO : topic #1(23.933): 0.811*\"make\" + 0.405*\"find\" + 0.191*\"money\" + 0.165*\"i\" + 0.159*\"free\" + -0.148*\"buy\" + 0.076*\"address\" + 0.075*\"listen\" + 0.074*\"people\" + 0.072*\"music\"\n"
       ]
      },
      {
       "output_type": "stream",
       "stream": "stderr",
       "text": [
        "2014-03-08 11:55:32,326 : INFO : topic #2(23.175): 0.763*\"find\" + -0.506*\"make\" + 0.218*\"i\" + 0.141*\"address\" + 0.138*\"free\" + 0.119*\"people\" + -0.089*\"money\" + 0.083*\"number\" + 0.081*\"email\" + 0.080*\"phone\"\n"
       ]
      },
      {
       "output_type": "stream",
       "stream": "stderr",
       "text": [
        "2014-03-08 11:55:32,330 : INFO : topic #3(20.581): 0.774*\"listen\" + 0.533*\"music\" + 0.213*\"free\" + -0.200*\"find\" + 0.080*\"online\" + -0.070*\"make\" + 0.051*\"song\" + 0.048*\"songs\" + -0.044*\"address\" + -0.033*\"buy\"\n"
       ]
      },
      {
       "output_type": "stream",
       "stream": "stderr",
       "text": [
        "2014-03-08 11:55:32,333 : INFO : topic #4(18.963): 0.732*\"i\" + 0.349*\"aol\" + 0.312*\"change\" + -0.260*\"find\" + 0.214*\"account\" + 0.157*\"password\" + 0.144*\"screen\" + 0.107*\"cancel\" + 0.090*\"create\" + -0.086*\"free\"\n"
       ]
      },
      {
       "output_type": "stream",
       "stream": "stderr",
       "text": [
        "2014-03-08 11:55:32,942 : INFO : preparing a new chunk of documents\n"
       ]
      },
      {
       "output_type": "stream",
       "stream": "stderr",
       "text": [
        "2014-03-08 11:55:33,235 : INFO : using 100 extra samples and 2 power iterations\n"
       ]
      },
      {
       "output_type": "stream",
       "stream": "stderr",
       "text": [
        "2014-03-08 11:55:33,237 : INFO : 1st phase: constructing (16051, 110) action matrix\n"
       ]
      },
      {
       "output_type": "stream",
       "stream": "stderr",
       "text": [
        "2014-03-08 11:55:33,415 : INFO : orthonormalizing (16051, 110) action matrix\n"
       ]
      },
      {
       "output_type": "stream",
       "stream": "stderr",
       "text": [
        "2014-03-08 11:55:35,080 : INFO : 2nd phase: running dense svd on (110, 18294) matrix\n"
       ]
      },
      {
       "output_type": "stream",
       "stream": "stderr",
       "text": [
        "2014-03-08 11:55:36,066 : INFO : computing the final decomposition\n"
       ]
      },
      {
       "output_type": "stream",
       "stream": "stderr",
       "text": [
        "2014-03-08 11:55:36,066 : INFO : keeping 10 factors (discarding 72.958% of energy spectrum)\n"
       ]
      },
      {
       "output_type": "stream",
       "stream": "stderr",
       "text": [
        "2014-03-08 11:55:36,083 : INFO : merging projections: (16051, 10) + (16051, 10)\n"
       ]
      },
      {
       "output_type": "stream",
       "stream": "stderr",
       "text": [
        "2014-03-08 11:55:36,097 : INFO : keeping 10 factors (discarding 7.080% of energy spectrum)\n"
       ]
      },
      {
       "output_type": "stream",
       "stream": "stderr",
       "text": [
        "2014-03-08 11:55:36,103 : INFO : processed documents up to #98294\n"
       ]
      },
      {
       "output_type": "stream",
       "stream": "stderr",
       "text": [
        "2014-03-08 11:55:36,106 : INFO : topic #0(28.101): 0.908*\"buy\" + 0.195*\"make\" + 0.192*\"baby\" + 0.144*\"find\" + 0.140*\"i\" + 0.128*\"online\" + 0.071*\"free\" + 0.059*\"money\" + 0.058*\"sell\" + 0.044*\"car\"\n"
       ]
      },
      {
       "output_type": "stream",
       "stream": "stderr",
       "text": [
        "2014-03-08 11:55:36,108 : INFO : topic #1(26.973): 0.887*\"make\" + -0.270*\"buy\" + 0.204*\"find\" + 0.200*\"money\" + 0.112*\"free\" + 0.083*\"i\" + 0.057*\"home\" + -0.053*\"baby\" + 0.050*\"website\" + 0.048*\"music\"\n"
       ]
      },
      {
       "output_type": "stream",
       "stream": "stderr",
       "text": [
        "2014-03-08 11:55:36,111 : INFO : topic #2(25.763): 0.836*\"find\" + -0.308*\"make\" + 0.240*\"i\" + 0.179*\"free\" + 0.149*\"address\" + -0.140*\"buy\" + 0.120*\"people\" + 0.103*\"phone\" + 0.090*\"email\" + 0.085*\"number\"\n"
       ]
      },
      {
       "output_type": "stream",
       "stream": "stderr",
       "text": [
        "2014-03-08 11:55:36,113 : INFO : topic #3(22.216): 0.798*\"listen\" + 0.493*\"music\" + 0.222*\"free\" + -0.188*\"find\" + 0.085*\"online\" + -0.069*\"make\" + 0.058*\"song\" + 0.048*\"songs\" + 0.045*\"i\" + -0.040*\"buy\"\n"
       ]
      },
      {
       "output_type": "stream",
       "stream": "stderr",
       "text": [
        "2014-03-08 11:55:36,116 : INFO : topic #4(20.831): 0.764*\"i\" + 0.327*\"aol\" + 0.270*\"change\" + -0.253*\"find\" + 0.219*\"account\" + 0.137*\"password\" + 0.136*\"screen\" + -0.103*\"free\" + 0.098*\"cancel\" + 0.072*\"create\"\n"
       ]
      }
     ],
     "prompt_number": 9
    },
    {
     "cell_type": "markdown",
     "metadata": {},
     "source": [
      "<b>Note:</b> Here we transformed our Tf-Idf corpus via <i>Latent Semantic Indexing</i> into a latent 2-D space (2-D because we set num_topics=2)."
     ]
    },
    {
     "cell_type": "code",
     "collapsed": false,
     "input": [
      "path = \"/media/University/UniversityDisc/2-Master/MasterThesis/EjecucionTesis/Desarrollo/PythonProjects/QueryAnalyzer/Models/\"\n",
      "lsi.save(path + 'model.lsi') # same for tfidf, lda, ...\n",
      "lsi = models.LsiModel.load(path + 'model.lsi')"
     ],
     "language": "python",
     "metadata": {},
     "outputs": [
      {
       "output_type": "stream",
       "stream": "stderr",
       "text": [
        "2014-03-08 11:55:52,275 : INFO : storing LsiModel object to /media/University/UniversityDisc/2-Master/MasterThesis/EjecucionTesis/Desarrollo/PythonProjects/QueryAnalyzer/Models/model.lsi and /media/University/UniversityDisc/2-Master/MasterThesis/EjecucionTesis/Desarrollo/PythonProjects/QueryAnalyzer/Models/model.lsi.npy\n"
       ]
      }
     ],
     "prompt_number": 10
    },
    {
     "cell_type": "code",
     "collapsed": false,
     "input": [],
     "language": "python",
     "metadata": {},
     "outputs": []
    }
   ],
   "metadata": {}
  }
 ]
}