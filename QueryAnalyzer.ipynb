{
 "metadata": {
  "name": "QueryAnalyzer"
 },
 "nbformat": 3,
 "nbformat_minor": 0,
 "worksheets": [
  {
   "cells": [
    {
     "cell_type": "heading",
     "level": 1,
     "metadata": {},
     "source": [
      "Explicit intentional query identifier (Prototype 1)"
     ]
    },
    {
     "cell_type": "markdown",
     "metadata": {},
     "source": [
      "An <i>explicit intentional query</i> is a query that can be related to a specific goal in a recognizable, unambiguous way. A search query is regarded to contain an <i>explicit user goal</i> (or short: explicit goal) whenever the query:\n",
      "<ol>\n",
      "    <li>Contains at least one verb and </li>\n",
      "    <li>Describes a plausible state of affairs that the user may want to achieve or avoid in 3) a recognizable way.</li>\n",
      "</ol>\n",
      "\n",
      "<b>Objective: </b> Identify whether a query has an explicit goal or not."
     ]
    },
    {
     "cell_type": "code",
     "collapsed": false,
     "input": [
      "import goalAnalyzer as ga\n",
      "path = \"/media/University/UniversityDisc/2-Master/MasterThesis/EjecucionTesis/Desarrollo/PythonProjects/QueryAnalyzer/Models/\"\n",
      "classifier_name = \"my_classifier_v3.pickle\"\n",
      "cl = ga.loadTrainedClassifier(path + classifier_name)\n",
      "query = \"how do I change my profile on aol\"\n",
      "prob_dist_max, tag = ga.testQuery(cl, query)\n",
      "ga.viewProbabilityDistribution(prob_dist_max, tag)\n",
      "\n",
      "\n",
      "import chunker as ch\n",
      "goal, subject, subject_2 = ch.extract(query)"
     ],
     "language": "python",
     "metadata": {},
     "outputs": [
      {
       "output_type": "stream",
       "stream": "stdout",
       "text": [
        "POS Tags:  S WRB VBP PRP VB PRP$ NN IN RB E\n",
        "TriGram:   S-WRB-VBP WRB-VBP-PRP VBP-PRP-VB PRP-VB-PRP VB-PRP-NN PRP-NN-IN NN-IN-RB IN-RB-E\n",
        "\n"
       ]
      },
      {
       "output_type": "stream",
       "stream": "stdout",
       "text": [
        "Max Probability Distribution: pos\n",
        "Pos: 0.999899619225\n",
        "Neg: 0.000100380774604\n",
        "\n",
        "\n",
        "This sentence is about: change, profile, aol"
       ]
      },
      {
       "output_type": "stream",
       "stream": "stdout",
       "text": [
        "\n"
       ]
      },
      {
       "output_type": "display_data",
       "png": "[encoded data removed]"
      }
     ],
     "prompt_number": 1
    },
    {
     "cell_type": "heading",
     "level": 1,
     "metadata": {},
     "source": [
      "<br />\n",
      "Goal Modelling (GoMo)"
     ]
    },
    {
     "cell_type": "markdown",
     "metadata": {},
     "source": [
      "A <i>goal model</i> is a type of statistical model for discovering the abstract \"goals\" that occur in a collection of queries. The algorithms in GoMo, such as <b>Latent Semantic Analysis (LSA)</b>, <b>Latent Dirichlet Allocation (LDA)</b> and <b>Hierarchical Dirichlet Process (HDP)</b>, discover semantic structure of queries, by examining word statistical co-occurrence patterns within a corpus of training documents. These algorithms are unsupervised, which means no human input is necessary \u2013 you only need a corpus of plain text documents."
     ]
    },
    {
     "cell_type": "markdown",
     "metadata": {},
     "source": [
      "<b>I. Create both the Corpus and the Dictionary</b>"
     ]
    },
    {
     "cell_type": "code",
     "collapsed": false,
     "input": [
      "import logging\n",
      "#logging.basicConfig(format='%(asctime)s : %(levelname)s : %(message)s, level=logging.INFO')\n",
      "logger = logging.getLogger()\n",
      "logger.disabled = False\n",
      "\n",
      "from gensim import corpora\n",
      "import generatecorpora as genco\n",
      "\n",
      "corpus = genco.MyCorpus()\n",
      "model_path = \"/media/University/UniversityDisc/2-Master/MasterThesis/EjecucionTesis/Desarrollo/PythonProjects/QueryAnalyzer/Models/\"\n",
      "corpus_name = \"corpus.mm\"\n",
      "corpora.MmCorpus.serialize(model_path + corpus_name, corpus)"
     ],
     "language": "python",
     "metadata": {},
     "outputs": [
      {
       "output_type": "stream",
       "stream": "stdout",
       "text": [
        "Generating dictionary, this takes some time, please wait...\n",
        "\tDictionary created on"
       ]
      },
      {
       "output_type": "stream",
       "stream": "stdout",
       "text": [
        " 24.4 seconds.\n",
        "\tDictionary(16275 unique tokens)\n"
       ]
      }
     ],
     "prompt_number": 36
    },
    {
     "cell_type": "code",
     "collapsed": false,
     "input": [
      "from gensim import corpora, models, similarities\n",
      "\n",
      "model_path = \"/media/University/UniversityDisc/2-Master/MasterThesis/EjecucionTesis/Desarrollo/PythonProjects/QueryAnalyzer/Models/\"\n",
      "dictionary_file = \"goal_dictionary.dict\"\n",
      "corpus_file = \"corpus.mm\"\n",
      "dictionary = corpora.Dictionary.load(model_path + dictionary_file)\n",
      "corpus = corpora.MmCorpus(model_path + corpus_file)\n",
      "\n",
      "print dictionary\n",
      "print corpus"
     ],
     "language": "python",
     "metadata": {},
     "outputs": [
      {
       "output_type": "stream",
       "stream": "stdout",
       "text": [
        "Dictionary(16275 unique tokens)\n",
        "MmCorpus(98294 documents, 16275 features, 316895 non-zero entries)\n"
       ]
      }
     ],
     "prompt_number": 2
    },
    {
     "cell_type": "markdown",
     "metadata": {},
     "source": [
      "<b>II. TfIdf transformation.</b> From now on, tfidf is treated as a read-only object that can be used to convert any vector from the old representation (bag-of-words integer counts) to the new representation (TfIdf real-valued weights):"
     ]
    },
    {
     "cell_type": "code",
     "collapsed": false,
     "input": [
      "tfidf = models.TfidfModel(corpus) # step 1 -- initialize a model\n",
      "corpus_tfidf = tfidf[corpus]"
     ],
     "language": "python",
     "metadata": {},
     "outputs": [],
     "prompt_number": 3
    },
    {
     "cell_type": "markdown",
     "metadata": {},
     "source": [
      "<b>Note:</b> Calling model[corpus] only creates a wrapper around the old corpus document stream \u2013 actual conversions are done on-the-fly, during document iteration. "
     ]
    },
    {
     "cell_type": "heading",
     "level": 2,
     "metadata": {},
     "source": [
      "<br />\n",
      "Latent Semantic Indexing (LSI)"
     ]
    },
    {
     "cell_type": "markdown",
     "metadata": {},
     "source": [
      "Transforms documents from either <i>bag-of-words</i> or (preferrably) <i>TfIdf-weighted</i> space into a latent space of a lower dimensionality. For the corpus bellow we used only 10 latent dimensions, but on real corpora, target dimensionality of 200\u2013500 is recommended as a \u201cgolden standard\u201d.\n",
      "<br />\n",
      "<br />"
     ]
    },
    {
     "cell_type": "code",
     "collapsed": false,
     "input": [
      "lsi = models.LsiModel(corpus_tfidf, id2word=dictionary, num_topics=50) # initialize an LSI transformation\n",
      "lsi.save(model_path + 'model.lsi') # same for tfidf, lda, ...\n",
      "#lsi = models.LsiModel.load(model_path + 'model.lsi')\n",
      "#corpus_lsi = lsi[corpus_tfidf] # create a double wrapper over the original corpus: bow->tfidf->fold-in-lsi\n",
      "import lsamodel as lsa\n",
      "num_topics = 20;\n",
      "num_words = 4;\n",
      "lsa.viewTopics(lsi, num_topics, num_words)"
     ],
     "language": "python",
     "metadata": {},
     "outputs": [
      {
       "output_type": "stream",
       "stream": "stdout",
       "text": [
        "TOPIC # 0 :  [(0.95823822940359971, 'buy'), (0.17551460463916099, 'make'), (0.11706828044197064, 'best'), (0.079942517612275332, 'find')]\n",
        "TOPIC # 1 :  [(0.90347631750099389, 'make'), (0.32788121530629871, 'own'), (-0.20500864916963371, 'buy'), (0.072786561473526135, 'do')]\n",
        "TOPIC # 2 :  [(0.96147573133939235, 'find'), (0.10205526192230438, 'number'), (-0.097283122705550049, 'make'), (0.093429640059314714, 'email')]\n",
        "TOPIC # 3 :  [(0.80640800579638194, 'get'), (0.51135430197152754, 'do'), (0.17138542816469177, 'listen'), (-0.12037135070538649, 'find')]\n",
        "TOPIC # 4 :  [(0.97824594723185943, 'listen'), (-0.15721497012703858, 'get'), (-0.079414755428150838, 'do'), (0.060081569621607274, 'song')]\n",
        "TOPIC # 5 :  [(0.75404442910213121, 'do'), (-0.54508464122276168, 'get'), (0.25542135906180036, 'change'), (0.15445808157145408, 'go')]\n",
        "TOPIC # 6 :  [(-0.82080337008393378, 'own'), (0.33966940703470139, 'make'), (-0.30782178281272898, 'create'), (-0.18022136582298645, 'build')]\n",
        "TOPIC # 7 :  [(0.98128823709975566, 'go'), (-0.14611113842981577, 'do'), (-0.072663455619621564, 'change'), (0.044854823938620142, 'own')]\n",
        "TOPIC # 8 :  [(-0.90736564368451356, 'change'), (0.27134399797320502, 'do'), (-0.26407683944595378, 'screen'), (-0.083122179615024869, 'email')]\n",
        "TOPIC # 9 :  [(0.98234610308167192, 'sell'), (0.089715116743334045, 'house'), (0.086784937742130405, 'car'), (-0.054054771819278126, 'buy')]\n",
        "TOPIC # 10 :  [(0.79793357979976054, 'play'), (0.46906155022400814, 'learn'), (0.22170157016078512, 'guitar'), (0.14833473615057507, 'fix')]\n",
        "TOPIC # 11 :  [(0.82884987788331366, 'fix'), (0.33478821855320751, 'computer'), (0.20127298547980807, 'from'), (-0.16548970364789273, 'play')]\n",
        "TOPIC # 12 :  [(0.84260206200311583, 'email'), (-0.25216438145362824, 'fix'), (0.21587259318844432, 'create'), (0.17167717344328734, 'add')]\n",
        "TOPIC # 13 :  [(0.82813942218663295, 'looking'), (0.25952270728215709, 'from'), (0.22630178312713786, 'love'), (0.16963992839279909, 'making')]\n",
        "TOPIC # 14 :  [(0.7170565236665587, 'from'), (-0.41840250236474441, 'looking'), (0.29032816418316482, 'making'), (-0.24329247229851669, 'fix')]\n",
        "TOPIC # 15 :  [(0.66151167841661895, 'create'), (-0.40137853308994637, 'build'), (0.36020594611061763, 'new'), (-0.30654261326102006, 'email')]\n",
        "TOPIC # 16 :  [(0.57430049281363194, 'finding'), (0.57171421748624163, 'making'), (-0.31624194613768669, 'from'), (0.26845971059387208, 'love')]\n",
        "TOPIC # 17 :  [(0.69340455218470143, 'finding'), (-0.63168790834026389, 'making'), (0.17376171228871293, 'nemo'), (0.094818732085666657, 'from')]\n",
        "TOPIC # 18 :  [(-0.65205212156997894, 'learn'), (0.44874452610425153, 'play'), (-0.33026147134661105, 'use'), (-0.302067107920513, 'draw')]\n",
        "TOPIC # 19 :  [(-0.87558422779751877, 'use'), (0.24605899032939035, 'learn'), (0.14798731092691889, 'draw'), (-0.14450175499880871, 'clean')]\n"
       ]
      }
     ],
     "prompt_number": 26
    },
    {
     "cell_type": "code",
     "collapsed": false,
     "input": [
      "#query = \"how do I change my profile on aol\"\n",
      "query = \"profile\"\n",
      "print \"QUERY: \", query\n",
      "goals_distribution = lsa.perQueryGoalProportions(query, dictionary, tfidf, lsi)\n",
      "lsa.viewPerQueryGoalProportions(goals_distribution)"
     ],
     "language": "python",
     "metadata": {},
     "outputs": [
      {
       "output_type": "stream",
       "stream": "stdout",
       "text": [
        "QUERY:  profile\n",
        "vec_bow: \t[(11458, 1)]\n",
        "vec_tfidf:\t[(11458, 1.0)]\n",
        "\n",
        "Per-query goal proportions (on 0.0 seconds):\n",
        "\t[(0, 0.0024368291977426913), (1, 0.0093456791054071509), (2, 0.003220445065757139), (3, 0.0074301951489492936), (4, -0.0013678915822048171), (5, 0.021141211069169618), (6, -0.011711884797179821), (7, -0.0022532789447306015), (8, -0.06495701385365206), (9, -0.0015264884319558714), (10, 0.0015068725676391462), (11, 0.0028803928083207049), (12, 0.01193508592379002), (13, -0.00047559210739003409), (14, -0.012546414864902695), (15, 0.095809874641885201), (16, 0.0053755920603132546), (17, -0.012675927540251248), (18, -0.0089362886557408285), (19, -0.0055863386228200904), (20, 0.03325638190585934), (21, -0.030089329911406709), (22, -0.048072278243618767), (23, 0.0089229422129138876), (24, 0.00053210161799873887), (25, -0.057841117942576792), (26, 0.09970809148964381), (27, -0.01187357747769056), (28, 0.029134006055580319), (29, 0.021267465115714337), (30, 0.01201653225554135), (31, -0.012866091438061108), (32, 0.0031290180035894316), (33, -0.048854986673344557), (34, 0.048420580299696266), (35, -0.8872066759560826), (36, -0.17451435459958684), (37, 0.07695278338815445), (38, 0.012232681530580949), (39, -0.016150560851260876), (40, 0.11066398104022608), (41, 0.088264276664685698), (42, -0.011988790375143651), (43, -0.036050709046721086), (44, 0.03764741775685812), (45, -0.012493717415559749), (46, -0.12237759987283181), (47, -0.0044156528140681921), (48, 0.021484428978469555), (49, -0.00086317928996681916)]\n",
        "\n",
        "\n"
       ]
      },
      {
       "output_type": "display_data",
       "png": "[encoded data removed]"
      },
      {
       "output_type": "stream",
       "stream": "stdout",
       "text": [
        "\n",
        "\n"
       ]
      }
     ],
     "prompt_number": 29
    },
    {
     "cell_type": "code",
     "collapsed": false,
     "input": [
      "lsi.show_topic(35)"
     ],
     "language": "python",
     "metadata": {},
     "outputs": [
      {
       "output_type": "pyout",
       "prompt_number": 30,
       "text": [
        "[(-0.8872066759560826, 'profile'),\n",
        " (-0.23421736399146864, 'edit'),\n",
        " (0.15912530466951888, 'getting'),\n",
        " (-0.15600894940317017, 'set'),\n",
        " (0.12185733820447375, 'create'),\n",
        " (0.11611809638480611, 'number'),\n",
        " (-0.10669660187439879, 'add'),\n",
        " (-0.083265447297000736, 'design'),\n",
        " (0.077783708064330812, 'website'),\n",
        " (-0.074705146823342838, 'business')]"
       ]
      }
     ],
     "prompt_number": 30
    },
    {
     "cell_type": "markdown",
     "metadata": {},
     "source": [
      "<b>Note:</b> Here we transformed our Tf-Idf corpus via <i>Latent Semantic Indexing</i> into a latent n-D space (n-D because we set num_topics=n)."
     ]
    },
    {
     "cell_type": "heading",
     "level": 2,
     "metadata": {},
     "source": [
      "<br />\n",
      "<br />\n",
      "Latent DIrichlet Allocation (LDA)"
     ]
    },
    {
     "cell_type": "markdown",
     "metadata": {},
     "source": [
      "LDA is yet another transformation from bag-of-words counts into a topic space of lower dimensionality. LDA is a probabilistic extension of LSA (also called multinomial PCA), so LDA\u2019s topics can be interpreted as probability distributions over words. These distributions are, just like with LSA, inferred automatically from a training corpus. Documents are in turn interpreted as a (soft) mixture of these topics (again, just like with LSA).\n",
      "<br />"
     ]
    },
    {
     "cell_type": "code",
     "collapsed": false,
     "input": [
      "lda = models.ldamodel.LdaModel(corpus, num_topics=100, id2word=dictionary, update_every=1, chunksize=1000)\n",
      "lda.save(model_path + 'model.lda') # same for tfidf, lsi, ...\n",
      "lda_charged = lda"
     ],
     "language": "python",
     "metadata": {},
     "outputs": [],
     "prompt_number": 18
    },
    {
     "cell_type": "code",
     "collapsed": false,
     "input": [
      "from gensim import models\n",
      "\n",
      "model_path = \"/media/University/UniversityDisc/2-Master/MasterThesis/EjecucionTesis/Desarrollo/PythonProjects/QueryAnalyzer/Models/\"\n",
      "lda_charged = models.LdaModel.load(model_path + 'model.lda')\n",
      "lda_goals = [lda_charged[c] for c in corpus]\n",
      "#print lda_goals[53]"
     ],
     "language": "python",
     "metadata": {},
     "outputs": [],
     "prompt_number": 15
    },
    {
     "cell_type": "code",
     "collapsed": false,
     "input": [
      "import matplotlib.pyplot as plt\n",
      "import numpy as np\n",
      "\n",
      "plt.hist([len(t) for t in lda_goals], np.arange(15))\n",
      "plt.ylabel('Nr of Queriees')\n",
      "plt.xlabel('Nr of Goals')\n",
      "plt.show()"
     ],
     "language": "python",
     "metadata": {},
     "outputs": [
      {
       "output_type": "display_data",
       "png": "[encoded data removed]"
      }
     ],
     "prompt_number": 16
    },
    {
     "cell_type": "code",
     "collapsed": false,
     "input": [
      "lda_2 = models.ldamodel.LdaModel(corpus, num_topics=100, id2word=dictionary, alpha=0.6)\n",
      "lda_2.save(model_path + 'model_2\".lda') # same for tfidf, lsi, ...\n",
      "#lda_2_charged = models.LdaModel.load(model_path + 'model_2.lda')"
     ],
     "language": "python",
     "metadata": {},
     "outputs": [],
     "prompt_number": 14
    },
    {
     "cell_type": "code",
     "collapsed": false,
     "input": [
      "lda_goals_2 = [lda_2[c] for c in corpus]\n",
      "plt.clf()\n",
      "plt.hist([[len(t) for t in lda_goals], [len(t) for t in lda_goals_2]], np.arange(60))\n",
      "plt.ylabel('Nr of documents')\n",
      "plt.xlabel('Nr of topics')\n",
      "plt.text(5, 30000, r'default alpha')\n",
      "plt.text(10, 7000, 'alpha=0.6')\n",
      "plt.show()"
     ],
     "language": "python",
     "metadata": {},
     "outputs": [
      {
       "output_type": "display_data",
       "png": "[encoded data removed]"
      }
     ],
     "prompt_number": 17
    },
    {
     "cell_type": "code",
     "collapsed": false,
     "input": [
      "import ldamodel as lda\n",
      "import numpy as np\n",
      "\n",
      "num_topics = 10;\n",
      "num_words = 4;\n",
      "lda.viewTopics(lda_charged, num_topics, num_words)"
     ],
     "language": "python",
     "metadata": {},
     "outputs": [
      {
       "output_type": "stream",
       "stream": "stdout",
       "text": [
        "TOPIC # 0 :  [(0.25948167331017175, 'getting'), (0.11870536032218094, 'pay'), (0.060529114299218208, 'psp'), (0.054087400151876297, 'silver')]\n",
        "TOPIC # 1 :  [(0.18140383465743684, 'check'), (0.071436498664694731, 'wood'), (0.058704604092672509, 'jobs'), (0.048429702477142747, 'floors')]\n",
        "TOPIC # 2 :  [(0.05062105060388359, 'run'), (0.046951116671690808, 'cum'), (0.042890347483353734, 'jello'), (0.033591549668426708, 'ink')]\n",
        "TOPIC # 3 :  [(0.19496824875358171, 'house'), (0.053720847737317591, 'bible'), (0.050019573833774852, 'hide'), (0.046815098097658436, 'tx')]\n",
        "TOPIC # 4 :  [(0.75753119925067247, 'find'), (0.023231369642554397, 'texas'), (0.011838327088822658, 'save'), (0.0098855027655906404, 'houston')]\n",
        "TOPIC # 5 :  [(0.078861387240866637, 'color'), (0.046882092360237694, 'bigger'), (0.042074596575763845, 'transfer'), (0.033226635274106478, 'oral')]\n",
        "TOPIC # 6 :  [(0.043086670746737013, 'county'), (0.024316619407723013, 'shower'), (0.022389191209659629, 'click'), (0.021623010694243754, 'buys')]\n",
        "TOPIC # 7 :  [(0.23913852891481316, 'are'), (0.097305360599721807, 'right'), (0.070578446834212077, 'houses'), (0.06345031237747617, 'size')]\n",
        "TOPIC # 8 :  [(0.16451890725175192, 'speak'), (0.071448141140854834, 'selling'), (0.05456609386450214, 'things'), (0.039909497901838419, 'feel')]\n",
        "TOPIC # 9 :  [(0.74797466034504789, 'do'), (0.0221108286135333, 'measure'), (0.015408788702812268, 'image'), (0.012669865008535367, 'magic')]\n"
       ]
      }
     ],
     "prompt_number": 18
    },
    {
     "cell_type": "code",
     "collapsed": false,
     "input": [
      "import ldamodel as lda\n",
      "import numpy as np\n",
      "\n",
      "num_topics = 10;\n",
      "num_words = 4;\n",
      "lda.viewTopics(lda_2_charged, num_topics, num_words)"
     ],
     "language": "python",
     "metadata": {},
     "outputs": [
      {
       "output_type": "stream",
       "stream": "stdout",
       "text": [
        "TOPIC # 0 :  [(0.050525714715980705, 'lower'), (0.040080168868339046, 'pregnancy'), (0.035527612099536067, 'step'), (0.031937598889255944, 'make')]\n",
        "TOPIC # 1 :  [(0.049567922906752167, 'little'), (0.041730778811769537, 'find'), (0.04127548713078158, 'train'), (0.040245486829090057, 'friends')]\n",
        "TOPIC # 2 :  [(0.067242706146658462, 'deal'), (0.044276821449411481, 'running'), (0.039284546477314781, 'program'), (0.030259112038493317, 'pa')]\n",
        "TOPIC # 3 :  [(0.035943496706448225, 'gift'), (0.01842468362403521, 'swallow'), (0.018271554417905511, 'drink'), (0.0171330450902757, 'cast')]\n",
        "TOPIC # 4 :  [(0.075912117389134684, 'around'), (0.051219620982514098, 'price'), (0.047730171832362875, 'print'), (0.033288927791141919, 'door')]\n",
        "TOPIC # 5 :  [(0.047139616761315214, 'dolls'), (0.042868939851872991, 'buy'), (0.030464026429435371, 'candy'), (0.029932302015752862, 'cure')]\n",
        "TOPIC # 6 :  [(0.037911306153965589, 'first'), (0.032066609964515796, 'buy'), (0.029822811077635087, 'selling'), (0.028573554985162137, 'boil')]\n",
        "TOPIC # 7 :  [(0.035780969106404645, 'much'), (0.031271578470933106, 'make'), (0.031221043738192542, 'buy'), (0.029460637980444189, 'find')]\n",
        "TOPIC # 8 :  [(0.042650700530230193, 'dirty'), (0.035423643335752819, 'power'), (0.032179251308660922, 'medical'), (0.023421210722399704, 'do')]\n",
        "TOPIC # 9 :  [(0.045805998848438174, 'extra'), (0.029443053568278532, 'do'), (0.027495093728384355, 'page'), (0.024855770962313336, 'oral')]\n"
       ]
      }
     ],
     "prompt_number": 19
    },
    {
     "cell_type": "code",
     "collapsed": false,
     "input": [
      "#query = \"how do I change my profile on aol\"\n",
      "query = subject\n",
      "print \"QUERY: \", query\n",
      "goals_distribution = lda.perQueryGoalProportions(query, dictionary, lda_charged)\n",
      "lda.viewPerQueryGoalProportions(goals_distribution)"
     ],
     "language": "python",
     "metadata": {},
     "outputs": [
      {
       "output_type": "stream",
       "stream": "stdout",
       "text": [
        "QUERY:  profile\n",
        "vec_bow: \t[(11458, 1)]\n",
        "\n",
        "Per-query goal proportions (on 0.0 seconds):\n",
        "\t[(53, 0.50499999999999989)]\n",
        "\n",
        "\n"
       ]
      },
      {
       "output_type": "display_data",
       "png": "[encoded data removed]"
      },
      {
       "output_type": "stream",
       "stream": "stdout",
       "text": [
        "\n",
        "\n"
       ]
      }
     ],
     "prompt_number": 24
    },
    {
     "cell_type": "code",
     "collapsed": false,
     "input": [
      "lda_charged.show_topic(53)"
     ],
     "language": "python",
     "metadata": {},
     "outputs": [
      {
       "output_type": "pyout",
       "prompt_number": 25,
       "text": [
        "[(0.11304543549845, 'time'),\n",
        " (0.063200463363356912, 'drive'),\n",
        " (0.060543957615502297, 'tree'),\n",
        " (0.059335975393620614, 'profile'),\n",
        " (0.046012232394906954, 'prepare'),\n",
        " (0.043382044195224831, 'taxes'),\n",
        " (0.040556900181458473, 'personal'),\n",
        " (0.038912092143353762, 'boss'),\n",
        " (0.031700383540541874, 'playing'),\n",
        " (0.027214278054154068, 'flu')]"
       ]
      }
     ],
     "prompt_number": 25
    },
    {
     "cell_type": "code",
     "collapsed": false,
     "input": [],
     "language": "python",
     "metadata": {},
     "outputs": [],
     "prompt_number": 1
    },
    {
     "cell_type": "code",
     "collapsed": false,
     "input": [],
     "language": "python",
     "metadata": {},
     "outputs": []
    }
   ],
   "metadata": {}
  }
 ]
}