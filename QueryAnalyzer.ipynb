{
 "metadata": {
  "name": "QueryAnalyzer"
 },
 "nbformat": 3,
 "nbformat_minor": 0,
 "worksheets": [
  {
   "cells": [
    {
     "cell_type": "heading",
     "level": 1,
     "metadata": {},
     "source": [
      "Explicit intentional query identifier"
     ]
    },
    {
     "cell_type": "markdown",
     "metadata": {},
     "source": [
      "An <i>explicit intentional query</i> is a query that can be related to a specific goal in a recognizable, unambiguous way. A search query is regarded to contain an <i>explicit user goal</i> (or short: explicit goal) whenever the query:\n",
      "<ol>\n",
      "    <li>Contains at least one verb and </li>\n",
      "    <li>Describes a plausible state of affairs that the user may want to achieve or avoid in 3) a recognizable way.</li>\n",
      "</ol>\n",
      "\n",
      "<b>Objective: </b> Identify whether a query has an explicit goal or not."
     ]
    },
    {
     "cell_type": "code",
     "collapsed": false,
     "input": [
      "import goalAnalyzer as ga\n",
      "cl = ga.loadTrainedClassifier(\"my_classifier_v3.pickle\")\n",
      "query = \"reading vocabulary lesson plans\"\n",
      "ga.testQuery(cl, query)"
     ],
     "language": "python",
     "metadata": {},
     "outputs": [
      {
       "output_type": "stream",
       "stream": "stdout",
       "text": [
        "POS Tags:  S NN NN NN NNS E\n",
        "TriGram:   S-NN-NN NN-NN-NN NN-NN-NNS NN-NNS-E\n",
        "Max Probability Distribution:"
       ]
      },
      {
       "output_type": "stream",
       "stream": "stdout",
       "text": [
        " neg\n",
        "Pos: 0.0238841557538\n",
        "Neg: 0.976115844246\n"
       ]
      }
     ],
     "prompt_number": 4
    }
   ],
   "metadata": {}
  }
 ]
}