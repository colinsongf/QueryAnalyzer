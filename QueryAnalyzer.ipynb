{
 "metadata": {
  "name": "QueryAnalyzer"
 },
 "nbformat": 3,
 "nbformat_minor": 0,
 "worksheets": [
  {
   "cells": [
    {
     "cell_type": "heading",
     "level": 1,
     "metadata": {},
     "source": [
      "Explicit intentional query identifier (Prototype 1)"
     ]
    },
    {
     "cell_type": "markdown",
     "metadata": {},
     "source": [
      "An <i>explicit intentional query</i> is a query that can be related to a specific goal in a recognizable, unambiguous way. A search query is regarded to contain an <i>explicit user goal</i> (or short: explicit goal) whenever the query:\n",
      "<ol>\n",
      "    <li>Contains at least one verb and </li>\n",
      "    <li>Describes a plausible state of affairs that the user may want to achieve or avoid in 3) a recognizable way.</li>\n",
      "</ol>\n",
      "\n",
      "<b>Objective: </b> Identify whether a query has an explicit goal or not."
     ]
    },
    {
     "cell_type": "code",
     "collapsed": false,
     "input": [
      "import goalAnalyzer as ga\n",
      "path = \"/media/University/UniversityDisc/2-Master/MasterThesis/EjecucionTesis/Desarrollo/PythonProjects/QueryAnalyzer/Models/\"\n",
      "classifier_name = \"my_classifier_v3.pickle\"\n",
      "cl = ga.loadTrainedClassifier(path + classifier_name)\n",
      "query = \"the sky is blue\"\n",
      "prob_dist_max, tag = ga.testQuery(cl, query)\n",
      "ga.viewProbabilityDistribution(prob_dist_max, tag)"
     ],
     "language": "python",
     "metadata": {},
     "outputs": [
      {
       "output_type": "stream",
       "stream": "stdout",
       "text": [
        " POS Tags:  S DT NN VBZ JJ E\n",
        "TriGram:   S-DT-NN DT-NN-VBZ NN-VBZ-JJ VBZ-JJ-E\n",
        "\n"
       ]
      },
      {
       "output_type": "stream",
       "stream": "stdout",
       "text": [
        "Max Probability Distribution: neg\n",
        "Pos: 0.0662713343292\n",
        "Neg: 0.933728665671\n",
        "\n",
        "\n"
       ]
      },
      {
       "output_type": "display_data",
       "png": "[encoded data removed]"
      }
     ],
     "prompt_number": 8
    },
    {
     "cell_type": "heading",
     "level": 1,
     "metadata": {},
     "source": [
      "<br />\n",
      "Goal Modelling (GoMo)"
     ]
    },
    {
     "cell_type": "markdown",
     "metadata": {},
     "source": [
      "A <i>goal model</i> is a type of statistical model for discovering the abstract \"goals\" that occur in a collection of queries. The algorithms in GoMo, such as <b>Latent Semantic Analysis (LSA)</b>, <b>Latent Dirichlet Allocation (LDA)</b> and <b>Hierarchical Dirichlet Process (HDP)</b>, discover semantic structure of queries, by examining word statistical co-occurrence patterns within a corpus of training documents. These algorithms are unsupervised, which means no human input is necessary \u2013 you only need a corpus of plain text documents."
     ]
    },
    {
     "cell_type": "markdown",
     "metadata": {},
     "source": [
      "<b>I. Create both the Corpus and the Dictionary</b>"
     ]
    },
    {
     "cell_type": "code",
     "collapsed": false,
     "input": [
      "import logging\n",
      "#logging.basicConfig(format='%(asctime)s : %(levelname)s : %(message)s, level=logging.INFO')\n",
      "logger = logging.getLogger()\n",
      "logger.disabled = False\n",
      "\n",
      "from gensim import corpora\n",
      "import generatecorpora as genco\n",
      "\n",
      "corpus = genco.MyCorpus()\n",
      "model_path = \"/media/University/UniversityDisc/2-Master/MasterThesis/EjecucionTesis/Desarrollo/PythonProjects/QueryAnalyzer/Models/\"\n",
      "corpus_name = \"corpus.mm\"\n",
      "corpora.MmCorpus.serialize(model_path + corpus_name, corpus)"
     ],
     "language": "python",
     "metadata": {},
     "outputs": [
      {
       "output_type": "stream",
       "stream": "stdout",
       "text": [
        "Generating dictionary, this takes some time, please wait...\n",
        "\tDictionary created on"
       ]
      },
      {
       "output_type": "stream",
       "stream": "stdout",
       "text": [
        " 23.97 seconds.\n",
        "\tDictionary(16279 unique tokens)\n"
       ]
      }
     ],
     "prompt_number": 3
    },
    {
     "cell_type": "code",
     "collapsed": false,
     "input": [
      "from gensim import corpora, models, similarities\n",
      "\n",
      "model_path = \"/media/University/UniversityDisc/2-Master/MasterThesis/EjecucionTesis/Desarrollo/PythonProjects/QueryAnalyzer/Models/\"\n",
      "dictionary_file = \"goal_dictionary.dict\"\n",
      "corpus_file = \"corpus.mm\"\n",
      "dictionary = corpora.Dictionary.load(model_path + dictionary_file)\n",
      "corpus = corpora.MmCorpus(model_path + corpus_file)\n",
      "\n",
      "print dictionary\n",
      "print corpus"
     ],
     "language": "python",
     "metadata": {},
     "outputs": [
      {
       "output_type": "stream",
       "stream": "stdout",
       "text": [
        "Dictionary(16279 unique tokens)\n",
        "MmCorpus(98294 documents, 16279 features, 317844 non-zero entries)\n"
       ]
      }
     ],
     "prompt_number": 4
    },
    {
     "cell_type": "markdown",
     "metadata": {},
     "source": [
      "<b>II. TfIdf transformation.</b> From now on, tfidf is treated as a read-only object that can be used to convert any vector from the old representation (bag-of-words integer counts) to the new representation (TfIdf real-valued weights):"
     ]
    },
    {
     "cell_type": "code",
     "collapsed": false,
     "input": [
      "tfidf = models.TfidfModel(corpus) # step 1 -- initialize a model\n",
      "corpus_tfidf = tfidf[corpus]"
     ],
     "language": "python",
     "metadata": {},
     "outputs": [],
     "prompt_number": 5
    },
    {
     "cell_type": "markdown",
     "metadata": {},
     "source": [
      "<b>Note:</b> Calling model[corpus] only creates a wrapper around the old corpus document stream \u2013 actual conversions are done on-the-fly, during document iteration. "
     ]
    },
    {
     "cell_type": "heading",
     "level": 2,
     "metadata": {},
     "source": [
      "<br />\n",
      "Latent Semantic Indexing (LSI)"
     ]
    },
    {
     "cell_type": "markdown",
     "metadata": {},
     "source": [
      "Transforms documents from either <i>bag-of-words</i> or (preferrably) <i>TfIdf-weighted</i> space into a latent space of a lower dimensionality. For the corpus bellow we used only 10 latent dimensions, but on real corpora, target dimensionality of 200\u2013500 is recommended as a \u201cgolden standard\u201d.\n",
      "<br />\n",
      "<br />"
     ]
    },
    {
     "cell_type": "code",
     "collapsed": false,
     "input": [
      "#lsi = models.LsiModel(corpus_tfidf, id2word=dictionary, num_topics=10) # initialize an LSI transformation\n",
      "#lsi.save(model_path + 'model.lsi') # same for tfidf, lda, ...\n",
      "lsi = models.LsiModel.load(model_path + 'model.lsi')\n",
      "#corpus_lsi = lsi[corpus_tfidf] # create a double wrapper over the original corpus: bow->tfidf->fold-in-lsi\n",
      "import lsamodel as lsa\n",
      "num_topics = 10;\n",
      "num_words = 4;\n",
      "lsa.viewTopics(lsi, num_topics, num_words)"
     ],
     "language": "python",
     "metadata": {},
     "outputs": [
      {
       "output_type": "stream",
       "stream": "stdout",
       "text": [
        "TOPIC # 0 :  [(0.95741109881827946, 'buy'), (0.17314931463162636, 'make'), (0.12911563938325202, 'best'), (0.074323556685871622, 'find')]\n",
        "TOPIC # 1 :  [(0.90448465994139837, 'make'), (0.32868532803839329, 'own'), (-0.2017093486877865, 'buy'), (0.069963141423025343, 'do')]\n",
        "TOPIC # 2 :  [(0.95891799669614675, 'find'), (0.12364316026531863, 'number'), (0.099144270348265534, 'email'), (0.097401731919172382, 'do')]\n",
        "TOPIC # 3 :  [(0.9552457062412808, 'listen'), (0.17914574574605288, 'get'), (0.17430300249339381, 'do'), (0.058234792925285675, 'songs')]\n",
        "TOPIC # 4 :  [(0.68274799892429117, 'get'), (0.6241963767437646, 'do'), (-0.26880105328393761, 'listen'), (-0.11602202695773381, 'find')]\n",
        "TOPIC # 5 :  [(0.67608897315695193, 'get'), (-0.65781162168440843, 'do'), (-0.21636139129929718, 'change'), (-0.15129346747878955, 'go')]\n",
        "TOPIC # 6 :  [(-0.98596133442020772, 'go'), (0.14088559861392963, 'do'), (-0.057569533057850938, 'get'), (0.054715843083828826, 'change')]\n",
        "TOPIC # 7 :  [(0.81476181768368405, 'own'), (-0.3411480290796941, 'make'), (0.31562925149537707, 'create'), (0.1677456784834396, 'build')]\n",
        "TOPIC # 8 :  [(0.90656494027454892, 'change'), (0.27376009711079674, 'screen'), (-0.23500037270070831, 'do'), (0.093313297489062377, 'email')]\n",
        "TOPIC # 9 :  [(-0.99357953677890409, 'sell'), (0.072955132336353187, 'own'), (0.047375326296287747, 'buy'), (-0.027965120080129514, 'car')]\n"
       ]
      }
     ],
     "prompt_number": 6
    },
    {
     "cell_type": "code",
     "collapsed": false,
     "input": [
      "#query = \"how do I change my profile on aol\"\n",
      "#query = \"car\"\n",
      "print \"QUERY: \", query\n",
      "goals_distribution = lsa.perQueryGoalProportions(query, dictionary, tfidf, lsi)\n",
      "lsa.viewPerQueryGoalProportions(goals_distribution)"
     ],
     "language": "python",
     "metadata": {},
     "outputs": [
      {
       "output_type": "stream",
       "stream": "stdout",
       "text": [
        "QUERY:  the sky is blue\n",
        "vec_bow: \t[(8812, 1), (12320, 1), (15945, 1)]\n",
        "vec_tfidf:\t[(8812, 0.3903841395517833), (12320, 0.5807676168519342), (15945, 0.7143592925150053)]\n",
        "\n",
        "Per-query goal proportions (on 0.0 seconds):\n",
        "\t[(0, 0.0052883981494131942), (1, 0.0017887979033141274), (2, 0.0095687392180466135), (3, 0.0057268707315062317), (4, 0.0093720383658063827), (5, -0.0094730735501886813), (6, 0.002200603951591528), (7, -0.00045698808951735476), (8, -0.0055002166481881902), (9, 0.00054185320791074864)]\n",
        "\n",
        "\n"
       ]
      },
      {
       "output_type": "display_data",
       "png": "[encoded data removed]"
      },
      {
       "output_type": "stream",
       "stream": "stdout",
       "text": [
        "\n",
        "\n"
       ]
      }
     ],
     "prompt_number": 9
    },
    {
     "cell_type": "markdown",
     "metadata": {},
     "source": [
      "<b>Note:</b> Here we transformed our Tf-Idf corpus via <i>Latent Semantic Indexing</i> into a latent n-D space (n-D because we set num_topics=n)."
     ]
    },
    {
     "cell_type": "heading",
     "level": 2,
     "metadata": {},
     "source": [
      "<br />\n",
      "<br />\n",
      "Latent DIrichlet Allocation (LDA)"
     ]
    },
    {
     "cell_type": "markdown",
     "metadata": {},
     "source": [
      "LDA is yet another transformation from bag-of-words counts into a topic space of lower dimensionality. LDA is a probabilistic extension of LSA (also called multinomial PCA), so LDA\u2019s topics can be interpreted as probability distributions over words. These distributions are, just like with LSA, inferred automatically from a training corpus. Documents are in turn interpreted as a (soft) mixture of these topics (again, just like with LSA).\n",
      "<br />"
     ]
    },
    {
     "cell_type": "code",
     "collapsed": false,
     "input": [
      "lda = models.ldamodel.LdaModel(corpus, num_topics=100, id2word=dictionary)\n",
      "lda.save(model_path + 'model.lda') # same for tfidf, lsi, ...\n",
      "lda_charged = lda"
     ],
     "language": "python",
     "metadata": {},
     "outputs": [],
     "prompt_number": 9
    },
    {
     "cell_type": "code",
     "collapsed": false,
     "input": [
      "from gensim import models\n",
      "\n",
      "lda_charged = models.LdaModel.load(model_path + 'model.lda')\n",
      "lda_goals = [lda_charged[c] for c in corpus]\n",
      "print lda_goals[53]"
     ],
     "language": "python",
     "metadata": {},
     "outputs": [
      {
       "output_type": "stream",
       "stream": "stdout",
       "text": [
        "[(2, 0.14428571428571438), (75, 0.71571428571428619)]\n"
       ]
      }
     ],
     "prompt_number": 10
    },
    {
     "cell_type": "code",
     "collapsed": false,
     "input": [
      "import matplotlib.pyplot as plt\n",
      "import numpy as np\n",
      "\n",
      "plt.hist([len(t) for t in lda_goals], np.arange(15))\n",
      "plt.ylabel('Nr of Queriees')\n",
      "plt.xlabel('Nr of Goals')\n",
      "plt.show()"
     ],
     "language": "python",
     "metadata": {},
     "outputs": [
      {
       "output_type": "display_data",
       "png": "[encoded data removed]"
      }
     ],
     "prompt_number": 11
    },
    {
     "cell_type": "code",
     "collapsed": false,
     "input": [
      "#lda_2 = models.ldamodel.LdaModel(corpus, num_topics=100, id2word=dictionary, alpha=1.)\n",
      "#lda_2.save(model_path + 'model_2\".lda') # same for tfidf, lsi, ...\n",
      "lda_2_charged = models.LdaModel.load(model_path + 'model_2.lda')\n",
      "lda_goals_2 = [lda_2[c] for c in corpus]\n",
      "plt.clf()\n",
      "plt.hist([[len(t) for t in lda_goals], [len(t) for t in lda_goals_2]], np.arange(60))\n",
      "plt.ylabel('Nr of documents')\n",
      "plt.xlabel('Nr of topics')\n",
      "plt.text(5, 30000, r'default alpha')\n",
      "plt.text(10, 7000, 'alpha=1.0')\n",
      "plt.show()"
     ],
     "language": "python",
     "metadata": {},
     "outputs": [
      {
       "output_type": "display_data",
       "png": "[encoded data removed]"
      }
     ],
     "prompt_number": 19
    },
    {
     "cell_type": "code",
     "collapsed": false,
     "input": [
      "import ldamodel as lda\n",
      "num_topics = 10;\n",
      "num_words = 4;\n",
      "lda.viewTopics(lda_charged, num_topics, num_words)"
     ],
     "language": "python",
     "metadata": {},
     "outputs": [
      {
       "output_type": "stream",
       "stream": "stdout",
       "text": [
        "TOPIC # 0 :  [(0.45264851042954091, 'making'), (0.045733470145447548, 'movies'), (0.034756879473483965, 'stay'), (0.028850738467081364, 'icon')]\n",
        "TOPIC # 1 :  [(0.086597348715295355, 'good'), (0.067744452874657135, 'mortgage'), (0.056736280322946656, 'orgasm'), (0.053796171774608437, 'picture')]\n",
        "TOPIC # 2 :  [(0.18506832891185407, 'install'), (0.062725498553173012, 'women'), (0.059884857357115864, 'speed'), (0.053103747974189895, 'black')]\n",
        "TOPIC # 3 :  [(0.24823038197284225, 'have'), (0.089100421274518102, 'living'), (0.057329658572193007, 'contact'), (0.048237007991540536, 'baseball')]\n",
        "TOPIC # 4 :  [(0.26818749789041352, 'buying'), (0.064896893381575019, 'jersey'), (0.050349797224317802, 'radio'), (0.050004376808290778, 'selling')]\n",
        "TOPIC # 5 :  [(0.31193207663907413, 'sell'), (0.14062133259786183, 'put'), (0.063393181765148229, 'houses'), (0.046483449904749154, 'cash')]\n",
        "TOPIC # 6 :  [(0.16127746104849086, 'calculate'), (0.049921454349290628, 'stained'), (0.035174329363999508, 'finds'), (0.033335314145516222, 'tomatoes')]\n",
        "TOPIC # 7 :  [(0.10586891005758517, 'time'), (0.10327968480735912, 'homes'), (0.070604623786090462, 'sales'), (0.068785163334612001, 'book')]\n",
        "TOPIC # 8 :  [(0.17675894915854368, 'email'), (0.11934335255027373, 'love'), (0.082898094983881482, 'find'), (0.082469531411863126, 'cook')]\n",
        "TOPIC # 9 :  [(0.27057351199776597, 'clean'), (0.093403802196676988, 'become'), (0.073482927627433914, 'kids'), (0.047127644511823441, 'income')]\n"
       ]
      }
     ],
     "prompt_number": 12
    },
    {
     "cell_type": "code",
     "collapsed": false,
     "input": [
      "#query = \"how do I change my profile on aol\"\n",
      "#query = \"car\"\n",
      "print \"QUERY: \", query\n",
      "#goals_distribution = lda.perQueryGoalProportions(query, dictionary, lda_charged)\n",
      "#lda.viewPerQueryGoalProportions(goals_distribution)\n",
      "import re\n",
      "import nltk\n",
      "\n",
      "def stop_words_set():\n",
      "    stopwords = set(nltk.corpus.stopwords.words('english'))\n",
      "    stopwords.remove(\"do\")\n",
      "    stopwords.remove('from')\n",
      "    stopwords.remove('being')\n",
      "    stopwords.remove('had')\n",
      "    stopwords.remove('having')\n",
      "    stopwords.remove('have')\n",
      "    stopwords.remove('is')\n",
      "    stopwords.remove('can')\n",
      "    stopwords.remove('own')\n",
      "    stopwords.remove('be')\n",
      "    stopwords.remove('are')\n",
      "    stopwords.remove('doing')\n",
      "    stopwords.update(['aol', 'up', 'free', 'writes', 'money', 'baby', 'address', 'rid', 'music', 'space', 'name', 'pimp', 'account', 'http', 'assist', 'home', 'online', 'https', 'porn', 'sex', 'phone', 'myspace', 'password', 'people'])\n",
      "    return stopwords\n",
      "\n",
      "temp = query.lower()\n",
      "punctuation_string = ['.',',',';','?','!','\"']\n",
      "for i in range(len(punctuation_string)):\n",
      "     temp = temp.replace(punctuation_string[i], '')\n",
      "\n",
      "words = re.findall(r'\\w+', temp, flags = re.UNICODE | re.LOCALE)\n",
      "\n",
      "important_words = []\n",
      "important_words = filter(lambda x: x not in stop_words_set(), words)\n",
      "\n",
      "    #dictionary = corpora.Dictionary.load('questions.dict')\n",
      "\n",
      "ques_vec = []\n",
      "ques_vec = dictionary.doc2bow(important_words)\n",
      "\n",
      "topic_vec = []\n",
      "topic_vec = lda[ques_vec]\n",
      "\n",
      "word_count_array = numpy.empty((len(topic_vec), 2), dtype = numpy.object)\n",
      "for i in range(len(topic_vec)):\n",
      "    word_count_array[i, 0] = topic_vec[i][0]\n",
      "    word_count_array[i, 1] = topic_vec[i][1]\n",
      "\n",
      "idx = numpy.argsort(word_count_array[:, 1])\n",
      "idx = idx[::-1]\n",
      "word_count_array = word_count_array[idx]\n",
      "\n",
      "final = []\n",
      "final = lda_charged.print_topic(word_count_array[0, 0], 1)\n",
      "\n",
      "question_topic = final.split('*') ## as format is like \"probability * topic\"\n",
      "\n",
      "print question_topic[1]\n"
     ],
     "language": "python",
     "metadata": {},
     "outputs": [
      {
       "ename": "TypeError",
       "evalue": "'module' object has no attribute '__getitem__'",
       "output_type": "pyerr",
       "traceback": [
        "\u001b[0;31m---------------------------------------------------------------------------\u001b[0m\n\u001b[0;31mTypeError\u001b[0m                                 Traceback (most recent call last)",
        "\u001b[0;32m<ipython-input-24-5f7a2c87c4e4>\u001b[0m in \u001b[0;36m<module>\u001b[0;34m()\u001b[0m\n\u001b[1;32m     40\u001b[0m \u001b[0;34m\u001b[0m\u001b[0m\n\u001b[1;32m     41\u001b[0m \u001b[0mtopic_vec\u001b[0m \u001b[0;34m=\u001b[0m \u001b[0;34m[\u001b[0m\u001b[0;34m]\u001b[0m\u001b[0;34m\u001b[0m\u001b[0m\n\u001b[0;32m---> 42\u001b[0;31m \u001b[0mtopic_vec\u001b[0m \u001b[0;34m=\u001b[0m \u001b[0mlda\u001b[0m\u001b[0;34m[\u001b[0m\u001b[0mques_vec\u001b[0m\u001b[0;34m]\u001b[0m\u001b[0;34m\u001b[0m\u001b[0m\n\u001b[0m\u001b[1;32m     43\u001b[0m \u001b[0;34m\u001b[0m\u001b[0m\n\u001b[1;32m     44\u001b[0m \u001b[0mword_count_array\u001b[0m \u001b[0;34m=\u001b[0m \u001b[0mnumpy\u001b[0m\u001b[0;34m.\u001b[0m\u001b[0mempty\u001b[0m\u001b[0;34m(\u001b[0m\u001b[0;34m(\u001b[0m\u001b[0mlen\u001b[0m\u001b[0;34m(\u001b[0m\u001b[0mtopic_vec\u001b[0m\u001b[0;34m)\u001b[0m\u001b[0;34m,\u001b[0m \u001b[0;36m2\u001b[0m\u001b[0;34m)\u001b[0m\u001b[0;34m,\u001b[0m \u001b[0mdtype\u001b[0m \u001b[0;34m=\u001b[0m \u001b[0mnumpy\u001b[0m\u001b[0;34m.\u001b[0m\u001b[0mobject\u001b[0m\u001b[0;34m)\u001b[0m\u001b[0;34m\u001b[0m\u001b[0m\n",
        "\u001b[0;31mTypeError\u001b[0m: 'module' object has no attribute '__getitem__'"
       ]
      },
      {
       "output_type": "stream",
       "stream": "stdout",
       "text": [
        "QUERY:  the sky is blue\n"
       ]
      }
     ],
     "prompt_number": 24
    },
    {
     "cell_type": "code",
     "collapsed": false,
     "input": [
      "lda_charged.show_topic(32)"
     ],
     "language": "python",
     "metadata": {},
     "outputs": [
      {
       "output_type": "pyout",
       "prompt_number": 16,
       "text": [
        "[(0.27354623893270497, 'is'),\n",
        " (0.15925693507773878, 'know'),\n",
        " (0.097284527025227108, 'water'),\n",
        " (0.04210803294510955, 'ipod'),\n",
        " (0.032077608728188385, 'land'),\n",
        " (0.025763500994052262, 'im'),\n",
        " (0.0241633307143823, 'ask'),\n",
        " (0.018290514104802636, 'ideas'),\n",
        " (0.016140544901065583, 'com'),\n",
        " (0.014744271289756597, 'density')]"
       ]
      }
     ],
     "prompt_number": 16
    },
    {
     "cell_type": "code",
     "collapsed": false,
     "input": [],
     "language": "python",
     "metadata": {},
     "outputs": []
    }
   ],
   "metadata": {}
  }
 ]
}