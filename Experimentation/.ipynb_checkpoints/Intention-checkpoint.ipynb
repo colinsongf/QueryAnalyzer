{
 "metadata": {
  "name": "",
  "signature": "sha256:021996177581ec958e9f0bdd315e3f0172635ceff017d43544019a7160af9410"
 },
 "nbformat": 3,
 "nbformat_minor": 0,
 "worksheets": [
  {
   "cells": [
    {
     "cell_type": "code",
     "collapsed": false,
     "input": [
      "path = \"/media/University/UniversityDisc/2-Master/MasterThesis/EjecucionTesis/Desarrollo/PythonProjects/QueryAnalyzer/UserQuery\"\n",
      "path_1 = \"/media/University/UniversityDisc/2-Master/MasterThesis/EjecucionTesis/Desarrollo/PythonProjects/QueryAnalyzer/DataProcessing\"\n",
      "\n",
      "import sys\n",
      "sys.path.insert(0, path)\n",
      "sys.path.insert(0, path_1)\n",
      "\n",
      "import building_train_data as btd\n",
      "\n",
      "#Feature extractor function builds a dictionary containing relevant information about a given query\n",
      "#trigram = btd.triGram(query)\n",
      "#print trigram"
     ],
     "language": "python",
     "metadata": {},
     "outputs": [],
     "prompt_number": 17
    },
    {
     "cell_type": "code",
     "collapsed": false,
     "input": [
      "import intent_classifier as iclass\n",
      "import nltk\n",
      "data = iclass.getIntentDataset()\n",
      "#cl = nltk.NaiveBayesClassifier.train(data)\n",
      "cl = iclass.performCrossValidation(data, 10)"
     ],
     "language": "python",
     "metadata": {},
     "outputs": [
      {
       "output_type": "stream",
       "stream": "stdout",
       "text": [
        "[({'feature': 'company'}, 'navigational'), ({'feature': 'business'}, 'navigational'), ({'feature': 'organization'}, 'navigational'), ({'feature': 'arrangement'}, 'navigational'), ({'feature': 'administration'}, 'navigational'), ({'feature': 'that'}, 'informational'), ({'feature': 'this'}, 'informational'), ({'feature': 'university'}, 'informational'), ({'feature': 'country'}, 'informational'), ({'feature': 'resources'}, 'informational'), ({'feature': 'mansions'}, 'ambiguous'), ({'feature': 'stationery embellishments'}, 'navigational'), ({'feature': 'radio veracrz'}, 'navigational'), ({'feature': 'car trailer makers in michigan'}, 'informational'), ({'feature': 'restarant'}, 'ambiguous'), ({'feature': 'classy hairstyles'}, 'navigational'), ({'feature': 'sacramento bee'}, 'navigational'), ({'feature': 'paris food'}, 'navigational'), ({'feature': 'dictionary'}, 'ambiguous'), ({'feature': 'list of state names'}, 'informational'), ({'feature': \"kirsten dnst's hairstyles\"}, 'informational'), ({'feature': 'home remedies for hair growth'}, 'informational'), ({'feature': 'careerbilders.com'}, 'navigational'), ({'feature': 'myspace layots'}, 'navigational'), ({'feature': 'names'}, 'ambiguous'), ({'feature': 'constitution'}, 'navigational'), ({'feature': 'http'}, 'navigational'), ({'feature': 'https'}, 'navigational'), ({'feature': 'university'}, 'navigational'), ({'feature': 'movies'}, 'transactional'), ({'feature': 'song'}, 'transactional'), ({'feature': 'lyrics'}, 'transactional'), ({'feature': 'images'}, 'transactional'), ({'feature': 'humor'}, 'transactional'), ({'feature': 'magnssen'}, 'ambiguous'), ({'feature': 'resort vacations to go'}, 'informational'), ({'feature': 'waterbry hospital'}, 'navigational'), ({'feature': 'free sond waves'}, 'transactional'), ({'feature': 'brbank condos for rent'}, 'transactional'), ({'feature': 'free mastrbation clips videos'}, 'informational'), ({'feature': 'pierpoint landing'}, 'navigational'), ({'feature': 'perforating tool'}, 'navigational'), ({'feature': 'consew sewing machines'}, 'informational'), ({'feature': 'yahoo mail'}, 'navigational'), ({'feature': 'diagnostic spinal facet arthrography'}, 'informational'), ({'feature': 'wellington high school 1993 class renion'}, 'informational'), ({'feature': 'ask'}, 'ambiguous'), ({'feature': 'kids party games'}, 'informational'), ({'feature': 'who invented moon pies'}, 'informational'), ({'feature': 'debt collection laws'}, 'informational'), ({'feature': 'california natral prodcts'}, 'informational'), ({'feature': 'microsoft powerpoint'}, 'navigational'), ({'feature': 'sparknotes'}, 'ambiguous'), ({'feature': 'workaholic hsbands and how to keep them home'}, 'informational'), ({'feature': 'game'}, 'transactional'), ({'feature': 'buy'}, 'transactional'), ({'feature': 'jpeg'}, 'transactional'), ({'feature': 'zip'}, 'transactional'), ({'feature': 'install'}, 'transactional'), ({'feature': 'ways to'}, 'informational'), ({'feature': 'hot to'}, 'informational'), ({'feature': 'what is'}, 'informational'), ({'feature': 'where is'}, 'informational'), ({'feature': 'epic cams'}, 'navigational'), ({'feature': 'sigs'}, 'ambiguous'), ({'feature': 'womans road bike'}, 'informational'), ({'feature': 'harbor freight tools'}, 'informational'), ({'feature': 'citizenship in the nation worksheets'}, 'informational'), ({'feature': 'jews sck'}, 'navigational'), ({'feature': 'cable boxes'}, 'navigational'), ({'feature': 'lenore'}, 'ambiguous'), ({'feature': 'fairest flora bnda'}, 'informational'), ({'feature': 'what to do abot nosiy next door'}, 'informational'), ({'feature': 'yahoo.com'}, 'navigational'), ({'feature': 'dogpile'}, 'ambiguous'), ({'feature': 'david r. rbinow m.d.'}, 'transactional'), ({'feature': 'craigslist'}, 'ambiguous'), ({'feature': 'agentcafe.com'}, 'navigational'), ({'feature': 'jimmy carter erption of mt. st. helens'}, 'informational'), ({'feature': 'classic video game systems for sale'}, 'informational'), ({'feature': 'how to start a online shop'}, 'informational'), ({'feature': 'bank of america online banking'}, 'informational'), ({'feature': 'antiqe german silver prses'}, 'informational'), ({'feature': 'solar system for adolescence'}, 'informational'), ({'feature': 'jaipore brewster'}, 'navigational'), ({'feature': 'slam book'}, 'navigational'), ({'feature': 'sn dresses'}, 'navigational'), ({'feature': 'pictre of drosophila salivary glands'}, 'informational'), ({'feature': 'wasa homes'}, 'navigational'), ({'feature': 'nalgas calientes'}, 'navigational'), ({'feature': 'petroero'}, 'ambiguous'), ({'feature': 'recapitalization'}, 'ambiguous'), ({'feature': 'arizona elite basketball'}, 'informational'), ({'feature': 'www..davidgevans.com'}, 'navigational'), ({'feature': 'lenore'}, 'ambiguous'), ({'feature': 'sper nalgas'}, 'navigational'), ({'feature': 'emerald stdio in staten island ny'}, 'informational'), ({'feature': 'wooden doll crib'}, 'informational'), ({'feature': '1974 gremlin x'}, 'informational'), ({'feature': 'radio veracrz'}, 'navigational'), ({'feature': 'orange conty ny events'}, 'informational'), ({'feature': 'leadbelly story on-dvd movie'}, 'transactional'), ({'feature': 'travelocity'}, 'ambiguous'), ({'feature': 'nivision.com'}, 'navigational'), ({'feature': 'maryland criminal records'}, 'informational'), ({'feature': 'naghty thoghts'}, 'navigational'), ({'feature': 'lray caverns'}, 'navigational'), ({'feature': 'africa kenya newspapers'}, 'informational'), ({'feature': 'koika'}, 'ambiguous'), ({'feature': 'porn'}, 'transactional'), ({'feature': 'games'}, 'transactional'), ({'feature': 'who'}, 'informational'), ({'feature': 'where'}, 'informational'), ({'feature': 'list'}, 'informational'), ({'feature': 'playlist'}, 'informational'), ({'feature': 'like this'}, 'informational'), ({'feature': 'pickens cont ga'}, 'informational'), ({'feature': '50cent'}, 'ambiguous'), ({'feature': 'nhl'}, 'ambiguous'), ({'feature': 'earthlink.net'}, 'navigational'), ({'feature': 'renT prTval'}, 'navigational'), ({'feature': 'jimfeist'}, 'ambiguous'), ({'feature': 'yoth gitar dress shirt'}, 'informational'), ({'feature': 'snset shores rv park'}, 'informational'), ({'feature': 'three modes of decay for potassim-40'}, 'informational'), ({'feature': 'afs advanced financial services'}, 'informational'), ({'feature': 'how to by for less than a dollar wholesale'}, 'transactional'), ({'feature': 'diagnosis of spinal facet capslar laxity'}, 'informational'), ({'feature': 'myspace spport'}, 'navigational'), ({'feature': 'garland naaman forest baseball'}, 'informational'), ({'feature': 'www.wagerweb.com'}, 'navigational'), ({'feature': 'gibson stainless steele flatware'}, 'informational'), ({'feature': 'iwon'}, 'ambiguous'), ({'feature': 'pineapple greencheeks'}, 'navigational'), ({'feature': 'sacramento conty jail'}, 'informational')]\n",
        "CV sklearn.cross_validation.KFold(n=135, k=10)\n",
        "Iteration:0        partial_accuracy=0.333333333333\n",
        "Iteration:1        partial_accuracy=1.0     \n",
        "Iteration:2        partial_accuracy=0.916666666667\n",
        "Iteration:3        partial_accuracy=1.0     \n",
        "Iteration:4        partial_accuracy=1.0     \n",
        "Iteration:5        partial_accuracy=1.0     \n",
        "Iteration:6        partial_accuracy=1.0     \n",
        "Iteration:7        partial_accuracy=1.0     \n",
        "Iteration:8        partial_accuracy=1.0     \n",
        "Iteration:9        partial_accuracy=0.411764705882\n",
        "Accuracy total=0.866176470588\n"
       ]
      }
     ],
     "prompt_number": 18
    },
    {
     "cell_type": "code",
     "collapsed": false,
     "input": [
      "import nltk\n",
      "\n",
      "#print nltk.classify.accuracy(cl, dev_test_set)\n",
      "\n",
      "errors = []\n",
      "mc = []\n",
      "for (name, tag) in data:\n",
      "    guess = cl.classify(name)\n",
      "    mc.append((tag, guess))\n",
      "    if guess != tag:\n",
      "        errors.append( (tag, guess, name) )\n",
      "        \n",
      "print \"Num errors:\", len(errors)\n",
      "print \"Total:\", len(mc)\n",
      "for (tag, guess, name) in sorted(errors): \n",
      "    print 'correct=%-8s guess=%-8s query=%-30s' % (tag, guess, name)"
     ],
     "language": "python",
     "metadata": {},
     "outputs": [
      {
       "output_type": "stream",
       "stream": "stdout",
       "text": [
        "Num errors: 11\n",
        "Total: 135\n",
        "correct=ambiguous guess=informational query={'feature': '50cent'}         \n",
        "correct=ambiguous guess=informational query={'feature': 'iwon'}           \n",
        "correct=ambiguous guess=informational query={'feature': 'jimfeist'}       \n",
        "correct=ambiguous guess=informational query={'feature': 'nhl'}            \n",
        "correct=navigational guess=informational query={'feature': 'earthlink.net'}  \n",
        "correct=navigational guess=informational query={'feature': 'myspace spport'} \n",
        "correct=navigational guess=informational query={'feature': 'pineapple greencheeks'}\n",
        "correct=navigational guess=informational query={'feature': 'renT prTval'}    \n",
        "correct=navigational guess=informational query={'feature': 'university'}     \n",
        "correct=navigational guess=informational query={'feature': 'www.wagerweb.com'}\n",
        "correct=transactional guess=informational query={'feature': 'how to by for less than a dollar wholesale'}\n"
       ]
      }
     ],
     "prompt_number": 19
    },
    {
     "cell_type": "code",
     "collapsed": false,
     "input": [
      "def confusion_table(cfm, label):\n",
      "    \"\"\"Returns a confusion table in the following format:\n",
      "    [[true positives, false negatives],\n",
      "     [false positives, true negatives]]\n",
      "    for the given label index in the confusion matrix.\n",
      "    \"\"\"\n",
      "    predicted = cfm[label]\n",
      "    actual    = [cfm[i][label] for i in range(len(cfm))]\n",
      "    true_pos  = predicted[label]\n",
      "    false_pos = sum(actual) - true_pos\n",
      "    false_neg = sum(predicted) - true_pos\n",
      "    total     = sum([sum(i) for i in cfm])\n",
      "    true_neg  = total - true_pos - false_pos - false_neg\n",
      " \n",
      "    #return [[true_pos, false_neg],\n",
      "    #        [false_pos, true_neg]]\n",
      "    return (true_pos, false_neg, false_pos, true_neg)"
     ],
     "language": "python",
     "metadata": {},
     "outputs": [],
     "prompt_number": 20
    },
    {
     "cell_type": "code",
     "collapsed": false,
     "input": [
      "reference = []\n",
      "test    = []\n",
      "\n",
      "for (t,g) in mc:\n",
      "    reference.append(t)\n",
      "    test.append(g)\n",
      "#print 'Reference =', reference \n",
      "#print 'Test    =', test \n",
      "print 'Confusion matrix:' \n",
      "cm = nltk.ConfusionMatrix(reference, test) \n",
      "print cm\n",
      "#print nltk.ConfusionMatrix(reference, test).pp(sort_by_count=True) \n",
      "print cm.pp(sort_by_count=True, show_percents=False, truncate=2) \n",
      "cfm = [[16.0,4.0,0.0,0.0],[0.0,56.0,0.0,0.0],[0.0,6.0,36.0,0.0],[0.0,1.0,0.0,16.0]]\n",
      "\n",
      "(vp, fn, fp, vn) = confusion_table(cfm, 0)\n",
      "precision = vp / (vp + fp)\n",
      "recall = vp / (vp + fn)\n",
      "f = 2*((precision*recall)/(precision + recall))\n",
      "\n",
      "print 'Precision=%-8s Recall=%-8s F=%-30s' % (precision, recall, f)\n",
      "cl.show_most_informative_features(5)"
     ],
     "language": "python",
     "metadata": {},
     "outputs": [
      {
       "output_type": "stream",
       "stream": "stdout",
       "text": [
        "Confusion matrix:\n",
        "              |     i     t |\n",
        "              |     n  n  r |\n",
        "              |     f  a  a |\n",
        "              |     o  v  n |\n",
        "              |  a  r  i  s |\n",
        "              |  m  m  g  a |\n",
        "              |  b  a  a  c |\n",
        "              |  i  t  t  t |\n",
        "              |  g  i  i  i |\n",
        "              |  u  o  o  o |\n",
        "              |  o  n  n  n |\n",
        "              |  u  a  a  a |\n",
        "              |  s  l  l  l |\n",
        "--------------+-------------+\n",
        "    ambiguous |<16> 4  .  . |\n",
        "informational |  .<56> .  . |\n",
        " navigational |  .  6<36> . |\n",
        "transactional |  .  1  .<16>|\n",
        "--------------+-------------+\n",
        "(row = reference; col = test)\n",
        "\n",
        "              |  i    |\n",
        "              |  n  n |\n",
        "              |  f  a |\n",
        "              |  o  v |\n",
        "              |  r  i |\n",
        "              |  m  g |\n",
        "              |  a  a |\n",
        "              |  t  t |\n",
        "              |  i  i |\n",
        "              |  o  o |\n",
        "              |  n  n |\n",
        "              |  a  a |\n",
        "              |  l  l |\n",
        "--------------+-------+\n",
        "informational |<56> . |\n",
        " navigational |  6<36>|\n",
        "--------------+-------+\n",
        "(row = reference; col = test)\n",
        "\n",
        "Precision=1.0      Recall=0.8      F=0.888888888889                \n",
        "Most Informative Features\n",
        "                 feature = 'university'   naviga : inform =      1.1 : 1.0\n"
       ]
      }
     ],
     "prompt_number": 21
    },
    {
     "cell_type": "code",
     "collapsed": false,
     "input": [
      "query = \"free mastrbation clips videos\"\n",
      "cl = iclass.loadTrainedClassifier(\"intent_classifier_2.pickle\")\n",
      "tag,tns,inf,nav, amb = iclass.classify(cl, query)"
     ],
     "language": "python",
     "metadata": {},
     "outputs": [
      {
       "output_type": "stream",
       "stream": "stdout",
       "text": [
        "\n",
        "The query is: \tinformational\n",
        "Transactional: \t0.247509938606\n",
        "Informational: \t0.25234847876\n",
        "Navigational: \t0.25162139938\n",
        "Ambiguous: \t0.248520183254\n",
        "\n"
       ]
      }
     ],
     "prompt_number": 22
    }
   ],
   "metadata": {}
  }
 ]
}