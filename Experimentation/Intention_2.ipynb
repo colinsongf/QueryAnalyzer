{
 "metadata": {
  "name": "",
  "signature": "sha256:be6ad09c22f4cf86df1dadf562eecc57726a5eed5ee9dfe78401cb57b2e3dabb"
 },
 "nbformat": 3,
 "nbformat_minor": 0,
 "worksheets": [
  {
   "cells": [
    {
     "cell_type": "code",
     "collapsed": false,
     "input": [
      "path = \"/media/University/UniversityDisc/2-Master/MasterThesis/EjecucionTesis/Desarrollo/PythonProjects/QueryAnalyzer/UserQuery\"\n",
      "path_1 = \"/media/University/UniversityDisc/2-Master/MasterThesis/EjecucionTesis/Desarrollo/PythonProjects/QueryAnalyzer/DataProcessing\"\n",
      "\n",
      "import sys\n",
      "sys.path.insert(0, path)\n",
      "sys.path.insert(0, path_1)"
     ],
     "language": "python",
     "metadata": {},
     "outputs": [],
     "prompt_number": 159
    },
    {
     "cell_type": "code",
     "collapsed": false,
     "input": [
      "#Getting collections of aol_search from MongoDB\n",
      "import intent_classifier as icl\n",
      "import random\n",
      "\n",
      "db = icl.dbClient()\n",
      "aol_search = db.aol_search\n",
      "cursor = aol_search.find().limit(10000) \n",
      "#print cursor.count()\n",
      "#Reducir la cantidad de registros \n",
      "cursor = list(cursor)    \n",
      "random.shuffle(cursor)\n",
      "\n",
      "p = int(len(cursor) * .9)\n",
      "cr = cursor[0:p]\n",
      "q = int(len(cr) * .9)\n",
      "train = cr[0:q]\n",
      "dev_test = cr[q:]    \n",
      "test_set = cursor[p*q:]    \n",
      "\n",
      "#train = cursor[9678:9778]\n",
      "#test = cursor[65000:65100]\n",
      "\n",
      "print \"Train set=%s   DevTest set=%s    Test set=%s\" % (len(train), len(dev_test), len(test))\n"
     ],
     "language": "python",
     "metadata": {},
     "outputs": [
      {
       "output_type": "stream",
       "stream": "stdout",
       "text": [
        "Train set=8100   DevTest set=900    Test set=810\n"
       ]
      }
     ],
     "prompt_number": 160
    },
    {
     "cell_type": "code",
     "collapsed": false,
     "input": [
      "#for c in crs:\n",
      "#    print c"
     ],
     "language": "python",
     "metadata": {},
     "outputs": [],
     "prompt_number": 161
    },
    {
     "cell_type": "code",
     "collapsed": false,
     "input": [
      "#data = icl.getIntentDataset()\n",
      "#cl = nltk.NaiveBayesClassifier.train(data)\n",
      "#cl = icl.performCrossValidation(data, 10)"
     ],
     "language": "python",
     "metadata": {},
     "outputs": [],
     "prompt_number": 162
    },
    {
     "cell_type": "code",
     "collapsed": false,
     "input": [
      "def query_features2(query):\n",
      "    import nltk\n",
      "    www_words = [\"http:\", \"www\", \".com\", \".org\", \".net\", \".edu\", \".co\", \".en\"]\n",
      "    trans_tags = [\"get\", \"getting\", \"obtain\", \"buy\", \"purchase\", \"buying\", \"sell\", \"trade\", \"market\", \"download\", \"rent\"]\n",
      "    formats = [\"png\", \"jpg\", \"mp3\", \"mp4\", \"wav\", \"midi\", \"aac\", \"wma\", \"ogg\",  \"avi\", \"mpeg\", \"mov\", \"wmv\", \"flv\"]\n",
      "    whqs = [\"what\", \"which\", \"who\", \"when\", \"where\", \"why\", \"how\"]\n",
      "    features = dict()    \n",
      "    #features[\"ner\"] = icl.extract_entities(query)\n",
      "    features[\"length\"] = len(nltk.word_tokenize(query))\n",
      "    for word in www_words:       \n",
      "        if (word in query.lower()):            \n",
      "            #features[\"has_www_words(%s)\" % word] = True\n",
      "            features[\"has_www_words\"] = True\n",
      "            break\n",
      "        else:\n",
      "            features[\"has_www_words\"] = False\n",
      "            \n",
      "    for tag in trans_tags:       \n",
      "        if (tag in query.lower()):            \n",
      "            #features[\"has_trans_tags(%s)\" % tag] = True\n",
      "            features[\"has_trans_tags\"] = True\n",
      "            break\n",
      "        else:\n",
      "            features[\"has_trans_tags\"] = False\n",
      "            \n",
      "    for frm in formats:       \n",
      "        if (frm in query.lower()):            \n",
      "            #features[\"has_formats(%s)\" % frm] = True\n",
      "            features[\"has_formats\"] = True\n",
      "            break\n",
      "        else:\n",
      "            features[\"has_formats\"] = False\n",
      "            \n",
      "    for wh in whqs:       \n",
      "        if (wh in query.lower()):            \n",
      "            #features[\"has_wh(%s)\" % wh] = True\n",
      "            features[\"has_wh\"] = True\n",
      "            break\n",
      "        else:\n",
      "            features[\"has_wh\"] = False\n",
      "        \n",
      "    return features\n",
      "\n",
      "features = query_features2(\"http://\")\n",
      "print features"
     ],
     "language": "python",
     "metadata": {},
     "outputs": [
      {
       "output_type": "stream",
       "stream": "stdout",
       "text": [
        "{'has_wh': False, 'length': 3, 'has_trans_tags': False, 'has_formats': False, 'has_www_words': True}\n"
       ]
      }
     ],
     "prompt_number": 163
    },
    {
     "cell_type": "code",
     "collapsed": false,
     "input": [
      "feature = {'has_formats': False, 'has_trans_tags': False, 'length': 3, 'has_www_words': True, 'has_wh': False, 'ner': None}\n",
      "def intentions_classifier(features):\n",
      "    inf = 0\n",
      "    tran = 0\n",
      "    nav = 0\n",
      "    amb = 0\n",
      "    categories = []    \n",
      "    if (features['length'] == 2): nav = nav + 1   \n",
      "    elif (features['has_www_words'] == True): nav = nav + 1\n",
      "    elif (features['has_trans_tags'] == True): tran = tran + 1\n",
      "    elif (features['has_formats'] == True): tran = tran + 1\n",
      "    elif (features['has_wh']  == True): inf = inf + 1\n",
      "    elif(features['length'] > 2): inf = inf + 1\n",
      "    elif(features['length'] == 1): amb = amb + 1\n",
      "    \n",
      "    categories.append((\"navigacional\", nav))\n",
      "    categories.append((\"transactional\", tran))\n",
      "    categories.append((\"informational\", inf))\n",
      "    categories.append((\"ambiguous\", amb))        \n",
      "    \n",
      "    category = \"\"\n",
      "    \n",
      "    for c in categories:\n",
      "        if (c[1] == 2):\n",
      "            category = c[0]\n",
      "            break\n",
      "        elif (c[1] == 1):\n",
      "            category = c[0]\n",
      "    \n",
      "    #return dict(navigacional=nav, transactional=tran, informational=inf)\n",
      "    return category    \n",
      "    #category = \"navigacional\" \n",
      "    #category = \"transactional\"\n",
      "    #category = \"informational\"\n",
      "\n",
      "print intentions_classifier(feature)"
     ],
     "language": "python",
     "metadata": {},
     "outputs": [
      {
       "output_type": "stream",
       "stream": "stdout",
       "text": [
        "navigacional\n"
       ]
      }
     ],
     "prompt_number": 164
    },
    {
     "cell_type": "code",
     "collapsed": false,
     "input": [
      "def insertMongoDB(data):\n",
      "    accuracy_test = db.accuracy_test\n",
      "    accuracy_test.insert(data)\n",
      "\n",
      "def getFeatures(data):\n",
      "    features = []              \n",
      "    view = [] \n",
      "    for c in data:\n",
      "        query = c[\"query\"]\n",
      "        f = query_features2(query)     \n",
      "        label = intentions_classifier(f)\n",
      "        #print \"Query: %s ---Intent: %-30s\" %  (query, label)        \n",
      "        view.append((query, f, label))  \n",
      "        features.append((f, label))\n",
      "        #data = {\"query\": str(query), \"intention\": label} \n",
      "        #insertMongoDB(data)\n",
      "    #print features[0]\n",
      "    return features, view"
     ],
     "language": "python",
     "metadata": {},
     "outputs": [],
     "prompt_number": 165
    },
    {
     "cell_type": "code",
     "collapsed": false,
     "input": [
      "#features, view = getFeatures(train)\n",
      "\n",
      "#for i in range(100):\n",
      "#    print (view[i][0], view[i][2])"
     ],
     "language": "python",
     "metadata": {},
     "outputs": [],
     "prompt_number": 166
    },
    {
     "cell_type": "code",
     "collapsed": false,
     "input": [
      "import nltk\n",
      "\n",
      "features, view = getFeatures(train)\n",
      "\n",
      "#print train[0]\n",
      "classifier = nltk.classify.DecisionTreeClassifier.train(features, entropy_cutoff=0, support_cutoff=0)\n",
      "sorted(classifier.labels())\n",
      "print(classifier)"
     ],
     "language": "python",
     "metadata": {},
     "outputs": [
      {
       "output_type": "stream",
       "stream": "stdout",
       "text": [
        "length=1? ............................................. navigacional\n",
        "  has_www_words=False? ................................ ambiguous\n",
        "    has_trans_tags=False? ............................. ambiguous\n",
        "      has_formats=False? .............................. ambiguous\n",
        "      has_formats=True? ............................... transactional\n",
        "    has_trans_tags=True? .............................. transactional\n",
        "  has_www_words=True? ................................. navigacional\n",
        "length=2? ............................................. navigacional\n",
        "length=3? ............................................. informational\n",
        "  has_formats=False? .................................. informational\n",
        "    has_www_words=False? .............................. informational\n",
        "      has_trans_tags=False? ........................... informational\n",
        "      has_trans_tags=True? ............................ transactional\n",
        "    has_www_words=True? ............................... navigacional\n",
        "  has_formats=True? ................................... transactional\n",
        "length=4? ............................................. informational\n",
        "  has_trans_tags=False? ............................... informational\n",
        "    has_formats=False? ................................ informational\n",
        "      has_www_words=False? ............................ informational\n",
        "      has_www_words=True? ............................. navigacional\n",
        "    has_formats=True? ................................. transactional\n",
        "  has_trans_tags=True? ................................ transactional\n",
        "    has_www_words=False? .............................. transactional\n",
        "    has_www_words=True? ............................... navigacional\n",
        "length=5? ............................................. informational\n",
        "  has_formats=False? .................................. informational\n",
        "    has_www_words=False? .............................. informational\n",
        "      has_trans_tags=False? ........................... informational\n",
        "      has_trans_tags=True? ............................ transactional\n",
        "    has_www_words=True? ............................... navigacional\n",
        "  has_formats=True? ................................... transactional\n",
        "length=6? ............................................. informational\n",
        "  has_formats=False? .................................. informational\n",
        "    has_trans_tags=False? ............................. informational\n",
        "    has_trans_tags=True? .............................. transactional\n",
        "  has_formats=True? ................................... transactional\n",
        "length=7? ............................................. informational\n",
        "  has_formats=False? .................................. informational\n",
        "  has_formats=True? ................................... transactional\n",
        "length=8? ............................................. informational\n",
        "length=9? ............................................. informational\n",
        "  has_trans_tags=False? ............................... informational\n",
        "    has_formats=False? ................................ informational\n",
        "    has_formats=True? ................................. transactional\n",
        "  has_trans_tags=True? ................................ transactional\n",
        "length=10? ............................................ informational\n",
        "length=11? ............................................ informational\n",
        "length=12? ............................................ informational\n",
        "\n"
       ]
      }
     ],
     "prompt_number": 167
    },
    {
     "cell_type": "code",
     "collapsed": false,
     "input": [
      "#cl = nltk.NaiveBayesClassifier.train(data)\n",
      "cl = icl.performCrossValidation(features, 10)"
     ],
     "language": "python",
     "metadata": {},
     "outputs": [
      {
       "output_type": "stream",
       "stream": "stdout",
       "text": [
        "CV sklearn.cross_validation.KFold(n=8100, k=10)\n",
        "Iteration:0        partial_accuracy=0.997527812114"
       ]
      },
      {
       "output_type": "stream",
       "stream": "stdout",
       "text": [
        "\n",
        "Iteration:1        partial_accuracy=1.0     "
       ]
      },
      {
       "output_type": "stream",
       "stream": "stdout",
       "text": [
        "\n",
        "Iteration:2        partial_accuracy=0.997527812114"
       ]
      },
      {
       "output_type": "stream",
       "stream": "stdout",
       "text": [
        "\n",
        "Iteration:3        partial_accuracy=1.0     "
       ]
      },
      {
       "output_type": "stream",
       "stream": "stdout",
       "text": [
        "\n",
        "Iteration:4        partial_accuracy=0.998763906057"
       ]
      },
      {
       "output_type": "stream",
       "stream": "stdout",
       "text": [
        "\n",
        "Iteration:5        partial_accuracy=0.997527812114"
       ]
      },
      {
       "output_type": "stream",
       "stream": "stdout",
       "text": [
        "\n",
        "Iteration:6        partial_accuracy=0.997527812114"
       ]
      },
      {
       "output_type": "stream",
       "stream": "stdout",
       "text": [
        "\n",
        "Iteration:7        partial_accuracy=0.998763906057"
       ]
      },
      {
       "output_type": "stream",
       "stream": "stdout",
       "text": [
        "\n",
        "Iteration:8        partial_accuracy=0.998763906057"
       ]
      },
      {
       "output_type": "stream",
       "stream": "stdout",
       "text": [
        "\n",
        "Iteration:9        partial_accuracy=0.997527812114"
       ]
      },
      {
       "output_type": "stream",
       "stream": "stdout",
       "text": [
        "\n",
        "Accuracy total=0.998393077874\n"
       ]
      }
     ],
     "prompt_number": 168
    },
    {
     "cell_type": "code",
     "collapsed": false,
     "input": [
      "errors = []\n",
      "mc = []\n",
      "for (name, tag) in features:\n",
      "    guess = cl.classify(name)\n",
      "    mc.append((tag, guess))\n",
      "    if guess != tag:\n",
      "        errors.append( (tag, guess, name) )\n",
      "        \n",
      "print \"Num errors:\", len(errors)\n",
      "print \"Total:\", len(mc)\n",
      "for (tag, guess, name) in sorted(errors): \n",
      "    print 'correct=%-8s guess=%-8s query=%-30s' % (tag, guess, name)"
     ],
     "language": "python",
     "metadata": {},
     "outputs": [
      {
       "output_type": "stream",
       "stream": "stdout",
       "text": [
        "Num errors: 13\n",
        "Total: 8100\n",
        "correct=informational guess=navigacional query={'has_wh': True, 'length': 1, 'has_trans_tags': False, 'has_formats': False, 'has_www_words': False}\n",
        "correct=informational guess=navigacional query={'has_wh': True, 'length': 1, 'has_trans_tags': False, 'has_formats': False, 'has_www_words': False}\n",
        "correct=informational guess=navigacional query={'has_wh': True, 'length': 1, 'has_trans_tags': False, 'has_formats': False, 'has_www_words': False}\n",
        "correct=informational guess=navigacional query={'has_wh': True, 'length': 1, 'has_trans_tags': False, 'has_formats': False, 'has_www_words': False}\n",
        "correct=informational guess=navigacional query={'has_wh': True, 'length': 1, 'has_trans_tags': False, 'has_formats': False, 'has_www_words': False}\n",
        "correct=navigacional guess=transactional query={'has_wh': False, 'length': 4, 'has_trans_tags': True, 'has_formats': False, 'has_www_words': True}\n",
        "correct=transactional guess=navigacional query={'has_wh': False, 'length': 1, 'has_trans_tags': False, 'has_formats': True, 'has_www_words': False}\n",
        "correct=transactional guess=navigacional query={'has_wh': False, 'length': 1, 'has_trans_tags': False, 'has_formats': True, 'has_www_words': False}\n",
        "correct=transactional guess=navigacional query={'has_wh': False, 'length': 1, 'has_trans_tags': False, 'has_formats': True, 'has_www_words': False}\n",
        "correct=transactional guess=navigacional query={'has_wh': False, 'length': 1, 'has_trans_tags': False, 'has_formats': True, 'has_www_words': False}\n",
        "correct=transactional guess=navigacional query={'has_wh': False, 'length': 1, 'has_trans_tags': False, 'has_formats': True, 'has_www_words': False}\n",
        "correct=transactional guess=navigacional query={'has_wh': False, 'length': 1, 'has_trans_tags': False, 'has_formats': True, 'has_www_words': False}\n",
        "correct=transactional guess=navigacional query={'has_wh': False, 'length': 1, 'has_trans_tags': False, 'has_formats': True, 'has_www_words': False}\n"
       ]
      }
     ],
     "prompt_number": 169
    },
    {
     "cell_type": "code",
     "collapsed": false,
     "input": [
      "def confusion_table(cfm, label):\n",
      "    \"\"\"Returns a confusion table in the following format:\n",
      "    [[true positives, false negatives],\n",
      "     [false positives, true negatives]]\n",
      "    for the given label index in the confusion matrix.\n",
      "    \"\"\"\n",
      "    predicted = cfm[label]\n",
      "    actual    = [cfm[i][label] for i in range(len(cfm))]\n",
      "    true_pos  = predicted[label]\n",
      "    false_pos = sum(actual) - true_pos\n",
      "    false_neg = sum(predicted) - true_pos\n",
      "    total     = sum([sum(i) for i in cfm])\n",
      "    true_neg  = total - true_pos - false_pos - false_neg\n",
      " \n",
      "    #return [[true_pos, false_neg],\n",
      "    #        [false_pos, true_neg]]\n",
      "    return (true_pos, false_neg, false_pos, true_neg)"
     ],
     "language": "python",
     "metadata": {},
     "outputs": [],
     "prompt_number": 170
    },
    {
     "cell_type": "code",
     "collapsed": false,
     "input": [
      "reference = []\n",
      "test    = []\n",
      "\n",
      "for (t,g) in mc:\n",
      "    reference.append(t)\n",
      "    test.append(g)\n",
      "#print 'Reference =', reference \n",
      "#print 'Test    =', test \n",
      "print 'Confusion matrix:' \n",
      "cm = nltk.ConfusionMatrix(reference, test) \n",
      "print cm\n",
      "#print nltk.ConfusionMatrix(reference, test).pp(sort_by_count=True) \n",
      "print cm.pp(sort_by_count=True, show_percents=True, truncate=2) \n",
      "cfm = [[1358.0,0.0,0.0,0.0],[0.0,3539.0,5.0,0.0],[0.0,0.0,3057.0,1.0],[1.0,0.0,7.0,133.0]]\n",
      "\n",
      "(vp, fn, fp, vn) = confusion_table(cfm, 0)\n",
      "precision = vp / (vp + fp)\n",
      "recall = vp / (vp + fn)\n",
      "f = 2*((precision*recall)/(precision + recall))\n",
      "\n",
      "print 'Precision=%-8s Recall=%-8s F=%-30s' % (precision, recall, f)\n",
      "cl.show_most_informative_features(15)\n"
     ],
     "language": "python",
     "metadata": {},
     "outputs": [
      {
       "output_type": "stream",
       "stream": "stdout",
       "text": [
        "Confusion matrix:\n",
        "              |         i         t |\n",
        "              |         n    n    r |\n",
        "              |         f    a    a |\n",
        "              |         o    v    n |\n",
        "              |    a    r    i    s |\n",
        "              |    m    m    g    a |\n",
        "              |    b    a    a    c |\n",
        "              |    i    t    c    t |\n",
        "              |    g    i    i    i |\n",
        "              |    u    o    o    o |\n",
        "              |    o    n    n    n |\n",
        "              |    u    a    a    a |\n",
        "              |    s    l    l    l |\n",
        "--------------+---------------------+\n",
        "    ambiguous |<1358>   .    .    . |\n",
        "informational |    .<3539>   5    . |\n",
        " navigacional |    .    .<3057>   1 |\n",
        "transactional |    .    .    7 <133>|\n",
        "--------------+---------------------+\n",
        "(row = reference; col = test)\n",
        "\n",
        "              |      i        |\n",
        "              |      n      n |\n",
        "              |      f      a |\n",
        "              |      o      v |\n",
        "              |      r      i |\n",
        "              |      m      g |\n",
        "              |      a      a |\n",
        "              |      t      c |\n",
        "              |      i      i |\n",
        "              |      o      o |\n",
        "              |      n      n |\n",
        "              |      a      a |\n",
        "              |      l      l |\n",
        "--------------+---------------+\n",
        "informational | <43.7%>  0.1% |\n",
        " navigacional |      . <37.7%>|\n",
        "--------------+---------------+\n",
        "(row = reference; col = test)\n",
        "\n",
        "Precision=0.999264164827 Recall=1.0      F=0.999631947                   \n",
        "Most Informative Features\n",
        "                  length = 1              ambigu : inform =    707.6 : 1.0\n",
        "                  length = 4              inform : naviga =     88.2 : 1.0\n",
        "                  length = 5              inform : naviga =     74.5 : 1.0\n",
        "          has_trans_tags = True           transa : naviga =     64.6 : 1.0\n",
        "                  length = 3              inform : naviga =     53.8 : 1.0\n",
        "             has_formats = True           transa : naviga =     50.7 : 1.0\n",
        "                  has_wh = True           transa : naviga =     14.6 : 1.0\n",
        "                  length = 9              transa : inform =      6.1 : 1.0\n",
        "          has_trans_tags = False          inform : transa =      2.0 : 1.0\n",
        "             has_formats = False          inform : transa =      2.0 : 1.0\n",
        "                  length = 6              transa : inform =      1.4 : 1.0\n",
        "           has_www_words = False          inform : naviga =      1.3 : 1.0\n",
        "                  length = 7              inform : transa =      1.1 : 1.0\n",
        "                  has_wh = False          ambigu : transa =      1.1 : 1.0\n"
       ]
      }
     ],
     "prompt_number": 173
    },
    {
     "cell_type": "code",
     "collapsed": false,
     "input": [
      "features, view = getFeatures(dev_test)\n",
      "accuracy_p = nltk.classify.util.accuracy(cl, features)\n",
      "print accuracy_p"
     ],
     "language": "python",
     "metadata": {},
     "outputs": [
      {
       "output_type": "stream",
       "stream": "stdout",
       "text": [
        "1.0\n"
       ]
      }
     ],
     "prompt_number": 172
    },
    {
     "cell_type": "code",
     "collapsed": false,
     "input": [],
     "language": "python",
     "metadata": {},
     "outputs": [],
     "prompt_number": 172
    }
   ],
   "metadata": {}
  }
 ]
}