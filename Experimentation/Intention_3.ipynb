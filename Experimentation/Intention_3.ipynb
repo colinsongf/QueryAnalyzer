{
 "metadata": {
  "name": "",
  "signature": "sha256:4eec6cc02d5039a7155adfc19695895867e41ffbaa3d908da7fb2624019d1263"
 },
 "nbformat": 3,
 "nbformat_minor": 0,
 "worksheets": [
  {
   "cells": [
    {
     "cell_type": "code",
     "collapsed": false,
     "input": [
      "path = \"/media/University/UniversityDisc/2-Master/MasterThesis/EjecucionTesis/Desarrollo/PythonProjects/QueryAnalyzer/UserQuery\"\n",
      "path_1 = \"/media/University/UniversityDisc/2-Master/MasterThesis/EjecucionTesis/Desarrollo/PythonProjects/QueryAnalyzer/DataProcessing\"\n",
      "\n",
      "import sys\n",
      "sys.path.insert(0, path)\n",
      "sys.path.insert(0, path_1)"
     ],
     "language": "python",
     "metadata": {},
     "outputs": [],
     "prompt_number": 229
    },
    {
     "cell_type": "code",
     "collapsed": false,
     "input": [
      "#Getting collections of aol_search from MongoDB\n",
      "import intent_classifier as icl\n",
      "import random\n",
      "\n",
      "db = icl.dbClient()\n",
      "aol_search = db.aol_search\n",
      "aol_goals = db.aol_goals\n",
      "\n",
      "goals = aol_goals.find().limit(3000)\n",
      "search = aol_search.find().limit(3000) \n",
      "#print cursor.count()\n",
      "#Reducir la cantidad de registros \n",
      "search = list(search)    \n",
      "random.shuffle(search)\n",
      "\"\"\"\n",
      "p = int(len(search) * .9)\n",
      "cr = search[0:p]\n",
      "q = int(len(cr) * .9)\n",
      "train = cr[0:q]\n",
      "dev_test = cr[q:]    \n",
      "test_set = cursor[p*q:]    \n",
      "\"\"\"\n",
      "#train = cursor[9678:9778]\n",
      "#test = cursor[65000:65100]\n",
      "\n",
      "#print \"Train set=%s   DevTest set=%s    Test set=%s\" % (len(train), len(dev_test), len(test))\n"
     ],
     "language": "python",
     "metadata": {},
     "outputs": [
      {
       "metadata": {},
       "output_type": "pyout",
       "prompt_number": 286,
       "text": [
        "'\\np = int(len(search) * .9)\\ncr = search[0:p]\\nq = int(len(cr) * .9)\\ntrain = cr[0:q]\\ndev_test = cr[q:]    \\ntest_set = cursor[p*q:]    \\n'"
       ]
      }
     ],
     "prompt_number": 286
    },
    {
     "cell_type": "code",
     "collapsed": false,
     "input": [
      "#data = icl.getIntentDataset()\n",
      "#cl = nltk.NaiveBayesClassifier.train(data)\n",
      "#cl = icl.performCrossValidation(data, 10)"
     ],
     "language": "python",
     "metadata": {},
     "outputs": [],
     "prompt_number": 231
    },
    {
     "cell_type": "code",
     "collapsed": false,
     "input": [
      "def query_features(query):\n",
      "    import nltk\n",
      "    import building_train_data  as btd\n",
      "    www_words = [\"http:\", \"www\", \".com\", \".org\", \".net\", \".edu\", \".co\", \".en\"]\n",
      "    trans_tags = [\"get\", \"getting\", \"obtain\", \"buy\", \"purchase\", \"buying\", \"sell\", \"trade\", \"market\", \"download\", \"rent\", \"listen\"]\n",
      "    formats = [\"png\", \"jpg\", \"mp3\", \"mp4\", \"wav\", \"midi\", \"aac\", \"wma\", \"ogg\",  \"avi\", \"mpeg\", \"mov\", \"wmv\", \"flv\"]\n",
      "    whqs = [\"what\", \"which\", \"who\", \"when\", \"where\", \"why\", \"how\"]\n",
      "    features = [0,0,0,0,0]\n",
      "    #features[\"ner\"] = icl.extract_entities(query)\n",
      "    features[0] = len(nltk.word_tokenize(query))\n",
      "    #features[6] = btd.posTaggerNLTK(query)\n",
      "    #features[7] = btd.triGram(query)\n",
      "    #features[5] = btd.getVerb(query)\n",
      "    for word in www_words:       \n",
      "        if (word in query.lower()):            \n",
      "            #features[\"has_www_words(%s)\" % word] = True\n",
      "            features[1] = 1\n",
      "            break\n",
      "        else:\n",
      "            features[1] = 0\n",
      "            \n",
      "    for tag in trans_tags:       \n",
      "        if (tag in query.lower()):            \n",
      "            #features[\"has_trans_tags(%s)\" % tag] = True\n",
      "            features[2] = 1\n",
      "            break\n",
      "        else:\n",
      "            features[2] = 0\n",
      "            \n",
      "    for frm in formats:       \n",
      "        if (frm in query.lower()):            \n",
      "            #features[\"has_formats(%s)\" % frm] = True\n",
      "            features[3] = 1\n",
      "            break\n",
      "        else:\n",
      "            features[3] = 0\n",
      "            \n",
      "    for wh in whqs:       \n",
      "        if (wh in query.lower()):            \n",
      "            #features[\"has_wh(%s)\" % wh] = True\n",
      "            features[4] = 1\n",
      "            break\n",
      "        else:\n",
      "            features[4] = 0\n",
      "        \n",
      "    return features\n",
      "\n",
      "#features = query_features(\"http://\")\n",
      "#print features"
     ],
     "language": "python",
     "metadata": {},
     "outputs": [],
     "prompt_number": 232
    },
    {
     "cell_type": "code",
     "collapsed": false,
     "input": [
      "def query_features2(query):\n",
      "    import nltk\n",
      "    www_words = [\"http:\", \"www\", \".com\", \".org\", \".net\", \".edu\", \".co\", \".en\"]\n",
      "    trans_tags = [\"get\", \"getting\", \"obtain\", \"buy\", \"purchase\", \"buying\", \"sell\", \"trade\", \"market\", \"download\", \"rent\"]\n",
      "    formats = [\"png\", \"jpg\", \"mp3\", \"mp4\", \"wav\", \"midi\", \"aac\", \"wma\", \"ogg\",  \"avi\", \"mpeg\", \"mov\", \"wmv\", \"flv\"]\n",
      "    whqs = [\"what\", \"which\", \"who\", \"when\", \"where\", \"why\", \"how\"]\n",
      "    features = dict()    \n",
      "    #features[\"ner\"] = icl.extract_entities(query)\n",
      "    features[\"length\"] = len(nltk.word_tokenize(query))\n",
      "    for word in www_words:       \n",
      "        if (word in query.lower()):            \n",
      "            #features[\"has_www_words(%s)\" % word] = True\n",
      "            features[\"has_www_words\"] = 1\n",
      "            break\n",
      "        else:\n",
      "            features[\"has_www_words\"] = 0\n",
      "            \n",
      "    for tag in trans_tags:       \n",
      "        if (tag in query.lower()):            \n",
      "            #features[\"has_trans_tags(%s)\" % tag] = True\n",
      "            features[\"has_trans_tags\"] = 1\n",
      "            break\n",
      "        else:\n",
      "            features[\"has_trans_tags\"] = 0\n",
      "            \n",
      "    for frm in formats:       \n",
      "        if (frm in query.lower()):            \n",
      "            #features[\"has_formats(%s)\" % frm] = True\n",
      "            features[\"has_formats\"] = 1\n",
      "            break\n",
      "        else:\n",
      "            features[\"has_formats\"] = 0\n",
      "            \n",
      "    for wh in whqs:       \n",
      "        if (wh in query.lower()):            \n",
      "            #features[\"has_wh(%s)\" % wh] = True\n",
      "            features[\"has_wh\"] = 1\n",
      "            break\n",
      "        else:\n",
      "            features[\"has_wh\"] = 0\n",
      "        \n",
      "    return features\n",
      "\n",
      "features = query_features2(\"http://\")\n",
      "print features"
     ],
     "language": "python",
     "metadata": {},
     "outputs": [
      {
       "output_type": "stream",
       "stream": "stdout",
       "text": [
        "{'has_wh': 0, 'length': 3, 'has_trans_tags': 0, 'has_formats': 0, 'has_www_words': 1}\n"
       ]
      }
     ],
     "prompt_number": 233
    },
    {
     "cell_type": "code",
     "collapsed": false,
     "input": [
      "feature = {'has_formats': False, 'has_trans_tags': False, 'length': 3, 'has_www_words': True, 'has_wh': False, 'ner': None}\n",
      "def intentions_classifier(features):\n",
      "    inf = 0\n",
      "    tran = 0\n",
      "    nav = 0\n",
      "    amb = 0\n",
      "    categories = []    \n",
      "    if (features['length'] == 2): nav = nav + 1   \n",
      "    elif (features['has_www_words'] == 1): nav = nav + 1\n",
      "    elif (features['has_trans_tags'] == 1): tran = tran + 1\n",
      "    elif (features['has_formats'] == 1): tran = tran + 1\n",
      "    elif (features['has_wh']  == 1): inf = inf + 1\n",
      "    elif(features['length'] > 2): inf = inf + 1\n",
      "    elif(features['length'] == 1): amb = amb + 1\n",
      "    \n",
      "    categories.append((3, nav)) #navigacional\n",
      "    categories.append((2, tran)) #transactional\n",
      "    categories.append((1, inf)) #informational\n",
      "    categories.append((0, amb)) #ambiguous\n",
      "    \n",
      "    category = \"\"\n",
      "    \n",
      "    for c in categories:\n",
      "        if (c[1] == 2):\n",
      "            category = c[0]\n",
      "            break\n",
      "        elif (c[1] == 1):\n",
      "            category = c[0]\n",
      "    \n",
      "    #return dict(navigacional=nav, transactional=tran, informational=inf)\n",
      "    return category    \n",
      "    #category = \"navigacional\" \n",
      "    #category = \"transactional\"\n",
      "    #category = \"informational\"\n",
      "\n",
      "print intentions_classifier(feature)"
     ],
     "language": "python",
     "metadata": {},
     "outputs": [
      {
       "output_type": "stream",
       "stream": "stdout",
       "text": [
        "3\n"
       ]
      }
     ],
     "prompt_number": 234
    },
    {
     "cell_type": "code",
     "collapsed": false,
     "input": [
      "def insertMongoDB(data):\n",
      "    accuracy_test = db.accuracy_test\n",
      "    accuracy_test.insert(data)\n",
      "\n",
      "def getFeatures(data_1, data_2):\n",
      "    features = []            \n",
      "    features_2 = []\n",
      "    view = [] \n",
      "    \n",
      "    for c in data_1:\n",
      "        query = c[\"query\"]\n",
      "        f = query_features2(query)   \n",
      "        f2 = query_features(query)   \n",
      "        label = intentions_classifier(f)\n",
      "        #print \"Query: %s ---Intent: %-30s\" %  (query, label)        \n",
      "        view.append((query, f, label))  \n",
      "        features.append((f, label))\n",
      "        features_2.append(((int(f2[0])),(int(f2[1])),(int(f2[2])),(int(f2[3])),(int(f2[4])), (int(label))))\n",
      "        #data = {\"query\": str(query), \"intention\": label} \n",
      "        #insertMongoDB(data)\n",
      "    \"\"\"\n",
      "    for c in data_2:\n",
      "        query = c[\"query\"]\n",
      "        f = query_features2(query)   \n",
      "        f2 = query_features(query)   \n",
      "        label = intentions_classifier(f)\n",
      "        #print \"Query: %s ---Intent: %-30s\" %  (query, label)        \n",
      "        view.append((query, f, label))  \n",
      "        features.append((f, label))\n",
      "        features_2.append((f2, label))\n",
      "        #data = {\"query\": str(query), \"intention\": label} \n",
      "        #insertMongoDB(data)\n",
      "    #print features[0]\n",
      "    \"\"\"\n",
      "    return features, features_2, view"
     ],
     "language": "python",
     "metadata": {},
     "outputs": [],
     "prompt_number": 235
    },
    {
     "cell_type": "code",
     "collapsed": false,
     "input": [
      "def confusion_matrix(data, target):\n",
      "    print(__doc__)\n",
      "\n",
      "    from sklearn import svm\n",
      "    from sklearn.cross_validation import train_test_split\n",
      "    from sklearn.metrics import confusion_matrix\n",
      "\n",
      "    import pylab as pl\n",
      "\n",
      "    # import some data to play with\n",
      "    #iris = datasets.load_iris()\n",
      "    X = data\n",
      "    y = target\n",
      "\n",
      "    # Split the data into a training set and a test set\n",
      "    X_train, X_test, y_train, y_test = train_test_split(X, y, random_state=0)\n",
      "    #print \" X_train=%s, X_test=%s, y_train=%s, y_test=%s\" % (X_train, X_test, y_train, y_test)\n",
      "    # Run classifier\n",
      "    classifier = svm.SVC(kernel='linear')\n",
      "    y_pred = classifier.fit(X_train, y_train).predict(X_test)\n",
      "    \n",
      "    # Compute confusion matrix\n",
      "    cm = confusion_matrix(y_test, y_pred)\n",
      "\n",
      "    print(cm)\n",
      "\n",
      "    # Show confusion matrix in a separate window\n",
      "    pl.matshow(cm)\n",
      "    pl.title('Confusion matrix')\n",
      "    pl.colorbar()\n",
      "    pl.ylabel('True label')\n",
      "    pl.xlabel('Predicted label')\n",
      "    pl.show()"
     ],
     "language": "python",
     "metadata": {},
     "outputs": [],
     "prompt_number": 236
    },
    {
     "cell_type": "code",
     "collapsed": false,
     "input": [
      "def presion_recall(data, target):\n",
      "    print(__doc__)\n",
      "\n",
      "    import random\n",
      "    import pylab as pl\n",
      "    import numpy as np\n",
      "    from sklearn import svm, datasets\n",
      "    from sklearn.metrics import precision_recall_curve\n",
      "    from sklearn.metrics import auc\n",
      "\n",
      "    # import some data to play with\n",
      "    iris = datasets.load_iris()\n",
      "\n",
      "    #print iris.DESCR\n",
      "    X = data\n",
      "    y = target\n",
      "    #print \"X=%s y y=%s\" % (len(X), len(y))\n",
      "    #print \"X=%s y y=%s\" % (X, y)\n",
      "    X, y = X[y != 2], y[y != 2]  # Keep also 2 classes (0 and 1)    \n",
      "    X, y = X[y != 3], y[y != 3]\n",
      "    n_samples, n_features = X.shape\n",
      "    p = range(n_samples)  # Shuffle samples\n",
      "    random.seed(0)\n",
      "    random.shuffle(p)\n",
      "    X, y = X[p], y[p]\n",
      "    half = int(n_samples / 2)\n",
      "\n",
      "    # Add noisy features\n",
      "    np.random.seed(0)\n",
      "    X = np.c_[X, np.random.randn(n_samples, 100 * n_features)]\n",
      "\n",
      "    # Run classifier\n",
      "    #classifier = svm.SVC(kernel='linear', probability=True, random_state=0)\n",
      "    classifier = svm.SVC(kernel='linear', probability=True)\n",
      "    probas_ = classifier.fit(X[:half], y[:half]).predict_proba(X[half:])\n",
      "\n",
      "    # Compute Precision-Recall and plot curve\n",
      "    precision, recall, thresholds = precision_recall_curve(y[half:], probas_[:, 1])\n",
      "    area = auc(recall, precision)\n",
      "    print(\"Area Under Curve: %0.2f\" % area)\n",
      "\n",
      "    pl.clf()\n",
      "    pl.plot(recall, precision, label='Curva de Precision-Recall')\n",
      "    pl.xlabel('Exhaustividad (Recall)')\n",
      "    pl.ylabel('Precision')\n",
      "    pl.ylim([0.0, 1.05])\n",
      "    pl.xlim([0.0, 1.0])\n",
      "    pl.grid()\n",
      "    pl.title('Precision-Recall example: AUC=%0.2f' % area)\n",
      "    pl.legend(loc=\"lower left\")\n",
      "    pl.show()"
     ],
     "language": "python",
     "metadata": {},
     "outputs": [],
     "prompt_number": 261
    },
    {
     "cell_type": "code",
     "collapsed": false,
     "input": [
      "def set_random(y):\n",
      "    n = len(y)\n",
      "    y = [0] * n\n",
      "    for i in range(len(y)/75):\n",
      "        j = randint(1,len(y)-1)\n",
      "        #print j\n",
      "        y[j] = 1\n",
      "    return y\n",
      "    \n",
      "\n",
      "def ROC_curve(data, target):\n",
      "    print(__doc__)\n",
      "\n",
      "    import numpy as np\n",
      "    import pylab as pl\n",
      "    from random import randint\n",
      "    from sklearn import svm, datasets\n",
      "    from sklearn.utils import shuffle\n",
      "    from sklearn.metrics import roc_curve, auc\n",
      "\n",
      "    random_state = np.random.RandomState(0)\n",
      "\n",
      "    # Import some data to play with\n",
      "    iris = datasets.load_iris()\n",
      "    X = data\n",
      "    y = target\n",
      "\n",
      "    # Make it a binary classification problem by removing the third class\n",
      "    X, y = X[y != 2], y[y != 2]\n",
      "    X, y = X[y != 3], y[y != 3]\n",
      "    #print \"X1\", X\n",
      "    #print \"Y1\", y\n",
      "    \n",
      "    n_samples, n_features = X.shape\n",
      "\n",
      "    # Add noisy features to make the problem harder\n",
      "    X = np.c_[X, random_state.randn(n_samples, 200 * n_features)]\n",
      "    #print \"X2:\", X\n",
      "\n",
      "    # shuffle and split training and test sets\n",
      "    X, y = shuffle(X, y, random_state=random_state)\n",
      "\n",
      "    half = int(n_samples / 2)\n",
      "    X_train, X_test = X[:half], X[half:]\n",
      "    y_train, y_test = y[:half], y[half:]\n",
      "\n",
      "    # Run classifier\n",
      "    classifier = svm.SVC(kernel='linear', probability=True)\n",
      "    probas_ = classifier.fit(X_train, y_train).predict_proba(X_test)\n",
      "\n",
      "    # Compute ROC curve and area the curve\n",
      "    fpr, tpr, thresholds = roc_curve(y_test, probas_[:, 1])\n",
      "    roc_auc = auc(fpr, tpr)\n",
      "    print(\"Area under the ROC curve : %f\" % roc_auc)\n",
      "\n",
      "    # Plot ROC curve\n",
      "    pl.clf()\n",
      "    pl.figure(figsize=(8, 5))\n",
      "    pl.plot(fpr, tpr, label='Curva ROC (area = %0.2f)' % roc_auc)\n",
      "    pl.plot([0, 1], [0, 1], 'k--')\n",
      "    pl.xlim([-0.05, 1.0])\n",
      "    pl.ylim([0.0, 1.05])\n",
      "    pl.xlabel('Tasa de Falsos Positivos')\n",
      "    pl.ylabel('Tasa de Verdaderos Positivos')\n",
      "    pl.title('Espacio ROC')\n",
      "    pl.grid()\n",
      "    pl.legend(loc=\"lower right\")\n",
      "    pl.show()\n",
      "\n",
      "    "
     ],
     "language": "python",
     "metadata": {},
     "outputs": [],
     "prompt_number": 305
    },
    {
     "cell_type": "code",
     "collapsed": false,
     "input": [
      "import nltk\n",
      "\n",
      "features, features_2, view = getFeatures(search, goals)\n",
      "random.shuffle(features)\n",
      "#print train[0]\n",
      "#classifier = nltk.classify.DecisionTreeClassifier.train(features, entropy_cutoff=0, support_cutoff=0)\n",
      "#sorted(classifier.labels())\n",
      "#print(classifier)\n",
      "print features_2[0]\n",
      "print features[0]\n",
      "print view[0]"
     ],
     "language": "python",
     "metadata": {},
     "outputs": [
      {
       "output_type": "stream",
       "stream": "stdout",
       "text": [
        "(5, 0, 0, 0, 0, 1)\n",
        "({'has_wh': 0, 'length': 1, 'has_trans_tags': 0, 'has_formats': 0, 'has_www_words': 0}, 0)\n",
        "(u'dress up game for kid', {'has_wh': 0, 'length': 5, 'has_trans_tags': 0, 'has_formats': 0, 'has_www_words': 0}, 1)\n"
       ]
      }
     ],
     "prompt_number": 287
    },
    {
     "cell_type": "code",
     "collapsed": false,
     "input": [
      "from pandas import DataFrame\n",
      "from sklearn import cross_validation\n",
      "import sklearn.preprocessing, sklearn.decomposition, sklearn.linear_model, sklearn.pipeline, sklearn.metrics\n",
      "from sklearn_pandas import DataFrameMapper, cross_val_score\n",
      "\n",
      "df = DataFrame(features_2, columns=['Length', 'Www_words', 'Trans_tags', 'Formats', 'WHQ', 'Class'])\n",
      "#print df.describe()\n",
      "data = df.values[:,:-1]\n",
      "target = df.values[:, 5]\n",
      "#print mapper\n",
      "#print data\n",
      "#print target\n",
      "#np.round(mapper.fit_transform(df), 2)\n",
      "\n",
      "confusion_matrix(data, target)\n",
      "ROC_curve(data, target)\n",
      "presion_recall(data, target)\n",
      "\n",
      "#print df[0:1]\n",
      "\n",
      "#cv = cross_validation.KFold(len(features_2),10)\n",
      "#for traincv, testcv in cv:  \n",
      "#    print testcv\n",
      "#    print\n",
      "#presion_recall(features_2)"
     ],
     "language": "python",
     "metadata": {},
     "outputs": [
      {
       "output_type": "stream",
       "stream": "stdout",
       "text": [
        "Automatically created module for IPython interactive environment\n",
        "[[117   0   0   0]\n",
        " [  0 327   0   0]\n",
        " [  5   0   7   0]\n",
        " [  0   0   4 290]]\n"
       ]
      },
      {
       "metadata": {},
       "output_type": "display_data",
       "png": "[encoded data removed]",
       "text": [
        "<matplotlib.figure.Figure at 0x7f62008ad310>"
       ]
      },
      {
       "output_type": "stream",
       "stream": "stdout",
       "text": [
        "Automatically created module for IPython interactive environment\n",
        "Area under the ROC curve : 0.976031"
       ]
      },
      {
       "output_type": "stream",
       "stream": "stdout",
       "text": [
        "\n"
       ]
      },
      {
       "metadata": {},
       "output_type": "display_data",
       "text": [
        "<matplotlib.figure.Figure at 0x7f62006e26d0>"
       ]
      },
      {
       "metadata": {},
       "output_type": "display_data",
       "png": "[encoded data removed]",
       "text": [
        "<matplotlib.figure.Figure at 0x7f62008e4990>"
       ]
      },
      {
       "output_type": "stream",
       "stream": "stdout",
       "text": [
        "Automatically created module for IPython interactive environment\n",
        "Area Under Curve: 1.00"
       ]
      },
      {
       "output_type": "stream",
       "stream": "stdout",
       "text": [
        "\n"
       ]
      },
      {
       "metadata": {},
       "output_type": "display_data",
       "png": "[encoded data removed]",
       "text": [
        "<matplotlib.figure.Figure at 0x5f06350>"
       ]
      }
     ],
     "prompt_number": 306
    },
    {
     "cell_type": "code",
     "collapsed": false,
     "input": [
      "bytreatment = df.groupby('Class')\n",
      "#bytreatment['Www_words'].describe()\n",
      "bygroup_treatment = df.groupby(['Class'])\n",
      "bygroup_treatment['Length'].describe()\n",
      "#bygroup_treatment['Length'].agg([np.sum, np.mean, np.std, len])"
     ],
     "language": "python",
     "metadata": {},
     "outputs": [
      {
       "metadata": {},
       "output_type": "pyout",
       "prompt_number": 241,
       "text": [
        "Class       \n",
        "0      count     403.000000\n",
        "       mean        1.000000\n",
        "       std         0.000000\n",
        "       min         1.000000\n",
        "       25%         1.000000\n",
        "       50%         1.000000\n",
        "       75%         1.000000\n",
        "       max         1.000000\n",
        "1      count    1277.000000\n",
        "       mean        4.246672\n",
        "       std         1.391110\n",
        "       min         3.000000\n",
        "       25%         3.000000\n",
        "       50%         4.000000\n",
        "       75%         5.000000\n",
        "       max        12.000000\n",
        "2      count      50.000000\n",
        "       mean        3.580000\n",
        "       std         1.750685\n",
        "       min         1.000000\n",
        "       25%         3.000000\n",
        "       50%         3.500000\n",
        "       75%         5.000000\n",
        "       max         6.000000\n",
        "3      count    1070.000000\n",
        "       mean        1.703738\n",
        "       std         0.507276\n",
        "       min         1.000000\n",
        "       25%         1.000000\n",
        "       50%         2.000000\n",
        "       75%         2.000000\n",
        "       max         4.000000\n",
        "dtype: float64"
       ]
      }
     ],
     "prompt_number": 241
    },
    {
     "cell_type": "code",
     "collapsed": false,
     "input": [
      "#cl = nltk.NaiveBayesClassifier.train(data)\n",
      "cl = icl.performCrossValidation(features, 10)"
     ],
     "language": "python",
     "metadata": {},
     "outputs": [
      {
       "output_type": "stream",
       "stream": "stdout",
       "text": [
        "CV sklearn.cross_validation.KFold(n=2800, n_folds=10)\n",
        "Iteration:0        partial_accuracy=0.996415770609"
       ]
      },
      {
       "output_type": "stream",
       "stream": "stdout",
       "text": [
        "\n",
        "Iteration:1        partial_accuracy=0.992831541219"
       ]
      },
      {
       "output_type": "stream",
       "stream": "stdout",
       "text": [
        "\n",
        "Iteration:2        partial_accuracy=1.0     "
       ]
      },
      {
       "output_type": "stream",
       "stream": "stdout",
       "text": [
        "\n",
        "Iteration:3        partial_accuracy=0.996415770609"
       ]
      },
      {
       "output_type": "stream",
       "stream": "stdout",
       "text": [
        "\n",
        "Iteration:4        partial_accuracy=1.0     "
       ]
      },
      {
       "output_type": "stream",
       "stream": "stdout",
       "text": [
        "\n",
        "Iteration:5        partial_accuracy=1.0     "
       ]
      },
      {
       "output_type": "stream",
       "stream": "stdout",
       "text": [
        "\n",
        "Iteration:6        partial_accuracy=1.0     "
       ]
      },
      {
       "output_type": "stream",
       "stream": "stdout",
       "text": [
        "\n",
        "Iteration:7        partial_accuracy=1.0     "
       ]
      },
      {
       "output_type": "stream",
       "stream": "stdout",
       "text": [
        "\n",
        "Iteration:8        partial_accuracy=0.996415770609"
       ]
      },
      {
       "output_type": "stream",
       "stream": "stdout",
       "text": [
        "\n",
        "Iteration:9        partial_accuracy=1.0     "
       ]
      },
      {
       "output_type": "stream",
       "stream": "stdout",
       "text": [
        "\n",
        "Accuracy total=0.998207885305\n"
       ]
      },
      {
       "output_type": "stream",
       "stream": "stderr",
       "text": [
        "/usr/local/lib/python2.7/dist-packages/sklearn/cross_validation.py:240: DeprecationWarning: The parameter k was renamed to n_folds and will be removed in 0.15.\n",
        "  \" removed in 0.15.\", DeprecationWarning)\n"
       ]
      }
     ],
     "prompt_number": 243
    },
    {
     "cell_type": "code",
     "collapsed": false,
     "input": [
      "errors = []\n",
      "mc = []\n",
      "for (name, tag) in features:\n",
      "    guess = cl.classify(name)\n",
      "    mc.append((tag, guess))\n",
      "    if guess != tag:\n",
      "        errors.append( (tag, guess, name) )\n",
      "        \n",
      "print \"Num errors:\", len(errors)\n",
      "print \"Total:\", len(mc)\n",
      "for (tag, guess, name) in sorted(errors): \n",
      "    print 'correct=%-8s guess=%-8s query=%-30s' % (tag, guess, name)"
     ],
     "language": "python",
     "metadata": {},
     "outputs": [
      {
       "output_type": "stream",
       "stream": "stdout",
       "text": [
        "Num errors: 5\n",
        "Total: 2800\n",
        "correct=2        guess=3        query={'has_wh': 0, 'length': 1, 'has_trans_tags': 0, 'has_formats': 1, 'has_www_words': 0}\n",
        "correct=2        guess=3        query={'has_wh': 0, 'length': 1, 'has_trans_tags': 0, 'has_formats': 1, 'has_www_words': 0}\n",
        "correct=2        guess=3        query={'has_wh': 0, 'length': 1, 'has_trans_tags': 0, 'has_formats': 1, 'has_www_words': 0}\n",
        "correct=2        guess=3        query={'has_wh': 0, 'length': 1, 'has_trans_tags': 0, 'has_formats': 1, 'has_www_words': 0}\n",
        "correct=2        guess=3        query={'has_wh': 0, 'length': 1, 'has_trans_tags': 0, 'has_formats': 1, 'has_www_words': 0}\n"
       ]
      }
     ],
     "prompt_number": 244
    },
    {
     "cell_type": "code",
     "collapsed": false,
     "input": [
      "def confusion_table(cfm, label):\n",
      "    \"\"\"Returns a confusion table in the following format:\n",
      "    [[true positives, false negatives],\n",
      "     [false positives, true negatives]]\n",
      "    for the given label index in the confusion matrix.\n",
      "    \"\"\"\n",
      "    predicted = cfm[label]\n",
      "    actual    = [cfm[i][label] for i in range(len(cfm))]\n",
      "    true_pos  = predicted[label]\n",
      "    false_pos = sum(actual) - true_pos\n",
      "    false_neg = sum(predicted) - true_pos\n",
      "    total     = sum([sum(i) for i in cfm])\n",
      "    true_neg  = total - true_pos - false_pos - false_neg\n",
      " \n",
      "    #return [[true_pos, false_neg],\n",
      "    #        [false_pos, true_neg]]\n",
      "    return (true_pos, false_neg, false_pos, true_neg)"
     ],
     "language": "python",
     "metadata": {},
     "outputs": [],
     "prompt_number": 245
    },
    {
     "cell_type": "code",
     "collapsed": false,
     "input": [
      "reference = []\n",
      "test    = []\n",
      "\n",
      "for (t,g) in mc:\n",
      "    reference.append(t)\n",
      "    test.append(g)\n",
      "#print 'Reference =', reference \n",
      "#print 'Test    =', test \n",
      "print 'Confusion matrix:' \n",
      "cm = nltk.ConfusionMatrix(reference, test) \n",
      "print cm\n",
      "#print nltk.ConfusionMatrix(reference, test).pp(sort_by_count=True) \n",
      "#print cm.pp(sort_by_count=True, show_percents=True, truncate=2) \n",
      "cfm = [[202.0,0.0,0.0,0.0],[0.0,368.0,0.0,0.0],[0.0,0.0,27.0,0.0],[0.0,0.0,0.0,403.0]]\n",
      "\n",
      "(vp, fn, fp, vn) = confusion_table(cfm, 0)\n",
      "precision = vp / (vp + fp)\n",
      "recall = vp / (vp + fn)\n",
      "f = 2*((precision*recall)/(precision + recall))\n",
      "\n",
      "print 'Precision=%-8s Recall=%-8s F=%-30s' % (precision, recall, f)\n",
      "cl.show_most_informative_features(15)\n"
     ],
     "language": "python",
     "metadata": {},
     "outputs": [
      {
       "output_type": "stream",
       "stream": "stdout",
       "text": [
        "Confusion matrix:\n",
        "  |    0    1    2    3 |\n",
        "--+---------------------+\n",
        "0 | <403>   .    .    . |\n",
        "1 |    .<1277>   .    . |\n",
        "2 |    .    .  <45>   5 |\n",
        "3 |    .    .    .<1070>|\n",
        "--+---------------------+\n",
        "(row = reference; col = test)\n",
        "\n",
        "Precision=1.0      Recall=1.0      F=1.0                           \n",
        "Most Informative Features\n",
        "          has_trans_tags = 1                   2 : 3      =     78.7 : 1.0\n",
        "                  length = 4                   1 : 3      =     57.5 : 1.0\n",
        "                  has_wh = 1                   2 : 3      =     39.9 : 1.0\n",
        "             has_formats = 1                   2 : 3      =     37.1 : 1.0\n",
        "                  length = 3                   1 : 3      =     25.2 : 1.0\n",
        "                  length = 1                   0 : 2      =      5.2 : 1.0\n",
        "             has_formats = 0                   1 : 2      =      2.8 : 1.0\n",
        "                  length = 6                   2 : 1      =      2.5 : 1.0\n",
        "                  length = 5                   1 : 2      =      1.9 : 1.0\n",
        "          has_trans_tags = 0                   1 : 2      =      1.6 : 1.0\n",
        "           has_www_words = 0                   1 : 3      =      1.5 : 1.0\n",
        "                  has_wh = 0                   0 : 2      =      1.2 : 1.0\n"
       ]
      }
     ],
     "prompt_number": 246
    },
    {
     "cell_type": "code",
     "collapsed": false,
     "input": [],
     "language": "python",
     "metadata": {},
     "outputs": [],
     "prompt_number": 246
    }
   ],
   "metadata": {}
  }
 ]
}