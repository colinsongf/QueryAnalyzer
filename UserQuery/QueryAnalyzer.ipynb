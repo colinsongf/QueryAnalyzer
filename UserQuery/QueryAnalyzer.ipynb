{
 "metadata": {
  "name": "QueryAnalyzer"
 },
 "nbformat": 3,
 "nbformat_minor": 0,
 "worksheets": [
  {
   "cells": [
    {
     "cell_type": "heading",
     "level": 1,
     "metadata": {},
     "source": [
      "Explicit intentional query identifier (Prototype 1)"
     ]
    },
    {
     "cell_type": "markdown",
     "metadata": {},
     "source": [
      "An <i>explicit intentional query</i> is a query that can be related to a specific goal in a recognizable, unambiguous way. A search query is regarded to contain an <i>explicit user goal</i> (or short: explicit goal) whenever the query:\n",
      "<ol>\n",
      "    <li>Contains at least one verb and </li>\n",
      "    <li>Describes a plausible state of affairs that the user may want to achieve or avoid in 3) a recognizable way.</li>\n",
      "</ol>\n",
      "\n",
      "<b>Objective: </b> Identify whether a query has an explicit goal or not."
     ]
    },
    {
     "cell_type": "code",
     "collapsed": false,
     "input": [
      "import goal_analyzer as ga\n",
      "path = \"/media/University/UniversityDisc/2-Master/MasterThesis/EjecucionTesis/Desarrollo/PythonProjects/QueryAnalyzer/Models/\"\n",
      "classifier_name = \"my_classifier_v3.pickle\"\n",
      "cl = ga.loadTrainedClassifier(path + classifier_name)\n",
      "query = \"car\"\n",
      "prob_dist_max, tag = ga.testQuery(cl, query)\n",
      "ga.viewProbabilityDistribution(prob_dist_max, tag)\n",
      "\n",
      "\n",
      "import chunker as ch\n",
      "goal = ch.extract(query)"
     ],
     "language": "python",
     "metadata": {},
     "outputs": [
      {
       "output_type": "stream",
       "stream": "stdout",
       "text": [
        "POS Tags:  S NN E\n",
        "TriGram:   S-NN-E\n",
        "\n"
       ]
      },
      {
       "output_type": "stream",
       "stream": "stdout",
       "text": [
        "Max Probability Distribution: neg\n",
        "Pos: 0.0106319951055\n",
        "Neg: 0.989368004895\n",
        "\n",
        "\n",
        "This sentence is about: car"
       ]
      },
      {
       "output_type": "stream",
       "stream": "stdout",
       "text": [
        "\n"
       ]
      },
      {
       "output_type": "display_data",
       "png": "[encoded data removed]"
      }
     ],
     "prompt_number": 1
    },
    {
     "cell_type": "code",
     "collapsed": false,
     "input": [
      "import intent_classifier as iclass\n",
      "\n",
      "cl = iclass.loadTrainedClassifier(\"intent_classifier.pickle\")\n",
      "tag,tns,inf,nav = iclass.classify(cl, query)\n",
      "iclass.viewProbabilityDistribution(tns,inf,nav)"
     ],
     "language": "python",
     "metadata": {},
     "outputs": [
      {
       "output_type": "stream",
       "stream": "stdout",
       "text": [
        "\n",
        "The query is: \tinformational\n",
        "Transactional: \t0.40395218416\n",
        "Informational: \t0.459438703821\n",
        "Navigational: \t0.136609112019\n",
        "\n"
       ]
      },
      {
       "output_type": "display_data",
       "png": "[encoded data removed]"
      }
     ],
     "prompt_number": 2
    },
    {
     "cell_type": "heading",
     "level": 1,
     "metadata": {},
     "source": [
      "<br />\n",
      "Goal Modelling (GoMo)"
     ]
    },
    {
     "cell_type": "markdown",
     "metadata": {},
     "source": [
      "A <i>goal model</i> is a type of statistical model for discovering the abstract \"goals\" that occur in a collection of queries. The algorithms in GoMo, such as <b>Latent Semantic Analysis (LSA)</b>, <b>Latent Dirichlet Allocation (LDA)</b> and <b>Hierarchical Dirichlet Process (HDP)</b>, discover semantic structure of queries, by examining word statistical co-occurrence patterns within a corpus of training documents. These algorithms are unsupervised, which means no human input is necessary \u2013 you only need a corpus of plain text documents."
     ]
    },
    {
     "cell_type": "markdown",
     "metadata": {},
     "source": [
      "<b>I. Create both the Corpus and the Dictionary</b>"
     ]
    },
    {
     "cell_type": "code",
     "collapsed": false,
     "input": [
      "import logging\n",
      "#logging.basicConfig(format='%(asctime)s : %(levelname)s : %(message)s, level=logging.INFO')\n",
      "logger = logging.getLogger()\n",
      "logger.disabled = False\n",
      "\n",
      "from gensim import corpora\n",
      "import generate_corpora as genco\n",
      "\n",
      "corpus = genco.MyCorpus()\n",
      "model_path = \"/media/University/UniversityDisc/2-Master/MasterThesis/EjecucionTesis/Desarrollo/PythonProjects/QueryAnalyzer/Models/\"\n",
      "corpus_name = \"corpus.mm\"\n",
      "corpora.MmCorpus.serialize(model_path + corpus_name, corpus)"
     ],
     "language": "python",
     "metadata": {},
     "outputs": [
      {
       "output_type": "stream",
       "stream": "stdout",
       "text": [
        "Generating dictionary, this takes some time, please wait...\n",
        "\tDictionary created on"
       ]
      },
      {
       "output_type": "stream",
       "stream": "stdout",
       "text": [
        " 24.7 seconds.\n",
        "\tDictionary(16287 unique tokens)\n"
       ]
      }
     ],
     "prompt_number": 3
    },
    {
     "cell_type": "code",
     "collapsed": false,
     "input": [
      "from gensim import corpora, models, similarities\n",
      "\n",
      "model_path = \"/media/University/UniversityDisc/2-Master/MasterThesis/EjecucionTesis/Desarrollo/PythonProjects/QueryAnalyzer/Models/\"\n",
      "dictionary_file = \"goal_dictionary.dict\"\n",
      "corpus_file = \"corpus.mm\"\n",
      "dictionary = corpora.Dictionary.load(model_path + dictionary_file)\n",
      "corpus = corpora.MmCorpus(model_path + corpus_file)\n",
      "\n",
      "print dictionary\n",
      "print corpus"
     ],
     "language": "python",
     "metadata": {},
     "outputs": [
      {
       "output_type": "stream",
       "stream": "stdout",
       "text": [
        "Dictionary(16287 unique tokens)\n",
        "MmCorpus(98294 documents, 16287 features, 326719 non-zero entries)\n"
       ]
      }
     ],
     "prompt_number": 4
    },
    {
     "cell_type": "markdown",
     "metadata": {},
     "source": [
      "<b>II. TfIdf transformation.</b> From now on, tfidf is treated as a read-only object that can be used to convert any vector from the old representation (bag-of-words integer counts) to the new representation (TfIdf real-valued weights):"
     ]
    },
    {
     "cell_type": "code",
     "collapsed": false,
     "input": [
      "tfidf = models.TfidfModel(corpus) # step 1 -- initialize a model\n",
      "corpus_tfidf = tfidf[corpus]"
     ],
     "language": "python",
     "metadata": {},
     "outputs": [],
     "prompt_number": 5
    },
    {
     "cell_type": "markdown",
     "metadata": {},
     "source": [
      "<b>Note:</b> Calling model[corpus] only creates a wrapper around the old corpus document stream \u2013 actual conversions are done on-the-fly, during document iteration. "
     ]
    },
    {
     "cell_type": "heading",
     "level": 2,
     "metadata": {},
     "source": [
      "<br />\n",
      "Latent Semantic Indexing (LSI)"
     ]
    },
    {
     "cell_type": "markdown",
     "metadata": {},
     "source": [
      "Transforms documents from either <i>bag-of-words</i> or (preferrably) <i>TfIdf-weighted</i> space into a latent space of a lower dimensionality. For the corpus bellow we used only 10 latent dimensions, but on real corpora, target dimensionality of 200\u2013500 is recommended as a \u201cgolden standard\u201d.\n",
      "<br />\n",
      "<br />"
     ]
    },
    {
     "cell_type": "code",
     "collapsed": false,
     "input": [
      "#lsi = models.LsiModel(corpus_tfidf, id2word=dictionary, num_topics=50) # initialize an LSI transformation\n",
      "#lsi.save(model_path + 'model.lsi') # same for tfidf, lda, ...\n",
      "lsi = models.LsiModel.load(model_path + 'model.lsi')\n",
      "#corpus_lsi = lsi[corpus_tfidf] # create a double wrapper over the original corpus: bow->tfidf->fold-in-lsi\n",
      "import lsamodel as lsa\n",
      "num_topics = 20;\n",
      "num_words = 4;\n",
      "lsa.viewTopics(lsi, num_topics, num_words)"
     ],
     "language": "python",
     "metadata": {},
     "outputs": [
      {
       "output_type": "stream",
       "stream": "stdout",
       "text": [
        "TOPIC # 0 :  [(0.95823822940359971, 'buy'), (0.17551460463916099, 'make'), (0.11706828044197064, 'best'), (0.079942517612275332, 'find')]\n",
        "TOPIC # 1 :  [(0.90347631750099389, 'make'), (0.32788121530629871, 'own'), (-0.20500864916963371, 'buy'), (0.072786561473526135, 'do')]\n",
        "TOPIC # 2 :  [(0.96147573133939235, 'find'), (0.10205526192230438, 'number'), (-0.097283122705550049, 'make'), (0.093429640059314714, 'email')]\n",
        "TOPIC # 3 :  [(0.80640800579638194, 'get'), (0.51135430197152754, 'do'), (0.17138542816469177, 'listen'), (-0.12037135070538649, 'find')]\n",
        "TOPIC # 4 :  [(0.97824594723185943, 'listen'), (-0.15721497012703858, 'get'), (-0.079414755428150838, 'do'), (0.060081569621607274, 'song')]\n",
        "TOPIC # 5 :  [(0.75404442910213121, 'do'), (-0.54508464122276168, 'get'), (0.25542135906180036, 'change'), (0.15445808157145408, 'go')]\n",
        "TOPIC # 6 :  [(-0.82080337008393378, 'own'), (0.33966940703470139, 'make'), (-0.30782178281272898, 'create'), (-0.18022136582298645, 'build')]\n",
        "TOPIC # 7 :  [(0.98128823709975566, 'go'), (-0.14611113842981577, 'do'), (-0.072663455619621564, 'change'), (0.044854823938620142, 'own')]\n",
        "TOPIC # 8 :  [(-0.90736564368451356, 'change'), (0.27134399797320502, 'do'), (-0.26407683944595378, 'screen'), (-0.083122179615024869, 'email')]\n",
        "TOPIC # 9 :  [(0.98234610308167192, 'sell'), (0.089715116743334045, 'house'), (0.086784937742130405, 'car'), (-0.054054771819278126, 'buy')]\n",
        "TOPIC # 10 :  [(0.79793357979976054, 'play'), (0.46906155022400814, 'learn'), (0.22170157016078512, 'guitar'), (0.14833473615057507, 'fix')]\n",
        "TOPIC # 11 :  [(0.82884987788331366, 'fix'), (0.33478821855320751, 'computer'), (0.20127298547980807, 'from'), (-0.16548970364789273, 'play')]\n",
        "TOPIC # 12 :  [(0.84260206200311583, 'email'), (-0.25216438145362824, 'fix'), (0.21587259318844432, 'create'), (0.17167717344328734, 'add')]\n",
        "TOPIC # 13 :  [(0.82813942218663295, 'looking'), (0.25952270728215709, 'from'), (0.22630178312713786, 'love'), (0.16963992839279909, 'making')]\n",
        "TOPIC # 14 :  [(0.7170565236665587, 'from'), (-0.41840250236474441, 'looking'), (0.29032816418316482, 'making'), (-0.24329247229851669, 'fix')]\n",
        "TOPIC # 15 :  [(0.66151167841661895, 'create'), (-0.40137853308994637, 'build'), (0.36020594611061763, 'new'), (-0.30654261326102006, 'email')]\n",
        "TOPIC # 16 :  [(0.57430049281363194, 'finding'), (0.57171421748624163, 'making'), (-0.31624194613768669, 'from'), (0.26845971059387208, 'love')]\n",
        "TOPIC # 17 :  [(0.69340455218470143, 'finding'), (-0.63168790834026389, 'making'), (0.17376171228871293, 'nemo'), (0.094818732085666657, 'from')]\n",
        "TOPIC # 18 :  [(-0.65205212156997894, 'learn'), (0.44874452610425153, 'play'), (-0.33026147134661105, 'use'), (-0.302067107920513, 'draw')]\n",
        "TOPIC # 19 :  [(-0.87558422779751877, 'use'), (0.24605899032939035, 'learn'), (0.14798731092691889, 'draw'), (-0.14450175499880871, 'clean')]\n"
       ]
      }
     ],
     "prompt_number": 7
    },
    {
     "cell_type": "code",
     "collapsed": false,
     "input": [
      "#query = \"how do I change my profile on aol\"\n",
      "query = \"how to make table grass skirts\"\n",
      "print \"QUERY: \", query\n",
      "goals_distribution = lsa.perQueryGoalProportions(query, dictionary, tfidf, lsi)\n",
      "lsa.viewPerQueryGoalProportions(goals_distribution)"
     ],
     "language": "python",
     "metadata": {},
     "outputs": [
      {
       "output_type": "stream",
       "stream": "stdout",
       "text": [
        "QUERY:  how to make table grass skirts\n",
        "vec_bow: \t[(708, 1), (8846, 1), (10332, 1), (14238, 1)]\n",
        "vec_tfidf:\t[(708, 0.6477706621002534), (8846, 0.1961447664488578), (10332, 0.5100748465211807), (14238, 0.5307956771332225)]\n",
        "\n",
        "Per-query goal proportions (on 0.0 seconds):\n",
        "\t[(0, 0.00011609289668889826), (1, 0.00016827324458844393), (2, 0.00029413611245995012), (3, 0.0012442430491585367), (4, -0.0001588099484237744), (5, -0.00029080912992942957), (6, 0.00011107607748788807), (7, 3.5749968107911768e-05), (8, 0.000164607226567951), (9, 5.7420863152377275e-06), (10, 0.00021977279667801866), (11, 3.678225578121213e-05), (12, -0.00022674759041217649), (13, 0.00027816062589109655), (14, 0.00039223835799275008), (15, 0.00027096718815721225), (16, 2.5240647944705332e-05), (17, 0.0003385444803480307), (18, -0.0004718088490576825), (19, 7.1429842103355143e-05), (20, -0.00022718001792274825), (21, -0.00090579095654899286), (22, -0.00028833036321051494), (23, -0.00039506288536687222), (24, -0.0006230078287712056), (25, 3.1674406787224817e-06), (26, 0.00041199604688082884), (27, 0.00095282429452995328), (28, -0.00042994089173641005), (29, 0.001320288002279921), (30, -0.00098673286803178137), (31, 0.00048288033336980397), (32, 0.0010705962237723403), (33, -0.0015253619716903513), (34, -0.010825019688883572), (35, 0.00027223656654640969), (36, -0.0028519764522991721), (37, 0.00095453343659014026), (38, 0.00029296984688733014), (39, -0.00026957589698388195), (40, -0.00077917563260957215), (41, -0.00070317844050756776), (42, 0.00073849790934538411), (43, -0.00057551845680640619), (44, -0.00046615924380758638), (45, 0.00030285858630025171), (46, 0.00014609222552118849), (47, -0.00028198095533055905), (48, 0.00043874899437639967), (49, -0.000299784999714311)]\n",
        "\n",
        "\n"
       ]
      },
      {
       "output_type": "display_data",
       "png": "[encoded data removed]"
      },
      {
       "output_type": "stream",
       "stream": "stdout",
       "text": [
        "\n",
        "\n"
       ]
      }
     ],
     "prompt_number": 8
    },
    {
     "cell_type": "code",
     "collapsed": false,
     "input": [
      "lsi.show_topic(31)"
     ],
     "language": "python",
     "metadata": {},
     "outputs": [
      {
       "output_type": "pyout",
       "prompt_number": 48,
       "text": [
        "[(-0.95058459549564089, 'cancel'),\n",
        " (0.14360137720224342, 'someone'),\n",
        " (-0.12971395496899898, 'have'),\n",
        " (-0.075639212255417379, 'business'),\n",
        " (-0.064803314880651511, 'cleaning'),\n",
        " (-0.06377767355867775, 'love'),\n",
        " (-0.062526774630736567, 'are'),\n",
        " (-0.048917423525023436, 'credit'),\n",
        " (-0.047073787904444886, 'service'),\n",
        " (0.04541064891771928, 'is')]"
       ]
      }
     ],
     "prompt_number": 48
    },
    {
     "cell_type": "markdown",
     "metadata": {},
     "source": [
      "<b>Note:</b> Here we transformed our Tf-Idf corpus via <i>Latent Semantic Indexing</i> into a latent n-D space (n-D because we set num_topics=n)."
     ]
    },
    {
     "cell_type": "heading",
     "level": 2,
     "metadata": {},
     "source": [
      "<br />\n",
      "<br />\n",
      "Latent DIrichlet Allocation (LDA)"
     ]
    },
    {
     "cell_type": "markdown",
     "metadata": {},
     "source": [
      "LDA is yet another transformation from bag-of-words counts into a topic space of lower dimensionality. LDA is a probabilistic extension of LSA (also called multinomial PCA), so LDA\u2019s topics can be interpreted as probability distributions over words. These distributions are, just like with LSA, inferred automatically from a training corpus. Documents are in turn interpreted as a (soft) mixture of these topics (again, just like with LSA).\n",
      "<br />"
     ]
    },
    {
     "cell_type": "code",
     "collapsed": false,
     "input": [
      "lda = models.ldamodel.LdaModel(corpus, num_topics=200, id2word=dictionary, update_every=1, chunksize=1000, passes=1)\n",
      "lda.save(model_path + 'model.lda') # same for tfidf, lsi, ...\n",
      "lda_charged = lda"
     ],
     "language": "python",
     "metadata": {},
     "outputs": [],
     "prompt_number": 49
    },
    {
     "cell_type": "code",
     "collapsed": false,
     "input": [
      "from gensim import models\n",
      "\n",
      "model_path = \"/media/University/UniversityDisc/2-Master/MasterThesis/EjecucionTesis/Desarrollo/PythonProjects/QueryAnalyzer/Models/\"\n",
      "lda_charged = models.LdaModel.load(model_path + 'model.lda')\n",
      "lda_goals = [lda_charged[c] for c in corpus]\n",
      "#print lda_goals[53]"
     ],
     "language": "python",
     "metadata": {},
     "outputs": [],
     "prompt_number": 10
    },
    {
     "cell_type": "code",
     "collapsed": false,
     "input": [
      "import matplotlib.pyplot as plt\n",
      "import numpy as np\n",
      "\n",
      "plt.hist([len(t) for t in lda_goals], np.arange(15))\n",
      "plt.ylabel('Nr of Queriees')\n",
      "plt.xlabel('Nr of Goals')\n",
      "plt.show()"
     ],
     "language": "python",
     "metadata": {},
     "outputs": [
      {
       "output_type": "display_data",
       "png": "[encoded data removed]"
      }
     ],
     "prompt_number": 52
    },
    {
     "cell_type": "code",
     "collapsed": false,
     "input": [
      "lda_2 = models.ldamodel.LdaModel(corpus, num_topics=200, id2word=dictionary, alpha=1, update_every=1, chunksize=1000, passes=1)\n",
      "lda_2.save(model_path + 'model_2\".lda') # same for tfidf, lsi, ...\n",
      "lda_2_charged = models.LdaModel.load(model_path + 'model_2.lda')"
     ],
     "language": "python",
     "metadata": {},
     "outputs": [],
     "prompt_number": 55
    },
    {
     "cell_type": "code",
     "collapsed": false,
     "input": [
      "lda_goals_2 = [lda_2[c] for c in corpus]\n",
      "plt.clf()\n",
      "plt.hist([[len(t) for t in lda_goals], [len(t) for t in lda_goals_2]], np.arange(12))\n",
      "plt.ylabel('Nr of documents')\n",
      "plt.xlabel('Nr of topics')\n",
      "plt.text(5, 30000, r'default alpha')\n",
      "plt.text(10, 7000, 'alpha=0.6')\n",
      "plt.show()"
     ],
     "language": "python",
     "metadata": {},
     "outputs": [
      {
       "output_type": "display_data",
       "png": "[encoded data removed]"
      }
     ],
     "prompt_number": 57
    },
    {
     "cell_type": "code",
     "collapsed": false,
     "input": [
      "import ldamodel as lda\n",
      "import numpy as np\n",
      "\n",
      "num_topics = 10;\n",
      "num_words = 4;\n",
      "lda.viewTopics(lda_charged, num_topics, num_words)"
     ],
     "language": "python",
     "metadata": {},
     "outputs": [
      {
       "output_type": "stream",
       "stream": "stdout",
       "text": [
        "TOPIC # 0 :  [(0.20940417700087466, 'texas'), (0.14045610486064611, 'world'), (0.089104015308582474, 'houston'), (0.060469582747913496, 'schools')]\n",
        "TOPIC # 1 :  [(0.49341433716835442, 'music'), (0.089048217116177455, 'skin'), (0.081609212745103438, 'videos'), (0.042015297634944077, 'upload')]\n",
        "TOPIC # 2 :  [(0.23598168485678744, 'real'), (0.10653363220975764, 'estate'), (0.080811737201704897, 'marriage'), (0.076875651150607446, 'believe')]\n",
        "TOPIC # 3 :  [(0.52807781102259999, 'can'), (0.23517943419506684, 'find'), (0.023188648450518705, 'colorado'), (0.022926312315032026, 'ma')]\n",
        "TOPIC # 4 :  [(0.079093139745087082, 'dont'), (0.071109135239028801, 'restore'), (0.056266575764060994, 'enter'), (0.054459886687896857, 'super')]\n",
        "TOPIC # 5 :  [(0.090029253642025353, 'island'), (0.073634709199368487, 'hot'), (0.060430064534529558, 'post'), (0.060070284198250466, 'america')]\n",
        "TOPIC # 6 :  [(0.81813010389371632, 'buy'), (0.017716136859086618, 'books'), (0.012464023979605131, 'uninstall'), (0.007448565106274143, 'breath')]\n",
        "TOPIC # 7 :  [(0.68544885013767742, 'aol'), (0.096080011438201787, 'information'), (0.027637505157180484, 'speech'), (0.025003712535621204, 'scan')]\n",
        "TOPIC # 8 :  [(0.41954347780781764, 'buying'), (0.096462594843824315, 'gold'), (0.076819252377702804, 'products'), (0.038469837689949063, 'checks')]\n",
        "TOPIC # 9 :  [(0.82478417483942312, 'do'), (0.037533331595471897, '2'), (0.033018281517907137, 'living'), (0.0070738012969445438, 'ringtones')]\n"
       ]
      }
     ],
     "prompt_number": 13
    },
    {
     "cell_type": "code",
     "collapsed": false,
     "input": [
      "#query = \"how do I change my profile on aol\"\n",
      "print \"QUERY: \", query\n",
      "#new_doc = \"In natural language processing, latent Dirichlet allocation (LDA) is a generative model that allows sets of observations to be explained by unobserved groups that explain why some parts of the data are similar. For example, if observations are words collected into documents, it posits that each document is a mixture of a small number of topics and that each word's creation is attributable to one of the document's topics. LDA is an example of a topic model and was first presented as a graphical model for topic discovery by David Blei, Andrew Ng, and Michael Jordan in 2003.\"\n",
      "#new_doc = \"find a vegetarian restauran in Popayan\"\n",
      "goals_distribution = lda.perQueryGoalProportions(query, dictionary, lda_charged)\n",
      "lda.viewPerQueryGoalProportions(goals_distribution)"
     ],
     "language": "python",
     "metadata": {},
     "outputs": [
      {
       "output_type": "stream",
       "stream": "stdout",
       "text": [
        "QUERY:  how to make table grass skirts\n",
        "vec_bow: \t[(708, 1), (8846, 1), (10332, 1), (14238, 1)]\n",
        "\n",
        "Per-query goal proportions (on 0.0 seconds):\n",
        "\t[(35, 0.40100000000000141), (71, 0.20100000000000065), (197, 0.20100000000000071)]\n",
        "\n",
        "\n"
       ]
      },
      {
       "output_type": "display_data",
       "png": "[encoded data removed]"
      },
      {
       "output_type": "stream",
       "stream": "stdout",
       "text": [
        "\n",
        "\n"
       ]
      }
     ],
     "prompt_number": 14
    },
    {
     "cell_type": "code",
     "collapsed": false,
     "input": [
      "lda_charged.show_topic(117)"
     ],
     "language": "python",
     "metadata": {},
     "outputs": [
      {
       "output_type": "pyout",
       "prompt_number": 66,
       "text": [
        "[(0.84816225683820334, 'find'),\n",
        " (0.0078019703743563793, 'al'),\n",
        " (0.0075290587863587289, 'doctor'),\n",
        " (0.0061170170034560061, 'inmate'),\n",
        " (0.0056528181554958779, 'pill'),\n",
        " (0.0051035777765041195, 'sleeping'),\n",
        " (0.0050025749484065712, 'offenders'),\n",
        " (0.004668959026997834, 'act'),\n",
        " (0.0041941576602320058, 'spotting'),\n",
        " (0.0037631946838237234, 'airline')]"
       ]
      }
     ],
     "prompt_number": 66
    },
    {
     "cell_type": "code",
     "collapsed": false,
     "input": [],
     "language": "python",
     "metadata": {},
     "outputs": []
    }
   ],
   "metadata": {}
  }
 ]
}