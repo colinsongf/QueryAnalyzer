{
 "metadata": {
  "name": "QueryAnalyzer"
 },
 "nbformat": 3,
 "nbformat_minor": 0,
 "worksheets": [
  {
   "cells": [
    {
     "cell_type": "heading",
     "level": 1,
     "metadata": {},
     "source": [
      "Explicit intentional query identifier (Prototype 1)"
     ]
    },
    {
     "cell_type": "markdown",
     "metadata": {},
     "source": [
      "An <i>explicit intentional query</i> is a query that can be related to a specific goal in a recognizable, unambiguous way. A search query is regarded to contain an <i>explicit user goal</i> (or short: explicit goal) whenever the query:\n",
      "<ol>\n",
      "    <li>Contains at least one verb and </li>\n",
      "    <li>Describes a plausible state of affairs that the user may want to achieve or avoid in 3) a recognizable way.</li>\n",
      "</ol>\n",
      "\n",
      "<b>Objective: </b> Identify whether a query has an explicit goal or not."
     ]
    },
    {
     "cell_type": "code",
     "collapsed": false,
     "input": [
      "import goal_analyzer as ga\n",
      "path = \"/media/University/UniversityDisc/2-Master/MasterThesis/EjecucionTesis/Desarrollo/PythonProjects/QueryAnalyzer/Models/\"\n",
      "classifier_name = \"my_classifier_v3.pickle\"\n",
      "cl = ga.loadTrainedClassifier(path + classifier_name)\n",
      "query = \"buy a car\"\n",
      "prob_dist_max, tag = ga.testQuery(cl, query)\n",
      "ga.viewProbabilityDistribution(prob_dist_max, tag)\n",
      "\n",
      "\n",
      "import chunker as ch\n",
      "goal = ch.extract(query)"
     ],
     "language": "python",
     "metadata": {},
     "outputs": [
      {
       "output_type": "stream",
       "stream": "stdout",
       "text": [
        "POS Tags:  S VB DT NN E\n",
        "TriGram:   S-VB-DT VB-DT-NN DT-NN-E\n",
        "\n"
       ]
      },
      {
       "output_type": "stream",
       "stream": "stdout",
       "text": [
        "Max Probability Distribution: pos\n",
        "Pos: 0.770892486374\n",
        "Neg: 0.229107513626\n",
        "\n",
        "\n",
        "This sentence is about: buy, car"
       ]
      },
      {
       "output_type": "stream",
       "stream": "stdout",
       "text": [
        "\n"
       ]
      },
      {
       "output_type": "display_data",
       "png": "[encoded data removed]"
      }
     ],
     "prompt_number": 20
    },
    {
     "cell_type": "code",
     "collapsed": false,
     "input": [
      "import intent_classifier as iclass\n",
      "\n",
      "cl = iclass.loadTrainedClassifier(\"intent_classifier.pickle\")\n",
      "tag,tns,inf,nav = iclass.classify(cl, query)\n",
      "iclass.viewProbabilityDistribution(tns,inf,nav)"
     ],
     "language": "python",
     "metadata": {},
     "outputs": [
      {
       "output_type": "stream",
       "stream": "stdout",
       "text": [
        "\n",
        "The query is: \ttransactional\n",
        "Transactional: \t0.69582628443\n",
        "Informational: \t0.209221846506\n",
        "Navigational: \t0.0949518690642\n",
        "\n"
       ]
      },
      {
       "output_type": "display_data",
       "png": "[encoded data removed]"
      }
     ],
     "prompt_number": 21
    },
    {
     "cell_type": "heading",
     "level": 1,
     "metadata": {},
     "source": [
      "<br />\n",
      "Goal Modelling (GoMo)"
     ]
    },
    {
     "cell_type": "markdown",
     "metadata": {},
     "source": [
      "A <i>goal model</i> is a type of statistical model for discovering the abstract \"goals\" that occur in a collection of queries. The algorithms in GoMo, such as <b>Latent Semantic Analysis (LSA)</b>, <b>Latent Dirichlet Allocation (LDA)</b> and <b>Hierarchical Dirichlet Process (HDP)</b>, discover semantic structure of queries, by examining word statistical co-occurrence patterns within a corpus of training documents. These algorithms are unsupervised, which means no human input is necessary \u2013 you only need a corpus of plain text documents."
     ]
    },
    {
     "cell_type": "markdown",
     "metadata": {},
     "source": [
      "<b>I. Create both the Corpus and the Dictionary</b>"
     ]
    },
    {
     "cell_type": "code",
     "collapsed": false,
     "input": [
      "import logging\n",
      "#logging.basicConfig(format='%(asctime)s : %(levelname)s : %(message)s, level=logging.INFO')\n",
      "logger = logging.getLogger()\n",
      "logger.disabled = False\n",
      "\n",
      "from gensim import corpora\n",
      "import generate_corpora as genco\n",
      "\n",
      "corpus = genco.MyCorpus()\n",
      "model_path = \"/media/University/UniversityDisc/2-Master/MasterThesis/EjecucionTesis/Desarrollo/PythonProjects/QueryAnalyzer/Models/\"\n",
      "corpus_name = \"corpus.mm\"\n",
      "corpora.MmCorpus.serialize(model_path + corpus_name, corpus)"
     ],
     "language": "python",
     "metadata": {},
     "outputs": [
      {
       "output_type": "stream",
       "stream": "stdout",
       "text": [
        "Generating dictionary, this takes some time, please wait...\n",
        "\tDictionary created on"
       ]
      },
      {
       "output_type": "stream",
       "stream": "stdout",
       "text": [
        " 23.65 seconds.\n",
        "\tDictionary(16287 unique tokens)\n"
       ]
      }
     ],
     "prompt_number": 1
    },
    {
     "cell_type": "code",
     "collapsed": false,
     "input": [
      "from gensim import corpora, models, similarities\n",
      "\n",
      "model_path = \"/media/University/UniversityDisc/2-Master/MasterThesis/EjecucionTesis/Desarrollo/PythonProjects/QueryAnalyzer/Models/\"\n",
      "dictionary_file = \"goal_dictionary.dict\"\n",
      "corpus_file = \"corpus.mm\"\n",
      "dictionary = corpora.Dictionary.load(model_path + dictionary_file)\n",
      "corpus = corpora.MmCorpus(model_path + corpus_file)\n",
      "\n",
      "print dictionary\n",
      "print corpus"
     ],
     "language": "python",
     "metadata": {},
     "outputs": [
      {
       "output_type": "stream",
       "stream": "stdout",
       "text": [
        "Dictionary(16287 unique tokens)\n",
        "MmCorpus(98294 documents, 16287 features, 326719 non-zero entries)\n"
       ]
      }
     ],
     "prompt_number": 6
    },
    {
     "cell_type": "markdown",
     "metadata": {},
     "source": [
      "<b>II. TfIdf transformation.</b> From now on, tfidf is treated as a read-only object that can be used to convert any vector from the old representation (bag-of-words integer counts) to the new representation (TfIdf real-valued weights):"
     ]
    },
    {
     "cell_type": "code",
     "collapsed": false,
     "input": [
      "tfidf = models.TfidfModel(corpus) # step 1 -- initialize a model\n",
      "corpus_tfidf = tfidf[corpus]"
     ],
     "language": "python",
     "metadata": {},
     "outputs": [],
     "prompt_number": 7
    },
    {
     "cell_type": "markdown",
     "metadata": {},
     "source": [
      "<b>Note:</b> Calling model[corpus] only creates a wrapper around the old corpus document stream \u2013 actual conversions are done on-the-fly, during document iteration. "
     ]
    },
    {
     "cell_type": "heading",
     "level": 2,
     "metadata": {},
     "source": [
      "<br />\n",
      "Latent Semantic Indexing (LSI)"
     ]
    },
    {
     "cell_type": "markdown",
     "metadata": {},
     "source": [
      "Transforms documents from either <i>bag-of-words</i> or (preferrably) <i>TfIdf-weighted</i> space into a latent space of a lower dimensionality. For the corpus bellow we used only 10 latent dimensions, but on real corpora, target dimensionality of 200\u2013500 is recommended as a \u201cgolden standard\u201d.\n",
      "<br />\n",
      "<br />"
     ]
    },
    {
     "cell_type": "code",
     "collapsed": false,
     "input": [
      "lsi = models.LsiModel(corpus_tfidf, id2word=dictionary, num_topics=20) # initialize an LSI transformation\n",
      "lsi.save(model_path + 'model.lsi') # same for tfidf, lda, ...\n",
      "#lsi = models.LsiModel.load(model_path + 'model.lsi')\n",
      "#corpus_lsi = lsi[corpus_tfidf] # create a double wrapper over the original corpus: bow->tfidf->fold-in-lsi\n",
      "import lsamodel as lsa\n",
      "num_topics = 20;\n",
      "num_words = 4;\n",
      "lsa.viewTopics(lsi, num_topics, num_words)"
     ],
     "language": "python",
     "metadata": {},
     "outputs": [
      {
       "output_type": "stream",
       "stream": "stdout",
       "text": [
        "TOPIC # 0 :  [(0.95739213627610709, 'buy'), (0.13162771122740002, 'best'), (0.11527626081669408, 'make'), (0.11258304576440219, 'online')]\n",
        "TOPIC # 1 :  [(0.84864917700206277, 'make'), (0.38458248213745921, 'own'), (0.1717237133153536, 'money'), (-0.16512489757385623, 'buy')]\n",
        "TOPIC # 2 :  [(0.88745770411544211, 'find'), (0.1995935054615125, 'do'), (0.16957418546209702, 'get'), (-0.16483209817845446, 'make')]\n",
        "TOPIC # 3 :  [(0.78550403737998364, 'get'), (0.49028524520470956, 'do'), (-0.29621930602099322, 'find'), (-0.11039244434487315, 'make')]\n",
        "TOPIC # 4 :  [(0.81320822668587978, 'listen'), (0.54052238817834453, 'music'), (-0.10881774349981889, 'get'), (0.10371215446074843, 'online')]\n",
        "TOPIC # 5 :  [(-0.73984599183408628, 'do'), (0.56010542457766876, 'get'), (-0.177842584116888, 'aol'), (-0.14417536159957334, 'change')]\n",
        "TOPIC # 6 :  [(-0.78006075894440396, 'own'), (0.36922653787651383, 'make'), (-0.28689393864643997, 'create'), (0.19108792176217845, 'money')]\n",
        "TOPIC # 7 :  [(0.6132555519197368, 'aol'), (0.43631451850064418, 'account'), (0.26784228991665815, 'change'), (-0.26566666910534859, 'do')]\n",
        "TOPIC # 8 :  [(0.70530057855215567, 'http'), (0.65073936792521758, 'go'), (0.15741462840853276, 'aol'), (-0.13788858398837064, 'do')]\n",
        "TOPIC # 9 :  [(0.5586157651672562, 'play'), (0.39893924642266548, 'money'), (0.33740023778741679, 'online'), (0.29154559692310833, 'home')]\n",
        "TOPIC # 10 :  [(-0.72958220597955092, 'change'), (-0.33889658309703324, 'password'), (0.28245758185345687, 'account'), (-0.25859096916856583, 'screen')]\n",
        "TOPIC # 11 :  [(-0.51344122120979385, 'play'), (0.47791201465063243, 'money'), (0.47018560518436825, 'home'), (-0.24227883746732856, 'learn')]\n",
        "TOPIC # 12 :  [(0.77639342603105965, 'online'), (-0.30802112827966777, 'play'), (-0.25597419817531697, 'home'), (-0.1951245791041866, 'best')]\n",
        "TOPIC # 13 :  [(-0.69534267057778765, 'assist'), (-0.67298209397791986, 'sell'), (0.16956076332428599, 'money'), (0.067185767156666229, 'home')]\n",
        "TOPIC # 14 :  [(0.47644652496852147, 'draw'), (0.3883205700563504, 'computer'), (0.29613227525817126, 'fix'), (-0.28432768656700724, 'money')]\n",
        "TOPIC # 15 :  [(-0.55229540084035056, 'phone'), (0.42088276721257367, 'email'), (-0.34638831120980412, 'draw'), (-0.31689708931475458, 'number')]\n",
        "TOPIC # 16 :  [(-0.94079907707788557, 'ride'), (-0.17071183218331998, 'draw'), (-0.11903002846353038, 'profile'), (0.11810074298320834, 'phone')]\n",
        "TOPIC # 17 :  [(-0.50629558009287357, 'draw'), (0.33707288133315638, 'phone'), (0.33650004970080011, 'ride'), (-0.30748469964058606, 'profile')]\n",
        "TOPIC # 18 :  [(0.57248822440223379, 'weight'), (0.54326562944953194, 'lose'), (0.32860724033279298, 'have'), (0.20850722065397156, 'fast')]\n",
        "TOPIC # 19 :  [(0.38707537110223428, 'profile'), (-0.3747729355393325, 'weight'), (0.37219951508085353, 'have'), (-0.36770033381537431, 'lose')]\n"
       ]
      }
     ],
     "prompt_number": 8
    },
    {
     "cell_type": "code",
     "collapsed": false,
     "input": [
      "query = \"how do I change my profile on aol\"\n",
      "#query = \"how to make table grass skirts\"\n",
      "print \"QUERY: \", query\n",
      "goals_distribution = lsa.perQueryGoalProportions(query, dictionary, tfidf, lsi)\n",
      "lsa.viewPerQueryGoalProportions(goals_distribution)"
     ],
     "language": "python",
     "metadata": {},
     "outputs": [
      {
       "output_type": "stream",
       "stream": "stdout",
       "text": [
        "QUERY:  how do I change my profile on aol\n",
        "vec_bow: \t[(4642, 1), (5204, 1), (11467, 1), (15660, 1)]\n",
        "vec_tfidf:\t[(4642, 0.31634066185359305), (5204, 0.5073351814663722), (11467, 0.6494757526633593), (15660, 0.46980937198706096)]\n",
        "\n",
        "Per-query goal proportions (on 0.0 seconds):\n",
        "\t[(0, 0.022235640181068682), (1, 0.066792540472260756), (2, 0.11471748937470527), (3, 0.21868407761547595), (4, 0.0052085375343102688), (5, -0.40498354725543684), (6, -0.013058776446370018), (7, 0.38006220393819856), (8, 0.069765801515265985), (9, -0.13608978698197463), (10, -0.31728447745447269), (11, 0.017519743505498286), (12, 0.0036080514088086268), (13, 0.044726304398576555), (14, -0.10726836749093659), (15, -0.12002274207860011), (16, -0.086206737795826299), (17, -0.22452571018078382), (18, 0.023509637303708225), (19, 0.13805016789328045)]\n",
        "\n",
        "\n"
       ]
      },
      {
       "output_type": "display_data",
       "png": "[encoded data removed]"
      },
      {
       "output_type": "stream",
       "stream": "stdout",
       "text": [
        "\n",
        "\n"
       ]
      }
     ],
     "prompt_number": 13
    },
    {
     "cell_type": "code",
     "collapsed": false,
     "input": [
      "lsi.show_topic(5)"
     ],
     "language": "python",
     "metadata": {},
     "outputs": [
      {
       "output_type": "pyout",
       "prompt_number": 14,
       "text": [
        "[(-0.73984599183408628, 'do'),\n",
        " (0.56010542457766876, 'get'),\n",
        " (-0.177842584116888, 'aol'),\n",
        " (-0.14417536159957334, 'change'),\n",
        " (0.10115925510933359, 'find'),\n",
        " (-0.092284258823087245, 'know'),\n",
        " (-0.085140425926936103, 'account'),\n",
        " (0.068694828252013354, 'listen'),\n",
        " (-0.066360773574065127, 'password'),\n",
        " (0.064735829729608896, 'make')]"
       ]
      }
     ],
     "prompt_number": 14
    },
    {
     "cell_type": "markdown",
     "metadata": {},
     "source": [
      "<b>Note:</b> Here we transformed our Tf-Idf corpus via <i>Latent Semantic Indexing</i> into a latent n-D space (n-D because we set num_topics=n)."
     ]
    },
    {
     "cell_type": "heading",
     "level": 2,
     "metadata": {},
     "source": [
      "<br />\n",
      "<br />\n",
      "Latent DIrichlet Allocation (LDA)"
     ]
    },
    {
     "cell_type": "markdown",
     "metadata": {},
     "source": [
      "LDA is yet another transformation from bag-of-words counts into a topic space of lower dimensionality. LDA is a probabilistic extension of LSA (also called multinomial PCA), so LDA\u2019s topics can be interpreted as probability distributions over words. These distributions are, just like with LSA, inferred automatically from a training corpus. Documents are in turn interpreted as a (soft) mixture of these topics (again, just like with LSA).\n",
      "<br />"
     ]
    },
    {
     "cell_type": "code",
     "collapsed": false,
     "input": [
      "lda = models.ldamodel.LdaModel(corpus, num_topics=200, id2word=dictionary, update_every=1, chunksize=1000, passes=1)\n",
      "lda.save(model_path + 'model.lda') # same for tfidf, lsi, ...\n",
      "lda_charged = lda"
     ],
     "language": "python",
     "metadata": {},
     "outputs": [],
     "prompt_number": 49
    },
    {
     "cell_type": "code",
     "collapsed": false,
     "input": [
      "from gensim import models\n",
      "\n",
      "model_path = \"/media/University/UniversityDisc/2-Master/MasterThesis/EjecucionTesis/Desarrollo/PythonProjects/QueryAnalyzer/Models/\"\n",
      "lda_charged = models.LdaModel.load(model_path + 'model.lda')\n",
      "lda_goals = [lda_charged[c] for c in corpus]\n",
      "#print lda_goals[53]"
     ],
     "language": "python",
     "metadata": {},
     "outputs": [],
     "prompt_number": 15
    },
    {
     "cell_type": "code",
     "collapsed": false,
     "input": [
      "import matplotlib.pyplot as plt\n",
      "import numpy as np\n",
      "\n",
      "plt.hist([len(t) for t in lda_goals], np.arange(15))\n",
      "plt.ylabel('Nr of Queriees')\n",
      "plt.xlabel('Nr of Goals')\n",
      "plt.show()"
     ],
     "language": "python",
     "metadata": {},
     "outputs": [
      {
       "output_type": "display_data",
       "png": "[encoded data removed]"
      }
     ],
     "prompt_number": 16
    },
    {
     "cell_type": "code",
     "collapsed": false,
     "input": [
      "lda_2 = models.ldamodel.LdaModel(corpus, num_topics=200, id2word=dictionary, alpha=0.3, update_every=1, chunksize=1000, passes=1)\n",
      "lda_2.save(model_path + 'model_2\".lda') # same for tfidf, lsi, ...\n",
      "#lda_2_charged = models.LdaModel.load(model_path + 'model_2.lda')"
     ],
     "language": "python",
     "metadata": {},
     "outputs": [],
     "prompt_number": 17
    },
    {
     "cell_type": "code",
     "collapsed": false,
     "input": [
      "lda_goals_2 = [lda_2[c] for c in corpus]\n",
      "plt.clf()\n",
      "plt.hist([[len(t) for t in lda_goals], [len(t) for t in lda_goals_2]], np.arange(50))\n",
      "plt.ylabel('Nr of documents')\n",
      "plt.xlabel('Nr of topics')\n",
      "plt.text(5, 30000, r'default alpha')\n",
      "plt.text(10, 7000, 'alpha=1')\n",
      "plt.show()"
     ],
     "language": "python",
     "metadata": {},
     "outputs": [
      {
       "output_type": "display_data",
       "png": "[encoded data removed]"
      }
     ],
     "prompt_number": 18
    },
    {
     "cell_type": "code",
     "collapsed": false,
     "input": [
      "import ldamodel as lda\n",
      "import numpy as np\n",
      "\n",
      "num_topics = 10;\n",
      "num_words = 4;\n",
      "lda.viewTopics(lda_charged, num_topics, num_words)"
     ],
     "language": "python",
     "metadata": {},
     "outputs": [
      {
       "output_type": "stream",
       "stream": "stdout",
       "text": [
        "TOPIC # 0 :  [(0.20940417700087466, 'texas'), (0.14045610486064611, 'world'), (0.089104015308582474, 'houston'), (0.060469582747913496, 'schools')]\n",
        "TOPIC # 1 :  [(0.49341433716835442, 'music'), (0.089048217116177455, 'skin'), (0.081609212745103438, 'videos'), (0.042015297634944077, 'upload')]\n",
        "TOPIC # 2 :  [(0.23598168485678744, 'real'), (0.10653363220975764, 'estate'), (0.080811737201704897, 'marriage'), (0.076875651150607446, 'believe')]\n",
        "TOPIC # 3 :  [(0.52807781102259999, 'can'), (0.23517943419506684, 'find'), (0.023188648450518705, 'colorado'), (0.022926312315032026, 'ma')]\n",
        "TOPIC # 4 :  [(0.079093139745087082, 'dont'), (0.071109135239028801, 'restore'), (0.056266575764060994, 'enter'), (0.054459886687896857, 'super')]\n",
        "TOPIC # 5 :  [(0.090029253642025353, 'island'), (0.073634709199368487, 'hot'), (0.060430064534529558, 'post'), (0.060070284198250466, 'america')]\n",
        "TOPIC # 6 :  [(0.81813010389371632, 'buy'), (0.017716136859086618, 'books'), (0.012464023979605131, 'uninstall'), (0.007448565106274143, 'breath')]\n",
        "TOPIC # 7 :  [(0.68544885013767742, 'aol'), (0.096080011438201787, 'information'), (0.027637505157180484, 'speech'), (0.025003712535621204, 'scan')]\n",
        "TOPIC # 8 :  [(0.41954347780781764, 'buying'), (0.096462594843824315, 'gold'), (0.076819252377702804, 'products'), (0.038469837689949063, 'checks')]\n",
        "TOPIC # 9 :  [(0.82478417483942312, 'do'), (0.037533331595471897, '2'), (0.033018281517907137, 'living'), (0.0070738012969445438, 'ringtones')]\n"
       ]
      }
     ],
     "prompt_number": 21
    },
    {
     "cell_type": "code",
     "collapsed": false,
     "input": [
      "query = \"how do I change my profile on aol\"\n",
      "print \"QUERY: \", query\n",
      "#new_doc = \"In natural language processing, latent Dirichlet allocation (LDA) is a generative model that allows sets of observations to be explained by unobserved groups that explain why some parts of the data are similar. For example, if observations are words collected into documents, it posits that each document is a mixture of a small number of topics and that each word's creation is attributable to one of the document's topics. LDA is an example of a topic model and was first presented as a graphical model for topic discovery by David Blei, Andrew Ng, and Michael Jordan in 2003.\"\n",
      "#new_doc = \"find a vegetarian restauran in Popayan\"\n",
      "goals_distribution = lda.perQueryGoalProportions(query, dictionary, lda_2)\n",
      "lda.viewPerQueryGoalProportions(goals_distribution)"
     ],
     "language": "python",
     "metadata": {},
     "outputs": [
      {
       "output_type": "stream",
       "stream": "stdout",
       "text": [
        "QUERY:  how do I change my profile on aol\n",
        "vec_bow: \t[(4642, 1), (5204, 1), (11467, 1), (15660, 1)]\n",
        "\n",
        "Per-query goal proportions (on 0.0 seconds):\n",
        "\t[(20, 0.02031250000000007), (41, 0.02031250000000007), (166, 0.020312431890432692), (188, 0.02031250000000007)]\n",
        "\n",
        "\n"
       ]
      },
      {
       "output_type": "display_data",
       "png": "[encoded data removed]"
      },
      {
       "output_type": "stream",
       "stream": "stdout",
       "text": [
        "\n",
        "\n"
       ]
      }
     ],
     "prompt_number": 32
    },
    {
     "cell_type": "code",
     "collapsed": false,
     "input": [
      "lda_2.show_topic(141)"
     ],
     "language": "python",
     "metadata": {},
     "outputs": [
      {
       "output_type": "pyout",
       "prompt_number": 30,
       "text": [
        "[(0.24200215193759433, 'car'),\n",
        " (0.1233460164215778, 'keep'),\n",
        " (0.089773016430434269, 'cheap'),\n",
        " (0.064408127526290146, 'insurance'),\n",
        " (0.063874425614444633, 'gas'),\n",
        " (0.043973963090468839, 'medical'),\n",
        " (0.04386300099354784, 'butter'),\n",
        " (0.035600125379022032, 'jeans'),\n",
        " (0.023607524726970724, 'neck'),\n",
        " (0.020842134666591846, 'blocks')]"
       ]
      }
     ],
     "prompt_number": 30
    },
    {
     "cell_type": "code",
     "collapsed": false,
     "input": [],
     "language": "python",
     "metadata": {},
     "outputs": [
      {
       "ename": "NameError",
       "evalue": "name 'lda_2' is not defined",
       "output_type": "pyerr",
       "traceback": [
        "\u001b[0;31m---------------------------------------------------------------------------\u001b[0m\n\u001b[0;31mNameError\u001b[0m                                 Traceback (most recent call last)",
        "\u001b[0;32m<ipython-input-13-01b760d8573c>\u001b[0m in \u001b[0;36m<module>\u001b[0;34m()\u001b[0m\n\u001b[1;32m      7\u001b[0m \u001b[0;31m# Separate into a list of (word, frequency).\u001b[0m\u001b[0;34m\u001b[0m\u001b[0;34m\u001b[0m\u001b[0m\n\u001b[1;32m      8\u001b[0m \u001b[0;31m#words = wordcloud.process_text(text, max_features=2000)\u001b[0m\u001b[0;34m\u001b[0m\u001b[0;34m\u001b[0m\u001b[0m\n\u001b[0;32m----> 9\u001b[0;31m \u001b[0mwords\u001b[0m \u001b[0;34m=\u001b[0m \u001b[0mlda_2\u001b[0m\u001b[0;34m.\u001b[0m\u001b[0mshow_topic\u001b[0m\u001b[0;34m(\u001b[0m\u001b[0;36m141\u001b[0m\u001b[0;34m)\u001b[0m\u001b[0;34m\u001b[0m\u001b[0m\n\u001b[0m\u001b[1;32m     10\u001b[0m \u001b[0;32mprint\u001b[0m \u001b[0mwords\u001b[0m\u001b[0;34m\u001b[0m\u001b[0m\n\u001b[1;32m     11\u001b[0m \u001b[0;31m# Compute the position of the words.\u001b[0m\u001b[0;34m\u001b[0m\u001b[0;34m\u001b[0m\u001b[0m\n",
        "\u001b[0;31mNameError\u001b[0m: name 'lda_2' is not defined"
       ]
      }
     ],
     "prompt_number": 13
    }
   ],
   "metadata": {}
  }
 ]
}