{
 "metadata": {
  "name": "",
  "signature": "sha256:5ef6d015cf7ef5b4ea7cb6d1822005524b4e23ff99edb6ee472acad900f214ce"
 },
 "nbformat": 3,
 "nbformat_minor": 0,
 "worksheets": [
  {
   "cells": [
    {
     "cell_type": "heading",
     "level": 1,
     "metadata": {},
     "source": [
      "Explicit intentional query identifier (Prototype 1)"
     ]
    },
    {
     "cell_type": "markdown",
     "metadata": {},
     "source": [
      "An <i>explicit intentional query</i> is a query that can be related to a specific goal in a recognizable, unambiguous way. A search query is regarded to contain an <i>explicit user goal</i> (or short: explicit goal) whenever the query:\n",
      "<ol>\n",
      "    <li>Contains at least one verb and </li>\n",
      "    <li>Describes a plausible state of affairs that the user may want to achieve or avoid in 3) a recognizable way.</li>\n",
      "</ol>\n",
      "\n",
      "<b>Objective: </b> Identify whether a query has an explicit goal or not."
     ]
    },
    {
     "cell_type": "code",
     "collapsed": false,
     "input": [
      "import goal_analyzer as ga\n",
      "path = \"/media/University/UniversityDisc/2-Master/MasterThesis/EjecucionTesis/Desarrollo/PythonProjects/QueryAnalyzer/Models/\"\n",
      "classifier_name = \"my_classifier_v3.pickle\"\n",
      "cl = ga.loadTrainedClassifier(path + classifier_name)\n",
      "query = \"car\"\n",
      "prob_dist_max, tag = ga.testQuery(cl, query)\n",
      "ga.viewProbabilityDistribution(prob_dist_max, tag)\n",
      "\n",
      "\n",
      "import chunker as ch\n",
      "goal = ch.extract(query)"
     ],
     "language": "python",
     "metadata": {},
     "outputs": [
      {
       "output_type": "stream",
       "stream": "stdout",
       "text": [
        "Most Informative Features\n",
        "      contains(S-JJ-NNS) = True              neg : pos    =     24.6 : 1.0\n",
        "       contains(S-NN-NN) = True              neg : pos    =     13.4 : 1.0\n",
        "       contains(S-NN-IN) = True              neg : pos    =      6.0 : 1.0\n",
        "      contains(JJ-NNS-E) = True              neg : pos    =      3.6 : 1.0\n",
        "       contains(IN-NN-E) = True              pos : neg    =      2.5 : 1.0\n",
        "    contains(JJ-NNS-VBP) = True              neg : pos    =      2.0 : 1.0\n",
        "      contains(NN-NN-NN) = True              neg : pos    =      2.0 : 1.0\n",
        "     contains(JJ-NN-NNS) = True              neg : pos    =      2.0 : 1.0\n",
        "    contains(NNS-CC-NNS) = True              neg : pos    =      2.0 : 1.0\n",
        "       contains(IN-CD-E) = True              neg : pos    =      2.0 : 1.0\n",
        "    contains(NNS-VBP-JJ) = True              neg : pos    =      2.0 : 1.0\n",
        "     contains(VBP-NNS-E) = True              neg : pos    =      2.0 : 1.0\n",
        "      contains(IN-JJ-NN) = True              neg : pos    =      2.0 : 1.0\n",
        "  contains(IN-NNP-LOC-E) = True              neg : pos    =      2.0 : 1.0\n",
        "      contains(CC-NNS-E) = True              neg : pos    =      2.0 : 1.0\n",
        "       contains(CD-CD-E) = True              neg : pos    =      2.0 : 1.0\n",
        "      contains(NN-NN-CD) = True              neg : pos    =      2.0 : 1.0\n",
        "      contains(NN-IN-JJ) = True              neg : pos    =      2.0 : 1.0\n",
        "      contains(NN-IN-CD) = True              neg : pos    =      2.0 : 1.0\n",
        "     contains(PRP-VBP-E) = True              neg : pos    =      2.0 : 1.0\n",
        "    contains(IN-NNS-VBP) = True              neg : pos    =      2.0 : 1.0\n",
        "     contains(NNS-IN-NN) = True              pos : neg    =      1.8 : 1.0\n",
        "      contains(S-WRB-TO) = False             neg : pos    =      1.7 : 1.0\n",
        "     contains(WRB-TO-VB) = False             neg : pos    =      1.6 : 1.0\n",
        "      contains(NN-JJ-NN) = True              pos : neg    =      1.5 : 1.0\n",
        "      contains(IN-DT-NN) = True              pos : neg    =      1.5 : 1.0\n",
        "      contains(IN-NN-NN) = True              pos : neg    =      1.5 : 1.0\n",
        "       contains(NN-NN-E) = True              neg : pos    =      1.4 : 1.0\n",
        "      contains(JJ-NN-NN) = True              neg : pos    =      1.4 : 1.0\n",
        "      contains(NN-NNS-E) = True              pos : neg    =      1.3 : 1.0\n",
        "       contains(S-NN-NN) = False             pos : neg    =      1.3 : 1.0\n",
        "       contains(NN-JJ-E) = True              neg : pos    =      1.3 : 1.0\n",
        "      contains(TO-VB-NN) = False             neg : pos    =      1.2 : 1.0\n",
        "      contains(S-JJ-NNS) = False             pos : neg    =      1.2 : 1.0\n",
        "      contains(NN-IN-NN) = True              pos : neg    =      1.2 : 1.0\n",
        "       contains(DT-NN-E) = True              pos : neg    =      1.2 : 1.0\n",
        "     contains(NNS-IN-DT) = True              neg : pos    =      1.2 : 1.0\n",
        "     contains(NN-IN-NNS) = True              neg : pos    =      1.2 : 1.0\n",
        "      contains(S-NNS-IN) = True              pos : neg    =      1.2 : 1.0\n",
        "        contains(S-NN-E) = False             pos : neg    =      1.2 : 1.0\n",
        "\n"
       ]
      },
      {
       "output_type": "stream",
       "stream": "stdout",
       "text": [
        "Max Probability Distribution: neg\n",
        "Pos: 0.0106319951055\n",
        "Neg: 0.989368004895\n",
        "\n",
        "\n",
        "This sentence is about: car"
       ]
      },
      {
       "output_type": "stream",
       "stream": "stdout",
       "text": [
        "\n"
       ]
      },
      {
       "metadata": {},
       "output_type": "display_data",
       "png": "[encoded data removed]",
       "text": [
        "<matplotlib.figure.Figure at 0x4ae78d0>"
       ]
      }
     ],
     "prompt_number": 1
    },
    {
     "cell_type": "code",
     "collapsed": false,
     "input": [
      "import intent_classifier as iclass\n",
      "\n",
      "cl = iclass.loadTrainedClassifier(\"intent_classifier.pickle\")\n",
      "tag,tns, inf, nav, amb = iclass.classify(cl, query)\n",
      "iclass.viewProbabilityDistribution(tns, inf, nav, amb)"
     ],
     "language": "python",
     "metadata": {},
     "outputs": [
      {
       "output_type": "stream",
       "stream": "stdout",
       "text": [
        "\n",
        "The query is: \tinformational\n",
        "Transactional: \t0.40395218416\n",
        "Informational: \t0.459438703821\n",
        "Navigational: \t0.136609112019\n",
        "Ambiguous: \t0\n",
        "\n",
        "tns=0.78, inf=0.34, nav=0.48, am=0.78b"
       ]
      },
      {
       "output_type": "stream",
       "stream": "stdout",
       "text": [
        "\n"
       ]
      },
      {
       "metadata": {},
       "output_type": "display_data",
       "png": "[encoded data removed]",
       "text": [
        "<matplotlib.figure.Figure at 0x39cec10>"
       ]
      }
     ],
     "prompt_number": 2
    },
    {
     "cell_type": "markdown",
     "metadata": {},
     "source": [
      "<br />\n",
      "<h1>Goal Modelling (GoMo)</h1>\n",
      "A <i>goal model</i> is a type of statistical model for discovering the abstract \"goals\" that occur in a collection of queries. The algorithms in GoMo, such as <b>Latent Semantic Analysis (LSA)</b>, <b>Latent Dirichlet Allocation (LDA)</b> and <b>Hierarchical Dirichlet Process (HDP)</b>, discover semantic structure of queries, by examining word statistical co-occurrence patterns within a corpus of training documents. These algorithms are unsupervised, which means no human input is necessary \u2013 you only need a corpus of plain text documents."
     ]
    },
    {
     "cell_type": "markdown",
     "metadata": {},
     "source": [
      "<b>I. Create both the Corpus and the Dictionary</b>"
     ]
    },
    {
     "cell_type": "code",
     "collapsed": false,
     "input": [
      "import logging\n",
      "#logging.basicConfig(format='%(asctime)s : %(levelname)s : %(message)s, level=logging.INFO')\n",
      "logger = logging.getLogger()\n",
      "logger.disabled = False\n",
      "\n",
      "from gensim import corpora\n",
      "import generate_corpora as genco\n",
      "\n",
      "corpus = genco.MyCorpus()\n",
      "model_path = \"/media/University/UniversityDisc/2-Master/MasterThesis/EjecucionTesis/Desarrollo/PythonProjects/QueryAnalyzer/Models/\"\n",
      "corpus_name = \"corpus.mm\"\n",
      "corpora.MmCorpus.serialize(model_path + corpus_name, corpus)"
     ],
     "language": "python",
     "metadata": {},
     "outputs": [
      {
       "output_type": "stream",
       "stream": "stdout",
       "text": [
        "Generating dictionary, this takes some time, please wait...\n",
        "\tDictionary created on"
       ]
      },
      {
       "output_type": "stream",
       "stream": "stdout",
       "text": [
        " 23.97 seconds.\n",
        "\tDictionary(16287 unique tokens)\n"
       ]
      }
     ],
     "prompt_number": 1
    },
    {
     "cell_type": "code",
     "collapsed": false,
     "input": [
      "from gensim import corpora, models, similarities\n",
      "\n",
      "model_path = \"/media/University/UniversityDisc/2-Master/MasterThesis/EjecucionTesis/Desarrollo/PythonProjects/QueryAnalyzer/Models/\"\n",
      "dictionary_file = \"goal_dictionary.dict\"\n",
      "corpus_file = \"corpus.mm\"\n",
      "dictionary = corpora.Dictionary.load(model_path + dictionary_file)\n",
      "corpus = corpora.MmCorpus(model_path + corpus_file)\n",
      "\n",
      "print dictionary\n",
      "print corpus"
     ],
     "language": "python",
     "metadata": {},
     "outputs": [
      {
       "output_type": "stream",
       "stream": "stdout",
       "text": [
        "Dictionary(16287 unique tokens)\n",
        "MmCorpus(98294 documents, 16287 features, 326719 non-zero entries)\n"
       ]
      }
     ],
     "prompt_number": 1
    },
    {
     "cell_type": "markdown",
     "metadata": {},
     "source": [
      "<b>II. TfIdf transformation.</b> From now on, tfidf is treated as a read-only object that can be used to convert any vector from the old representation (bag-of-words integer counts) to the new representation (TfIdf real-valued weights):"
     ]
    },
    {
     "cell_type": "code",
     "collapsed": false,
     "input": [
      "tfidf = models.TfidfModel(corpus) # step 1 -- initialize a model\n",
      "corpus_tfidf = tfidf[corpus]"
     ],
     "language": "python",
     "metadata": {},
     "outputs": [],
     "prompt_number": 2
    },
    {
     "cell_type": "markdown",
     "metadata": {},
     "source": [
      "<b>Note:</b> Calling model[corpus] only creates a wrapper around the old corpus document stream \u2013 actual conversions are done on-the-fly, during document iteration. "
     ]
    },
    {
     "cell_type": "markdown",
     "metadata": {},
     "source": [
      "<br />\n",
      "<h2>Latent Semantic Indexing (LSI)</h2>\n",
      "Transforms documents from either <i>bag-of-words</i> or (preferrably) <i>TfIdf-weighted</i> space into a latent space of a lower dimensionality. For the corpus bellow we used only 10 latent dimensions, but on real corpora, target dimensionality of 200\u2013500 is recommended as a \u201cgolden standard\u201d.\n",
      "<br />\n",
      "<br />"
     ]
    },
    {
     "cell_type": "code",
     "collapsed": false,
     "input": [
      "num_topics = 25\n",
      "lsi = models.LsiModel(corpus_tfidf, id2word=dictionary, num_topics=num_topics) # initialize an LSI transformation\n",
      "lsi.save(model_path + 'model.lsi') # same for tfidf, lda, ...\n",
      "#lsi = models.LsiModel.load(model_path + 'model.lsi')\n",
      "#corpus_lsi = lsi[corpus_tfidf] # create a double wrapper over the original corpus: bow->tfidf->fold-in-lsi\n",
      "import lsamodel as lsam\n",
      "num_words = 4\n",
      "lsam.viewTopics(lsi, num_topics, num_words)"
     ],
     "language": "python",
     "metadata": {},
     "outputs": [
      {
       "output_type": "stream",
       "stream": "stdout",
       "text": [
        "TOPIC # 0 :  [(0.95753316630017971, 'buy'), (0.1310487479079265, 'best'), (0.11514493551149591, 'make'), (0.11213408236079782, 'online')]\n",
        "TOPIC # 1 :  [(0.84796242134449162, 'make'), (0.38485707224937943, 'own'), (0.17367262382636994, 'money'), (-0.16551854302759092, 'buy')]\n",
        "TOPIC # 2 :  [(0.88719445371103589, 'find'), (0.19870476435529158, 'do'), (0.16806457793859564, 'get'), (-0.16471849698555543, 'make')]\n",
        "TOPIC # 3 :  [(0.78559898748673518, 'get'), (0.49080579740533403, 'do'), (-0.29451593649558039, 'find'), (-0.1103799486914529, 'make')]\n",
        "TOPIC # 4 :  [(0.82249177627891312, 'listen'), (0.52546170724196262, 'music'), (-0.10851508192596605, 'get'), (0.10554649745032914, 'online')]\n",
        "TOPIC # 5 :  [(0.73751165522003026, 'do'), (-0.56035353413937505, 'get'), (0.18034432494825217, 'aol'), (0.14683657531242061, 'change')]\n",
        "TOPIC # 6 :  [(-0.77966994659134559, 'own'), (0.36798655039683076, 'make'), (-0.29119919332660366, 'create'), (0.1919755387671529, 'money')]\n",
        "TOPIC # 7 :  [(0.63215390280468353, 'aol'), (0.42843937405061322, 'account'), (-0.29111774565532939, 'do'), (0.29017118545288351, 'change')]\n",
        "TOPIC # 8 :  [(0.72522929660235547, 'http'), (0.66990655606645988, 'go'), (-0.09651766227694622, 'do'), (0.077054074376591855, 'aol')]\n",
        "TOPIC # 9 :  [(-0.64922906703458916, 'change'), (0.33844062913744027, 'account'), (-0.30713060417528976, 'password'), (0.30576823190190777, 'money')]\n",
        "TOPIC # 10 :  [(0.51250622168773385, 'money'), (0.45464384367940824, 'home'), (0.36694043386337177, 'change'), (0.22794953623211742, 'online')]\n",
        "TOPIC # 11 :  [(-0.82401576572426738, 'play'), (-0.31913638877476747, 'learn'), (-0.21888246006050241, 'guitar'), (0.21290314210780284, 'money')]\n",
        "TOPIC # 12 :  [(-0.78850737417839822, 'online'), (0.25159944992284294, 'home'), (0.22358809633264251, 'fix'), (0.22298900820967979, 'play')]\n",
        "TOPIC # 13 :  [(0.72556945942517181, 'fix'), (-0.28762743944556257, 'account'), (0.24144997444204191, 'online'), (0.23906958113509771, 'computer')]\n",
        "TOPIC # 14 :  [(0.67853922653009335, 'looking'), (0.31753947455984338, 'people'), (0.31267171156020523, 'finding'), (0.22019492135042174, 'phone')]\n",
        "TOPIC # 15 :  [(0.54995675155725676, 'email'), (0.34098053687298707, 'sell'), (0.31682698797177816, 'assist'), (-0.30769366838508078, 'looking')]\n",
        "TOPIC # 16 :  [(-0.55087989953710714, 'assist'), (-0.54862081114113892, 'sell'), (0.31170354466583183, 'people'), (0.28810404660598293, 'email')]\n",
        "TOPIC # 17 :  [(-0.71274246668581331, 'learn'), (0.29796503923019063, 'play'), (-0.2788700706476997, 'draw'), (-0.2129686038236229, 'speak')]\n",
        "TOPIC # 18 :  [(0.5093586356111599, 'people'), (-0.36467373730667213, 'music'), (-0.31321578626788366, 'phone'), (-0.26541150091923377, 'email')]\n",
        "TOPIC # 19 :  [(0.40883004258241812, 'create'), (0.31244448726415341, 'new'), (0.30025548528535995, 'fix'), (-0.28652330456991654, 'aol')]\n",
        "TOPIC # 20 :  [(-0.61002349374926645, 'music'), (0.32417518372115545, 'listen'), (-0.31592312841794967, 'people'), (0.24604981780140719, 'online')]\n",
        "TOPIC # 21 :  [(-0.99562017034638484, 'ride'), (-0.045958868823032288, 'music'), (0.025806230317043981, 'listen'), (0.024280549799305079, 'online')]\n",
        "TOPIC # 22 :  [(-0.57863561102356997, 'profile'), (-0.31817275731489386, 'create'), (0.31064788263555337, 'screen'), (-0.25896743574715697, 'draw')]\n",
        "TOPIC # 23 :  [(-0.6622173369557498, 'weight'), (-0.63843590640551096, 'lose'), (-0.23709907615413908, 'fast'), (0.14961206697157753, 'profile')]\n",
        "TOPIC # 24 :  [(-0.8388839207878761, 'have'), (-0.36324295688812247, 'are'), (-0.19975894849486461, 'profile'), (0.13551921323734739, 'screen')]\n"
       ]
      }
     ],
     "prompt_number": 42
    },
    {
     "cell_type": "code",
     "collapsed": false,
     "input": [
      "#query = \"how do I change my profile on aol\"\n",
      "query = \"how to warm up your fish tank water\"\n",
      "print \"QUERY: \", query\n",
      "goals_distribution = lsam.perQueryGoalProportions(query, dictionary, tfidf, lsi)\n",
      "lsam.viewPerQueryGoalProportions(goals_distribution)\n",
      "total = 0\n",
      "for d in goals_distribution:\n",
      "    total = total + d[1]\n",
      "print total"
     ],
     "language": "python",
     "metadata": {},
     "outputs": [
      {
       "output_type": "stream",
       "stream": "stdout",
       "text": [
        "QUERY:  how to warm up your fish tank water\n",
        "vec_bow: \t[(8281, 1), (8796, 1), (14918, 1), (16179, 1)]\n",
        "vec_tfidf:\t[(8281, 0.6220427665944339), (8796, 0.5169451955527377), (14918, 0.3893903686667889), (16179, 0.4406876468793137)]\n",
        "\n",
        "Per-query goal proportions (on 0.0 seconds):\n",
        "\t[(0, 0.0051662045554569085), (1, 0.0023198197132756667), (2, 0.0019838454062959259), (3, 0.0045639889577874342), (4, 0.00091150303734158136), (5, 4.6094922793361252e-05), (6, 7.0426580339285044e-05), (7, 5.5449333243299048e-05), (8, -9.5959330422474057e-05), (9, -0.00095098525139181969), (10, 0.0048253114408629135), (11, -0.0021805291249589543), (12, 0.0027598263556800062), (13, 0.0061080530687763713), (14, 0.0068081582795745084), (15, -0.00058102483466478377), (16, 0.0015730086508698479), (17, -0.002050465835550355), (18, 0.0025500431553654931), (19, 0.0029829069738368259), (20, 0.013268820992789039), (21, 0.0018378895370698277), (22, -0.00051886654191393472), (23, -0.010084768345060936), (24, 0.00039572640031612758)]\n",
        "\n",
        "\n"
       ]
      },
      {
       "metadata": {},
       "output_type": "display_data",
       "png": "[encoded data removed]"
      },
      {
       "output_type": "stream",
       "stream": "stdout",
       "text": [
        "\n",
        "\n",
        "0.0417644780977\n"
       ]
      }
     ],
     "prompt_number": 43
    },
    {
     "cell_type": "code",
     "collapsed": false,
     "input": [
      "lsi.show_topic(40)"
     ],
     "language": "python",
     "metadata": {},
     "outputs": [
      {
       "metadata": {},
       "output_type": "pyout",
       "prompt_number": 41,
       "text": [
        "[(-0.5986065097494746, 'cleaning'),\n",
        " (0.38824581156038518, 'getting'),\n",
        " (0.36602050221732496, 'computer'),\n",
        " (0.22827636537583845, 'check'),\n",
        " (0.15150575895889079, 'grow'),\n",
        " (-0.14987973148596867, 'can'),\n",
        " (-0.14709057676998144, 'house'),\n",
        " (0.14638697567907244, 'screen'),\n",
        " (0.1305061430711692, 'are'),\n",
        " (-0.12746664618208123, 'fix')]"
       ]
      }
     ],
     "prompt_number": 41
    },
    {
     "cell_type": "markdown",
     "metadata": {},
     "source": [
      "<b>Note:</b> Here we transformed our Tf-Idf corpus via <i>Latent Semantic Indexing</i> into a latent n-D space (n-D because we set num_topics=n)."
     ]
    },
    {
     "cell_type": "markdown",
     "metadata": {},
     "source": [
      "<br />\n",
      "<h2>Latent DIrichlet Allocation (LDA)</h2>\n",
      "LDA is yet another transformation from bag-of-words counts into a topic space of lower dimensionality. LDA is a probabilistic extension of LSA (also called multinomial PCA), so LDA\u2019s topics can be interpreted as probability distributions over words. These distributions are, just like with LSA, inferred automatically from a training corpus. Documents are in turn interpreted as a (soft) mixture of these topics (again, just like with LSA).\n",
      "<br />"
     ]
    },
    {
     "cell_type": "code",
     "collapsed": false,
     "input": [
      "lda = models.ldamodel.LdaModel(corpus, num_topics=25, id2word=dictionary, update_every=1, chunksize=1000, passes=1)\n",
      "lda.save(model_path + 'model.lda') # same for tfidf, lsi, ...\n",
      "lda_charged = lda"
     ],
     "language": "python",
     "metadata": {},
     "outputs": [],
     "prompt_number": 44
    },
    {
     "cell_type": "code",
     "collapsed": false,
     "input": [
      "from gensim import models\n",
      "\n",
      "model_path = \"/media/University/UniversityDisc/2-Master/MasterThesis/EjecucionTesis/Desarrollo/PythonProjects/QueryAnalyzer/Models/\"\n",
      "lda_charged = models.LdaModel.load(model_path + 'model.lda')\n",
      "lda_goals = [lda_charged[c] for c in corpus]\n",
      "#print lda_goals[53]"
     ],
     "language": "python",
     "metadata": {},
     "outputs": [],
     "prompt_number": 45
    },
    {
     "cell_type": "code",
     "collapsed": false,
     "input": [
      "from gensim import models\n",
      "import generic_gomo as g\n",
      "\n",
      "model_path = \"/media/University/UniversityDisc/2-Master/MasterThesis/EjecucionTesis/Desarrollo/PythonProjects/QueryAnalyzer/Models/\"\n",
      "corpus, dictionary = g.loadCorpusDictionary(model_path)\n",
      "lda_1 = models.LdaModel.load(model_path + 'model_1.lda') #Default Alpha\n",
      "print lda_1\n",
      "lda_goals = [lda_1[c] for c in corpus]"
     ],
     "language": "python",
     "metadata": {},
     "outputs": [
      {
       "output_type": "stream",
       "stream": "stdout",
       "text": [
        "LdaModel(num_terms=16287, num_topics=200, decay=0.5, chunksize=1000, alpha=0.005)\n"
       ]
      }
     ],
     "prompt_number": 6
    },
    {
     "cell_type": "code",
     "collapsed": false,
     "input": [
      "import matplotlib.pyplot as plt\n",
      "import numpy as np\n",
      "\n",
      "plt.hist([len(t) for t in lda_goals], np.arange(12))\n",
      "plt.ylabel('Nr de Consultas')\n",
      "plt.xlabel('Nr de Objetivos')\n",
      "plt.grid()\n",
      "plt.show()"
     ],
     "language": "python",
     "metadata": {},
     "outputs": [
      {
       "metadata": {},
       "output_type": "display_data",
       "png": "[encoded data removed]",
       "text": [
        "<matplotlib.figure.Figure at 0x494f910>"
       ]
      }
     ],
     "prompt_number": 10
    },
    {
     "cell_type": "code",
     "collapsed": false,
     "input": [
      "lda_2 = models.ldamodel.LdaModel(corpus, num_topics=25, id2word=dictionary, alpha=0.3, update_every=1, chunksize=1000, passes=1)\n",
      "lda_2.save(model_path + 'model_2.lda') # same for tfidf, lsi, ...\n",
      "#lda_2_charged = models.LdaModel.load(model_path + 'model_2.lda')"
     ],
     "language": "python",
     "metadata": {},
     "outputs": [],
     "prompt_number": 49
    },
    {
     "cell_type": "code",
     "collapsed": false,
     "input": [
      "lda_goals_2 = [lda_2[c] for c in corpus]\n",
      "plt.clf()\n",
      "plt.hist([[len(t) for t in lda_goals], [len(t) for t in lda_goals_2]], np.arange(50))\n",
      "plt.ylabel('Nr of documents')\n",
      "plt.xlabel('Nr of topics')\n",
      "plt.text(5, 30000, r'default alpha')\n",
      "plt.text(10, 7000, 'alpha=1')\n",
      "plt.show()"
     ],
     "language": "python",
     "metadata": {},
     "outputs": [
      {
       "metadata": {},
       "output_type": "display_data",
       "png": "[encoded data removed]"
      }
     ],
     "prompt_number": 50
    },
    {
     "cell_type": "code",
     "collapsed": false,
     "input": [
      "import ldamodel as ldam\n",
      "import numpy as np\n",
      "\n",
      "num_topics = 10;\n",
      "num_words = 4;\n",
      "ldam.viewTopics(lda_charged, num_topics, num_words)"
     ],
     "language": "python",
     "metadata": {},
     "outputs": [
      {
       "output_type": "stream",
       "stream": "stdout",
       "text": [
        "GOAL # 0 :  [(0.41476733681507355, 'make'), (0.062112844231828133, 'money'), (0.017841637394405016, 'line'), (0.012804437235932492, 'dance')]\n",
        "GOAL # 1 :  [(0.11467915253888866, 'play'), (0.089393443871906564, 'learn'), (0.06094136931263415, 'guitar'), (0.04654785131811786, 'be')]\n",
        "GOAL # 2 :  [(0.071234214008740443, 'own'), (0.068024039828656388, 'phone'), (0.06612840246869961, 'create'), (0.044921747367667027, 'paint')]\n",
        "GOAL # 3 :  [(0.11412869428442775, 'making'), (0.052594501049700121, 'screen'), (0.052393594787952594, 'install'), (0.049259121517801131, 'go')]\n",
        "GOAL # 4 :  [(0.059413235081350407, 'know'), (0.058238668243783105, 'are'), (0.050738285464921741, 'remove'), (0.029874741264202746, 'windows')]\n",
        "GOAL # 5 :  [(0.13803581384045258, 'from'), (0.084499909988303423, 'home'), (0.073003943776315819, 'new'), (0.043911534470946, 'car')]\n",
        "GOAL # 6 :  [(0.089414915510517654, 'finding'), (0.067209786641595354, 'music'), (0.060403535769681854, 'computer'), (0.03318419289633507, 'water')]\n",
        "GOAL # 7 :  [(0.046370499951107515, 'write'), (0.042339830675277135, 'add'), (0.030291675492695368, 'spanish'), (0.028258649468174888, 'back')]\n",
        "GOAL # 8 :  [(0.35272673793478698, 'get'), (0.048602129648913736, 'hair'), (0.046964796051811211, 'draw'), (0.015394640397633311, 'songs')]\n",
        "GOAL # 9 :  [(0.054406206259260209, 'getting'), (0.044292344930589547, 'set'), (0.031680206401317496, 'lodging'), (0.031100245291190636, 'using')]\n"
       ]
      }
     ],
     "prompt_number": 53
    },
    {
     "cell_type": "code",
     "collapsed": false,
     "input": [
      "query = \"how do I change my profile on aol\"\n",
      "print \"QUERY: \", query\n",
      "#new_doc = \"In natural language processing, latent Dirichlet allocation (LDA) is a generative model that allows sets of observations to be explained by unobserved groups that explain why some parts of the data are similar. For example, if observations are words collected into documents, it posits that each document is a mixture of a small number of topics and that each word's creation is attributable to one of the document's topics. LDA is an example of a topic model and was first presented as a graphical model for topic discovery by David Blei, Andrew Ng, and Michael Jordan in 2003.\"\n",
      "#new_doc = \"find a vegetarian restauran in Popayan\"\n",
      "goals_distribution = ldam.perQueryGoalProportions(query, dictionary, lda)\n",
      "ldam.viewPerQueryGoalProportions(goals_distribution)"
     ],
     "language": "python",
     "metadata": {},
     "outputs": [
      {
       "output_type": "stream",
       "stream": "stdout",
       "text": [
        "QUERY:  how do I change my profile on aol\n",
        "Per-query goal proportions (on 0.0 seconds):\n",
        "\n",
        "\n",
        "MAX  12\n"
       ]
      },
      {
       "metadata": {},
       "output_type": "display_data",
       "png": "[encoded data removed]"
      },
      {
       "output_type": "stream",
       "stream": "stdout",
       "text": [
        "\n",
        "\n"
       ]
      },
      {
       "metadata": {},
       "output_type": "pyout",
       "prompt_number": 54,
       "text": [
        "12"
       ]
      }
     ],
     "prompt_number": 54
    },
    {
     "cell_type": "code",
     "collapsed": false,
     "input": [
      "lda.show_topic(12)"
     ],
     "language": "python",
     "metadata": {},
     "outputs": [
      {
       "metadata": {},
       "output_type": "pyout",
       "prompt_number": 55,
       "text": [
        "[(0.29914568922440565, 'do'),\n",
        " (0.071795861250846194, 'aol'),\n",
        " (0.069296936402947498, 'account'),\n",
        " (0.046115158421033274, 'change'),\n",
        " (0.039281691014816475, 'email'),\n",
        " (0.038471656986737948, 'have'),\n",
        " (0.028766676264419776, 'take'),\n",
        " (0.024311252554704683, 'want'),\n",
        " (0.019440979603752278, 'bad'),\n",
        " (0.013332189448718904, 'password')]"
       ]
      }
     ],
     "prompt_number": 55
    }
   ],
   "metadata": {}
  }
 ]
}