{
 "metadata": {
  "name": "QueryAnalyzer"
 },
 "nbformat": 3,
 "nbformat_minor": 0,
 "worksheets": [
  {
   "cells": [
    {
     "cell_type": "heading",
     "level": 1,
     "metadata": {},
     "source": [
      "Explicit intentional query identifier (Prototype 1)"
     ]
    },
    {
     "cell_type": "markdown",
     "metadata": {},
     "source": [
      "An <i>explicit intentional query</i> is a query that can be related to a specific goal in a recognizable, unambiguous way. A search query is regarded to contain an <i>explicit user goal</i> (or short: explicit goal) whenever the query:\n",
      "<ol>\n",
      "    <li>Contains at least one verb and </li>\n",
      "    <li>Describes a plausible state of affairs that the user may want to achieve or avoid in 3) a recognizable way.</li>\n",
      "</ol>\n",
      "\n",
      "<b>Objective: </b> Identify whether a query has an explicit goal or not."
     ]
    },
    {
     "cell_type": "code",
     "collapsed": false,
     "input": [
      "import goal_analyzer as ga\n",
      "path = \"/media/University/UniversityDisc/2-Master/MasterThesis/EjecucionTesis/Desarrollo/PythonProjects/QueryAnalyzer/Models/\"\n",
      "classifier_name = \"my_classifier_v3.pickle\"\n",
      "cl = ga.loadTrainedClassifier(path + classifier_name)\n",
      "query = \"car\"\n",
      "prob_dist_max, tag = ga.testQuery(cl, query)\n",
      "ga.viewProbabilityDistribution(prob_dist_max, tag)\n",
      "\n",
      "\n",
      "import chunker as ch\n",
      "goal = ch.extract(query)"
     ],
     "language": "python",
     "metadata": {},
     "outputs": [
      {
       "output_type": "stream",
       "stream": "stdout",
       "text": [
        "POS Tags:  S NN E\n",
        "TriGram:   S-NN-E\n",
        "\n"
       ]
      },
      {
       "output_type": "stream",
       "stream": "stdout",
       "text": [
        "Max Probability Distribution: neg\n",
        "Pos: 0.0106319951055\n",
        "Neg: 0.989368004895\n",
        "\n",
        "\n",
        "This sentence is about: car"
       ]
      },
      {
       "output_type": "stream",
       "stream": "stdout",
       "text": [
        "\n"
       ]
      },
      {
       "output_type": "display_data",
       "png": "[encoded data removed]"
      }
     ],
     "prompt_number": 3
    },
    {
     "cell_type": "code",
     "collapsed": false,
     "input": [
      "import intent_classifier as iclass\n",
      "\n",
      "cl = iclass.loadTrainedClassifier(\"intent_classifier.pickle\")\n",
      "tag,tns,inf,nav = iclass.classify(cl, query)\n",
      "iclass.viewProbabilityDistribution(tns,inf,nav)"
     ],
     "language": "python",
     "metadata": {},
     "outputs": [
      {
       "output_type": "stream",
       "stream": "stdout",
       "text": [
        "\n",
        "The query is: \tinformational\n",
        "Transactional: \t0.40395218416\n",
        "Informational: \t0.459438703821\n",
        "Navigational: \t0.136609112019\n",
        "\n"
       ]
      },
      {
       "output_type": "display_data",
       "png": "[encoded data removed]"
      }
     ],
     "prompt_number": 5
    },
    {
     "cell_type": "heading",
     "level": 1,
     "metadata": {},
     "source": [
      "<br />\n",
      "Goal Modelling (GoMo)"
     ]
    },
    {
     "cell_type": "markdown",
     "metadata": {},
     "source": [
      "A <i>goal model</i> is a type of statistical model for discovering the abstract \"goals\" that occur in a collection of queries. The algorithms in GoMo, such as <b>Latent Semantic Analysis (LSA)</b>, <b>Latent Dirichlet Allocation (LDA)</b> and <b>Hierarchical Dirichlet Process (HDP)</b>, discover semantic structure of queries, by examining word statistical co-occurrence patterns within a corpus of training documents. These algorithms are unsupervised, which means no human input is necessary \u2013 you only need a corpus of plain text documents."
     ]
    },
    {
     "cell_type": "markdown",
     "metadata": {},
     "source": [
      "<b>I. Create both the Corpus and the Dictionary</b>"
     ]
    },
    {
     "cell_type": "code",
     "collapsed": false,
     "input": [
      "import logging\n",
      "#logging.basicConfig(format='%(asctime)s : %(levelname)s : %(message)s, level=logging.INFO')\n",
      "logger = logging.getLogger()\n",
      "logger.disabled = False\n",
      "\n",
      "from gensim import corpora\n",
      "import generate_corpora as genco\n",
      "\n",
      "corpus = genco.MyCorpus()\n",
      "model_path = \"/media/University/UniversityDisc/2-Master/MasterThesis/EjecucionTesis/Desarrollo/PythonProjects/QueryAnalyzer/Models/\"\n",
      "corpus_name = \"corpus.mm\"\n",
      "corpora.MmCorpus.serialize(model_path + corpus_name, corpus)"
     ],
     "language": "python",
     "metadata": {},
     "outputs": [
      {
       "output_type": "stream",
       "stream": "stdout",
       "text": [
        "Generating dictionary, this takes some time, please wait...\n",
        "\tDictionary created on"
       ]
      },
      {
       "output_type": "stream",
       "stream": "stdout",
       "text": [
        " 24.7 seconds.\n",
        "\tDictionary(16287 unique tokens)\n"
       ]
      }
     ],
     "prompt_number": 3
    },
    {
     "cell_type": "code",
     "collapsed": false,
     "input": [
      "from gensim import corpora, models, similarities\n",
      "\n",
      "model_path = \"/media/University/UniversityDisc/2-Master/MasterThesis/EjecucionTesis/Desarrollo/PythonProjects/QueryAnalyzer/Models/\"\n",
      "dictionary_file = \"goal_dictionary.dict\"\n",
      "corpus_file = \"corpus.mm\"\n",
      "dictionary = corpora.Dictionary.load(model_path + dictionary_file)\n",
      "corpus = corpora.MmCorpus(model_path + corpus_file)\n",
      "\n",
      "print dictionary\n",
      "print corpus"
     ],
     "language": "python",
     "metadata": {},
     "outputs": [
      {
       "output_type": "stream",
       "stream": "stdout",
       "text": [
        "Dictionary(16287 unique tokens)\n",
        "MmCorpus(98294 documents, 16287 features, 326719 non-zero entries)\n"
       ]
      }
     ],
     "prompt_number": 6
    },
    {
     "cell_type": "markdown",
     "metadata": {},
     "source": [
      "<b>II. TfIdf transformation.</b> From now on, tfidf is treated as a read-only object that can be used to convert any vector from the old representation (bag-of-words integer counts) to the new representation (TfIdf real-valued weights):"
     ]
    },
    {
     "cell_type": "code",
     "collapsed": false,
     "input": [
      "tfidf = models.TfidfModel(corpus) # step 1 -- initialize a model\n",
      "corpus_tfidf = tfidf[corpus]"
     ],
     "language": "python",
     "metadata": {},
     "outputs": [],
     "prompt_number": 7
    },
    {
     "cell_type": "markdown",
     "metadata": {},
     "source": [
      "<b>Note:</b> Calling model[corpus] only creates a wrapper around the old corpus document stream \u2013 actual conversions are done on-the-fly, during document iteration. "
     ]
    },
    {
     "cell_type": "heading",
     "level": 2,
     "metadata": {},
     "source": [
      "<br />\n",
      "Latent Semantic Indexing (LSI)"
     ]
    },
    {
     "cell_type": "markdown",
     "metadata": {},
     "source": [
      "Transforms documents from either <i>bag-of-words</i> or (preferrably) <i>TfIdf-weighted</i> space into a latent space of a lower dimensionality. For the corpus bellow we used only 10 latent dimensions, but on real corpora, target dimensionality of 200\u2013500 is recommended as a \u201cgolden standard\u201d.\n",
      "<br />\n",
      "<br />"
     ]
    },
    {
     "cell_type": "code",
     "collapsed": false,
     "input": [
      "lsi = models.LsiModel(corpus_tfidf, id2word=dictionary, num_topics=20) # initialize an LSI transformation\n",
      "lsi.save(model_path + 'model.lsi') # same for tfidf, lda, ...\n",
      "#lsi = models.LsiModel.load(model_path + 'model.lsi')\n",
      "#corpus_lsi = lsi[corpus_tfidf] # create a double wrapper over the original corpus: bow->tfidf->fold-in-lsi\n",
      "import lsamodel as lsa\n",
      "num_topics = 20;\n",
      "num_words = 4;\n",
      "lsa.viewTopics(lsi, num_topics, num_words)"
     ],
     "language": "python",
     "metadata": {},
     "outputs": [
      {
       "output_type": "stream",
       "stream": "stdout",
       "text": [
        "TOPIC # 0 :  [(0.95757281052579124, 'buy'), (0.13152928524210694, 'best'), (0.11429626456598965, 'make'), (0.11218302388009328, 'online')]\n",
        "TOPIC # 1 :  [(0.84873323169189985, 'make'), (0.38444565422158888, 'own'), (0.17185137096437553, 'money'), (-0.1642465619048962, 'buy')]\n",
        "TOPIC # 2 :  [(0.88790184548392825, 'find'), (0.19891017432497893, 'do'), (0.16969397835188316, 'get'), (-0.165317721836273, 'make')]\n",
        "TOPIC # 3 :  [(0.78507582978992785, 'get'), (0.49067690067260011, 'do'), (-0.29613258429683803, 'find'), (-0.11020547020015072, 'make')]\n",
        "TOPIC # 4 :  [(0.81310460833306941, 'listen'), (0.54048345218391358, 'music'), (-0.11040494333824696, 'get'), (0.10359473742442553, 'online')]\n",
        "TOPIC # 5 :  [(0.74022172716568346, 'do'), (-0.5603137088041038, 'get'), (0.17753855873361654, 'aol'), (0.14484023602728419, 'change')]\n",
        "TOPIC # 6 :  [(-0.77834067983928168, 'own'), (0.36829606257192338, 'make'), (-0.28850271688720081, 'create'), (0.19205424146175959, 'money')]\n",
        "TOPIC # 7 :  [(0.60269898082636453, 'aol'), (0.42612124051421529, 'account'), (0.26135856221014558, 'change'), (-0.25695502038872625, 'do')]\n",
        "TOPIC # 8 :  [(0.69119701924972232, 'http'), (0.63708078387311962, 'go'), (0.20146075208713063, 'aol'), (0.14897655809841698, 'account')]\n",
        "TOPIC # 9 :  [(0.56507811359156024, 'play'), (0.3974191988067528, 'money'), (0.34556216639817894, 'online'), (0.28511168712166229, 'learn')]\n",
        "TOPIC # 10 :  [(0.7345874403262066, 'change'), (0.34071504748260251, 'password'), (-0.29038402783966805, 'account'), (0.26274922803830086, 'screen')]\n",
        "TOPIC # 11 :  [(-0.52536424780106794, 'play'), (0.48964690747390138, 'money'), (0.46005472153373622, 'home'), (-0.24241138563368242, 'learn')]\n",
        "TOPIC # 12 :  [(-0.78785607673735458, 'online'), (0.31479188855110796, 'play'), (0.25914979845781105, 'home'), (0.19003908068472891, 'best')]\n",
        "TOPIC # 13 :  [(-0.70048424990277058, 'assist'), (-0.67626483838511775, 'sell'), (0.15852007590253678, 'money'), (0.06030240677280381, 'profile')]\n",
        "TOPIC # 14 :  [(0.72986099145132732, 'draw'), (0.29499912011029361, 'learn'), (0.24064236802231115, 'fix'), (0.23961475853885367, 'people')]\n",
        "TOPIC # 15 :  [(0.55631562070952634, 'phone'), (-0.42056260640527976, 'email'), (0.30792826435684828, 'number'), (0.28667398244052178, 'people')]\n",
        "TOPIC # 16 :  [(0.36669377046969126, 'profile'), (0.34812750959761141, 'draw'), (0.33837192378066511, 'phone'), (0.31059741218495668, 'create')]\n",
        "TOPIC # 17 :  [(0.99704238725135519, 'ride'), (0.030934085127259623, 'profile'), (-0.029998421046804512, 'online'), (0.027223704550930209, 'phone')]\n",
        "TOPIC # 18 :  [(0.45821391610835949, 'have'), (-0.30006253144878725, 'weight'), (0.29818991999789568, 'are'), (-0.29184003802889297, 'lose')]\n",
        "TOPIC # 19 :  [(0.61927391174734026, 'weight'), (0.59486912842130479, 'lose'), (0.19714141145568398, 'fast'), (0.18083002833013986, 'have')]\n"
       ]
      }
     ],
     "prompt_number": 18
    },
    {
     "cell_type": "code",
     "collapsed": false,
     "input": [
      "query = \"how do I change my profile on aol\"\n",
      "#query = \"how to make table grass skirts\"\n",
      "print \"QUERY: \", query\n",
      "goals_distribution = lsa.perQueryGoalProportions(query, dictionary, tfidf, lsi)\n",
      "lsa.viewPerQueryGoalProportions(goals_distribution)"
     ],
     "language": "python",
     "metadata": {},
     "outputs": [
      {
       "output_type": "stream",
       "stream": "stdout",
       "text": [
        "QUERY:  buy a car\n",
        "vec_bow: \t[(5284, 1), (12146, 1)]\n",
        "vec_tfidf:\t[(5284, 0.8994943451028806), (12146, 0.43693240109648523)]\n",
        "\n",
        "Per-query goal proportions (on 0.0 seconds):\n",
        "\t[(0, 0.44617230826738186), (1, -0.060527292106219495), (2, -0.0202674633999936), (3, -0.006834054015667293), (4, -0.016122527836767066), (5, -0.0041169971422001413), (6, -0.028447679389345251), (7, -0.0055665688592576937), (8, -0.0025658000895974259), (9, 0.0096779744501855405), (10, 0.0067110166921294599), (11, 0.038418841259928505), (12, 0.0037750197093502739), (13, 0.0045475133074352973), (14, 0.0064317667906770813), (15, -0.01453729314170522), (16, -0.023129116844066634), (17, -0.0035230547487533487), (18, 0.057987972604733665), (19, 0.030469542670954801)]\n",
        "\n",
        "\n"
       ]
      },
      {
       "output_type": "display_data",
       "png": "[encoded data removed]"
      },
      {
       "output_type": "stream",
       "stream": "stdout",
       "text": [
        "\n",
        "\n"
       ]
      }
     ],
     "prompt_number": 23
    },
    {
     "cell_type": "code",
     "collapsed": false,
     "input": [
      "lsi.show_topic(0)"
     ],
     "language": "python",
     "metadata": {},
     "outputs": [
      {
       "output_type": "pyout",
       "prompt_number": 24,
       "text": [
        "[(0.95757281052579124, 'buy'),\n",
        " (0.13152928524210694, 'best'),\n",
        " (0.11429626456598965, 'make'),\n",
        " (0.11218302388009328, 'online'),\n",
        " (0.064601704267339258, 'find'),\n",
        " (0.062118572776356532, 'can'),\n",
        " (0.056642943361405199, 'own'),\n",
        " (0.048245282189634746, 'sell'),\n",
        " (0.039139610286464066, 'used'),\n",
        " (0.038534410129260496, 'do')]"
       ]
      }
     ],
     "prompt_number": 24
    },
    {
     "cell_type": "markdown",
     "metadata": {},
     "source": [
      "<b>Note:</b> Here we transformed our Tf-Idf corpus via <i>Latent Semantic Indexing</i> into a latent n-D space (n-D because we set num_topics=n)."
     ]
    },
    {
     "cell_type": "heading",
     "level": 2,
     "metadata": {},
     "source": [
      "<br />\n",
      "<br />\n",
      "Latent DIrichlet Allocation (LDA)"
     ]
    },
    {
     "cell_type": "markdown",
     "metadata": {},
     "source": [
      "LDA is yet another transformation from bag-of-words counts into a topic space of lower dimensionality. LDA is a probabilistic extension of LSA (also called multinomial PCA), so LDA\u2019s topics can be interpreted as probability distributions over words. These distributions are, just like with LSA, inferred automatically from a training corpus. Documents are in turn interpreted as a (soft) mixture of these topics (again, just like with LSA).\n",
      "<br />"
     ]
    },
    {
     "cell_type": "code",
     "collapsed": false,
     "input": [
      "lda = models.ldamodel.LdaModel(corpus, num_topics=200, id2word=dictionary, update_every=1, chunksize=1000, passes=1)\n",
      "lda.save(model_path + 'model.lda') # same for tfidf, lsi, ...\n",
      "lda_charged = lda"
     ],
     "language": "python",
     "metadata": {},
     "outputs": [],
     "prompt_number": 49
    },
    {
     "cell_type": "code",
     "collapsed": false,
     "input": [
      "from gensim import models\n",
      "\n",
      "model_path = \"/media/University/UniversityDisc/2-Master/MasterThesis/EjecucionTesis/Desarrollo/PythonProjects/QueryAnalyzer/Models/\"\n",
      "lda_charged = models.LdaModel.load(model_path + 'model.lda')\n",
      "lda_goals = [lda_charged[c] for c in corpus]\n",
      "#print lda_goals[53]"
     ],
     "language": "python",
     "metadata": {},
     "outputs": [],
     "prompt_number": 25
    },
    {
     "cell_type": "code",
     "collapsed": false,
     "input": [
      "import matplotlib.pyplot as plt\n",
      "import numpy as np\n",
      "\n",
      "plt.hist([len(t) for t in lda_goals], np.arange(15))\n",
      "plt.ylabel('Nr of Queriees')\n",
      "plt.xlabel('Nr of Goals')\n",
      "plt.show()"
     ],
     "language": "python",
     "metadata": {},
     "outputs": [
      {
       "output_type": "display_data",
       "png": "[encoded data removed]"
      }
     ],
     "prompt_number": 26
    },
    {
     "cell_type": "code",
     "collapsed": false,
     "input": [
      "lda_2 = models.ldamodel.LdaModel(corpus, num_topics=20, id2word=dictionary, alpha=0.3, update_every=1, chunksize=100, passes=1)\n",
      "lda_2.save(model_path + 'model_2\".lda') # same for tfidf, lsi, ...\n",
      "#lda_2_charged = models.LdaModel.load(model_path + 'model_2.lda')"
     ],
     "language": "python",
     "metadata": {},
     "outputs": [],
     "prompt_number": 31
    },
    {
     "cell_type": "code",
     "collapsed": false,
     "input": [
      "lda_goals_2 = [lda_2[c] for c in corpus]\n",
      "plt.clf()\n",
      "plt.hist([[len(t) for t in lda_goals], [len(t) for t in lda_goals_2]], np.arange(50))\n",
      "plt.ylabel('Nr of documents')\n",
      "plt.xlabel('Nr of topics')\n",
      "plt.text(5, 30000, r'default alpha')\n",
      "plt.text(10, 7000, 'alpha=1')\n",
      "plt.show()"
     ],
     "language": "python",
     "metadata": {},
     "outputs": [
      {
       "output_type": "display_data",
       "png": "[encoded data removed]"
      }
     ],
     "prompt_number": 32
    },
    {
     "cell_type": "code",
     "collapsed": false,
     "input": [
      "import ldamodel as lda\n",
      "import numpy as np\n",
      "\n",
      "num_topics = 10;\n",
      "num_words = 4;\n",
      "lda.viewTopics(lda_charged, num_topics, num_words)"
     ],
     "language": "python",
     "metadata": {},
     "outputs": [
      {
       "output_type": "stream",
       "stream": "stdout",
       "text": [
        "TOPIC # 0 :  [(0.20940417700087466, 'texas'), (0.14045610486064611, 'world'), (0.089104015308582474, 'houston'), (0.060469582747913496, 'schools')]\n",
        "TOPIC # 1 :  [(0.49341433716835442, 'music'), (0.089048217116177455, 'skin'), (0.081609212745103438, 'videos'), (0.042015297634944077, 'upload')]\n",
        "TOPIC # 2 :  [(0.23598168485678744, 'real'), (0.10653363220975764, 'estate'), (0.080811737201704897, 'marriage'), (0.076875651150607446, 'believe')]\n",
        "TOPIC # 3 :  [(0.52807781102259999, 'can'), (0.23517943419506684, 'find'), (0.023188648450518705, 'colorado'), (0.022926312315032026, 'ma')]\n",
        "TOPIC # 4 :  [(0.079093139745087082, 'dont'), (0.071109135239028801, 'restore'), (0.056266575764060994, 'enter'), (0.054459886687896857, 'super')]\n",
        "TOPIC # 5 :  [(0.090029253642025353, 'island'), (0.073634709199368487, 'hot'), (0.060430064534529558, 'post'), (0.060070284198250466, 'america')]\n",
        "TOPIC # 6 :  [(0.81813010389371632, 'buy'), (0.017716136859086618, 'books'), (0.012464023979605131, 'uninstall'), (0.007448565106274143, 'breath')]\n",
        "TOPIC # 7 :  [(0.68544885013767742, 'aol'), (0.096080011438201787, 'information'), (0.027637505157180484, 'speech'), (0.025003712535621204, 'scan')]\n",
        "TOPIC # 8 :  [(0.41954347780781764, 'buying'), (0.096462594843824315, 'gold'), (0.076819252377702804, 'products'), (0.038469837689949063, 'checks')]\n",
        "TOPIC # 9 :  [(0.82478417483942312, 'do'), (0.037533331595471897, '2'), (0.033018281517907137, 'living'), (0.0070738012969445438, 'ringtones')]\n"
       ]
      }
     ],
     "prompt_number": 33
    },
    {
     "cell_type": "code",
     "collapsed": false,
     "input": [
      "#query = \"how do I change my profile on aol\"\n",
      "print \"QUERY: \", query\n",
      "#new_doc = \"In natural language processing, latent Dirichlet allocation (LDA) is a generative model that allows sets of observations to be explained by unobserved groups that explain why some parts of the data are similar. For example, if observations are words collected into documents, it posits that each document is a mixture of a small number of topics and that each word's creation is attributable to one of the document's topics. LDA is an example of a topic model and was first presented as a graphical model for topic discovery by David Blei, Andrew Ng, and Michael Jordan in 2003.\"\n",
      "#new_doc = \"find a vegetarian restauran in Popayan\"\n",
      "goals_distribution = lda.perQueryGoalProportions(query, dictionary, lda_2_charged)\n",
      "lda.viewPerQueryGoalProportions(goals_distribution)"
     ],
     "language": "python",
     "metadata": {},
     "outputs": [
      {
       "output_type": "stream",
       "stream": "stdout",
       "text": [
        "QUERY:  buy a car\n",
        "vec_bow: \t[(5284, 1), (12146, 1)]\n",
        "\n",
        "Per-query goal proportions (on 0.0 seconds):\n",
        "\t[(19, 0.015060233126713393), (62, 0.014351493210598172), (80, 0.019600771793393083)]\n",
        "\n",
        "\n"
       ]
      },
      {
       "output_type": "display_data",
       "png": "[encoded data removed]"
      },
      {
       "output_type": "stream",
       "stream": "stdout",
       "text": [
        "\n",
        "\n"
       ]
      }
     ],
     "prompt_number": 37
    },
    {
     "cell_type": "code",
     "collapsed": false,
     "input": [
      "lda_2_charged.show_topic(19)"
     ],
     "language": "python",
     "metadata": {},
     "outputs": [
      {
       "output_type": "pyout",
       "prompt_number": 40,
       "text": [
        "[(0.037370076964816659, 'find'),\n",
        " (0.03695955728092247, 'buy'),\n",
        " (0.034100591891721509, 'call'),\n",
        " (0.028795168168361522, 'easy'),\n",
        " (0.027159221212397083, 'make'),\n",
        " (0.024649385847801946, 'long'),\n",
        " (0.023205327270492609, 'get'),\n",
        " (0.020140353946550948, 'do'),\n",
        " (0.018871290113333015, 'rods'),\n",
        " (0.016137974677032627, 'tinkers')]"
       ]
      }
     ],
     "prompt_number": 40
    },
    {
     "cell_type": "code",
     "collapsed": false,
     "input": [],
     "language": "python",
     "metadata": {},
     "outputs": []
    }
   ],
   "metadata": {}
  }
 ]
}