{
 "metadata": {
  "name": "",
  "signature": "sha256:d74e401e439501a4779d7c55758848ca90c4370db3db257c48f2ab80330b7232"
 },
 "nbformat": 3,
 "nbformat_minor": 0,
 "worksheets": [
  {
   "cells": [
    {
     "cell_type": "markdown",
     "metadata": {},
     "source": [
      "<h1>Generic Goal Modelling (GoMo)</h1>\n",
      "A <i>goal model</i> is a type of statistical model for discovering the abstract \"goals\" that occur in a collection of queries. The algorithms in GoMo, such as <b>Latent Semantic Analysis (LSA)</b>, <b>Latent Dirichlet Allocation (LDA)</b> and <b>Hierarchical Dirichlet Process (HDP)</b>, discover semantic structure of queries, by examining word statistical co-occurrence patterns within a corpus of training documents. These algorithms are unsupervised, which means no human input is necessary \u2013 you only need a corpus of plain text documents."
     ]
    },
    {
     "cell_type": "code",
     "collapsed": false,
     "input": [
      "import generic_gomo as g\n",
      "\n",
      "model_path = \"/media/University/UniversityDisc/2-Master/MasterThesis/EjecucionTesis/Desarrollo/PythonProjects/QueryAnalyzer/Models/\"\n",
      "g.initCorpora(model_path)"
     ],
     "language": "python",
     "metadata": {},
     "outputs": [
      {
       "output_type": "stream",
       "stream": "stdout",
       "text": [
        "Generating dictionary, this takes some time, please wait...\n",
        "\tDictionary created on"
       ]
      },
      {
       "output_type": "stream",
       "stream": "stdout",
       "text": [
        " 23.57 seconds.\n",
        "\tDictionary(16287 unique tokens)\n",
        "Dictionary(16287 unique tokens)"
       ]
      },
      {
       "output_type": "stream",
       "stream": "stdout",
       "text": [
        "\n",
        "MmCorpus(98294 documents, 16287 features, 326719 non-zero entries)\n"
       ]
      }
     ],
     "prompt_number": 4
    },
    {
     "cell_type": "code",
     "collapsed": false,
     "input": [
      "import generic_gomo as g\n",
      "\n",
      "train = True\n",
      "num_topics = 50\n",
      "model_path = \"/media/University/UniversityDisc/2-Master/MasterThesis/EjecucionTesis/Desarrollo/PythonProjects/QueryAnalyzer/Models/\"\n",
      "lsi, tfidf, dictionary, corpus = g.initLSI(train, num_topics, model_path)"
     ],
     "language": "python",
     "metadata": {},
     "outputs": [
      {
       "output_type": "stream",
       "stream": "stdout",
       "text": [
        "True\n"
       ]
      }
     ],
     "prompt_number": 2
    },
    {
     "cell_type": "code",
     "collapsed": false,
     "input": [
      "import generic_gomo as g\n",
      "import ldamodel as ldam\n",
      "from IPython.core.display import Image \n",
      "\n",
      "alpha = 0.3\n",
      "query = \"how do I change my profile on aol\"\n",
      "lda_1, lda_2 = initLDA(corpus, dictionary, num_topics, alpha, model_path):    \n",
      "g.LDA(lda_1, lda_2, query, num_topics, dictionary, corpus, alpha)\n",
      "Image(filename = model_path + lda_1 +'_image.png') \n",
      "Image(filename = model_path + lda_2 +'_image.png') "
     ],
     "language": "python",
     "metadata": {},
     "outputs": [
      {
       "ename": "NameError",
       "evalue": "name 'lda_1' is not defined",
       "output_type": "pyerr",
       "traceback": [
        "\u001b[1;31m---------------------------------------------------------------------------\u001b[0m\n\u001b[1;31mNameError\u001b[0m                                 Traceback (most recent call last)",
        "\u001b[1;32m<ipython-input-5-b92ac2748f41>\u001b[0m in \u001b[0;36m<module>\u001b[1;34m()\u001b[0m\n\u001b[0;32m      5\u001b[0m \u001b[0malpha\u001b[0m \u001b[1;33m=\u001b[0m \u001b[1;36m0.3\u001b[0m\u001b[1;33m\u001b[0m\u001b[0m\n\u001b[0;32m      6\u001b[0m \u001b[0mquery\u001b[0m \u001b[1;33m=\u001b[0m \u001b[1;34m\"how do I change my profile on aol\"\u001b[0m\u001b[1;33m\u001b[0m\u001b[0m\n\u001b[1;32m----> 7\u001b[1;33m \u001b[0mg\u001b[0m\u001b[1;33m.\u001b[0m\u001b[0mLDA\u001b[0m\u001b[1;33m(\u001b[0m\u001b[0mlda_1\u001b[0m\u001b[1;33m,\u001b[0m \u001b[0mlda_2\u001b[0m\u001b[1;33m,\u001b[0m \u001b[0mquery\u001b[0m\u001b[1;33m,\u001b[0m \u001b[0mnum_topics\u001b[0m\u001b[1;33m,\u001b[0m \u001b[0mdictionary\u001b[0m\u001b[1;33m,\u001b[0m \u001b[0mcorpus\u001b[0m\u001b[1;33m,\u001b[0m \u001b[0malpha\u001b[0m\u001b[1;33m)\u001b[0m\u001b[1;33m\u001b[0m\u001b[0m\n\u001b[0m\u001b[0;32m      8\u001b[0m \u001b[0mImage\u001b[0m\u001b[1;33m(\u001b[0m\u001b[0mfilename\u001b[0m \u001b[1;33m=\u001b[0m \u001b[0mmodel_path\u001b[0m \u001b[1;33m+\u001b[0m \u001b[0mlda_1\u001b[0m \u001b[1;33m+\u001b[0m\u001b[1;34m'_image.png'\u001b[0m\u001b[1;33m)\u001b[0m\u001b[1;33m\u001b[0m\u001b[0m\n\u001b[0;32m      9\u001b[0m \u001b[0mImage\u001b[0m\u001b[1;33m(\u001b[0m\u001b[0mfilename\u001b[0m \u001b[1;33m=\u001b[0m \u001b[0mmodel_path\u001b[0m \u001b[1;33m+\u001b[0m \u001b[0mlda_2\u001b[0m \u001b[1;33m+\u001b[0m\u001b[1;34m'_image.png'\u001b[0m\u001b[1;33m)\u001b[0m\u001b[1;33m\u001b[0m\u001b[0m\n",
        "\u001b[1;31mNameError\u001b[0m: name 'lda_1' is not defined"
       ]
      }
     ],
     "prompt_number": 5
    },
    {
     "cell_type": "code",
     "collapsed": false,
     "input": [
      "import goal_estimator as ge\n",
      "g.draw_goal(lsi,38)\n",
      "Image(filename= model_path + 'other_image.png') "
     ],
     "language": "python",
     "metadata": {},
     "outputs": [
      {
       "metadata": {},
       "output_type": "pyout",
       "png": "[encoded data removed]",
       "prompt_number": 14,
       "text": [
        "<IPython.core.display.Image at 0x3499550>"
       ]
      }
     ],
     "prompt_number": 14
    },
    {
     "cell_type": "code",
     "collapsed": false,
     "input": [
      "lsi.show_topic(38)"
     ],
     "language": "python",
     "metadata": {},
     "outputs": [
      {
       "metadata": {},
       "output_type": "pyout",
       "prompt_number": 16,
       "text": [
        "[(-0.50307781242367666, 'getting'),\n",
        " (0.37898118054763957, 'computer'),\n",
        " (-0.33855133580546992, 'profile'),\n",
        " (-0.19865616196512684, 'credit'),\n",
        " (-0.19629066044713472, 'house'),\n",
        " (-0.18428102152657874, 'can'),\n",
        " (0.17762069077501835, 'screen'),\n",
        " (0.17352411385579133, 'check'),\n",
        " (-0.1646934226734737, 'create'),\n",
        " (-0.16247325070067456, 'cleaning')]"
       ]
      }
     ],
     "prompt_number": 16
    },
    {
     "cell_type": "markdown",
     "metadata": {},
     "source": [
      "<br />\n",
      "<h2>Latent DIrichlet Allocation (LDA)</h2>\n",
      "LDA is yet another transformation from bag-of-words counts into a topic space of lower dimensionality. LDA is a probabilistic extension of LSA (also called multinomial PCA), so LDA\u2019s topics can be interpreted as probability distributions over words. These distributions are, just like with LSA, inferred automatically from a training corpus. Documents are in turn interpreted as a (soft) mixture of these topics (again, just like with LSA).\n",
      "<br />"
     ]
    },
    {
     "cell_type": "code",
     "collapsed": false,
     "input": [
      "lda = models.ldamodel.LdaModel(corpus, num_topics=25, id2word=dictionary, update_every=1, chunksize=1000, passes=1)\n",
      "lda.save(model_path + 'model.lda') # same for tfidf, lsi, ...\n",
      "lda_charged = lda"
     ],
     "language": "python",
     "metadata": {},
     "outputs": [],
     "prompt_number": 44
    },
    {
     "cell_type": "code",
     "collapsed": false,
     "input": [
      "from gensim import models\n",
      "\n",
      "model_path = \"/media/University/UniversityDisc/2-Master/MasterThesis/EjecucionTesis/Desarrollo/PythonProjects/QueryAnalyzer/Models/\"\n",
      "lda_charged = models.LdaModel.load(model_path + 'model.lda')\n",
      "lda_goals = [lda_charged[c] for c in corpus]\n",
      "#print lda_goals[53]"
     ],
     "language": "python",
     "metadata": {},
     "outputs": [],
     "prompt_number": 45
    },
    {
     "cell_type": "code",
     "collapsed": false,
     "input": [
      "import matplotlib.pyplot as plt\n",
      "import numpy as np\n",
      "\n",
      "plt.hist([len(t) for t in lda_goals], np.arange(50))\n",
      "plt.ylabel('Nr of Queriees')\n",
      "plt.xlabel('Nr of Goals')\n",
      "plt.show()"
     ],
     "language": "python",
     "metadata": {},
     "outputs": [
      {
       "metadata": {},
       "output_type": "display_data",
       "png": "[encoded data removed]"
      }
     ],
     "prompt_number": 47
    },
    {
     "cell_type": "code",
     "collapsed": false,
     "input": [
      "lda_2 = models.ldamodel.LdaModel(corpus, num_topics=25, id2word=dictionary, alpha=0.3, update_every=1, chunksize=1000, passes=1)\n",
      "lda_2.save(model_path + 'model_2.lda') # same for tfidf, lsi, ...\n",
      "#lda_2_charged = models.LdaModel.load(model_path + 'model_2.lda')"
     ],
     "language": "python",
     "metadata": {},
     "outputs": [],
     "prompt_number": 49
    },
    {
     "cell_type": "code",
     "collapsed": false,
     "input": [
      "lda_goals_2 = [lda_2[c] for c in corpus]\n",
      "plt.clf()\n",
      "plt.hist([[len(t) for t in lda_goals], [len(t) for t in lda_goals_2]], np.arange(50))\n",
      "plt.ylabel('Nr of documents')\n",
      "plt.xlabel('Nr of topics')\n",
      "plt.text(5, 30000, r'default alpha')\n",
      "plt.text(10, 7000, 'alpha=1')\n",
      "plt.show()"
     ],
     "language": "python",
     "metadata": {},
     "outputs": [
      {
       "metadata": {},
       "output_type": "display_data",
       "png": "[encoded data removed]"
      }
     ],
     "prompt_number": 50
    },
    {
     "cell_type": "code",
     "collapsed": false,
     "input": [
      "import ldamodel as ldam\n",
      "import numpy as np\n",
      "\n",
      "num_topics = 10;\n",
      "num_words = 4;\n",
      "ldam.viewTopics(lda_charged, num_topics, num_words)"
     ],
     "language": "python",
     "metadata": {},
     "outputs": [
      {
       "output_type": "stream",
       "stream": "stdout",
       "text": [
        "GOAL # 0 :  [(0.41476733681507355, 'make'), (0.062112844231828133, 'money'), (0.017841637394405016, 'line'), (0.012804437235932492, 'dance')]\n",
        "GOAL # 1 :  [(0.11467915253888866, 'play'), (0.089393443871906564, 'learn'), (0.06094136931263415, 'guitar'), (0.04654785131811786, 'be')]\n",
        "GOAL # 2 :  [(0.071234214008740443, 'own'), (0.068024039828656388, 'phone'), (0.06612840246869961, 'create'), (0.044921747367667027, 'paint')]\n",
        "GOAL # 3 :  [(0.11412869428442775, 'making'), (0.052594501049700121, 'screen'), (0.052393594787952594, 'install'), (0.049259121517801131, 'go')]\n",
        "GOAL # 4 :  [(0.059413235081350407, 'know'), (0.058238668243783105, 'are'), (0.050738285464921741, 'remove'), (0.029874741264202746, 'windows')]\n",
        "GOAL # 5 :  [(0.13803581384045258, 'from'), (0.084499909988303423, 'home'), (0.073003943776315819, 'new'), (0.043911534470946, 'car')]\n",
        "GOAL # 6 :  [(0.089414915510517654, 'finding'), (0.067209786641595354, 'music'), (0.060403535769681854, 'computer'), (0.03318419289633507, 'water')]\n",
        "GOAL # 7 :  [(0.046370499951107515, 'write'), (0.042339830675277135, 'add'), (0.030291675492695368, 'spanish'), (0.028258649468174888, 'back')]\n",
        "GOAL # 8 :  [(0.35272673793478698, 'get'), (0.048602129648913736, 'hair'), (0.046964796051811211, 'draw'), (0.015394640397633311, 'songs')]\n",
        "GOAL # 9 :  [(0.054406206259260209, 'getting'), (0.044292344930589547, 'set'), (0.031680206401317496, 'lodging'), (0.031100245291190636, 'using')]\n"
       ]
      }
     ],
     "prompt_number": 53
    },
    {
     "cell_type": "code",
     "collapsed": false,
     "input": [
      "query = \"how do I change my profile on aol\"\n",
      "print \"QUERY: \", query\n",
      "#new_doc = \"In natural language processing, latent Dirichlet allocation (LDA) is a generative model that allows sets of observations to be explained by unobserved groups that explain why some parts of the data are similar. For example, if observations are words collected into documents, it posits that each document is a mixture of a small number of topics and that each word's creation is attributable to one of the document's topics. LDA is an example of a topic model and was first presented as a graphical model for topic discovery by David Blei, Andrew Ng, and Michael Jordan in 2003.\"\n",
      "#new_doc = \"find a vegetarian restauran in Popayan\"\n",
      "goals_distribution = ldam.perQueryGoalProportions(query, dictionary, lda)\n",
      "ldam.viewPerQueryGoalProportions(goals_distribution)"
     ],
     "language": "python",
     "metadata": {},
     "outputs": [
      {
       "output_type": "stream",
       "stream": "stdout",
       "text": [
        "QUERY:  how do I change my profile on aol\n",
        "Per-query goal proportions (on 0.0 seconds):\n",
        "\n",
        "\n",
        "MAX  12\n"
       ]
      },
      {
       "metadata": {},
       "output_type": "display_data",
       "png": "[encoded data removed]"
      },
      {
       "output_type": "stream",
       "stream": "stdout",
       "text": [
        "\n",
        "\n"
       ]
      },
      {
       "metadata": {},
       "output_type": "pyout",
       "prompt_number": 54,
       "text": [
        "12"
       ]
      }
     ],
     "prompt_number": 54
    },
    {
     "cell_type": "code",
     "collapsed": false,
     "input": [
      "lda.show_topic(12)"
     ],
     "language": "python",
     "metadata": {},
     "outputs": [
      {
       "metadata": {},
       "output_type": "pyout",
       "prompt_number": 55,
       "text": [
        "[(0.29914568922440565, 'do'),\n",
        " (0.071795861250846194, 'aol'),\n",
        " (0.069296936402947498, 'account'),\n",
        " (0.046115158421033274, 'change'),\n",
        " (0.039281691014816475, 'email'),\n",
        " (0.038471656986737948, 'have'),\n",
        " (0.028766676264419776, 'take'),\n",
        " (0.024311252554704683, 'want'),\n",
        " (0.019440979603752278, 'bad'),\n",
        " (0.013332189448718904, 'password')]"
       ]
      }
     ],
     "prompt_number": 55
    }
   ],
   "metadata": {}
  }
 ]
}