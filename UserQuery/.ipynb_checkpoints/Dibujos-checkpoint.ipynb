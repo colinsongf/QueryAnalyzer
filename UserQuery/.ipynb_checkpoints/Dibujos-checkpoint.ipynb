{
 "metadata": {
  "name": "",
  "signature": "sha256:2397f2896881676c320395aada379f58445698a852c78db042e6257fd6f7cbbf"
 },
 "nbformat": 3,
 "nbformat_minor": 0,
 "worksheets": [
  {
   "cells": [
    {
     "cell_type": "code",
     "collapsed": false,
     "input": [
      "import matplotlib.pyplot as plt\n",
      "from pandas import *\n",
      "import pylab as pl\n",
      "\n",
      "y = [3622, 2257, 3854, 1736]\n",
      "columns=['Informational', 'Transactional', 'Navigacional', 'Ambiguous']\n",
      "\n",
      "df = DataFrame({\"Dataset Inicial\": Series({'Informacional': 9354, 'Transaccional': 2257, 'Navegaci\u00f3n':6311, 'Ambigua':1736}), \"Dataset Final\": Series({'Informacional': 3622, 'Transaccional': 2257, 'Navegaci\u00f3n':3854, 'Ambigua':1736})})\n",
      "print df\n",
      "df.plot(kind=\"bar\")\n",
      "#df.plot(kind=\"bar\", legend=False)\n",
      "#l = pl.legend(('Alpha','Beta'), loc='best')"
     ],
     "language": "python",
     "metadata": {},
     "outputs": [
      {
       "output_type": "stream",
       "stream": "stdout",
       "text": [
        "               Dataset Final  Dataset Inicial\n",
        "Ambigua                 1736             1736\n",
        "Informacional           3622             9354\n",
        "Navegaci\u00f3n              3854             6311\n",
        "Transaccional           2257             2257\n",
        "\n",
        "[4 rows x 2 columns]\n"
       ]
      },
      {
       "metadata": {},
       "output_type": "pyout",
       "prompt_number": 3,
       "text": [
        "<matplotlib.axes.AxesSubplot at 0x34e4990>"
       ]
      },
      {
       "metadata": {},
       "output_type": "display_data",
       "png": "[encoded data removed]",
       "text": [
        "<matplotlib.figure.Figure at 0x34e42d0>"
       ]
      }
     ],
     "prompt_number": 3
    },
    {
     "cell_type": "code",
     "collapsed": false,
     "input": [
      "#Esta funci\u00f3n me permite graficar la medida Perplexity\n",
      "def graphROC(perplexity, alphas):\n",
      "    fig = plt.figure(figsize=(12, 6))\n",
      "    ax2 = fig.add_subplot(122)\n",
      "    df = pandas.DataFrame(perplexity, columns=['TP Rate', 'FP Rate'])\n",
      "    i = 0\n",
      "    \n",
      "    plt.ylabel('TVP')\n",
      "    plt.xlabel('TFP')\n",
      "    plt.plot([0, 1], [0, 1], '-')\n",
      "\n",
      "    props = dict(alpha=0.9, edgecolors='none' )\n",
      "    i = 0\n",
      "    handles = []\n",
      "    #colors = ['b', 'c', 'y', 'm', 'r', 'green', 'brown']   \n",
      "    colors = ['b', 'c', 'y']   \n",
      "    #markers = ['x','1','2','3','4','+','.']\n",
      "    markers = ['x','*','+']\n",
      "\n",
      "    for color in colors:\n",
      "        #df = pandas.DataFrame(df)\n",
      "        handles.append(ax2.scatter(df['FP Rate'][i], df['TP Rate'][i], c=color, s=85, marker=markers[i]))\n",
      "        i += 1\n",
      "\n",
      "    #ax2.set_ylim([0.95,1])\n",
      "    #ax2.set_xlim([0,0.02])\n",
      "    ax2.set_ylim([0,1])\n",
      "    ax2.set_xlim([0,1])\n",
      "\n",
      "    ax2.legend(handles, alphas)\n",
      "    ax2.grid(True)\n",
      "    ax2.set_aspect(1./ax2.get_data_ratio())    \n",
      "    plt.legend(loc='best')\n",
      "    plt.show()\n",
      "    #plt.savefig()"
     ],
     "language": "python",
     "metadata": {},
     "outputs": [],
     "prompt_number": 4
    },
    {
     "cell_type": "code",
     "collapsed": false,
     "input": [
      "print(__doc__)\n",
      "\n",
      "import random\n",
      "import pylab as pl\n",
      "import numpy as np\n",
      "from sklearn import svm, datasets\n",
      "from sklearn.metrics import precision_recall_curve\n",
      "from sklearn.metrics import auc\n",
      "\n",
      "# import some data to play with\n",
      "iris = datasets.load_iris()\n",
      "\n",
      "#print iris.DESCR\n",
      "X = iris.data\n",
      "y = iris.target\n",
      "#print \"X=%s y y=%s\" % (len(X), len(y))\n",
      "#print \"X=%s y y=%s\" % (X, y)\n",
      "X, y = X[y != 1], y[y != 2]  # Keep also 2 classes (0 and 1)\n",
      "n_samples, n_features = X.shape\n",
      "p = range(n_samples)  # Shuffle samples\n",
      "random.seed(0)\n",
      "random.shuffle(p)\n",
      "X, y = X[p], y[p]\n",
      "half = int(n_samples / 2)\n",
      "\n",
      "# Add noisy features\n",
      "np.random.seed(0)\n",
      "X = np.c_[X, np.random.randn(n_samples, 200 * n_features)]\n",
      "\n",
      "# Run classifier\n",
      "#classifier = svm.SVC(kernel='linear', probability=True, random_state=0)\n",
      "classifier = svm.SVC(kernel='linear', probability=True)\n",
      "probas_ = classifier.fit(X[:half], y[:half]).predict_proba(X[half:])\n",
      "\n",
      "# Compute Precision-Recall and plot curve\n",
      "precision, recall, thresholds = precision_recall_curve(y[half:], probas_[:, 1])\n",
      "area = auc(recall, precision)\n",
      "print(\"Area Under Curve: %0.2f\" % area)\n",
      "\n",
      "pl.clf()\n",
      "pl.plot(recall, precision, label='Precision-Recall curve')\n",
      "pl.xlabel('Recall')\n",
      "pl.ylabel('Precision')\n",
      "pl.ylim([0.0, 1.05])\n",
      "pl.xlim([0.0, 1.0])\n",
      "pl.title('Precision-Recall example: AUC=%0.2f' % area)\n",
      "pl.legend(loc=\"lower left\")\n",
      "pl.show()"
     ],
     "language": "python",
     "metadata": {},
     "outputs": [
      {
       "output_type": "stream",
       "stream": "stdout",
       "text": [
        "Automatically created module for IPython interactive environment\n",
        "Area Under Curve: 0.96"
       ]
      },
      {
       "output_type": "stream",
       "stream": "stdout",
       "text": [
        "\n"
       ]
      },
      {
       "metadata": {},
       "output_type": "display_data",
       "png": "[encoded data removed]",
       "text": [
        "<matplotlib.figure.Figure at 0x3703050>"
       ]
      }
     ],
     "prompt_number": 5
    },
    {
     "cell_type": "code",
     "collapsed": false,
     "input": [
      "print(__doc__)\n",
      "\n",
      "from sklearn import svm, datasets\n",
      "from sklearn.cross_validation import train_test_split\n",
      "from sklearn.metrics import confusion_matrix\n",
      "\n",
      "import pylab as pl\n",
      "\n",
      "# import some data to play with\n",
      "iris = datasets.load_iris()\n",
      "X = iris.data\n",
      "y = iris.target\n",
      "\n",
      "# Split the data into a training set and a test set\n",
      "X_train, X_test, y_train, y_test = train_test_split(X, y, random_state=0)\n",
      "\n",
      "# Run classifier\n",
      "classifier = svm.SVC(kernel='linear')\n",
      "y_pred = classifier.fit(X_train, y_train).predict(X_test)\n",
      "\n",
      "# Compute confusion matrix\n",
      "cm = confusion_matrix(y_test, y_pred)\n",
      "\n",
      "print(cm)\n",
      "\n",
      "# Show confusion matrix in a separate window\n",
      "pl.matshow(cm)\n",
      "pl.title('Confusion matrix')\n",
      "pl.colorbar()\n",
      "pl.ylabel('True label')\n",
      "pl.xlabel('Predicted label')\n",
      "pl.show()"
     ],
     "language": "python",
     "metadata": {},
     "outputs": [
      {
       "output_type": "stream",
       "stream": "stdout",
       "text": [
        "Automatically created module for IPython interactive environment\n",
        "[[13  0  0]\n",
        " [ 0 15  1]\n",
        " [ 0  0  9]]\n"
       ]
      },
      {
       "metadata": {},
       "output_type": "display_data",
       "png": "[encoded data removed]",
       "text": [
        "<matplotlib.figure.Figure at 0x7f809d0476d0>"
       ]
      }
     ],
     "prompt_number": 6
    },
    {
     "cell_type": "code",
     "collapsed": false,
     "input": [
      "print(__doc__)\n",
      "\n",
      "import numpy as np\n",
      "import pylab as pl\n",
      "from random import randint\n",
      "from sklearn import svm, datasets\n",
      "from sklearn.utils import shuffle\n",
      "from sklearn.metrics import roc_curve, auc\n",
      "\n",
      "random_state = np.random.RandomState(0)\n",
      "\n",
      "# Import some data to play with\n",
      "iris = datasets.load_iris()\n",
      "X = iris.data\n",
      "y = iris.target\n",
      "\n",
      "# Make it a binary classification problem by removing the third class\n",
      "X, y = X[y != 2], y[y != 2]\n",
      "X, y = X[y != 1], y[y != 1]\n",
      "print \"X1\", X\n",
      "print \"Y1\", y\n",
      "\n",
      "\n",
      "n_samples, n_features = X.shape\n",
      "\n",
      "# Add noisy features to make the problem harder\n",
      "X = np.c_[X, random_state.randn(n_samples, 200 * n_features)]\n",
      "print \"X2:\", X\n",
      "\n",
      "# shuffle and split training and test sets\n",
      "X, y = shuffle(X, y, random_state=random_state)\n",
      "print \"Y3\", y\n",
      "\n",
      "for i in range(len(y)/10):\n",
      "    j = randint(1,len(y))\n",
      "    print j\n",
      "    y[j] = 1\n",
      "\n",
      "half = int(n_samples / 2)\n",
      "X_train, X_test = X[:half], X[half:]\n",
      "y_train, y_test = y[:half], y[half:]\n",
      "\n",
      "# Run classifier\n",
      "classifier = svm.SVC(kernel='linear', probability=True)\n",
      "probas_ = classifier.fit(X_train, y_train).predict_proba(X_test)\n",
      "\n",
      "# Compute ROC curve and area the curve\n",
      "fpr, tpr, thresholds = roc_curve(y_test, probas_[:, 1])\n",
      "roc_auc = auc(fpr, tpr)\n",
      "print(\"Area under the ROC curve : %f\" % roc_auc)\n",
      "\n",
      "# Plot ROC curve\n",
      "pl.clf()\n",
      "pl.plot(fpr, tpr, label='ROC curve (area = %0.2f)' % roc_auc)\n",
      "pl.plot([0, 1], [0, 1], 'k--')\n",
      "pl.xlim([0.0, 1.0])\n",
      "pl.ylim([0.0, 1.0])\n",
      "pl.xlabel('False Positive Rate')\n",
      "pl.ylabel('True Positive Rate')\n",
      "pl.title('Receiver operating characteristic example')\n",
      "pl.legend(loc=\"lower right\")\n",
      "pl.show()\n"
     ],
     "language": "python",
     "metadata": {},
     "outputs": [
      {
       "output_type": "stream",
       "stream": "stdout",
       "text": [
        "Automatically created module for IPython interactive environment\n",
        "X1 [[ 5.1  3.5  1.4  0.2]\n",
        " [ 4.9  3.   1.4  0.2]\n",
        " [ 4.7  3.2  1.3  0.2]\n",
        " [ 4.6  3.1  1.5  0.2]\n",
        " [ 5.   3.6  1.4  0.2]\n",
        " [ 5.4  3.9  1.7  0.4]\n",
        " [ 4.6  3.4  1.4  0.3]\n",
        " [ 5.   3.4  1.5  0.2]\n",
        " [ 4.4  2.9  1.4  0.2]\n",
        " [ 4.9  3.1  1.5  0.1]\n",
        " [ 5.4  3.7  1.5  0.2]\n",
        " [ 4.8  3.4  1.6  0.2]\n",
        " [ 4.8  3.   1.4  0.1]\n",
        " [ 4.3  3.   1.1  0.1]\n",
        " [ 5.8  4.   1.2  0.2]\n",
        " [ 5.7  4.4  1.5  0.4]\n",
        " [ 5.4  3.9  1.3  0.4]\n",
        " [ 5.1  3.5  1.4  0.3]\n",
        " [ 5.7  3.8  1.7  0.3]\n",
        " [ 5.1  3.8  1.5  0.3]\n",
        " [ 5.4  3.4  1.7  0.2]\n",
        " [ 5.1  3.7  1.5  0.4]\n",
        " [ 4.6  3.6  1.   0.2]\n",
        " [ 5.1  3.3  1.7  0.5]\n",
        " [ 4.8  3.4  1.9  0.2]\n",
        " [ 5.   3.   1.6  0.2]\n",
        " [ 5.   3.4  1.6  0.4]\n",
        " [ 5.2  3.5  1.5  0.2]\n",
        " [ 5.2  3.4  1.4  0.2]\n",
        " [ 4.7  3.2  1.6  0.2]\n",
        " [ 4.8  3.1  1.6  0.2]\n",
        " [ 5.4  3.4  1.5  0.4]\n",
        " [ 5.2  4.1  1.5  0.1]\n",
        " [ 5.5  4.2  1.4  0.2]\n",
        " [ 4.9  3.1  1.5  0.1]\n",
        " [ 5.   3.2  1.2  0.2]\n",
        " [ 5.5  3.5  1.3  0.2]\n",
        " [ 4.9  3.1  1.5  0.1]\n",
        " [ 4.4  3.   1.3  0.2]\n",
        " [ 5.1  3.4  1.5  0.2]\n",
        " [ 5.   3.5  1.3  0.3]\n",
        " [ 4.5  2.3  1.3  0.3]\n",
        " [ 4.4  3.2  1.3  0.2]\n",
        " [ 5.   3.5  1.6  0.6]\n",
        " [ 5.1  3.8  1.9  0.4]\n",
        " [ 4.8  3.   1.4  0.3]\n",
        " [ 5.1  3.8  1.6  0.2]\n",
        " [ 4.6  3.2  1.4  0.2]\n",
        " [ 5.3  3.7  1.5  0.2]\n",
        " [ 5.   3.3  1.4  0.2]]\n",
        "Y1 [0 0 0 0 0 0 0 0 0 0 0 0 0 0 0 0 0 0 0 0 0 0 0 0 0 0 0 0 0 0 0 0 0 0 0 0 0\n",
        " 0 0 0 0 0 0 0 0 0 0 0 0 0]\n",
        "X2: [[ 5.1         3.5         1.4        ..., -1.07709907 -0.4246633\n",
        "  -0.8299646 ]\n",
        " [ 4.9         3.          1.4        ...,  1.4121517  -1.38043075\n",
        "  -0.53591456]\n",
        " [ 4.7         3.2         1.3        ...,  0.65880214 -0.59691711\n",
        "  -0.22295918]\n",
        " ..., \n",
        " [ 4.6         3.2         1.4        ..., -0.33971352  0.65169567\n",
        "   0.80559882]\n",
        " [ 5.3         3.7         1.5        ..., -1.91095086  2.01367949\n",
        "   0.56140981]\n",
        " [ 5.          3.3         1.4        ...,  1.68985759  0.19996649\n",
        "  -1.2243307 ]]\n",
        "X3 [[ 5.1         3.8         1.6        ..., -0.05454311 -1.54549223\n",
        "  -1.67568201]\n",
        " [ 4.8         3.4         1.6        ..., -0.1527946   1.24856454\n",
        "   0.22399753]\n",
        " [ 5.7         3.8         1.7        ...,  0.37484215  0.90240315\n",
        "   0.66655916]\n",
        " ..., \n",
        " [ 5.          3.5         1.6        ..., -0.96606025 -0.20338686\n",
        "   1.82684218]\n",
        " [ 5.5         3.5         1.3        ...,  1.1038747   0.04572089\n",
        "  -0.31955085]\n",
        " [ 5.1         3.4         1.5        ...,  0.24971802 -0.18560225\n",
        "  -0.55897366]]\n",
        "Y3 [0 0 0 0 0 0 0 0 0 0 0 0 0 0 0 0 0 0 0 0 0 0 0 0 0 0 0 0 0 0 0 0 0 0 0 0 0\n",
        " 0 0 0 0 0 0 0 0 0 0 0 0 0]\n",
        "25\n",
        "32\n",
        "43\n",
        "13\n",
        "37\n"
       ]
      },
      {
       "ename": "ValueError",
       "evalue": "The number of classes has to be greater than one; got 1",
       "output_type": "pyerr",
       "traceback": [
        "\u001b[1;31m---------------------------------------------------------------------------\u001b[0m\n\u001b[1;31mValueError\u001b[0m                                Traceback (most recent call last)",
        "\u001b[1;32m<ipython-input-26-71d26b152196>\u001b[0m in \u001b[0;36m<module>\u001b[1;34m()\u001b[0m\n\u001b[0;32m     43\u001b[0m \u001b[1;31m# Run classifier\u001b[0m\u001b[1;33m\u001b[0m\u001b[1;33m\u001b[0m\u001b[0m\n\u001b[0;32m     44\u001b[0m \u001b[0mclassifier\u001b[0m \u001b[1;33m=\u001b[0m \u001b[0msvm\u001b[0m\u001b[1;33m.\u001b[0m\u001b[0mSVC\u001b[0m\u001b[1;33m(\u001b[0m\u001b[0mkernel\u001b[0m\u001b[1;33m=\u001b[0m\u001b[1;34m'linear'\u001b[0m\u001b[1;33m,\u001b[0m \u001b[0mprobability\u001b[0m\u001b[1;33m=\u001b[0m\u001b[0mTrue\u001b[0m\u001b[1;33m)\u001b[0m\u001b[1;33m\u001b[0m\u001b[0m\n\u001b[1;32m---> 45\u001b[1;33m \u001b[0mprobas_\u001b[0m \u001b[1;33m=\u001b[0m \u001b[0mclassifier\u001b[0m\u001b[1;33m.\u001b[0m\u001b[0mfit\u001b[0m\u001b[1;33m(\u001b[0m\u001b[0mX_train\u001b[0m\u001b[1;33m,\u001b[0m \u001b[0my_train\u001b[0m\u001b[1;33m)\u001b[0m\u001b[1;33m.\u001b[0m\u001b[0mpredict_proba\u001b[0m\u001b[1;33m(\u001b[0m\u001b[0mX_test\u001b[0m\u001b[1;33m)\u001b[0m\u001b[1;33m\u001b[0m\u001b[0m\n\u001b[0m\u001b[0;32m     46\u001b[0m \u001b[1;33m\u001b[0m\u001b[0m\n\u001b[0;32m     47\u001b[0m \u001b[1;31m# Compute ROC curve and area the curve\u001b[0m\u001b[1;33m\u001b[0m\u001b[1;33m\u001b[0m\u001b[0m\n",
        "\u001b[1;32m/usr/local/lib/python2.7/dist-packages/sklearn/svm/base.pyc\u001b[0m in \u001b[0;36mfit\u001b[1;34m(self, X, y, sample_weight)\u001b[0m\n\u001b[0;32m    138\u001b[0m \u001b[1;33m\u001b[0m\u001b[0m\n\u001b[0;32m    139\u001b[0m         \u001b[0mX\u001b[0m \u001b[1;33m=\u001b[0m \u001b[0matleast2d_or_csr\u001b[0m\u001b[1;33m(\u001b[0m\u001b[0mX\u001b[0m\u001b[1;33m,\u001b[0m \u001b[0mdtype\u001b[0m\u001b[1;33m=\u001b[0m\u001b[0mnp\u001b[0m\u001b[1;33m.\u001b[0m\u001b[0mfloat64\u001b[0m\u001b[1;33m,\u001b[0m \u001b[0morder\u001b[0m\u001b[1;33m=\u001b[0m\u001b[1;34m'C'\u001b[0m\u001b[1;33m)\u001b[0m\u001b[1;33m\u001b[0m\u001b[0m\n\u001b[1;32m--> 140\u001b[1;33m         \u001b[0my\u001b[0m \u001b[1;33m=\u001b[0m \u001b[0mself\u001b[0m\u001b[1;33m.\u001b[0m\u001b[0m_validate_targets\u001b[0m\u001b[1;33m(\u001b[0m\u001b[0my\u001b[0m\u001b[1;33m)\u001b[0m\u001b[1;33m\u001b[0m\u001b[0m\n\u001b[0m\u001b[0;32m    141\u001b[0m \u001b[1;33m\u001b[0m\u001b[0m\n\u001b[0;32m    142\u001b[0m         sample_weight = np.asarray([]\n",
        "\u001b[1;32m/usr/local/lib/python2.7/dist-packages/sklearn/svm/base.pyc\u001b[0m in \u001b[0;36m_validate_targets\u001b[1;34m(self, y)\u001b[0m\n\u001b[0;32m    444\u001b[0m             raise ValueError(\n\u001b[0;32m    445\u001b[0m                 \u001b[1;34m\"The number of classes has to be greater than one; got %d\"\u001b[0m\u001b[1;33m\u001b[0m\u001b[0m\n\u001b[1;32m--> 446\u001b[1;33m                 % len(cls))\n\u001b[0m\u001b[0;32m    447\u001b[0m \u001b[1;33m\u001b[0m\u001b[0m\n\u001b[0;32m    448\u001b[0m         \u001b[0mself\u001b[0m\u001b[1;33m.\u001b[0m\u001b[0mclasses_\u001b[0m \u001b[1;33m=\u001b[0m \u001b[0mcls\u001b[0m\u001b[1;33m\u001b[0m\u001b[0m\n",
        "\u001b[1;31mValueError\u001b[0m: The number of classes has to be greater than one; got 1"
       ]
      }
     ],
     "prompt_number": 26
    },
    {
     "cell_type": "code",
     "collapsed": false,
     "input": [
      "nb = [(0.959, 0.017), (0.973, 0.012), (0.975, 0.011)]\n",
      "df2 = pandas.DataFrame(nb, columns=['TP Rate', 'FP Rate'])\n",
      "\n",
      "alphas = ['NB', 'SVM', 'DT']\n",
      "graphROC(df2, alphas)\n",
      "#plt.figure(); variables = df2.plot(x='FP Rate', y='TP Rate', style='o', grid=True, subplots=True); plt.legend(loc='best')"
     ],
     "language": "python",
     "metadata": {},
     "outputs": [
      {
       "output_type": "stream",
       "stream": "stderr",
       "text": [
        "/usr/lib/pymodules/python2.7/matplotlib/axes.py:4486: UserWarning: No labeled objects found. Use label='...' kwarg on individual plots.\n",
        "  warnings.warn(\"No labeled objects found. \"\n"
       ]
      },
      {
       "metadata": {},
       "output_type": "display_data",
       "png": "[encoded data removed]",
       "text": [
        "<matplotlib.figure.Figure at 0x3317950>"
       ]
      }
     ],
     "prompt_number": 8
    }
   ],
   "metadata": {}
  }
 ]
}