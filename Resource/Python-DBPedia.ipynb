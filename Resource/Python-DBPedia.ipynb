{
 "metadata": {
  "name": "Python-DBPedia"
 },
 "nbformat": 3,
 "nbformat_minor": 0,
 "worksheets": [
  {
   "cells": [
    {
     "cell_type": "code",
     "collapsed": false,
     "input": [
      "from rdflib import Graph, URIRef\n",
      "\n",
      "g = Graph()\n",
      "len(g)\n",
      "g.parse(\"http://dbpedia.org/resource/Elvis_Presley\")\n",
      "len(g)\n",
      "\n",
      "for stmt in g.subject_objects(URIRef(\"http://dbpedia.org/ontology/birthDate\")):\n",
      "     print stmt\n",
      "        \n",
      "for stmt in g.subject_objects(URIRef(\"http://dbpedia.org/ontology/birthDate\")):\n",
      "    print \"the person represented by\", str(stmt[0]), \"was born on\", str(stmt[1])"
     ],
     "language": "python",
     "metadata": {},
     "outputs": [
      {
       "output_type": "stream",
       "stream": "stdout",
       "text": [
        "(rdflib.term.URIRef(u'http://dbpedia.org/resource/Elvis_Presley'), rdflib.term.Literal(u'1935-01-08', datatype=rdflib.term.URIRef(u'http://www.w3.org/2001/XMLSchema#date')))\n",
        "the person represented by http://dbpedia.org/resource/Elvis_Presley was born on 1935-01-08\n"
       ]
      }
     ],
     "prompt_number": 1
    },
    {
     "cell_type": "code",
     "collapsed": false,
     "input": [
      "from SPARQLWrapper import SPARQLWrapper, JSON\n",
      "\n",
      "sparql = SPARQLWrapper(\"http://dbpedia.org/sparql\")\n",
      "sparql.setQuery(\"\"\"\n",
      "    PREFIX rdfs: <http://www.w3.org/2000/01/rdf-schema#>\n",
      "    SELECT ?label\n",
      "    WHERE { \n",
      "      <http://dbpedia.org/resource/Colombia> rdfs:label ?label .\n",
      "    }\n",
      "\"\"\")\n",
      "sparql.setReturnFormat(JSON)\n",
      "results = sparql.query().convert()\n",
      "\n",
      "for result in results[\"results\"][\"bindings\"]:\n",
      "    print result[\"label\"][\"value\"]"
     ],
     "language": "python",
     "metadata": {},
     "outputs": [
      {
       "output_type": "stream",
       "stream": "stdout",
       "text": [
        "\u54e5\u4f26\u6bd4\u4e9a\n",
        "Colombia\n",
        "Kolumbien\n",
        "Colombia\n",
        "Colombia\n",
        "Colombie\n",
        "Kolumbia\n",
        "Colombia\n",
        "\u041a\u043e\u043b\u0443\u043c\u0431\u0438\u044f\n",
        "\u30b3\u30ed\u30f3\u30d3\u30a2\n",
        "Col\u00f4mbia\n",
        "Colombia\n"
       ]
      }
     ],
     "prompt_number": 1
    }
   ],
   "metadata": {}
  }
 ]
}