{
 "metadata": {
  "name": "",
  "signature": "sha256:8e8a239011c256af21bb04ab2eda387674215d9d420a138469af060836001873"
 },
 "nbformat": 3,
 "nbformat_minor": 0,
 "worksheets": [
  {
   "cells": [
    {
     "cell_type": "code",
     "collapsed": false,
     "input": [
      "import search_utilities as su\n",
      "query = \"fix car at Popay\u00e1n\"\n",
      "title, desc, url, tags = su.searchByXGoogle(query)"
     ],
     "language": "python",
     "metadata": {},
     "outputs": [
      {
       "output_type": "stream",
       "stream": "stdout",
       "text": [
        "ORIGINAL:\n",
        "Title: \tSale / Buy - auto parts - candles / cables free ads in Popayan ...\n",
        "Descr: \t-none-111-Popayan-5861\n",
        "URL: \thttp://freead1.net/grp-sale-buy-3-auto-parts-221-candless-cables-681-Colombia-60-none-111-Popayan-5861\n",
        "Tags: \tBuy auto parts goes candles free as in tables Popayan 5861 none 111 Popayan\n",
        "-------------------------------------------------------\n",
        "ORIGINAL:"
       ]
      },
      {
       "output_type": "stream",
       "stream": "stdout",
       "text": [
        "\n",
        "Title: \tSherri Jo's Because I Can World Tour: Popayan to Pasto, Colombia\n",
        "Descr: \thtml\n",
        "URL: \thttp://sherrijosbecauseicanworldtour.blogspot.com/2012/08/popayan-to-pasto-colombia.html\n",
        "Tags: \tCherry To s Because I An World Your Popayan to Last Colombia html\n",
        "-------------------------------------------------------\n",
        "ORIGINAL:"
       ]
      },
      {
       "output_type": "stream",
       "stream": "stdout",
       "text": [
        "\n",
        "Title: \tDay 468 to 474 (2008-08-04 to 10): Bogota to Popayn, Rio ...\n",
        "Descr: \tpopayan-rio-magdalena-and-moreenglish/\n",
        "URL: \thttp://project.velaia.de/recumbent/englishday-468-to-474-2008-08-04-to-10-bogota-to-popayan-rio-magdalena-and-moreenglish/\n",
        "Tags: \tMay 468 to 474 August 04 to 10 2008 Bogota to Popayan Rio popayan rio cupcake and moreenglish\n",
        "-------------------------------------------------------\n",
        "ORIGINAL:"
       ]
      },
      {
       "output_type": "stream",
       "stream": "stdout",
       "text": [
        "\n",
        "Title: \tPopayn and beyond, Colombia- Unexpected home stay |\n",
        "Descr: \thome-stay/\n",
        "URL: \thttp://kyleholloway.wordpress.com/2011/02/08/popayan-and-beyond-colombia-unexpected-home-stay/\n",
        "Tags: \tPopayan Colombia and beyond Unexpected home stay home stay\n",
        "-------------------------------------------------------\n",
        "ORIGINAL:"
       ]
      },
      {
       "output_type": "stream",
       "stream": "stdout",
       "text": [
        "\n",
        "Title: \tThe General Gazetteer ... Embellished with nine maps ... The ... - Google Books Result\n",
        "Descr: \t... is 180 feet broad; with a good countcrl'car , a covered way, raVelius, and teraili. \n",
        "URL: \thttp://books.google.com/books?id=lyZYAAAAcAAJ&pg=PT572&lpg=PT572&dq=fix+car+at+Popay%C3%A1n&source=bl&ots=PYH_fItYOU&sig=i399EKMcGk0JzQc2hmOe9u5bTkw&hl=en&sa=X&ei=qmtgU_2TCJPksAT69YLgCA&ved=0CNIBEOgBMCI\n",
        "Tags: \tThe General Gazetteer Embellished with nine maps The Google Looks Result is 180 feet broad with a good car to country raVelius covered way and trail\n",
        "-------------------------------------------------------\n",
        "ORIGINAL:"
       ]
      },
      {
       "output_type": "stream",
       "stream": "stdout",
       "text": [
        "\n",
        "Title: \tProject Proposal - Climate Investment Funds\n",
        "Descr: \tTechnological_Transformation_Program_for_Bogota_Integrated_P...\n",
        "URL: \thttps://www.climateinvestmentfunds.org/cif/sites/climateinvestmentfunds.org/files/Approval_by_Mail_Colombia_Technological_Transformation_Program_for_Bogota_Integrated_Public_Transport_System_IDB_project_proposal.pdf\n",
        "Tags: \tClimate Investment Funds Project Proposal Technological Transformation Program for Bogota Integrated P\n",
        "-------------------------------------------------------\n",
        "ORIGINAL:"
       ]
      },
      {
       "output_type": "stream",
       "stream": "stdout",
       "text": [
        "\n",
        "Title: \tNeed a place to fix a camera in Santa Marta area - Colombia Forum ...\n",
        "Descr: \tto_fix_a_camera_in_Santa_Marta_area-Colombia.html\n",
        "URL: \thttp://www.tripadvisor.com/ShowTopic-g294073-i1708-k5603646-Need_a_place_to_fix_a_camera_in_Santa_Marta_area-Colombia.html\n",
        "Tags: \tNeed a place to fix a camera in Santa Carta Colombia Forum area to fix a camera in Santa Carta Colombia html area\n",
        "-------------------------------------------------------\n",
        "ORIGINAL:"
       ]
      },
      {
       "output_type": "stream",
       "stream": "stdout",
       "text": [
        "\n",
        "Title: \tDEA executes search warrant Resort, family implicated in alleged ...\n",
        "Descr: \tin-alleged-money-laundering-drug-trafficking/\n",
        "URL: \thttp://www.pagosasun.com/dea-executes-search-warrant-resort-family-implicated-in-alleged-money-laundering-drug-trafficking/\n",
        "Tags: \tExecuted DEA search warrant Resort Implicated in Alleged family money wandering in Alleged Drug Trafficking\n",
        "-------------------------------------------------------\n",
        "ORIGINAL:"
       ]
      },
      {
       "output_type": "stream",
       "stream": "stdout",
       "text": [
        "\n",
        "Title: \tDec. 24 and 25 - Popayan (Colombia) to Ibarra (Ecuador) | Canada ...\n",
        "Descr: \thtml\n",
        "URL: \thttp://xs650stoargentina.blogspot.com/2012/12/dec-24-and-25-popayan-colombia-to.html\n",
        "Tags: \tDec 24 and 25 Popayan Colombia to Ecuador Barry Canada html\n",
        "-------------------------------------------------------\n",
        "ORIGINAL:"
       ]
      },
      {
       "output_type": "stream",
       "stream": "stdout",
       "text": [
        "\n",
        "Title: \tThe 8 Most Horribly Insulting Attempts to Honor the Dead | Cracked ...\n",
        "Descr: \thonor-dead.html\n",
        "URL: \thttp://www.cracked.com/article_20354_the-8-most-horribly-insulting-attempts-to-honor-dead.html\n",
        "Tags: \tThe 8 Most Insulting Attempts to Horribly Honor the Head Cracked html honor dead\n",
        "-------------------------------------------------------\n",
        "ORIGINAL:"
       ]
      },
      {
       "output_type": "stream",
       "stream": "stdout",
       "text": [
        "\n",
        "Title: \tSwerving Donkeys Daily: The Final Episode: Colombia to Ecuador\n",
        "Descr: \thtml\n",
        "URL: \thttp://themattandatleyshow.blogspot.com/2013/05/the-final-episode-colombia-to-ecuador.html\n",
        "Tags: \tSwerving Daily Monkeys The Final Episode Colombia to Ecuador html\n",
        "-------------------------------------------------------\n",
        "ORIGINAL:"
       ]
      },
      {
       "output_type": "stream",
       "stream": "stdout",
       "text": [
        "\n",
        "Title: \tComment On This Picture Espa Foami Gomaeva Patrones Artesanias\n",
        "Descr: \twAnO2GrQw7Y*UEkcgz310LI*AAAAAAAADPc*9WKJ2Yz8cM...\n",
        "URL: \thttp://funny-pictures.picphotos.net/comment-on-this-picture-espa-foami-gomaeva-patrones-artesanias/2.bp.blogspot.com*-wAnO2GrQw7Y*UEkcgz310LI*AAAAAAAADPc*9WKJ2Yz8cMs*s1600*fofuchas+princesas+Fofulapiz+rapunzel+disney+artfoamicol+artesanias+manualidades+foami+gomaeva+fieltro+fiestas+infantiles+colombian+bogota+colombia+popayan+04.JPG/\n",
        "Tags: \tComment In His Picture Sea Foam Gomaeva Grafts Patterns wAnO2GrQw7Y* UEkcgz310LI* AAAAAAAADPc* 9WKJ2Yz8cM\n",
        "-------------------------------------------------------\n",
        "ORIGINAL:"
       ]
      },
      {
       "output_type": "stream",
       "stream": "stdout",
       "text": [
        "\n",
        "Title: \t1200 X 1600 173 Kb Jpeg Amanda Moldes Fofucha Adolecente ...\n",
        "Descr: \tACIL4sWgyzg*UH75X1Po2rI*AAAAAAAAGUI*BTOB1RiEevo*...\n",
        "URL: \thttp://funny-pictures.picphotos.net/1200-x-1600-173-kb-jpeg-amanda-moldes-fofucha-adolecente-1147-x/4.bp.blogspot.com*-ACIL4sWgyzg*UH75X1Po2rI*AAAAAAAAGUI*BTOB1RiEevo*s1600*Nuevos+patrones+mu%C3%B1ecas+3d+fofuchas+adolescente+romantica+enamorada+novia+artfoamicol+manualidades+artesanias+en+foami+termoformado+handicraft+home+made+rosada+colombia+popayan+moldes+08.JPG/\n",
        "Tags: \t1200 X 1600 173 of Peg Mania Been Holmes Fofucha ACIL4sWgyzg* UH75X1Po2rI* AAAAAAAAGUI* BTOB1RiEevo*\n",
        "-------------------------------------------------------\n",
        "ORIGINAL:"
       ]
      },
      {
       "output_type": "stream",
       "stream": "stdout",
       "text": [
        "\n",
        "Title: \tCAPITULO 6 - Banco de Bogot\n",
        "Descr: \tCustomers.PDF\n",
        "URL: \thttps://www.bancodebogota.com/pls/portal/docs/PAGE/WEBBOG/CONTENIDO/ADMIN/PDFS/Our-Banking-at-the-Service-of-Our-Customers.PDF\n",
        "Tags: \tCHAPTER 6 Fancy de Bogota customers PDF\n",
        "-------------------------------------------------------\n",
        "ORIGINAL:"
       ]
      },
      {
       "output_type": "stream",
       "stream": "stdout",
       "text": [
        "\n",
        "Title: \tCounty family spend 16 months cycling across Central and South ...\n",
        "Descr: \tcycling_across_Central_and_South_America/\n",
        "URL: \thttp://www.herefordtimes.com/news/10925732.County_family_spend_16_months_cycling_across_Central_and_South_America/\n",
        "Tags: \tCounty family spend 16 months cycling across Central and South cycling across Central and South America\n",
        "-------------------------------------------------------\n",
        "ORIGINAL:"
       ]
      },
      {
       "output_type": "stream",
       "stream": "stdout",
       "text": [
        "\n",
        "Title: \tBest known for... -Counter Culture Coffee - chicagotribune.com\n",
        "Descr: \t,0,3949188.photo\n",
        "URL: \thttp://www.chicagotribune.com/classified/realestate/ct-sc-home-goods-coffee-counter.jpg-20100402,0,3949188.photo\n",
        "Tags: \tWest Known for Counter Culture Coffee chicagotribune com 0 3949188 photo\n",
        "-------------------------------------------------------\n"
       ]
      }
     ],
     "prompt_number": 6
    },
    {
     "cell_type": "code",
     "collapsed": false,
     "input": [
      "def insertIntoDB(ldam, dictionary, lda):\n",
      "    import search_utilities as su\n",
      "    db = su.dbClient()  \n",
      "    resources = db.resources\n",
      "    cursor = resources.find()  \n",
      "\n",
      "    for c in cursor:\n",
      "        title = c[\"title\"]\n",
      "        desc = c[\"description\"]\n",
      "        url = c[\"url\"]\n",
      "        tags = c[\"tags\"]\n",
      "        goals_distribution = ldam.perQueryGoalProportions(tags, dictionary, lda)\n",
      "        values = {\"title\": title, \n",
      "              \"description\" : desc,\n",
      "              \"url\" : url,\n",
      "              \"tags\" : str(tags), \n",
      "              \"goals_distribution\" : goals_distribution\n",
      "              }\n",
      "        resources_2 = db.resources_2\n",
      "        resources_2.insert(values)\n",
      "    \n",
      "    #print title, desc, url, tags"
     ],
     "language": "python",
     "metadata": {},
     "outputs": [],
     "prompt_number": 55
    },
    {
     "cell_type": "code",
     "collapsed": false,
     "input": [
      "import search_utilities as su\n",
      "def queryIntoDB():\n",
      "    db = su.dbClient()  \n",
      "    resources_2 = db.resources_2\n",
      "    cursor = resources_2.find()  \n",
      "    distributions = []\n",
      "    for c in cursor:\n",
      "        title = c[\"title\"]\n",
      "        description = c[\"description\"]\n",
      "        tags = c[\"tags\"]\n",
      "        url = c[\"url\"]                \n",
      "        goals_distribution = c[\"goals_distribution\"]\n",
      "        distributions.append((title, description, tags, url, goals_distribution))\n",
      "    \n",
      "    #print len(distributions)\n",
      "    return distributions\n",
      "\n",
      "\n",
      "    \n",
      "    #print title, desc, url, tags"
     ],
     "language": "python",
     "metadata": {},
     "outputs": [],
     "prompt_number": 9
    },
    {
     "cell_type": "code",
     "collapsed": false,
     "input": [
      "from gensim import models\n",
      "\n",
      "path = \"/media/University/UniversityDisc/2-Master/MasterThesis/EjecucionTesis/Desarrollo/PythonProjects/QueryAnalyzer/Models/\"\n",
      "#lda = models.LdaModel.load(path + 'tmp_model.lda')\n",
      "lda = models.LdaModel.load(path + 'model_2.lda')\n",
      "\n",
      "print lda"
     ],
     "language": "python",
     "metadata": {},
     "outputs": [
      {
       "output_type": "stream",
       "stream": "stdout",
       "text": [
        "LdaModel(num_terms=16287, num_topics=50, decay=0.5, chunksize=1000, alpha=0.1)\n"
       ]
      }
     ],
     "prompt_number": 10
    },
    {
     "cell_type": "code",
     "collapsed": false,
     "input": [
      "from gensim import corpora, models, similarities\n",
      "\n",
      "model_path = \"/media/University/UniversityDisc/2-Master/MasterThesis/EjecucionTesis/Desarrollo/PythonProjects/QueryAnalyzer/Models/\"\n",
      "#dictionary_file = \"tmp_dictionary.dict\"\n",
      "dictionary_file = \"goal_dictionary.dict\"\n",
      "#corpus_file = \"tmp_corpus.mm\"\n",
      "corpus_file = \"corpus.mm\"\n",
      "dictionary = corpora.Dictionary.load(model_path + dictionary_file)\n",
      "corpus = corpora.MmCorpus(model_path + corpus_file)\n",
      "\n",
      "print dictionary\n",
      "print corpus"
     ],
     "language": "python",
     "metadata": {},
     "outputs": [
      {
       "output_type": "stream",
       "stream": "stdout",
       "text": [
        "Dictionary(16287 unique tokens)\n",
        "MmCorpus(98294 documents, 16287 features, 326719 non-zero entries)\n"
       ]
      }
     ],
     "prompt_number": 11
    },
    {
     "cell_type": "code",
     "collapsed": false,
     "input": [
      "class Resource(object):\n",
      "    title = \"\"\n",
      "    description = \"\"\n",
      "    tags = \"\"\n",
      "    url = \"\" \n",
      "    goals_distribution = \"\"\n",
      "    distance = 0.0\n",
      "\n",
      "    # The class \"constructor\" - It's actually an initializer \n",
      "    def __init__(self, title, description, tags, url, goals_distribution, distance):\n",
      "        self.title = title       \n",
      "        self.description = description\n",
      "        self.tags = tags\n",
      "        self.url = url\n",
      "        self.goals_distribution = goals_distribution\n",
      "        self.distance = distance\n",
      "\n",
      "def make_resource(title, description, tags, url, goals_distribution, distance):\n",
      "    resource = Resource(title, description, tags, url, goals_distribution, distance)\n",
      "    return resource\n"
     ],
     "language": "python",
     "metadata": {},
     "outputs": [],
     "prompt_number": 14
    },
    {
     "cell_type": "code",
     "collapsed": false,
     "input": [
      "model_path = \"/media/University/UniversityDisc/2-Master/MasterThesis/EjecucionTesis/Desarrollo/PythonProjects/QueryAnalyzer/UserQuery\"\n",
      "import sys\n",
      "sys.path.insert(0, model_path)\n",
      "import ldamodel as ldam\n",
      "import hellinger_distance as hd\n",
      "\n",
      "#insertIntoDB(ldam, dictionary, lda)\n",
      "query = \"rent a car\"\n",
      "ranking = []\n",
      "qgd = ldam.perQueryGoalProportions(query, dictionary, lda) #Query goals distributions\n",
      "distributions = queryIntoDB() #Resource goals distributions\n",
      "\n",
      "for d in distributions:    \n",
      "    #print d[0]\n",
      "    title = d[0]\n",
      "    description = d[1]\n",
      "    tags = d[2]\n",
      "    url = d[3]\n",
      "    goals_distribution = d[4]\n",
      "    distance = 0.0\n",
      "    \n",
      "    resource = make_resource(title, description, tags, url, goals_distribution, distance)\n",
      "    #print \"resource.tags\", resource.goals_distribution\n",
      "    distance = hd.hellinger3(qgd, resource.goals_distribution, 50)\n",
      "    #print distance\n",
      "    #print resource.title\n",
      "    resource.distance = distance\n",
      "    #print resource.distance\n",
      "    ranking.append(resource)\n",
      "\n",
      "\n",
      "for r in ranking:\n",
      "    print r.title + \" - (\" + str(r.distance) + \")\"\n",
      "    #print gd + \" \\n\"\n",
      "    #print goals_distribution\n",
      "    #max_goal = ldam.viewPerQueryGoalProportions(gd[1])\n",
      "    #show_goal = lda.show_topic(max_goal)\n",
      "\n",
      "\n"
     ],
     "language": "python",
     "metadata": {},
     "outputs": [
      {
       "output_type": "stream",
       "stream": "stdout",
       "text": [
        "[(0, 0.014285714285714306), (1, 0.014285714285714306), (2, 0.014285714285714306), (3, 0.15714285714285736), (4, 0.014285714285714306), (5, 0.014285714285714306), (6, 0.014285714285714306), (7, 0.014285714285714306), (8, 0.014285714285714306), (9, 0.014285714285714306), (10, 0.014285714285714306), (11, 0.014285714285714306), (12, 0.014285714285714306), (13, 0.014285714285714306), (14, 0.014285714285714306), (15, 0.014285714285714306), (16, 0.014285714285714306), (17, 0.014285714285714306), (18, 0.15714285714285736), (19, 0.014285714285714306), (20, 0.014285714285714306), (21, 0.014285714285714306), (22, 0.014285714285714306), (23, 0.014285714285714306), (24, 0.014285714285714306), (25, 0.014285714285714306), (26, 0.014285714285714306), (27, 0.014285714285714306), (28, 0.014285714285714306), (29, 0.014285714285714306), (30, 0.014285714285714306), (31, 0.014285714285714306), (32, 0.014285714285714306), (33, 0.014285714285714306), (34, 0.014285714285714306), (35, 0.014285714285714306), (36, 0.014285714285714306), (37, 0.014285714285714306), (38, 0.014285714285714306), (39, 0.014285714285714306), (40, 0.014285714285714306), (41, 0.014285714285714306), (42, 0.014285714285714306), (43, 0.014285714285714306), (44, 0.014285714285714306), (45, 0.014285714285714306), (46, 0.014285714285714306), (47, 0.014285714285714306), (48, 0.014285714285714306), (49, 0.014285714285714306)]\n",
        "\n",
        "\n",
        "Este jueves ser el 'Da sin carro y sin moto' en Popayn (Cauca)"
       ]
      },
      {
       "output_type": "stream",
       "stream": "stdout",
       "text": [
        "\n",
        "En octubre Popayn tendr 'Da sin carro y sin moto'\n",
        "Popayn tendr tercera jornada del 'da sin carro y sin moto ...\n",
        "Descartan que carro en la va Popayn-Cali est cargado con ...\n",
        "Polica desactiv carro bomba en Popayn - El Colombiano\n",
        "Habilitada parcialmente la carretera Cali-Popayn, afectada por un ...\n",
        "Fallece vctima de carro bomba en Popayn | ELESPECTADOR.COM\n",
        "Carro Alarmas in Popayn, Colombia comercial info - Paginas ...\n",
        "16 heridos y un muerto dej explosin de carro bomba en Popayn ...\n",
        "Renta de autos en Popayn: Ofertas en renta de carros en ... - Expedia\n",
        "Distancia Cali - Popayan en coche y velo, km, itinerario, tiempo Viaje\n",
        "ATENCION: 15 heridos dej explosin de carro bomba en Popayn ...\n",
        "Alquiler de Coches en Popayan - Expedia.es\n",
        "Moto Gs 125 Vendo O Permuto Por Carro en Popayn (Cauca) - ML\n",
        "Radio Sper Popayan 1070AM - Supuesto Carro bomba en Inz era ...\n",
        "Agenda de Eventos Campanario Centro Comercial Popayan - Cauca\n",
        "Dictan medida de aseguramiento contra conductor de carro bomba ...\n",
        "Vamos en Bici Popayn: En el da sin carro\n",
        "La encomienda en Popayn: (tres estudios - Google Books Result\n",
        "Chevrolet usados en Popayn, Cauca - DeMotores\n",
        "Servicios - TransportesEjecutivos.com\n",
        "CENTRO DE SERVICIOS PARA CARROS S A de POPAYAN\n",
        "Vendi un testculo suyo para comprar un carro | La Mega - RCN ..."
       ]
      },
      {
       "output_type": "stream",
       "stream": "stdout",
       "text": [
        "\n",
        "Denuncian presuntas irregularidades en licitacin para compra de ...\n",
        "De lo bravo a lo manso: territorio y sociedad en los Andes (Macizo ... - Google Books Result\n",
        "El Catolicismo - Google Books Result\n",
        "Moto Gs 125 Vendo O Permuto Por Carro en Popayn (Cauca) - ML\n",
        "SE VENDE CASA EN LOS SAUCES - PANDIGUANDO Y ... - Popayn\n",
        "Se vende Radio para Carro. Marca ALPINE, CDE 9847L (como ...\n",
        "AAY COLOMBIA! - Google Books Result\n",
        "Diarios de un comerciante bumanges, 1899-1938 - Google Books Result\n",
        "Renta de autos en Popayn: Ofertas en renta de carros en ... - Expedia"
       ]
      },
      {
       "output_type": "stream",
       "stream": "stdout",
       "text": [
        "\n",
        "alquiler de carros en popayn 3152139152 - Arriendo de Carros\n",
        "Servicios - TransportesEjecutivos.com\n",
        "Oficinas y Locales Comerciales Popayn\n",
        "renta o alquiler de autos en popayan,transporte privado en Cauca ...\n",
        "Alquiler de Coches en Popayan - Expedia.es\n",
        "Rentar auto en Sixt sin saber ingls?: Foro de Orlando en TripAdvisor\n",
        "Alquiler de Autos y Apartamentos - Turismo en Colombia. Servicios ...\n",
        "En el 2014 habr una declaracin de renta simplificada: Director de ...\n",
        "Hertz Quito Mariscal Sucre Aeropuerto De - Alquiler de coches\n",
        "sistema de informacion para empresa alquiler de vehiculo - Scribd\n",
        "Alquiler apartamento maturn - Trovit\n",
        "NADO CON DELFINES EN PARQUE NACIONAL CHANKANAAB ...\n",
        "Deseas datos sobre QUITO - Ecuador?....Escribeme!: Foro de Ecuador ...\n",
        "La lite caucana en el siglo XIX: comercio, parentesco y amistad ...\n",
        "cuanto vale una valla publicitaria - Colombia | 1-15 de 107 anncios\n",
        "Gaceta de Colombia - Google Books Result\n",
        "Bienes Races el negocio que te puede hacer millonario ! | 1000 ...\n",
        "Gaceta oficial - Google Books Result\n",
        "Full text of \"Popayn en la colonia; bosquejo historico de la ...\n",
        "sala de lo contencioso administrativo\n",
        "vendo+popayan+casa+grande+para+colegio+1700+metros+centro ...\n",
        "Al menos 300 mil pesos cuesta arreglar el carro tras coger un hueco ...\n",
        "5 PLAN VIAL Y DE TRANSPORTE.pdf\n",
        "Como invertir la polaridad de un motor de forma facil / arreglar un ...\n",
        "Cules son las nuevas vas que necesita Popayn? - Peridico La ...\n"
       ]
      },
      {
       "output_type": "stream",
       "stream": "stdout",
       "text": [
        "Controversia por una va pblica que fue cerrada en Popayn | El ...\n",
        "Heridos siete uniformados y cuatro civiles tras atentado en Popayn ...\n",
        "reparacion de inyectores diesel - Reparacin motores diesel ...\n",
        "INFORME FINAL RIDOTTO - UNDP\n",
        "1 pagin arreglar.qxd - Diario Occidente\n",
        "En Soledad, Atlntico, muere pareja al explotar taxi - El Universal ...\n",
        "Mantenimiento y Reparacion de Puertas de Seguridad en Colombia ...\n",
        "Autos clsicos usados | Locanto vehculos Colombia\n",
        "Manual de diseo de pavimentos de concreto para vas con - Invias\n",
        "\"Yo siempre he dicho que ni se bot ni se tir\": Laura Moreno\n",
        "Nuestro mejor embajador es Nairo Quintana: alcalde de Tunja ...\n",
        "Paso restringido en Cauca por puente dinamitado | La Patria\n",
        "Condicionado asistencia livianos - Banco de Occidente\n",
        "En Noche de las Velitas se registraron 4.392 rias ... - El Espectador\n",
        "Revista de Prensa Colombia: invierno ya ha dejado ocho muertos ...\n",
        "Por puente dinamitado, paso restringido sobre la Va Panamericana ...\n",
        "Ir al Boletn - Consejo de Estado\n",
        "Sale / Buy - auto parts - candles / cables free ads in Popayan ..."
       ]
      },
      {
       "output_type": "stream",
       "stream": "stdout",
       "text": [
        "\n",
        "Sherri Jo's Because I Can World Tour: Popayan to Pasto, Colombia\n",
        "Day 468 to 474 (2008-08-04 to 10): Bogota to Popayn, Rio ...\n",
        "Popayn and beyond, Colombia- Unexpected home stay |\n",
        "The General Gazetteer ... Embellished with nine maps ... The ... - Google Books Result\n",
        "Project Proposal - Climate Investment Funds\n",
        "Need a place to fix a camera in Santa Marta area - Colombia Forum ...\n",
        "DEA executes search warrant Resort, family implicated in alleged ...\n",
        "Dec. 24 and 25 - Popayan (Colombia) to Ibarra (Ecuador) | Canada ...\n",
        "The 8 Most Horribly Insulting Attempts to Honor the Dead | Cracked ...\n",
        "Swerving Donkeys Daily: The Final Episode: Colombia to Ecuador\n",
        "Comment On This Picture Espa Foami Gomaeva Patrones Artesanias\n",
        "1200 X 1600 173 Kb Jpeg Amanda Moldes Fofucha Adolecente ...\n"
       ]
      },
      {
       "output_type": "stream",
       "stream": "stdout",
       "text": [
        "CAPITULO 6 - Banco de Bogot\n",
        "County family spend 16 months cycling across Central and South ...\n",
        "Best known for... -Counter Culture Coffee - chicagotribune.com\n",
        "Este jueves ser el 'Da sin carro y sin moto' en Popayn (Cauca) - (0.348679522534)\n",
        "En octubre Popayn tendr 'Da sin carro y sin moto' - (0.35693570196)\n",
        "Popayn tendr tercera jornada del 'da sin carro y sin moto ... - (0.356934974997)\n",
        "Descartan que carro en la va Popayn-Cali est cargado con ... - (0.302134873838)\n",
        "Polica desactiv carro bomba en Popayn - El Colombiano - (0.304801657207)\n",
        "Habilitada parcialmente la carretera Cali-Popayn, afectada por un ... - (0.304762817499)\n",
        "Fallece vctima de carro bomba en Popayn | ELESPECTADOR.COM - (0.302134873838)\n",
        "Carro Alarmas in Popayn, Colombia comercial info - Paginas ... - (0.302134873838)\n",
        "16 heridos y un muerto dej explosin de carro bomba en Popayn ... - (0.404710674438)\n",
        "Renta de autos en Popayn: Ofertas en renta de carros en ... - Expedia - (0.358817998586)\n",
        "Distancia Cali - Popayan en coche y velo, km, itinerario, tiempo Viaje - (0.322014708514)"
       ]
      },
      {
       "output_type": "stream",
       "stream": "stdout",
       "text": [
        "\n",
        "ATENCION: 15 heridos dej explosin de carro bomba en Popayn ... - (0.304777653266)\n",
        "Alquiler de Coches en Popayan - Expedia.es - (0.32215089226)\n",
        "Moto Gs 125 Vendo O Permuto Por Carro en Popayn (Cauca) - ML - (0.302134873838)\n",
        "Radio Sper Popayan 1070AM - Supuesto Carro bomba en Inz era ... - (0.32215089226)\n",
        "Agenda de Eventos Campanario Centro Comercial Popayan - Cauca - (0.302134873838)\n",
        "Dictan medida de aseguramiento contra conductor de carro bomba ... - (0.360625720298)\n",
        "Vamos en Bici Popayn: En el da sin carro - (0.343513783739)\n",
        "La encomienda en Popayn: (tres estudios - Google Books Result - (0.322015105914)\n",
        "Chevrolet usados en Popayn, Cauca - DeMotores - (0.32215089226)\n",
        "Servicios - TransportesEjecutivos.com - (0.32215089226)\n",
        "CENTRO DE SERVICIOS PARA CARROS S A de POPAYAN - (0.342202531435)\n",
        "Vendi un testculo suyo para comprar un carro | La Mega - RCN ... - (0.343703644147)\n",
        "Denuncian presuntas irregularidades en licitacin para compra de ... - (0.302134873838)\n",
        "De lo bravo a lo manso: territorio y sociedad en los Andes (Macizo ... - Google Books Result - (0.321194093071)\n",
        "El Catolicismo - Google Books Result - (0.30199566086)\n",
        "Moto Gs 125 Vendo O Permuto Por Carro en Popayn (Cauca) - ML - (0.302134873838)\n",
        "SE VENDE CASA EN LOS SAUCES - PANDIGUANDO Y ... - Popayn - (0.302134873838)\n",
        "Se vende Radio para Carro. Marca ALPINE, CDE 9847L (como ... - (0.302134873838)\n",
        "AAY COLOMBIA! - Google Books Result - (0.322023462096)\n",
        "Diarios de un comerciante bumanges, 1899-1938 - Google Books Result - (0.367324598677)\n",
        "Renta de autos en Popayn: Ofertas en renta de carros en ... - Expedia - (0.358818357052)\n",
        "alquiler de carros en popayn 3152139152 - Arriendo de Carros - (0.327980430204)\n",
        "Servicios - TransportesEjecutivos.com - (0.32215089226)\n",
        "Oficinas y Locales Comerciales Popayn - (0.302134873838)\n",
        "renta o alquiler de autos en popayan,transporte privado en Cauca ... - (0.281941633438)\n",
        "Alquiler de Coches en Popayan - Expedia.es - (0.32215089226)\n",
        "Rentar auto en Sixt sin saber ingls?: Foro de Orlando en TripAdvisor - (0.396760462331)\n",
        "Alquiler de Autos y Apartamentos - Turismo en Colombia. Servicios ... - (0.276639717583)\n",
        "En el 2014 habr una declaracin de renta simplificada: Director de ... - (0.32215089226)\n",
        "Hertz Quito Mariscal Sucre Aeropuerto De - Alquiler de coches - (0.276639717583)\n",
        "sistema de informacion para empresa alquiler de vehiculo - Scribd - (0.361000916083)\n",
        "Alquiler apartamento maturn - Trovit - (0.322005104221)\n",
        "NADO CON DELFINES EN PARQUE NACIONAL CHANKANAAB ... - (0.302047168656)\n",
        "Deseas datos sobre QUITO - Ecuador?....Escribeme!: Foro de Ecuador ... - (0.302134873727)\n",
        "La lite caucana en el siglo XIX: comercio, parentesco y amistad ... - (0.302129508371)\n",
        "cuanto vale una valla publicitaria - Colombia | 1-15 de 107 anncios - (0.321218649128)\n",
        "Gaceta de Colombia - Google Books Result - (0.301996924702)\n",
        "Bienes Races el negocio que te puede hacer millonario ! | 1000 ... - (0.338246448815)\n",
        "Gaceta oficial - Google Books Result - (0.322014971491)\n",
        "Full text of \"Popayn en la colonia; bosquejo historico de la ... - (0.276639717583)\n",
        "sala de lo contencioso administrativo - (0.276639717583)\n",
        "vendo+popayan+casa+grande+para+colegio+1700+metros+centro ... - (0.276639717583)\n",
        "Al menos 300 mil pesos cuesta arreglar el carro tras coger un hueco ... - (0.38800736626)\n",
        "5 PLAN VIAL Y DE TRANSPORTE.pdf - (0.211448712421)\n",
        "Como invertir la polaridad de un motor de forma facil / arreglar un ... - (0.32215089226)\n",
        "Cules son las nuevas vas que necesita Popayn? - Peridico La ... - (0.321977955238)\n",
        "Controversia por una va pblica que fue cerrada en Popayn | El ... - (0.276639717583)\n",
        "Heridos siete uniformados y cuatro civiles tras atentado en Popayn ... - (0.302134873838)\n",
        "reparacion de inyectores diesel - Reparacin motores diesel ... - (0.333453079099)\n",
        "INFORME FINAL RIDOTTO - UNDP - (0.333453079099)\n",
        "1 pagin arreglar.qxd - Diario Occidente - (0.266353728029)\n",
        "En Soledad, Atlntico, muere pareja al explotar taxi - El Universal ... - (0.276639717583)\n",
        "Mantenimiento y Reparacion de Puertas de Seguridad en Colombia ... - (0.333453079099)\n",
        "Autos clsicos usados | Locanto vehculos Colombia - (0.333453079099)\n",
        "Manual de diseo de pavimentos de concreto para vas con - Invias - (0.361146237088)\n",
        "\"Yo siempre he dicho que ni se bot ni se tir\": Laura Moreno - (0.302134867383)\n",
        "Nuestro mejor embajador es Nairo Quintana: alcalde de Tunja ... - (0.321999376954)\n",
        "Paso restringido en Cauca por puente dinamitado | La Patria - (0.276639717583)\n",
        "Condicionado asistencia livianos - Banco de Occidente - (0.302134873838)\n",
        "En Noche de las Velitas se registraron 4.392 rias ... - El Espectador - (0.302134873838)\n",
        "Revista de Prensa Colombia: invierno ya ha dejado ocho muertos ... - (0.333453078999)\n",
        "Por puente dinamitado, paso restringido sobre la Va Panamericana ... - (0.276639717583)\n",
        "Ir al Boletn - Consejo de Estado - (0.302134873838)\n",
        "Sale / Buy - auto parts - candles / cables free ads in Popayan ... - (0.350448711406)\n",
        "Sherri Jo's Because I Can World Tour: Popayan to Pasto, Colombia - (0.276639717583)\n",
        "Day 468 to 474 (2008-08-04 to 10): Bogota to Popayn, Rio ... - (0.333432800499)\n",
        "Popayn and beyond, Colombia- Unexpected home stay | - (0.276639717583)\n",
        "The General Gazetteer ... Embellished with nine maps ... The ... - Google Books Result - (0.357302708738)\n",
        "Project Proposal - Climate Investment Funds - (0.276639717583)\n",
        "Need a place to fix a camera in Santa Marta area - Colombia Forum ... - (0.388435398528)\n",
        "DEA executes search warrant Resort, family implicated in alleged ... - (0.322150889938)\n",
        "Dec. 24 and 25 - Popayan (Colombia) to Ibarra (Ecuador) | Canada ... - (0.276639717583)\n",
        "The 8 Most Horribly Insulting Attempts to Honor the Dead | Cracked ... - (0.302134873733)\n",
        "Swerving Donkeys Daily: The Final Episode: Colombia to Ecuador - (0.276639717583)\n",
        "Comment On This Picture Espa Foami Gomaeva Patrones Artesanias - (0.276639717583)\n",
        "1200 X 1600 173 Kb Jpeg Amanda Moldes Fofucha Adolecente ... - (0.276639717583)\n",
        "CAPITULO 6 - Banco de Bogot - (0.302134783345)\n",
        "County family spend 16 months cycling across Central and South ... - (0.403912975223)\n",
        "Best known for... -Counter Culture Coffee - chicagotribune.com - (0.302134873838)\n"
       ]
      }
     ],
     "prompt_number": 28
    },
    {
     "cell_type": "code",
     "collapsed": false,
     "input": [
      "lda.show_topic(25)"
     ],
     "language": "python",
     "metadata": {},
     "outputs": [
      {
       "metadata": {},
       "output_type": "pyout",
       "prompt_number": 38,
       "text": [
        "[(0.30379590704554282, 'car'),\n",
        " (0.14654691864103295, 'sell'),\n",
        " (0.084281592129342817, 'bad'),\n",
        " (0.065905786420472776, 'freeware'),\n",
        " (0.057127704679456791, 'buying'),\n",
        " (0.050717935271565977, 'want'),\n",
        " (0.039067242783122437, 'credit'),\n",
        " (0.038523925048163307, 'wash'),\n",
        " (0.026613844380673827, 'right'),\n",
        " (0.019279682377855316, 'asap')]"
       ]
      }
     ],
     "prompt_number": 38
    }
   ],
   "metadata": {}
  }
 ]
}