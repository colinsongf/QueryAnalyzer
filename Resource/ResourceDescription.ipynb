{
 "metadata": {
  "name": "",
  "signature": "sha256:b8551d52c2000fb2cc3f7c22f57f91a072f1919d230423310c5e38b9923d283d"
 },
 "nbformat": 3,
 "nbformat_minor": 0,
 "worksheets": [
  {
   "cells": [
    {
     "cell_type": "code",
     "collapsed": false,
     "input": [
      "import search_utilities as su\n",
      "query = \"fix car at Popay\u00e1n\"\n",
      "title, desc, url, tags = su.searchByXGoogle(query)"
     ],
     "language": "python",
     "metadata": {},
     "outputs": [
      {
       "output_type": "stream",
       "stream": "stdout",
       "text": [
        "ORIGINAL:\n",
        "Title: \tSale / Buy - auto parts - candles / cables free ads in Popayan ...\n",
        "Descr: \t-none-111-Popayan-5861\n",
        "URL: \thttp://freead1.net/grp-sale-buy-3-auto-parts-221-candless-cables-681-Colombia-60-none-111-Popayan-5861\n",
        "Tags: \tBuy auto parts goes candles free as in tables Popayan 5861 none 111 Popayan\n",
        "-------------------------------------------------------\n",
        "ORIGINAL:"
       ]
      },
      {
       "output_type": "stream",
       "stream": "stdout",
       "text": [
        "\n",
        "Title: \tSherri Jo's Because I Can World Tour: Popayan to Pasto, Colombia\n",
        "Descr: \thtml\n",
        "URL: \thttp://sherrijosbecauseicanworldtour.blogspot.com/2012/08/popayan-to-pasto-colombia.html\n",
        "Tags: \tCherry To s Because I An World Your Popayan to Last Colombia html\n",
        "-------------------------------------------------------\n",
        "ORIGINAL:"
       ]
      },
      {
       "output_type": "stream",
       "stream": "stdout",
       "text": [
        "\n",
        "Title: \tDay 468 to 474 (2008-08-04 to 10): Bogota to Popayn, Rio ...\n",
        "Descr: \tpopayan-rio-magdalena-and-moreenglish/\n",
        "URL: \thttp://project.velaia.de/recumbent/englishday-468-to-474-2008-08-04-to-10-bogota-to-popayan-rio-magdalena-and-moreenglish/\n",
        "Tags: \tMay 468 to 474 August 04 to 10 2008 Bogota to Popayan Rio popayan rio cupcake and moreenglish\n",
        "-------------------------------------------------------\n",
        "ORIGINAL:"
       ]
      },
      {
       "output_type": "stream",
       "stream": "stdout",
       "text": [
        "\n",
        "Title: \tPopayn and beyond, Colombia- Unexpected home stay |\n",
        "Descr: \thome-stay/\n",
        "URL: \thttp://kyleholloway.wordpress.com/2011/02/08/popayan-and-beyond-colombia-unexpected-home-stay/\n",
        "Tags: \tPopayan Colombia and beyond Unexpected home stay home stay\n",
        "-------------------------------------------------------\n",
        "ORIGINAL:"
       ]
      },
      {
       "output_type": "stream",
       "stream": "stdout",
       "text": [
        "\n",
        "Title: \tThe General Gazetteer ... Embellished with nine maps ... The ... - Google Books Result\n",
        "Descr: \t... is 180 feet broad; with a good countcrl'car , a covered way, raVelius, and teraili. \n",
        "URL: \thttp://books.google.com/books?id=lyZYAAAAcAAJ&pg=PT572&lpg=PT572&dq=fix+car+at+Popay%C3%A1n&source=bl&ots=PYH_fItYOU&sig=i399EKMcGk0JzQc2hmOe9u5bTkw&hl=en&sa=X&ei=qmtgU_2TCJPksAT69YLgCA&ved=0CNIBEOgBMCI\n",
        "Tags: \tThe General Gazetteer Embellished with nine maps The Google Looks Result is 180 feet broad with a good car to country raVelius covered way and trail\n",
        "-------------------------------------------------------\n",
        "ORIGINAL:"
       ]
      },
      {
       "output_type": "stream",
       "stream": "stdout",
       "text": [
        "\n",
        "Title: \tProject Proposal - Climate Investment Funds\n",
        "Descr: \tTechnological_Transformation_Program_for_Bogota_Integrated_P...\n",
        "URL: \thttps://www.climateinvestmentfunds.org/cif/sites/climateinvestmentfunds.org/files/Approval_by_Mail_Colombia_Technological_Transformation_Program_for_Bogota_Integrated_Public_Transport_System_IDB_project_proposal.pdf\n",
        "Tags: \tClimate Investment Funds Project Proposal Technological Transformation Program for Bogota Integrated P\n",
        "-------------------------------------------------------\n",
        "ORIGINAL:"
       ]
      },
      {
       "output_type": "stream",
       "stream": "stdout",
       "text": [
        "\n",
        "Title: \tNeed a place to fix a camera in Santa Marta area - Colombia Forum ...\n",
        "Descr: \tto_fix_a_camera_in_Santa_Marta_area-Colombia.html\n",
        "URL: \thttp://www.tripadvisor.com/ShowTopic-g294073-i1708-k5603646-Need_a_place_to_fix_a_camera_in_Santa_Marta_area-Colombia.html\n",
        "Tags: \tNeed a place to fix a camera in Santa Carta Colombia Forum area to fix a camera in Santa Carta Colombia html area\n",
        "-------------------------------------------------------\n",
        "ORIGINAL:"
       ]
      },
      {
       "output_type": "stream",
       "stream": "stdout",
       "text": [
        "\n",
        "Title: \tDEA executes search warrant Resort, family implicated in alleged ...\n",
        "Descr: \tin-alleged-money-laundering-drug-trafficking/\n",
        "URL: \thttp://www.pagosasun.com/dea-executes-search-warrant-resort-family-implicated-in-alleged-money-laundering-drug-trafficking/\n",
        "Tags: \tExecuted DEA search warrant Resort Implicated in Alleged family money wandering in Alleged Drug Trafficking\n",
        "-------------------------------------------------------\n",
        "ORIGINAL:"
       ]
      },
      {
       "output_type": "stream",
       "stream": "stdout",
       "text": [
        "\n",
        "Title: \tDec. 24 and 25 - Popayan (Colombia) to Ibarra (Ecuador) | Canada ...\n",
        "Descr: \thtml\n",
        "URL: \thttp://xs650stoargentina.blogspot.com/2012/12/dec-24-and-25-popayan-colombia-to.html\n",
        "Tags: \tDec 24 and 25 Popayan Colombia to Ecuador Barry Canada html\n",
        "-------------------------------------------------------\n",
        "ORIGINAL:"
       ]
      },
      {
       "output_type": "stream",
       "stream": "stdout",
       "text": [
        "\n",
        "Title: \tThe 8 Most Horribly Insulting Attempts to Honor the Dead | Cracked ...\n",
        "Descr: \thonor-dead.html\n",
        "URL: \thttp://www.cracked.com/article_20354_the-8-most-horribly-insulting-attempts-to-honor-dead.html\n",
        "Tags: \tThe 8 Most Insulting Attempts to Horribly Honor the Head Cracked html honor dead\n",
        "-------------------------------------------------------\n",
        "ORIGINAL:"
       ]
      },
      {
       "output_type": "stream",
       "stream": "stdout",
       "text": [
        "\n",
        "Title: \tSwerving Donkeys Daily: The Final Episode: Colombia to Ecuador\n",
        "Descr: \thtml\n",
        "URL: \thttp://themattandatleyshow.blogspot.com/2013/05/the-final-episode-colombia-to-ecuador.html\n",
        "Tags: \tSwerving Daily Monkeys The Final Episode Colombia to Ecuador html\n",
        "-------------------------------------------------------\n",
        "ORIGINAL:"
       ]
      },
      {
       "output_type": "stream",
       "stream": "stdout",
       "text": [
        "\n",
        "Title: \tComment On This Picture Espa Foami Gomaeva Patrones Artesanias\n",
        "Descr: \twAnO2GrQw7Y*UEkcgz310LI*AAAAAAAADPc*9WKJ2Yz8cM...\n",
        "URL: \thttp://funny-pictures.picphotos.net/comment-on-this-picture-espa-foami-gomaeva-patrones-artesanias/2.bp.blogspot.com*-wAnO2GrQw7Y*UEkcgz310LI*AAAAAAAADPc*9WKJ2Yz8cMs*s1600*fofuchas+princesas+Fofulapiz+rapunzel+disney+artfoamicol+artesanias+manualidades+foami+gomaeva+fieltro+fiestas+infantiles+colombian+bogota+colombia+popayan+04.JPG/\n",
        "Tags: \tComment In His Picture Sea Foam Gomaeva Grafts Patterns wAnO2GrQw7Y* UEkcgz310LI* AAAAAAAADPc* 9WKJ2Yz8cM\n",
        "-------------------------------------------------------\n",
        "ORIGINAL:"
       ]
      },
      {
       "output_type": "stream",
       "stream": "stdout",
       "text": [
        "\n",
        "Title: \t1200 X 1600 173 Kb Jpeg Amanda Moldes Fofucha Adolecente ...\n",
        "Descr: \tACIL4sWgyzg*UH75X1Po2rI*AAAAAAAAGUI*BTOB1RiEevo*...\n",
        "URL: \thttp://funny-pictures.picphotos.net/1200-x-1600-173-kb-jpeg-amanda-moldes-fofucha-adolecente-1147-x/4.bp.blogspot.com*-ACIL4sWgyzg*UH75X1Po2rI*AAAAAAAAGUI*BTOB1RiEevo*s1600*Nuevos+patrones+mu%C3%B1ecas+3d+fofuchas+adolescente+romantica+enamorada+novia+artfoamicol+manualidades+artesanias+en+foami+termoformado+handicraft+home+made+rosada+colombia+popayan+moldes+08.JPG/\n",
        "Tags: \t1200 X 1600 173 of Peg Mania Been Holmes Fofucha ACIL4sWgyzg* UH75X1Po2rI* AAAAAAAAGUI* BTOB1RiEevo*\n",
        "-------------------------------------------------------\n",
        "ORIGINAL:"
       ]
      },
      {
       "output_type": "stream",
       "stream": "stdout",
       "text": [
        "\n",
        "Title: \tCAPITULO 6 - Banco de Bogot\n",
        "Descr: \tCustomers.PDF\n",
        "URL: \thttps://www.bancodebogota.com/pls/portal/docs/PAGE/WEBBOG/CONTENIDO/ADMIN/PDFS/Our-Banking-at-the-Service-of-Our-Customers.PDF\n",
        "Tags: \tCHAPTER 6 Fancy de Bogota customers PDF\n",
        "-------------------------------------------------------\n",
        "ORIGINAL:"
       ]
      },
      {
       "output_type": "stream",
       "stream": "stdout",
       "text": [
        "\n",
        "Title: \tCounty family spend 16 months cycling across Central and South ...\n",
        "Descr: \tcycling_across_Central_and_South_America/\n",
        "URL: \thttp://www.herefordtimes.com/news/10925732.County_family_spend_16_months_cycling_across_Central_and_South_America/\n",
        "Tags: \tCounty family spend 16 months cycling across Central and South cycling across Central and South America\n",
        "-------------------------------------------------------\n",
        "ORIGINAL:"
       ]
      },
      {
       "output_type": "stream",
       "stream": "stdout",
       "text": [
        "\n",
        "Title: \tBest known for... -Counter Culture Coffee - chicagotribune.com\n",
        "Descr: \t,0,3949188.photo\n",
        "URL: \thttp://www.chicagotribune.com/classified/realestate/ct-sc-home-goods-coffee-counter.jpg-20100402,0,3949188.photo\n",
        "Tags: \tWest Known for Counter Culture Coffee chicagotribune com 0 3949188 photo\n",
        "-------------------------------------------------------\n"
       ]
      }
     ],
     "prompt_number": 6
    },
    {
     "cell_type": "code",
     "collapsed": false,
     "input": [
      "def insertIntoDB(ldam, dictionary, lda):\n",
      "    import search_utilities as su\n",
      "    db = su.dbClient()  \n",
      "    resources = db.resources\n",
      "    cursor = resources.find()  \n",
      "\n",
      "    for c in cursor:\n",
      "        title = c[\"title\"]\n",
      "        desc = c[\"description\"]\n",
      "        url = c[\"url\"]\n",
      "        tags = c[\"tags\"]\n",
      "        goals_distribution = ldam.perQueryGoalProportions(tags, dictionary, lda)\n",
      "        values = {\"title\": title, \n",
      "              \"description\" : desc,\n",
      "              \"url\" : url,\n",
      "              \"tags\" : str(tags), \n",
      "              \"goals_distribution\" : goals_distribution\n",
      "              }\n",
      "        resources_2 = db.resources_2\n",
      "        resources_2.insert(values)\n",
      "    \n",
      "    #print title, desc, url, tags"
     ],
     "language": "python",
     "metadata": {},
     "outputs": [],
     "prompt_number": 55
    },
    {
     "cell_type": "code",
     "collapsed": false,
     "input": [
      "import search_utilities as su\n",
      "def queryIntoDB():\n",
      "    db = su.dbClient()  \n",
      "    resources_2 = db.resources_2\n",
      "    cursor = resources_2.find()  \n",
      "    distributions = []\n",
      "    for c in cursor:\n",
      "        title = c[\"title\"]\n",
      "        description = c[\"description\"]\n",
      "        tags = c[\"tags\"]\n",
      "        url = c[\"url\"]                \n",
      "        goals_distribution = c[\"goals_distribution\"]\n",
      "        distributions.append((title, description, tags, url, goals_distribution))\n",
      "    \n",
      "    #print len(distributions)\n",
      "    return distributions\n",
      "\n",
      "\n",
      "    \n",
      "    #print title, desc, url, tags"
     ],
     "language": "python",
     "metadata": {},
     "outputs": [],
     "prompt_number": 9
    },
    {
     "cell_type": "code",
     "collapsed": false,
     "input": [
      "from gensim import models\n",
      "\n",
      "path = \"/media/University/UniversityDisc/2-Master/MasterThesis/EjecucionTesis/Desarrollo/PythonProjects/QueryAnalyzer/Models/\"\n",
      "#lda = models.LdaModel.load(path + 'tmp_model.lda')\n",
      "lda = models.LdaModel.load(path + 'model_2.lda')\n",
      "\n",
      "print lda"
     ],
     "language": "python",
     "metadata": {},
     "outputs": [
      {
       "output_type": "stream",
       "stream": "stdout",
       "text": [
        "LdaModel(num_terms=16287, num_topics=50, decay=0.5, chunksize=1000, alpha=0.1)\n"
       ]
      }
     ],
     "prompt_number": 10
    },
    {
     "cell_type": "code",
     "collapsed": false,
     "input": [
      "from gensim import corpora, models, similarities\n",
      "\n",
      "model_path = \"/media/University/UniversityDisc/2-Master/MasterThesis/EjecucionTesis/Desarrollo/PythonProjects/QueryAnalyzer/Models/\"\n",
      "#dictionary_file = \"tmp_dictionary.dict\"\n",
      "dictionary_file = \"goal_dictionary.dict\"\n",
      "#corpus_file = \"tmp_corpus.mm\"\n",
      "corpus_file = \"corpus.mm\"\n",
      "dictionary = corpora.Dictionary.load(model_path + dictionary_file)\n",
      "corpus = corpora.MmCorpus(model_path + corpus_file)\n",
      "\n",
      "print dictionary\n",
      "print corpus"
     ],
     "language": "python",
     "metadata": {},
     "outputs": [
      {
       "output_type": "stream",
       "stream": "stdout",
       "text": [
        "Dictionary(16287 unique tokens)\n",
        "MmCorpus(98294 documents, 16287 features, 326719 non-zero entries)\n"
       ]
      }
     ],
     "prompt_number": 11
    },
    {
     "cell_type": "code",
     "collapsed": false,
     "input": [
      "class Resource(object):\n",
      "    title = \"\"\n",
      "    description = \"\"\n",
      "    tags = \"\"\n",
      "    url = \"\" \n",
      "    goals_distribution = \"\"\n",
      "    distance = 0.0\n",
      "\n",
      "    # The class \"constructor\" - It's actually an initializer \n",
      "    def __init__(self, title, description, tags, url, goals_distribution, distance):\n",
      "        self.title = title       \n",
      "        self.description = description\n",
      "        self.tags = tags\n",
      "        self.url = url\n",
      "        self.goals_distribution = goals_distribution\n",
      "        self.distance = distance\n",
      "\n",
      "def make_resource(title, description, tags, url, goals_distribution, distance):\n",
      "    resource = Resource(title, description, tags, url, goals_distribution, distance)\n",
      "    return resource\n"
     ],
     "language": "python",
     "metadata": {},
     "outputs": [],
     "prompt_number": 14
    },
    {
     "cell_type": "code",
     "collapsed": false,
     "input": [
      "model_path = \"/media/University/UniversityDisc/2-Master/MasterThesis/EjecucionTesis/Desarrollo/PythonProjects/QueryAnalyzer/UserQuery\"\n",
      "import sys\n",
      "sys.path.insert(0, model_path)\n",
      "import ldamodel as ldam\n",
      "import hellinger_distance as hd\n",
      "\n",
      "#insertIntoDB(ldam, dictionary, lda)\n",
      "query = \"car\"\n",
      "ranking = []\n",
      "qgd = ldam.perQueryGoalProportions(query, dictionary, lda) #Query goals distributions\n",
      "print \"query\", qgd\n",
      "distributions = queryIntoDB() #Resource goals distributions\n",
      "\n",
      "for d in distributions:    \n",
      "    #print d[0]\n",
      "    title = d[0]\n",
      "    description = d[1]\n",
      "    tags = d[2]\n",
      "    url = d[3]\n",
      "    goals_distribution = d[4]\n",
      "    distance = 0.0\n",
      "    \n",
      "    resource = make_resource(title, description, tags, url, goals_distribution, distance)\n",
      "    #print \"resource.tags\", resource.goals_distribution\n",
      "    distance = hd.hellinger3(qgd, resource.goals_distribution, 50)\n",
      "    #print distance\n",
      "    #print resource.title\n",
      "    resource.distance = distance\n",
      "    #print resource.distance\n",
      "    ranking.append(resource)\n",
      "\n",
      "\n",
      "for r in ranking:\n",
      "    print r.tags + \" - (\" + str(r.distance) + \")\"\n",
      "    #print gd + \" \\n\"\n",
      "    #print goals_distribution\n",
      "    #max_goal = ldam.viewPerQueryGoalProportions(gd[1])\n",
      "    #show_goal = lda.show_topic(max_goal)\n",
      "\n",
      "\n"
     ],
     "language": "python",
     "metadata": {},
     "outputs": [
      {
       "output_type": "stream",
       "stream": "stdout",
       "text": [
        "[(0, 0.016666666666666684), (1, 0.016666666666666684), (2, 0.016666666666666684), (3, 0.18333333333333351), (4, 0.016666666666666684), (5, 0.016666666666666684), (6, 0.016666666666666684), (7, 0.016666666666666684), (8, 0.016666666666666684), (9, 0.016666666666666684), (10, 0.016666666666666684), (11, 0.016666666666666684), (12, 0.016666666666666684), (13, 0.016666666666666684), (14, 0.016666666666666684), (15, 0.016666666666666684), (16, 0.016666666666666684), (17, 0.016666666666666684), (18, 0.016666666666666684), (19, 0.016666666666666684), (20, 0.016666666666666684), (21, 0.016666666666666684), (22, 0.016666666666666684), (23, 0.016666666666666684), (24, 0.016666666666666684), (25, 0.016666666666666684), (26, 0.016666666666666684), (27, 0.016666666666666684), (28, 0.016666666666666684), (29, 0.016666666666666684), (30, 0.016666666666666684), (31, 0.016666666666666684), (32, 0.016666666666666684), (33, 0.016666666666666684), (34, 0.016666666666666684), (35, 0.016666666666666684), (36, 0.016666666666666684), (37, 0.016666666666666684), (38, 0.016666666666666684), (39, 0.016666666666666684), (40, 0.016666666666666684), (41, 0.016666666666666684), (42, 0.016666666666666684), (43, 0.016666666666666684), (44, 0.016666666666666684), (45, 0.016666666666666684), (46, 0.016666666666666684), (47, 0.016666666666666684), (48, 0.016666666666666684), (49, 0.016666666666666684)]\n",
        "\n",
        "\n",
        "query [(0, 0.016666666666666684), (1, 0.016666666666666684), (2, 0.016666666666666684), (3, 0.18333333333333351), (4, 0.016666666666666684), (5, 0.016666666666666684), (6, 0.016666666666666684), (7, 0.016666666666666684), (8, 0.016666666666666684), (9, 0.016666666666666684), (10, 0.016666666666666684), (11, 0.016666666666666684), (12, 0.016666666666666684), (13, 0.016666666666666684), (14, 0.016666666666666684), (15, 0.016666666666666684), (16, 0.016666666666666684), (17, 0.016666666666666684), (18, 0.016666666666666684), (19, 0.016666666666666684), (20, 0.016666666666666684), (21, 0.016666666666666684), (22, 0.016666666666666684), (23, 0.016666666666666684), (24, 0.016666666666666684), (25, 0.016666666666666684), (26, 0.016666666666666684), (27, 0.016666666666666684), (28, 0.016666666666666684), (29, 0.016666666666666684), (30, 0.016666666666666684), (31, 0.016666666666666684), (32, 0.016666666666666684), (33, 0.016666666666666684), (34, 0.016666666666666684), (35, 0.016666666666666684), (36, 0.016666666666666684), (37, 0.016666666666666684), (38, 0.016666666666666684), (39, 0.016666666666666684), (40, 0.016666666666666684), (41, 0.016666666666666684), (42, 0.016666666666666684), (43, 0.016666666666666684), (44, 0.016666666666666684), (45, 0.016666666666666684), (46, 0.016666666666666684), (47, 0.016666666666666684), (48, 0.016666666666666684), (49, 0.016666666666666684)]\n",
        "His Thursday be without carriage A sooner without Popayan Yauza in Yauza popayan - (0.298626390138)"
       ]
      },
      {
       "output_type": "stream",
       "stream": "stdout",
       "text": [
        "\n",
        "In October Popayan A will have no car and no bike carriage without motor - (0.307257958094)\n",
        "Popayan da third day will have no car and no bike without motor - (0.307257062437)\n",
        "Rule out going shopping in Ali Popayan is loaded with explosives - (0.243259304017)\n",
        "Policy OFF car bomb in Popayan Ll Colombian in popayan - (0.245243434086)\n",
        "Ali Popayan enabled partially affected by road affected by a car bomb 95125 - (0.245200044394)\n",
        "War bomb victim dies in Popayan bc COM popayan - (0.243259304017)\n",
        "Shopping Alarms in Popayan Colombia trade into Wages 15386762 - (0.243259304017)\n",
        "16 wounded and one killed in car bomb explosion de in Popayan popayan car bomb in pp - (0.362995154177)\n",
        "War rental in Popayan car rental deals on Expedia cars - (0.311498745365)\n",
        "Distance Ali and Popayan drive itinerant veil km Travel time 18180 Highway html - (0.266737266883)\n",
        "ATTENTION de 15 wounded in car bomb explosion in Popayan pump popayan - (0.245216145901)\n",
        "War hire in Popayan Expedia is rental - (0.266914823959)\n",
        "Soto Is 125 Well Or Permuto By War Yauza in Popayan of cause - (0.243259304017)\n",
        "Per Popayan Radio 1070AM Alleged War bomb in And was I lure - (0.266914823959)\n",
        "Events Campanario All Popayan Yauza Events sweepstakes prizes sweepstakes Diversion recreation and much - (0.243259304017)\n",
        "Dictate security measure against driver of car bomb Popayan car bomb in the ELN - (0.312229747034)\n",
        "He are going Like Popayan The car gives no is html - (0.292330445626)\n",
        "The encomienda in Popayan Google Looks Result three studies of TRUCK Venancio D Theology theologians and jurist to Spaniards - (0.266737785078)\n",
        "Used Chevrolet Yauza in Popayan DeMotores vtZ1QQbrZ15QQreZ60QQciZ563QQnZ0 - (0.266914823959)\n",
        "Tom TransportesEjecutivos Services packet transfer bushes taxes transport van cars blind - (0.266914823959)\n",
        "CAR SERVICE CENTER S A POPAYAN CAR of html - (0.291262027533)\n",
        "I sold one testculo yours to buy a car A Began RCN 128574 - (0.292541339109)\n",
        "Denounced for alleged irregularities in purchase licitacin buying cars at the camera - (0.243259304017)\n",
        "It bravo to meek territory and society in the Under Mountain Google Looks Result those cars are almost always amapoleros come to buy merchandise - (0.265666428331)\n",
        "Catholicism Google Looks Result Conservative Party in the province of Popayan i real majority has effectively - (0.243072515049)\n",
        "Soto Is 125 Well Or Permuto By War Yauza in Popayan of cause - (0.243259304017)\n",
        "HOUSE FOR SALE of THE WILLOWS AND PANDIGUANDO Popayan maria West html 2837905 - (0.243259304017)\n",
        "For sale Grand War Radio ALPINE CDE 9847L as html 143941 - (0.243259304017)\n",
        "COLOMBIA AAY Google Looks Result people to move it to the hospital in Popayan was the nearest ms l - (0.266748681145)\n",
        "Diaries of a merchant bumanges Google Looks Result 1899 1938 Saturday 22 President Open went by car to An Oil yesterday with family - (0.31850077937)\n",
        "War rental in Popayan car rental deals on Expedia cars - (0.311499194138)\n",
        "Popayan car rental Went a War 3152139152 47713345 - (0.27478718918)\n",
        "Tom TransportesEjecutivos Services packet transfer bushes taxes transport van cars blind - (0.266914823959)\n",
        "Commercial Commercial Popayan Home\\u003e Real State \\u003e Commercial - (0.243259304017)\n",
        "rent or rent a car in private transport popayan Yauza id 170901 - (0.217082603483)\n",
        "War hire in Popayan Expedia is rental - (0.266914823959)\n",
        "It Went car without knowing english Forum Orlando TripAdvisor English without knowing html Orlando Florida - (0.353206861912)\n",
        "War Mental \\u0026 Apartments Colombia Tourism Services Apartments IDSeccionArticulo~~ 145 html - (0.211739184674)\n",
        "In 2014 there will be a simplifies income declaration Manager didn - (0.266914823959)\n",
        "Quite Mariscal Sure Airport Berth Mental War html - (0.211739184674)\n",
        "information system for vehicle rental company Cried VEHICLE RENTAL RENTACAR - (0.312175619293)\n",
        "Holiday apartment Profit mature Mind homes for rent in the best price maturing - (0.26672474313)\n",
        "SWIM WITH DOLPHINS of NATIONAL PARK CHANKANAAB Cozumel Hours Yucatan r137458462 Peninsula html - (0.243141632307)\n",
        "Want Escribeme data QUITO Ecuador Ecuador Forum Escribeme data QUITO Ecuador Ecuador html - (0.243259303868)\n",
        "The Yauza like trade in the nineteenth century kinship and friendship kinship and friendship - (0.243252105966)\n",
        "it as a billboard Colombia January 15 107 anncios Buy and sell it as a billboard Colombia - (0.26569849496)\n",
        "Colombia Gazette Google Looks Result The output of Popayan Colonel Hand da 23 with too sombre to beat the General - (0.243074211067)\n",
        "Real Faces business that can make you a millionaire 1000 html - (0.285371244016)\n",
        "Official Gazette Google Looks Result But neither in the now vient organic let income or saline in which di - (0.266737609795)\n",
        "Full text of of Popayan in the colony historical sketch txt du - (0.211739184674)\n",
        "room administrative litigation DOC F11001032700020070000100S4AUTOS20100430155543 - (0.211739184674)\n",
        "popayan+ sell+ house+ big+ for+ school +1700+ center+ m 1700+ peters+ center+ historical+ fit+ local+ office+ home - (0.211739184674)\n",
        "It least 300 thousand dollars it costs to fix the car after taking a gap his car after taking a gap johannesburg - (0.344088424066)\n",
        "5 ROAD AND TRANSPORTATION PLAN of 5% 20VIAL 20Plan% of% 20And%% 20TRANSPORTE of - (0.243259304017)\n",
        "Now to reverse the popularity of a motor so easy to fix a Six wired Part - (0.266914823959)\n",
        "That are you going to need new Popayan Peridico The popayan - (0.266689340385)\n",
        "Dispute over who will public was closed in Popayan The popayan - (0.211739184674)\n",
        "Wounded seven uniformed and four civilians after coming in Popayan popayan civilians wounded after attack - (0.243259304017)\n",
        "repair of diese injections diese repair html call - (0.281508396402)\n",
        "FINAL REPORT ridotto UNDP REPORT 20ingenieria%%% 20FINAL 20naturalistica 20manejo% 2% - (0.281508396402)\n",
        "1 pain fix QXD Journal West daily% 20pdf% of% 2012% of% 202013% 20septiembre of - (0.285371244092)\n",
        "Couple dies in Soledad Atlantic to exploit Taxi Ll Universal 142963 - (0.211739184674)\n",
        "Maintenance and Repair Security Doors in Colombia of safety+ - (0.281508396402)\n",
        "Locanto classic cars Colombia vehicles In the category classic cars Colombia encontrars - (0.281508396402)\n",
        "Manual concrete pavement design for you go with Invias roads with low to medium and high volumes of traffic - (0.312357117476)\n",
        "of I ve always said that neither not nor air of Laura Forego fall - (0.243259295357)\n",
        "Our best ambassador is Cairo Quintana mayor of Unna Mayor tune - (0.266717274816)\n",
        "Step restricted by bridge dynamite Yauza A Matrix 46090 - (0.211739184674)\n",
        "Lightweight Conditioning West Bank assistance CONDICIONADOASISTENCIALIVIANOS01102010 PDF - (0.243259304017)\n",
        "In Right of the Elias 4392 rivals were recorded Ll Spectator article 462899 - (0.243259304017)\n",
        "Dress Review Colombia winter has left eight dead html left eight dead - (0.281508396275)\n",
        "For restricted passage dynamite bridge on the An A on the Panamerican via - (0.211739184674)\n",
        "To to the State Council bulletin BULLETIN%% 20129% of% the% 20CONSEJO 20ESTADO pp - (0.243259304017)\n",
        "Buy auto parts goes candles free as in tables Popayan 5861 none 111 Popayan - (0.298905903999)\n",
        "Cherry To s Because I An World Your Popayan to Last Colombia html - (0.211739184674)\n",
        "May 468 to 474 August 04 to 10 2008 Bogota to Popayan Rio popayan rio cupcake and moreenglish - (0.281482450932)\n",
        "Popayan Colombia and beyond Unexpected home stay home stay - (0.211739184674)\n",
        "The General Gazetteer Embellished with nine maps The Google Looks Result is 180 feet broad with a good car to country raVelius covered way and trail - (0.307694839249)\n",
        "Climate Investment Funds Project Proposal Technological Transformation Program for Bogota Integrated P - (0.211739184674)\n",
        "Need a place to fix a camera in Santa Carta Colombia Forum area to fix a camera in Santa Carta Colombia html area - (0.342949791856)\n",
        "Executed DEA search warrant Resort Implicated in Alleged family money wandering in Alleged Drug Trafficking - (0.266914820933)\n",
        "Dec 24 and 25 Popayan Colombia to Ecuador Barry Canada html - (0.211739184674)\n",
        "The 8 Most Insulting Attempts to Horribly Honor the Head Cracked html honor dead - (0.243259303876)\n",
        "Swerving Daily Monkeys The Final Episode Colombia to Ecuador html - (0.211739184674)\n",
        "Comment In His Picture Sea Foam Gomaeva Grafts Patterns wAnO2GrQw7Y* UEkcgz310LI* AAAAAAAADPc* 9WKJ2Yz8cM - (0.211739184674)\n",
        "1200 X 1600 173 of Peg Mania Been Holmes Fofucha ACIL4sWgyzg* UH75X1Po2rI* AAAAAAAAGUI* BTOB1RiEevo* - (0.211739184674)\n",
        "CHAPTER 6 Fancy de Bogota customers PDF - (0.243259182616)\n",
        "County family spend 16 months cycling across Central and South cycling across Central and South America - (0.361746868706)\n",
        "West Known for Counter Culture Coffee chicagotribune com 0 3949188 photo - (0.243259304017)\n"
       ]
      }
     ],
     "prompt_number": 32
    },
    {
     "cell_type": "code",
     "collapsed": false,
     "input": [
      "lda.show_topic(25)"
     ],
     "language": "python",
     "metadata": {},
     "outputs": [
      {
       "metadata": {},
       "output_type": "pyout",
       "prompt_number": 38,
       "text": [
        "[(0.30379590704554282, 'car'),\n",
        " (0.14654691864103295, 'sell'),\n",
        " (0.084281592129342817, 'bad'),\n",
        " (0.065905786420472776, 'freeware'),\n",
        " (0.057127704679456791, 'buying'),\n",
        " (0.050717935271565977, 'want'),\n",
        " (0.039067242783122437, 'credit'),\n",
        " (0.038523925048163307, 'wash'),\n",
        " (0.026613844380673827, 'right'),\n",
        " (0.019279682377855316, 'asap')]"
       ]
      }
     ],
     "prompt_number": 38
    }
   ],
   "metadata": {}
  }
 ]
}